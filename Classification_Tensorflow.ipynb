{
 "cells": [
  {
   "cell_type": "code",
   "execution_count": 1,
   "metadata": {},
   "outputs": [],
   "source": [
    "import tensorflow as tf\n",
    "from sklearn.model_selection import train_test_split\n",
    "from sklearn.preprocessing import LabelEncoder, OneHotEncoder, StandardScaler\n",
    "from sklearn.metrics import classification_report, confusion_matrix, accuracy_score\n",
    "\n",
    "import seaborn as sb\n",
    "import matplotlib.pyplot as plt\n",
    "import pandas as pd\n",
    "import numpy as np\n",
    "\n",
    "import warnings\n",
    "warnings.filterwarnings('ignore')"
   ]
  },
  {
   "cell_type": "code",
   "execution_count": 2,
   "metadata": {},
   "outputs": [
    {
     "data": {
      "text/plain": [
       "'2.0.0'"
      ]
     },
     "execution_count": 2,
     "metadata": {},
     "output_type": "execute_result"
    }
   ],
   "source": [
    "tf.__version__"
   ]
  },
  {
   "cell_type": "code",
   "execution_count": 3,
   "metadata": {},
   "outputs": [],
   "source": [
    "data = pd.read_csv('Churn_Modelling.csv')"
   ]
  },
  {
   "cell_type": "code",
   "execution_count": 4,
   "metadata": {},
   "outputs": [
    {
     "data": {
      "text/plain": [
       "(10000, 14)"
      ]
     },
     "execution_count": 4,
     "metadata": {},
     "output_type": "execute_result"
    }
   ],
   "source": [
    "data.shape"
   ]
  },
  {
   "cell_type": "code",
   "execution_count": 5,
   "metadata": {},
   "outputs": [
    {
     "data": {
      "text/html": [
       "<div>\n",
       "<style scoped>\n",
       "    .dataframe tbody tr th:only-of-type {\n",
       "        vertical-align: middle;\n",
       "    }\n",
       "\n",
       "    .dataframe tbody tr th {\n",
       "        vertical-align: top;\n",
       "    }\n",
       "\n",
       "    .dataframe thead th {\n",
       "        text-align: right;\n",
       "    }\n",
       "</style>\n",
       "<table border=\"1\" class=\"dataframe\">\n",
       "  <thead>\n",
       "    <tr style=\"text-align: right;\">\n",
       "      <th></th>\n",
       "      <th>RowNumber</th>\n",
       "      <th>CustomerId</th>\n",
       "      <th>Surname</th>\n",
       "      <th>CreditScore</th>\n",
       "      <th>Geography</th>\n",
       "      <th>Gender</th>\n",
       "      <th>Age</th>\n",
       "      <th>Tenure</th>\n",
       "      <th>Balance</th>\n",
       "      <th>NumOfProducts</th>\n",
       "      <th>HasCrCard</th>\n",
       "      <th>IsActiveMember</th>\n",
       "      <th>EstimatedSalary</th>\n",
       "      <th>Exited</th>\n",
       "    </tr>\n",
       "  </thead>\n",
       "  <tbody>\n",
       "    <tr>\n",
       "      <th>0</th>\n",
       "      <td>1</td>\n",
       "      <td>15634602</td>\n",
       "      <td>Hargrave</td>\n",
       "      <td>619</td>\n",
       "      <td>France</td>\n",
       "      <td>Female</td>\n",
       "      <td>42</td>\n",
       "      <td>2</td>\n",
       "      <td>0.00</td>\n",
       "      <td>1</td>\n",
       "      <td>1</td>\n",
       "      <td>1</td>\n",
       "      <td>101348.88</td>\n",
       "      <td>1</td>\n",
       "    </tr>\n",
       "    <tr>\n",
       "      <th>1</th>\n",
       "      <td>2</td>\n",
       "      <td>15647311</td>\n",
       "      <td>Hill</td>\n",
       "      <td>608</td>\n",
       "      <td>Spain</td>\n",
       "      <td>Female</td>\n",
       "      <td>41</td>\n",
       "      <td>1</td>\n",
       "      <td>83807.86</td>\n",
       "      <td>1</td>\n",
       "      <td>0</td>\n",
       "      <td>1</td>\n",
       "      <td>112542.58</td>\n",
       "      <td>0</td>\n",
       "    </tr>\n",
       "    <tr>\n",
       "      <th>2</th>\n",
       "      <td>3</td>\n",
       "      <td>15619304</td>\n",
       "      <td>Onio</td>\n",
       "      <td>502</td>\n",
       "      <td>France</td>\n",
       "      <td>Female</td>\n",
       "      <td>42</td>\n",
       "      <td>8</td>\n",
       "      <td>159660.80</td>\n",
       "      <td>3</td>\n",
       "      <td>1</td>\n",
       "      <td>0</td>\n",
       "      <td>113931.57</td>\n",
       "      <td>1</td>\n",
       "    </tr>\n",
       "    <tr>\n",
       "      <th>3</th>\n",
       "      <td>4</td>\n",
       "      <td>15701354</td>\n",
       "      <td>Boni</td>\n",
       "      <td>699</td>\n",
       "      <td>France</td>\n",
       "      <td>Female</td>\n",
       "      <td>39</td>\n",
       "      <td>1</td>\n",
       "      <td>0.00</td>\n",
       "      <td>2</td>\n",
       "      <td>0</td>\n",
       "      <td>0</td>\n",
       "      <td>93826.63</td>\n",
       "      <td>0</td>\n",
       "    </tr>\n",
       "    <tr>\n",
       "      <th>4</th>\n",
       "      <td>5</td>\n",
       "      <td>15737888</td>\n",
       "      <td>Mitchell</td>\n",
       "      <td>850</td>\n",
       "      <td>Spain</td>\n",
       "      <td>Female</td>\n",
       "      <td>43</td>\n",
       "      <td>2</td>\n",
       "      <td>125510.82</td>\n",
       "      <td>1</td>\n",
       "      <td>1</td>\n",
       "      <td>1</td>\n",
       "      <td>79084.10</td>\n",
       "      <td>0</td>\n",
       "    </tr>\n",
       "  </tbody>\n",
       "</table>\n",
       "</div>"
      ],
      "text/plain": [
       "   RowNumber  CustomerId   Surname  CreditScore Geography  Gender  Age  \\\n",
       "0          1    15634602  Hargrave          619    France  Female   42   \n",
       "1          2    15647311      Hill          608     Spain  Female   41   \n",
       "2          3    15619304      Onio          502    France  Female   42   \n",
       "3          4    15701354      Boni          699    France  Female   39   \n",
       "4          5    15737888  Mitchell          850     Spain  Female   43   \n",
       "\n",
       "   Tenure    Balance  NumOfProducts  HasCrCard  IsActiveMember  \\\n",
       "0       2       0.00              1          1               1   \n",
       "1       1   83807.86              1          0               1   \n",
       "2       8  159660.80              3          1               0   \n",
       "3       1       0.00              2          0               0   \n",
       "4       2  125510.82              1          1               1   \n",
       "\n",
       "   EstimatedSalary  Exited  \n",
       "0        101348.88       1  \n",
       "1        112542.58       0  \n",
       "2        113931.57       1  \n",
       "3         93826.63       0  \n",
       "4         79084.10       0  "
      ]
     },
     "execution_count": 5,
     "metadata": {},
     "output_type": "execute_result"
    }
   ],
   "source": [
    "data.head()"
   ]
  },
  {
   "cell_type": "code",
   "execution_count": 6,
   "metadata": {},
   "outputs": [
    {
     "data": {
      "text/plain": [
       "(10000, 10000)"
      ]
     },
     "execution_count": 6,
     "metadata": {},
     "output_type": "execute_result"
    }
   ],
   "source": [
    "len(data['RowNumber'].unique()), len(data['CustomerId'].unique())"
   ]
  },
  {
   "cell_type": "code",
   "execution_count": 7,
   "metadata": {},
   "outputs": [],
   "source": [
    "data.drop(['RowNumber', 'CustomerId', 'Surname'], axis = 1, inplace = True)"
   ]
  },
  {
   "cell_type": "code",
   "execution_count": 8,
   "metadata": {},
   "outputs": [
    {
     "data": {
      "text/html": [
       "<div>\n",
       "<style scoped>\n",
       "    .dataframe tbody tr th:only-of-type {\n",
       "        vertical-align: middle;\n",
       "    }\n",
       "\n",
       "    .dataframe tbody tr th {\n",
       "        vertical-align: top;\n",
       "    }\n",
       "\n",
       "    .dataframe thead th {\n",
       "        text-align: right;\n",
       "    }\n",
       "</style>\n",
       "<table border=\"1\" class=\"dataframe\">\n",
       "  <thead>\n",
       "    <tr style=\"text-align: right;\">\n",
       "      <th></th>\n",
       "      <th>CreditScore</th>\n",
       "      <th>Geography</th>\n",
       "      <th>Gender</th>\n",
       "      <th>Age</th>\n",
       "      <th>Tenure</th>\n",
       "      <th>Balance</th>\n",
       "      <th>NumOfProducts</th>\n",
       "      <th>HasCrCard</th>\n",
       "      <th>IsActiveMember</th>\n",
       "      <th>EstimatedSalary</th>\n",
       "      <th>Exited</th>\n",
       "    </tr>\n",
       "  </thead>\n",
       "  <tbody>\n",
       "    <tr>\n",
       "      <th>0</th>\n",
       "      <td>619</td>\n",
       "      <td>France</td>\n",
       "      <td>Female</td>\n",
       "      <td>42</td>\n",
       "      <td>2</td>\n",
       "      <td>0.00</td>\n",
       "      <td>1</td>\n",
       "      <td>1</td>\n",
       "      <td>1</td>\n",
       "      <td>101348.88</td>\n",
       "      <td>1</td>\n",
       "    </tr>\n",
       "    <tr>\n",
       "      <th>1</th>\n",
       "      <td>608</td>\n",
       "      <td>Spain</td>\n",
       "      <td>Female</td>\n",
       "      <td>41</td>\n",
       "      <td>1</td>\n",
       "      <td>83807.86</td>\n",
       "      <td>1</td>\n",
       "      <td>0</td>\n",
       "      <td>1</td>\n",
       "      <td>112542.58</td>\n",
       "      <td>0</td>\n",
       "    </tr>\n",
       "    <tr>\n",
       "      <th>2</th>\n",
       "      <td>502</td>\n",
       "      <td>France</td>\n",
       "      <td>Female</td>\n",
       "      <td>42</td>\n",
       "      <td>8</td>\n",
       "      <td>159660.80</td>\n",
       "      <td>3</td>\n",
       "      <td>1</td>\n",
       "      <td>0</td>\n",
       "      <td>113931.57</td>\n",
       "      <td>1</td>\n",
       "    </tr>\n",
       "    <tr>\n",
       "      <th>3</th>\n",
       "      <td>699</td>\n",
       "      <td>France</td>\n",
       "      <td>Female</td>\n",
       "      <td>39</td>\n",
       "      <td>1</td>\n",
       "      <td>0.00</td>\n",
       "      <td>2</td>\n",
       "      <td>0</td>\n",
       "      <td>0</td>\n",
       "      <td>93826.63</td>\n",
       "      <td>0</td>\n",
       "    </tr>\n",
       "    <tr>\n",
       "      <th>4</th>\n",
       "      <td>850</td>\n",
       "      <td>Spain</td>\n",
       "      <td>Female</td>\n",
       "      <td>43</td>\n",
       "      <td>2</td>\n",
       "      <td>125510.82</td>\n",
       "      <td>1</td>\n",
       "      <td>1</td>\n",
       "      <td>1</td>\n",
       "      <td>79084.10</td>\n",
       "      <td>0</td>\n",
       "    </tr>\n",
       "  </tbody>\n",
       "</table>\n",
       "</div>"
      ],
      "text/plain": [
       "   CreditScore Geography  Gender  Age  Tenure    Balance  NumOfProducts  \\\n",
       "0          619    France  Female   42       2       0.00              1   \n",
       "1          608     Spain  Female   41       1   83807.86              1   \n",
       "2          502    France  Female   42       8  159660.80              3   \n",
       "3          699    France  Female   39       1       0.00              2   \n",
       "4          850     Spain  Female   43       2  125510.82              1   \n",
       "\n",
       "   HasCrCard  IsActiveMember  EstimatedSalary  Exited  \n",
       "0          1               1        101348.88       1  \n",
       "1          0               1        112542.58       0  \n",
       "2          1               0        113931.57       1  \n",
       "3          0               0         93826.63       0  \n",
       "4          1               1         79084.10       0  "
      ]
     },
     "execution_count": 8,
     "metadata": {},
     "output_type": "execute_result"
    }
   ],
   "source": [
    "data.head()"
   ]
  },
  {
   "cell_type": "code",
   "execution_count": 9,
   "metadata": {},
   "outputs": [
    {
     "data": {
      "image/png": "[encoded data removed]",
      "text/plain": [
       "<Figure size 432x288 with 1 Axes>"
      ]
     },
     "metadata": {
      "needs_background": "light"
     },
     "output_type": "display_data"
    }
   ],
   "source": [
    "sb.heatmap(data.isna(),\n",
    "          cbar = False,\n",
    "          yticklabels = False,\n",
    "          cmap = 'summer')\n",
    "plt.show()"
   ]
  },
  {
   "cell_type": "code",
   "execution_count": 10,
   "metadata": {},
   "outputs": [
    {
     "data": {
      "image/png": "[encoded data removed]",
      "text/plain": [
       "<Figure size 432x288 with 1 Axes>"
      ]
     },
     "metadata": {
      "needs_background": "light"
     },
     "output_type": "display_data"
    }
   ],
   "source": [
    "sb.countplot(data['Exited'])\n",
    "plt.show()"
   ]
  },
  {
   "cell_type": "code",
   "execution_count": 11,
   "metadata": {},
   "outputs": [
    {
     "data": {
      "image/png": "[encoded data removed]",
      "text/plain": [
       "<Figure size 720x432 with 2 Axes>"
      ]
     },
     "metadata": {
      "needs_background": "light"
     },
     "output_type": "display_data"
    }
   ],
   "source": [
    "fig, ax = plt.subplots(figsize = (10, 6))\n",
    "\n",
    "corr = data.corr()\n",
    "ax = sb.heatmap(corr,\n",
    "          annot = True,\n",
    "          cmap = 'Blues')\n",
    "bottom, top = ax.get_ylim()\n",
    "ax.set_ylim(bottom + 0.5, top - 0.5)\n",
    "plt.show()"
   ]
  },
  {
   "cell_type": "code",
   "execution_count": 12,
   "metadata": {},
   "outputs": [
    {
     "data": {
      "text/html": [
       "<div>\n",
       "<style scoped>\n",
       "    .dataframe tbody tr th:only-of-type {\n",
       "        vertical-align: middle;\n",
       "    }\n",
       "\n",
       "    .dataframe tbody tr th {\n",
       "        vertical-align: top;\n",
       "    }\n",
       "\n",
       "    .dataframe thead th {\n",
       "        text-align: right;\n",
       "    }\n",
       "</style>\n",
       "<table border=\"1\" class=\"dataframe\">\n",
       "  <thead>\n",
       "    <tr style=\"text-align: right;\">\n",
       "      <th></th>\n",
       "      <th>CreditScore</th>\n",
       "      <th>Geography</th>\n",
       "      <th>Gender</th>\n",
       "      <th>Age</th>\n",
       "      <th>Tenure</th>\n",
       "      <th>Balance</th>\n",
       "      <th>NumOfProducts</th>\n",
       "      <th>HasCrCard</th>\n",
       "      <th>IsActiveMember</th>\n",
       "      <th>EstimatedSalary</th>\n",
       "      <th>Exited</th>\n",
       "    </tr>\n",
       "  </thead>\n",
       "  <tbody>\n",
       "  </tbody>\n",
       "</table>\n",
       "</div>"
      ],
      "text/plain": [
       "Empty DataFrame\n",
       "Columns: [CreditScore, Geography, Gender, Age, Tenure, Balance, NumOfProducts, HasCrCard, IsActiveMember, EstimatedSalary, Exited]\n",
       "Index: []"
      ]
     },
     "execution_count": 12,
     "metadata": {},
     "output_type": "execute_result"
    }
   ],
   "source": [
    "data[data.duplicated()]"
   ]
  },
  {
   "cell_type": "code",
   "execution_count": 13,
   "metadata": {},
   "outputs": [
    {
     "data": {
      "image/png": "[encoded data removed]",
      "text/plain": [
       "<Figure size 1080x576 with 1 Axes>"
      ]
     },
     "metadata": {
      "needs_background": "light"
     },
     "output_type": "display_data"
    }
   ],
   "source": [
    "fig, ax = plt.subplots(figsize = (15, 8))\n",
    "\n",
    "sb.countplot(data['Age'])\n",
    "plt.show()"
   ]
  },
  {
   "cell_type": "code",
   "execution_count": 14,
   "metadata": {},
   "outputs": [
    {
     "data": {
      "image/png": "[encoded data removed]",
      "text/plain": [
       "<Figure size 360x288 with 1 Axes>"
      ]
     },
     "metadata": {
      "needs_background": "light"
     },
     "output_type": "display_data"
    }
   ],
   "source": [
    "fig, ax = plt.subplots(figsize = (5, 4))\n",
    "\n",
    "sb.countplot(data['Gender'])\n",
    "plt.show()"
   ]
  },
  {
   "cell_type": "code",
   "execution_count": 15,
   "metadata": {},
   "outputs": [
    {
     "data": {
      "image/png": "[encoded data removed]",
      "text/plain": [
       "<Figure size 432x288 with 1 Axes>"
      ]
     },
     "metadata": {
      "needs_background": "light"
     },
     "output_type": "display_data"
    }
   ],
   "source": [
    "sb.distplot(data['Balance'])\n",
    "plt.show()"
   ]
  },
  {
   "cell_type": "code",
   "execution_count": 16,
   "metadata": {},
   "outputs": [
    {
     "data": {
      "image/png": "[encoded data removed]",
      "text/plain": [
       "<Figure size 432x288 with 1 Axes>"
      ]
     },
     "metadata": {
      "needs_background": "light"
     },
     "output_type": "display_data"
    }
   ],
   "source": [
    "sb.countplot(data['Geography'])\n",
    "plt.show()"
   ]
  },
  {
   "cell_type": "code",
   "execution_count": 17,
   "metadata": {},
   "outputs": [
    {
     "data": {
      "image/png": "[encoded data removed]",
      "text/plain": [
       "<Figure size 432x288 with 1 Axes>"
      ]
     },
     "metadata": {
      "needs_background": "light"
     },
     "output_type": "display_data"
    }
   ],
   "source": [
    "sb.boxplot(x = 'Geography', \n",
    "           y = 'Exited', \n",
    "           data = data)\n",
    "plt.grid()\n",
    "plt.show()"
   ]
  },
  {
   "cell_type": "code",
   "execution_count": 18,
   "metadata": {},
   "outputs": [
    {
     "data": {
      "image/png": "[encoded data removed]",
      "text/plain": [
       "<Figure size 432x288 with 1 Axes>"
      ]
     },
     "metadata": {
      "needs_background": "light"
     },
     "output_type": "display_data"
    }
   ],
   "source": [
    "sb.boxplot(x = 'Tenure', \n",
    "           y = 'Exited', \n",
    "           data = data)\n",
    "plt.grid()\n",
    "plt.show()"
   ]
  },
  {
   "cell_type": "code",
   "execution_count": 19,
   "metadata": {},
   "outputs": [
    {
     "data": {
      "text/html": [
       "<div>\n",
       "<style scoped>\n",
       "    .dataframe tbody tr th:only-of-type {\n",
       "        vertical-align: middle;\n",
       "    }\n",
       "\n",
       "    .dataframe tbody tr th {\n",
       "        vertical-align: top;\n",
       "    }\n",
       "\n",
       "    .dataframe thead th {\n",
       "        text-align: right;\n",
       "    }\n",
       "</style>\n",
       "<table border=\"1\" class=\"dataframe\">\n",
       "  <thead>\n",
       "    <tr style=\"text-align: right;\">\n",
       "      <th></th>\n",
       "      <th>CreditScore</th>\n",
       "      <th>Age</th>\n",
       "      <th>Tenure</th>\n",
       "      <th>Balance</th>\n",
       "      <th>NumOfProducts</th>\n",
       "      <th>HasCrCard</th>\n",
       "      <th>IsActiveMember</th>\n",
       "      <th>EstimatedSalary</th>\n",
       "      <th>Exited</th>\n",
       "    </tr>\n",
       "  </thead>\n",
       "  <tbody>\n",
       "    <tr>\n",
       "      <th>count</th>\n",
       "      <td>10000.000000</td>\n",
       "      <td>10000.000000</td>\n",
       "      <td>10000.000000</td>\n",
       "      <td>10000.000000</td>\n",
       "      <td>10000.000000</td>\n",
       "      <td>10000.00000</td>\n",
       "      <td>10000.000000</td>\n",
       "      <td>10000.000000</td>\n",
       "      <td>10000.000000</td>\n",
       "    </tr>\n",
       "    <tr>\n",
       "      <th>mean</th>\n",
       "      <td>650.528800</td>\n",
       "      <td>38.921800</td>\n",
       "      <td>5.012800</td>\n",
       "      <td>76485.889288</td>\n",
       "      <td>1.530200</td>\n",
       "      <td>0.70550</td>\n",
       "      <td>0.515100</td>\n",
       "      <td>100090.239881</td>\n",
       "      <td>0.203700</td>\n",
       "    </tr>\n",
       "    <tr>\n",
       "      <th>std</th>\n",
       "      <td>96.653299</td>\n",
       "      <td>10.487806</td>\n",
       "      <td>2.892174</td>\n",
       "      <td>62397.405202</td>\n",
       "      <td>0.581654</td>\n",
       "      <td>0.45584</td>\n",
       "      <td>0.499797</td>\n",
       "      <td>57510.492818</td>\n",
       "      <td>0.402769</td>\n",
       "    </tr>\n",
       "    <tr>\n",
       "      <th>min</th>\n",
       "      <td>350.000000</td>\n",
       "      <td>18.000000</td>\n",
       "      <td>0.000000</td>\n",
       "      <td>0.000000</td>\n",
       "      <td>1.000000</td>\n",
       "      <td>0.00000</td>\n",
       "      <td>0.000000</td>\n",
       "      <td>11.580000</td>\n",
       "      <td>0.000000</td>\n",
       "    </tr>\n",
       "    <tr>\n",
       "      <th>25%</th>\n",
       "      <td>584.000000</td>\n",
       "      <td>32.000000</td>\n",
       "      <td>3.000000</td>\n",
       "      <td>0.000000</td>\n",
       "      <td>1.000000</td>\n",
       "      <td>0.00000</td>\n",
       "      <td>0.000000</td>\n",
       "      <td>51002.110000</td>\n",
       "      <td>0.000000</td>\n",
       "    </tr>\n",
       "    <tr>\n",
       "      <th>50%</th>\n",
       "      <td>652.000000</td>\n",
       "      <td>37.000000</td>\n",
       "      <td>5.000000</td>\n",
       "      <td>97198.540000</td>\n",
       "      <td>1.000000</td>\n",
       "      <td>1.00000</td>\n",
       "      <td>1.000000</td>\n",
       "      <td>100193.915000</td>\n",
       "      <td>0.000000</td>\n",
       "    </tr>\n",
       "    <tr>\n",
       "      <th>75%</th>\n",
       "      <td>718.000000</td>\n",
       "      <td>44.000000</td>\n",
       "      <td>7.000000</td>\n",
       "      <td>127644.240000</td>\n",
       "      <td>2.000000</td>\n",
       "      <td>1.00000</td>\n",
       "      <td>1.000000</td>\n",
       "      <td>149388.247500</td>\n",
       "      <td>0.000000</td>\n",
       "    </tr>\n",
       "    <tr>\n",
       "      <th>max</th>\n",
       "      <td>850.000000</td>\n",
       "      <td>92.000000</td>\n",
       "      <td>10.000000</td>\n",
       "      <td>250898.090000</td>\n",
       "      <td>4.000000</td>\n",
       "      <td>1.00000</td>\n",
       "      <td>1.000000</td>\n",
       "      <td>199992.480000</td>\n",
       "      <td>1.000000</td>\n",
       "    </tr>\n",
       "  </tbody>\n",
       "</table>\n",
       "</div>"
      ],
      "text/plain": [
       "        CreditScore           Age        Tenure        Balance  NumOfProducts  \\\n",
       "count  10000.000000  10000.000000  10000.000000   10000.000000   10000.000000   \n",
       "mean     650.528800     38.921800      5.012800   76485.889288       1.530200   \n",
       "std       96.653299     10.487806      2.892174   62397.405202       0.581654   \n",
       "min      350.000000     18.000000      0.000000       0.000000       1.000000   \n",
       "25%      584.000000     32.000000      3.000000       0.000000       1.000000   \n",
       "50%      652.000000     37.000000      5.000000   97198.540000       1.000000   \n",
       "75%      718.000000     44.000000      7.000000  127644.240000       2.000000   \n",
       "max      850.000000     92.000000     10.000000  250898.090000       4.000000   \n",
       "\n",
       "         HasCrCard  IsActiveMember  EstimatedSalary        Exited  \n",
       "count  10000.00000    10000.000000     10000.000000  10000.000000  \n",
       "mean       0.70550        0.515100    100090.239881      0.203700  \n",
       "std        0.45584        0.499797     57510.492818      0.402769  \n",
       "min        0.00000        0.000000        11.580000      0.000000  \n",
       "25%        0.00000        0.000000     51002.110000      0.000000  \n",
       "50%        1.00000        1.000000    100193.915000      0.000000  \n",
       "75%        1.00000        1.000000    149388.247500      0.000000  \n",
       "max        1.00000        1.000000    199992.480000      1.000000  "
      ]
     },
     "execution_count": 19,
     "metadata": {},
     "output_type": "execute_result"
    }
   ],
   "source": [
    "data.describe()"
   ]
  },
  {
   "cell_type": "markdown",
   "metadata": {},
   "source": [
    "# Data Preprocessing"
   ]
  },
  {
   "cell_type": "code",
   "execution_count": 20,
   "metadata": {
    "scrolled": true
   },
   "outputs": [
    {
     "data": {
      "text/plain": [
       "array([ 2,  1,  8,  7,  4,  6,  3, 10,  5,  9,  0])"
      ]
     },
     "execution_count": 20,
     "metadata": {},
     "output_type": "execute_result"
    }
   ],
   "source": [
    "data['Tenure'].unique()"
   ]
  },
  {
   "cell_type": "code",
   "execution_count": 21,
   "metadata": {},
   "outputs": [
    {
     "data": {
      "text/plain": [
       "array([1, 3, 2, 4])"
      ]
     },
     "execution_count": 21,
     "metadata": {},
     "output_type": "execute_result"
    }
   ],
   "source": [
    "data['NumOfProducts'].unique()"
   ]
  },
  {
   "cell_type": "code",
   "execution_count": 22,
   "metadata": {},
   "outputs": [],
   "source": [
    "sc = StandardScaler()\n",
    "data.iloc[:, [0,3,5,9]] = sc.fit_transform(data.iloc[:,[0,3,5,9]])"
   ]
  },
  {
   "cell_type": "code",
   "execution_count": 23,
   "metadata": {},
   "outputs": [
    {
     "data": {
      "text/html": [
       "<div>\n",
       "<style scoped>\n",
       "    .dataframe tbody tr th:only-of-type {\n",
       "        vertical-align: middle;\n",
       "    }\n",
       "\n",
       "    .dataframe tbody tr th {\n",
       "        vertical-align: top;\n",
       "    }\n",
       "\n",
       "    .dataframe thead th {\n",
       "        text-align: right;\n",
       "    }\n",
       "</style>\n",
       "<table border=\"1\" class=\"dataframe\">\n",
       "  <thead>\n",
       "    <tr style=\"text-align: right;\">\n",
       "      <th></th>\n",
       "      <th>CreditScore</th>\n",
       "      <th>Geography</th>\n",
       "      <th>Gender</th>\n",
       "      <th>Age</th>\n",
       "      <th>Tenure</th>\n",
       "      <th>Balance</th>\n",
       "      <th>NumOfProducts</th>\n",
       "      <th>HasCrCard</th>\n",
       "      <th>IsActiveMember</th>\n",
       "      <th>EstimatedSalary</th>\n",
       "      <th>Exited</th>\n",
       "    </tr>\n",
       "  </thead>\n",
       "  <tbody>\n",
       "    <tr>\n",
       "      <th>0</th>\n",
       "      <td>-0.326221</td>\n",
       "      <td>France</td>\n",
       "      <td>Female</td>\n",
       "      <td>0.293517</td>\n",
       "      <td>2</td>\n",
       "      <td>-1.225848</td>\n",
       "      <td>1</td>\n",
       "      <td>1</td>\n",
       "      <td>1</td>\n",
       "      <td>0.021886</td>\n",
       "      <td>1</td>\n",
       "    </tr>\n",
       "    <tr>\n",
       "      <th>1</th>\n",
       "      <td>-0.440036</td>\n",
       "      <td>Spain</td>\n",
       "      <td>Female</td>\n",
       "      <td>0.198164</td>\n",
       "      <td>1</td>\n",
       "      <td>0.117350</td>\n",
       "      <td>1</td>\n",
       "      <td>0</td>\n",
       "      <td>1</td>\n",
       "      <td>0.216534</td>\n",
       "      <td>0</td>\n",
       "    </tr>\n",
       "    <tr>\n",
       "      <th>2</th>\n",
       "      <td>-1.536794</td>\n",
       "      <td>France</td>\n",
       "      <td>Female</td>\n",
       "      <td>0.293517</td>\n",
       "      <td>8</td>\n",
       "      <td>1.333053</td>\n",
       "      <td>3</td>\n",
       "      <td>1</td>\n",
       "      <td>0</td>\n",
       "      <td>0.240687</td>\n",
       "      <td>1</td>\n",
       "    </tr>\n",
       "    <tr>\n",
       "      <th>3</th>\n",
       "      <td>0.501521</td>\n",
       "      <td>France</td>\n",
       "      <td>Female</td>\n",
       "      <td>0.007457</td>\n",
       "      <td>1</td>\n",
       "      <td>-1.225848</td>\n",
       "      <td>2</td>\n",
       "      <td>0</td>\n",
       "      <td>0</td>\n",
       "      <td>-0.108918</td>\n",
       "      <td>0</td>\n",
       "    </tr>\n",
       "    <tr>\n",
       "      <th>4</th>\n",
       "      <td>2.063884</td>\n",
       "      <td>Spain</td>\n",
       "      <td>Female</td>\n",
       "      <td>0.388871</td>\n",
       "      <td>2</td>\n",
       "      <td>0.785728</td>\n",
       "      <td>1</td>\n",
       "      <td>1</td>\n",
       "      <td>1</td>\n",
       "      <td>-0.365276</td>\n",
       "      <td>0</td>\n",
       "    </tr>\n",
       "  </tbody>\n",
       "</table>\n",
       "</div>"
      ],
      "text/plain": [
       "   CreditScore Geography  Gender       Age  Tenure   Balance  NumOfProducts  \\\n",
       "0    -0.326221    France  Female  0.293517       2 -1.225848              1   \n",
       "1    -0.440036     Spain  Female  0.198164       1  0.117350              1   \n",
       "2    -1.536794    France  Female  0.293517       8  1.333053              3   \n",
       "3     0.501521    France  Female  0.007457       1 -1.225848              2   \n",
       "4     2.063884     Spain  Female  0.388871       2  0.785728              1   \n",
       "\n",
       "   HasCrCard  IsActiveMember  EstimatedSalary  Exited  \n",
       "0          1               1         0.021886       1  \n",
       "1          0               1         0.216534       0  \n",
       "2          1               0         0.240687       1  \n",
       "3          0               0        -0.108918       0  \n",
       "4          1               1        -0.365276       0  "
      ]
     },
     "execution_count": 23,
     "metadata": {},
     "output_type": "execute_result"
    }
   ],
   "source": [
    "data.head()"
   ]
  },
  {
   "cell_type": "code",
   "execution_count": 24,
   "metadata": {},
   "outputs": [],
   "source": [
    "X = data.iloc[:, :-1].values\n",
    "Y = data.iloc[:, -1:].values"
   ]
  },
  {
   "cell_type": "code",
   "execution_count": 25,
   "metadata": {},
   "outputs": [
    {
     "data": {
      "text/plain": [
       "((10000, 10), (10000, 1))"
      ]
     },
     "execution_count": 25,
     "metadata": {},
     "output_type": "execute_result"
    }
   ],
   "source": [
    "X.shape, Y.shape"
   ]
  },
  {
   "cell_type": "code",
   "execution_count": 26,
   "metadata": {},
   "outputs": [
    {
     "data": {
      "text/plain": [
       "array([-0.4400359548576657, 'Spain', 'Female', 0.1981638321954454, 1,\n",
       "       0.11735002143511059, 1, 0, 1, 0.21653375188734025], dtype=object)"
      ]
     },
     "execution_count": 26,
     "metadata": {},
     "output_type": "execute_result"
    }
   ],
   "source": [
    "X[1]"
   ]
  },
  {
   "cell_type": "code",
   "execution_count": 27,
   "metadata": {},
   "outputs": [],
   "source": [
    "lb = LabelEncoder()\n",
    "X[:, 1] = lb.fit_transform(X[:, 1])\n",
    "X[:, 2] = lb.fit_transform(X[:, 2])"
   ]
  },
  {
   "cell_type": "code",
   "execution_count": 28,
   "metadata": {},
   "outputs": [
    {
     "data": {
      "text/plain": [
       "array([-0.4400359548576657, 2, 0, 0.1981638321954454, 1,\n",
       "       0.11735002143511059, 1, 0, 1, 0.21653375188734025], dtype=object)"
      ]
     },
     "execution_count": 28,
     "metadata": {},
     "output_type": "execute_result"
    }
   ],
   "source": [
    "X[1]"
   ]
  },
  {
   "cell_type": "code",
   "execution_count": 29,
   "metadata": {},
   "outputs": [],
   "source": [
    "ohe = OneHotEncoder(categorical_features = [1])\n",
    "X = ohe.fit_transform(X).toarray()"
   ]
  },
  {
   "cell_type": "code",
   "execution_count": 30,
   "metadata": {},
   "outputs": [
    {
     "data": {
      "text/plain": [
       "array([ 0.        ,  0.        ,  1.        , -0.44003595,  0.        ,\n",
       "        0.19816383,  1.        ,  0.11735002,  1.        ,  0.        ,\n",
       "        1.        ,  0.21653375])"
      ]
     },
     "execution_count": 30,
     "metadata": {},
     "output_type": "execute_result"
    }
   ],
   "source": [
    "X[1]"
   ]
  },
  {
   "cell_type": "code",
   "execution_count": 31,
   "metadata": {},
   "outputs": [],
   "source": [
    "X = X[:, 1:]"
   ]
  },
  {
   "cell_type": "code",
   "execution_count": 32,
   "metadata": {},
   "outputs": [
    {
     "data": {
      "text/plain": [
       "array([ 0.        ,  1.        , -0.44003595,  0.        ,  0.19816383,\n",
       "        1.        ,  0.11735002,  1.        ,  0.        ,  1.        ,\n",
       "        0.21653375])"
      ]
     },
     "execution_count": 32,
     "metadata": {},
     "output_type": "execute_result"
    }
   ],
   "source": [
    "X[1]"
   ]
  },
  {
   "cell_type": "code",
   "execution_count": 33,
   "metadata": {},
   "outputs": [
    {
     "data": {
      "text/plain": [
       "(10000, 11)"
      ]
     },
     "execution_count": 33,
     "metadata": {},
     "output_type": "execute_result"
    }
   ],
   "source": [
    "X.shape"
   ]
  },
  {
   "cell_type": "code",
   "execution_count": 34,
   "metadata": {},
   "outputs": [],
   "source": [
    "x_train, x_test, y_train, y_test = train_test_split(X, Y, test_size = 0.2, random_state = 0)"
   ]
  },
  {
   "cell_type": "code",
   "execution_count": 35,
   "metadata": {},
   "outputs": [
    {
     "data": {
      "text/plain": [
       "((8000, 11), (8000, 1), (2000, 11), (2000, 1))"
      ]
     },
     "execution_count": 35,
     "metadata": {},
     "output_type": "execute_result"
    }
   ],
   "source": [
    "x_train.shape, y_train.shape, x_test.shape, y_test.shape"
   ]
  },
  {
   "cell_type": "markdown",
   "metadata": {},
   "source": [
    "# Creating Placeholders"
   ]
  },
  {
   "cell_type": "markdown",
   "metadata": {},
   "source": [
    "To create placeholders we need to disable the eager execution as place holders are not compatible with eager execution"
   ]
  },
  {
   "cell_type": "code",
   "execution_count": 36,
   "metadata": {},
   "outputs": [],
   "source": [
    "tf.compat.v1.disable_eager_execution()"
   ]
  },
  {
   "cell_type": "code",
   "execution_count": 37,
   "metadata": {},
   "outputs": [],
   "source": [
    "x = tf.compat.v1.placeholder(dtype = 'float32', name = 'x')\n",
    "y = tf.compat.v1.placeholder(dtype = 'float32', name = 'y')"
   ]
  },
  {
   "cell_type": "code",
   "execution_count": 38,
   "metadata": {},
   "outputs": [
    {
     "data": {
      "text/plain": [
       "(<tf.Tensor 'x:0' shape=<unknown> dtype=float32>,\n",
       " <tf.Tensor 'y:0' shape=<unknown> dtype=float32>)"
      ]
     },
     "execution_count": 38,
     "metadata": {},
     "output_type": "execute_result"
    }
   ],
   "source": [
    "x, y"
   ]
  },
  {
   "cell_type": "markdown",
   "metadata": {},
   "source": [
    "# Initialising weights and bias"
   ]
  },
  {
   "cell_type": "code",
   "execution_count": 39,
   "metadata": {},
   "outputs": [],
   "source": [
    "sigma = 1\n",
    "weight_initializer = tf.compat.v1.variance_scaling_initializer(mode = 'fan_avg', distribution = 'uniform', scale = sigma) \n",
    "bias_initializer = tf.zeros_initializer()"
   ]
  },
  {
   "cell_type": "code",
   "execution_count": 40,
   "metadata": {},
   "outputs": [
    {
     "name": "stdout",
     "output_type": "stream",
     "text": [
      "WARNING:tensorflow:From /home/admin1/anaconda3/envs/my_env/lib/python3.7/site-packages/tensorflow_core/python/ops/resource_variable_ops.py:1630: calling BaseResourceVariable.__init__ (from tensorflow.python.ops.resource_variable_ops) with constraint is deprecated and will be removed in a future version.\n",
      "Instructions for updating:\n",
      "If using Keras pass *_constraint arguments to layers.\n"
     ]
    }
   ],
   "source": [
    "#Weights and Bias of 1st Layer\n",
    "w1 = tf.Variable(weight_initializer([x_train.shape[1], 10]))\n",
    "b1 = tf.Variable(bias_initializer([10]))\n",
    "\n",
    "#Weights and Bias of 2nd layer\n",
    "w2 = tf.Variable(weight_initializer([10, 10]))\n",
    "b2 = tf.Variable(bias_initializer([10]))\n",
    "\n",
    "#Weights and Bias of 3rd layer\n",
    "w3 = tf.Variable(weight_initializer([10, 8]))\n",
    "b3 = tf.Variable(bias_initializer([8]))\n",
    "\n",
    "\n",
    "#Weights and Bias of output layer\n",
    "wo = tf.Variable(weight_initializer([8, 1]))\n",
    "bo = tf.Variable(bias_initializer([1]))\n",
    "\n",
    "init = tf.compat.v1.global_variables_initializer()"
   ]
  },
  {
   "cell_type": "code",
   "execution_count": 41,
   "metadata": {},
   "outputs": [
    {
     "data": {
      "text/plain": [
       "(<tf.Variable 'Variable:0' shape=(11, 10) dtype=float32>,\n",
       " <tf.Variable 'Variable_1:0' shape=(10,) dtype=float32>)"
      ]
     },
     "execution_count": 41,
     "metadata": {},
     "output_type": "execute_result"
    }
   ],
   "source": [
    "w1, b1"
   ]
  },
  {
   "cell_type": "code",
   "execution_count": 42,
   "metadata": {},
   "outputs": [
    {
     "data": {
      "text/plain": [
       "(<tf.Variable 'Variable_2:0' shape=(10, 10) dtype=float32>,\n",
       " <tf.Variable 'Variable_3:0' shape=(10,) dtype=float32>)"
      ]
     },
     "execution_count": 42,
     "metadata": {},
     "output_type": "execute_result"
    }
   ],
   "source": [
    "w2, b2"
   ]
  },
  {
   "cell_type": "code",
   "execution_count": 43,
   "metadata": {},
   "outputs": [
    {
     "data": {
      "text/plain": [
       "(<tf.Variable 'Variable_4:0' shape=(10, 8) dtype=float32>,\n",
       " <tf.Variable 'Variable_5:0' shape=(8,) dtype=float32>)"
      ]
     },
     "execution_count": 43,
     "metadata": {},
     "output_type": "execute_result"
    }
   ],
   "source": [
    "w3, b3"
   ]
  },
  {
   "cell_type": "code",
   "execution_count": 44,
   "metadata": {},
   "outputs": [
    {
     "data": {
      "text/plain": [
       "(<tf.Variable 'Variable_6:0' shape=(8, 1) dtype=float32>,\n",
       " <tf.Variable 'Variable_7:0' shape=(1,) dtype=float32>)"
      ]
     },
     "execution_count": 44,
     "metadata": {},
     "output_type": "execute_result"
    }
   ],
   "source": [
    "wo, bo"
   ]
  },
  {
   "cell_type": "markdown",
   "metadata": {},
   "source": [
    "# Forward Propagation"
   ]
  },
  {
   "cell_type": "code",
   "execution_count": 45,
   "metadata": {},
   "outputs": [],
   "source": [
    "#Layer1\n",
    "hidden1 = tf.add(tf.matmul(x, w1), b1)\n",
    "hidden1 = tf.nn.relu(hidden1)\n",
    "\n",
    "#layer2\n",
    "hidden2 = tf.add(tf.matmul(hidden1, w2), b2)\n",
    "hidden2 = tf.nn.relu(hidden2)\n",
    "\n",
    "#layer3\n",
    "hidden3 = tf.add(tf.matmul(hidden2, w3), b3)\n",
    "hidden3 = tf.nn.relu(hidden3)\n",
    "\n",
    "#output layer\n",
    "out = tf.add(tf.matmul(hidden3, wo), bo, name = 'output')"
   ]
  },
  {
   "cell_type": "code",
   "execution_count": 46,
   "metadata": {},
   "outputs": [
    {
     "data": {
      "text/plain": [
       "(<tf.Tensor 'Relu:0' shape=<unknown> dtype=float32>,\n",
       " <tf.Tensor 'Relu_1:0' shape=<unknown> dtype=float32>,\n",
       " <tf.Tensor 'output:0' shape=<unknown> dtype=float32>)"
      ]
     },
     "execution_count": 46,
     "metadata": {},
     "output_type": "execute_result"
    }
   ],
   "source": [
    "hidden1, hidden2, out"
   ]
  },
  {
   "cell_type": "markdown",
   "metadata": {},
   "source": [
    "# Cost Function"
   ]
  },
  {
   "cell_type": "code",
   "execution_count": 47,
   "metadata": {},
   "outputs": [],
   "source": [
    "cost_function = tf.reduce_mean(tf.square(out - y))"
   ]
  },
  {
   "cell_type": "code",
   "execution_count": 48,
   "metadata": {},
   "outputs": [
    {
     "data": {
      "text/plain": [
       "<tf.Tensor 'Mean:0' shape=() dtype=float32>"
      ]
     },
     "execution_count": 48,
     "metadata": {},
     "output_type": "execute_result"
    }
   ],
   "source": [
    "cost_function"
   ]
  },
  {
   "cell_type": "markdown",
   "metadata": {},
   "source": [
    "# Optimizer"
   ]
  },
  {
   "cell_type": "code",
   "execution_count": 49,
   "metadata": {},
   "outputs": [],
   "source": [
    "learning_rate = 0.01\n",
    "opt = tf.compat.v1.train.GradientDescentOptimizer(learning_rate).minimize(cost_function)"
   ]
  },
  {
   "cell_type": "markdown",
   "metadata": {},
   "source": [
    "# launching the graph in Session"
   ]
  },
  {
   "cell_type": "code",
   "execution_count": 50,
   "metadata": {},
   "outputs": [],
   "source": [
    "sess = tf.compat.v1.Session()\n",
    "sess.run(init)"
   ]
  },
  {
   "cell_type": "code",
   "execution_count": 51,
   "metadata": {},
   "outputs": [
    {
     "data": {
      "text/plain": [
       "<tensorflow.python.client.session.Session at 0x7f77a51e6750>"
      ]
     },
     "execution_count": 51,
     "metadata": {},
     "output_type": "execute_result"
    }
   ],
   "source": [
    "sess"
   ]
  },
  {
   "cell_type": "markdown",
   "metadata": {},
   "source": [
    "# Back Propagation"
   ]
  },
  {
   "cell_type": "code",
   "execution_count": 52,
   "metadata": {},
   "outputs": [
    {
     "name": "stdout",
     "output_type": "stream",
     "text": [
      "Epoch: 0 Training Loss: 0.27095228 Test Loss: 0.28105533\n",
      "Epoch: 1 Training Loss: 0.25627562 Test Loss: 0.26346597\n",
      "Epoch: 2 Training Loss: 0.2520574 Test Loss: 0.25814185\n",
      "Epoch: 3 Training Loss: 0.24848305 Test Loss: 0.2538558\n",
      "Epoch: 4 Training Loss: 0.24522677 Test Loss: 0.25000432\n",
      "Epoch: 5 Training Loss: 0.24224333 Test Loss: 0.24646196\n",
      "Epoch: 6 Training Loss: 0.23947626 Test Loss: 0.24315315\n",
      "Epoch: 7 Training Loss: 0.23687491 Test Loss: 0.24008158\n",
      "Epoch: 8 Training Loss: 0.2344167 Test Loss: 0.23721024\n",
      "Epoch: 9 Training Loss: 0.23209867 Test Loss: 0.23452\n",
      "Epoch: 10 Training Loss: 0.22990543 Test Loss: 0.2320112\n",
      "Epoch: 11 Training Loss: 0.22780728 Test Loss: 0.22961813\n",
      "Epoch: 12 Training Loss: 0.22579913 Test Loss: 0.22733065\n",
      "Epoch: 13 Training Loss: 0.22386234 Test Loss: 0.22514282\n",
      "Epoch: 14 Training Loss: 0.22198579 Test Loss: 0.22303802\n",
      "Epoch: 15 Training Loss: 0.22017944 Test Loss: 0.22100313\n",
      "Epoch: 16 Training Loss: 0.21845745 Test Loss: 0.21905774\n",
      "Epoch: 17 Training Loss: 0.21680042 Test Loss: 0.21719946\n",
      "Epoch: 18 Training Loss: 0.21519378 Test Loss: 0.21541543\n",
      "Epoch: 19 Training Loss: 0.21364072 Test Loss: 0.21369506\n",
      "Epoch: 20 Training Loss: 0.21213879 Test Loss: 0.21203631\n",
      "Epoch: 21 Training Loss: 0.21070127 Test Loss: 0.2104441\n",
      "Epoch: 22 Training Loss: 0.20932242 Test Loss: 0.20891553\n",
      "Epoch: 23 Training Loss: 0.20799048 Test Loss: 0.20743579\n",
      "Epoch: 24 Training Loss: 0.20669447 Test Loss: 0.20600265\n",
      "Epoch: 25 Training Loss: 0.20543176 Test Loss: 0.2046138\n",
      "Epoch: 26 Training Loss: 0.20422253 Test Loss: 0.20327659\n",
      "Epoch: 27 Training Loss: 0.2030517 Test Loss: 0.20197625\n",
      "Epoch: 28 Training Loss: 0.20191956 Test Loss: 0.20072262\n",
      "Epoch: 29 Training Loss: 0.20082013 Test Loss: 0.1995177\n",
      "Epoch: 30 Training Loss: 0.1997636 Test Loss: 0.19836447\n",
      "Epoch: 31 Training Loss: 0.1987404 Test Loss: 0.19724399\n",
      "Epoch: 32 Training Loss: 0.19774981 Test Loss: 0.19615717\n",
      "Epoch: 33 Training Loss: 0.19680038 Test Loss: 0.19510888\n",
      "Epoch: 34 Training Loss: 0.19588333 Test Loss: 0.19408964\n",
      "Epoch: 35 Training Loss: 0.19499762 Test Loss: 0.19309601\n",
      "Epoch: 36 Training Loss: 0.19413571 Test Loss: 0.192126\n",
      "Epoch: 37 Training Loss: 0.19329898 Test Loss: 0.19118516\n",
      "Epoch: 38 Training Loss: 0.19249076 Test Loss: 0.19027895\n",
      "Epoch: 39 Training Loss: 0.19171125 Test Loss: 0.18940717\n",
      "Epoch: 40 Training Loss: 0.19095373 Test Loss: 0.18856269\n",
      "Epoch: 41 Training Loss: 0.19022122 Test Loss: 0.18774635\n",
      "Epoch: 42 Training Loss: 0.1895072 Test Loss: 0.18694407\n",
      "Epoch: 43 Training Loss: 0.18881452 Test Loss: 0.1861632\n",
      "Epoch: 44 Training Loss: 0.18814573 Test Loss: 0.18540709\n",
      "Epoch: 45 Training Loss: 0.18749511 Test Loss: 0.1846758\n",
      "Epoch: 46 Training Loss: 0.18686265 Test Loss: 0.18396679\n",
      "Epoch: 47 Training Loss: 0.18624827 Test Loss: 0.183275\n",
      "Epoch: 48 Training Loss: 0.1856495 Test Loss: 0.1826001\n",
      "Epoch: 49 Training Loss: 0.18506537 Test Loss: 0.18194807\n",
      "Epoch: 50 Training Loss: 0.18449451 Test Loss: 0.18130745\n",
      "Epoch: 51 Training Loss: 0.1839365 Test Loss: 0.18068375\n",
      "Epoch: 52 Training Loss: 0.18339251 Test Loss: 0.18007892\n",
      "Epoch: 53 Training Loss: 0.18286258 Test Loss: 0.17949222\n",
      "Epoch: 54 Training Loss: 0.18234664 Test Loss: 0.17891963\n",
      "Epoch: 55 Training Loss: 0.18184853 Test Loss: 0.17836502\n",
      "Epoch: 56 Training Loss: 0.18136477 Test Loss: 0.17783019\n",
      "Epoch: 57 Training Loss: 0.18089382 Test Loss: 0.17730789\n",
      "Epoch: 58 Training Loss: 0.18043369 Test Loss: 0.1767994\n",
      "Epoch: 59 Training Loss: 0.17998414 Test Loss: 0.17630695\n",
      "Epoch: 60 Training Loss: 0.17954567 Test Loss: 0.17582837\n",
      "Epoch: 61 Training Loss: 0.1791167 Test Loss: 0.17535815\n",
      "Epoch: 62 Training Loss: 0.17869839 Test Loss: 0.17490128\n",
      "Epoch: 63 Training Loss: 0.17828971 Test Loss: 0.17445344\n",
      "Epoch: 64 Training Loss: 0.17788912 Test Loss: 0.1740126\n",
      "Epoch: 65 Training Loss: 0.17749366 Test Loss: 0.17357606\n",
      "Epoch: 66 Training Loss: 0.17710678 Test Loss: 0.17314841\n",
      "Epoch: 67 Training Loss: 0.17672732 Test Loss: 0.17272888\n",
      "Epoch: 68 Training Loss: 0.1763558 Test Loss: 0.17231639\n",
      "Epoch: 69 Training Loss: 0.17599359 Test Loss: 0.171912\n",
      "Epoch: 70 Training Loss: 0.17563985 Test Loss: 0.17151916\n",
      "Epoch: 71 Training Loss: 0.17529327 Test Loss: 0.17113455\n",
      "Epoch: 72 Training Loss: 0.17495312 Test Loss: 0.17075892\n",
      "Epoch: 73 Training Loss: 0.17461817 Test Loss: 0.17039056\n",
      "Epoch: 74 Training Loss: 0.17428912 Test Loss: 0.17003089\n",
      "Epoch: 75 Training Loss: 0.173964 Test Loss: 0.1696785\n",
      "Epoch: 76 Training Loss: 0.17364237 Test Loss: 0.1693302\n",
      "Epoch: 77 Training Loss: 0.17332563 Test Loss: 0.16898492\n",
      "Epoch: 78 Training Loss: 0.17301215 Test Loss: 0.16864572\n",
      "Epoch: 79 Training Loss: 0.1727038 Test Loss: 0.1683115\n",
      "Epoch: 80 Training Loss: 0.17240362 Test Loss: 0.16798556\n",
      "Epoch: 81 Training Loss: 0.17211014 Test Loss: 0.16766895\n",
      "Epoch: 82 Training Loss: 0.1718233 Test Loss: 0.1673583\n",
      "Epoch: 83 Training Loss: 0.17154254 Test Loss: 0.16705756\n",
      "Epoch: 84 Training Loss: 0.17126647 Test Loss: 0.16676395\n",
      "Epoch: 85 Training Loss: 0.1709961 Test Loss: 0.1664785\n",
      "Epoch: 86 Training Loss: 0.17073268 Test Loss: 0.16620131\n",
      "Epoch: 87 Training Loss: 0.17047557 Test Loss: 0.16592817\n",
      "Epoch: 88 Training Loss: 0.1702251 Test Loss: 0.16566533\n",
      "Epoch: 89 Training Loss: 0.16997935 Test Loss: 0.16540736\n",
      "Epoch: 90 Training Loss: 0.16973725 Test Loss: 0.16515061\n",
      "Epoch: 91 Training Loss: 0.16950105 Test Loss: 0.16489711\n",
      "Epoch: 92 Training Loss: 0.16927192 Test Loss: 0.16465421\n",
      "Epoch: 93 Training Loss: 0.1690471 Test Loss: 0.1644162\n",
      "Epoch: 94 Training Loss: 0.16882497 Test Loss: 0.16418223\n",
      "Epoch: 95 Training Loss: 0.16860637 Test Loss: 0.16395316\n",
      "Epoch: 96 Training Loss: 0.16838938 Test Loss: 0.16373001\n",
      "Epoch: 97 Training Loss: 0.16817547 Test Loss: 0.1635121\n",
      "Epoch: 98 Training Loss: 0.16796613 Test Loss: 0.16329663\n",
      "Epoch: 99 Training Loss: 0.16775967 Test Loss: 0.16308475\n",
      "Epoch: 100 Training Loss: 0.16755603 Test Loss: 0.16287683\n",
      "Epoch: 101 Training Loss: 0.167354 Test Loss: 0.16267155\n",
      "Epoch: 102 Training Loss: 0.16715351 Test Loss: 0.16246845\n",
      "Epoch: 103 Training Loss: 0.16695653 Test Loss: 0.1622684\n",
      "Epoch: 104 Training Loss: 0.16676386 Test Loss: 0.16207221\n",
      "Epoch: 105 Training Loss: 0.1665757 Test Loss: 0.16187926\n",
      "Epoch: 106 Training Loss: 0.16639307 Test Loss: 0.16169338\n",
      "Epoch: 107 Training Loss: 0.16621353 Test Loss: 0.16151266\n",
      "Epoch: 108 Training Loss: 0.16603604 Test Loss: 0.1613359\n",
      "Epoch: 109 Training Loss: 0.1658592 Test Loss: 0.16115853\n",
      "Epoch: 110 Training Loss: 0.16568436 Test Loss: 0.160984\n",
      "Epoch: 111 Training Loss: 0.16551244 Test Loss: 0.16081326\n",
      "Epoch: 112 Training Loss: 0.16534308 Test Loss: 0.16064596\n",
      "Epoch: 113 Training Loss: 0.16517578 Test Loss: 0.16048072\n",
      "Epoch: 114 Training Loss: 0.16501041 Test Loss: 0.16031745\n",
      "Epoch: 115 Training Loss: 0.16484885 Test Loss: 0.1601582\n",
      "Epoch: 116 Training Loss: 0.16468938 Test Loss: 0.16000189\n",
      "Epoch: 117 Training Loss: 0.16453083 Test Loss: 0.1598472\n",
      "Epoch: 118 Training Loss: 0.16437432 Test Loss: 0.15969421\n",
      "Epoch: 119 Training Loss: 0.16422068 Test Loss: 0.15954427\n",
      "Epoch: 120 Training Loss: 0.16406842 Test Loss: 0.15939377\n",
      "Epoch: 121 Training Loss: 0.16391757 Test Loss: 0.15924445\n",
      "Epoch: 122 Training Loss: 0.16376728 Test Loss: 0.15909687\n",
      "Epoch: 123 Training Loss: 0.16361915 Test Loss: 0.15895052\n",
      "Epoch: 124 Training Loss: 0.16347462 Test Loss: 0.1588103\n",
      "Epoch: 125 Training Loss: 0.16333172 Test Loss: 0.15867226\n",
      "Epoch: 126 Training Loss: 0.1631905 Test Loss: 0.15853678\n",
      "Epoch: 127 Training Loss: 0.16305082 Test Loss: 0.15840207\n",
      "Epoch: 128 Training Loss: 0.16291308 Test Loss: 0.15826964\n",
      "Epoch: 129 Training Loss: 0.1627771 Test Loss: 0.15814\n",
      "Epoch: 130 Training Loss: 0.16264242 Test Loss: 0.15801196\n",
      "Epoch: 131 Training Loss: 0.16250902 Test Loss: 0.15788464\n",
      "Epoch: 132 Training Loss: 0.1623779 Test Loss: 0.15776077\n",
      "Epoch: 133 Training Loss: 0.16224831 Test Loss: 0.15763873\n",
      "Epoch: 134 Training Loss: 0.16212155 Test Loss: 0.15751794\n",
      "Epoch: 135 Training Loss: 0.1619966 Test Loss: 0.15739837\n",
      "Epoch: 136 Training Loss: 0.16187304 Test Loss: 0.15728076\n",
      "Epoch: 137 Training Loss: 0.16174985 Test Loss: 0.15716326\n",
      "Epoch: 138 Training Loss: 0.16162878 Test Loss: 0.15704869\n",
      "Epoch: 139 Training Loss: 0.16150798 Test Loss: 0.15693446\n",
      "Epoch: 140 Training Loss: 0.16138864 Test Loss: 0.15682049\n",
      "Epoch: 141 Training Loss: 0.16127072 Test Loss: 0.15670839\n",
      "Epoch: 142 Training Loss: 0.16115364 Test Loss: 0.15659676\n",
      "Epoch: 143 Training Loss: 0.16103765 Test Loss: 0.15648657\n",
      "Epoch: 144 Training Loss: 0.16092163 Test Loss: 0.15637572\n",
      "Epoch: 145 Training Loss: 0.16080725 Test Loss: 0.15626642\n",
      "Epoch: 146 Training Loss: 0.1606947 Test Loss: 0.15615991\n",
      "Epoch: 147 Training Loss: 0.16058402 Test Loss: 0.15605584\n"
     ]
    },
    {
     "name": "stdout",
     "output_type": "stream",
     "text": [
      "Epoch: 148 Training Loss: 0.16047549 Test Loss: 0.15595314\n",
      "Epoch: 149 Training Loss: 0.16036856 Test Loss: 0.15585324\n",
      "Epoch: 150 Training Loss: 0.16026227 Test Loss: 0.1557531\n",
      "Epoch: 151 Training Loss: 0.16015677 Test Loss: 0.155654\n",
      "Epoch: 152 Training Loss: 0.16005278 Test Loss: 0.15555586\n",
      "Epoch: 153 Training Loss: 0.1599503 Test Loss: 0.15545984\n",
      "Epoch: 154 Training Loss: 0.15984866 Test Loss: 0.15536588\n",
      "Epoch: 155 Training Loss: 0.15974814 Test Loss: 0.15527347\n",
      "Epoch: 156 Training Loss: 0.1596484 Test Loss: 0.15518188\n",
      "Epoch: 157 Training Loss: 0.1595502 Test Loss: 0.15509069\n",
      "Epoch: 158 Training Loss: 0.1594531 Test Loss: 0.15500128\n",
      "Epoch: 159 Training Loss: 0.15935607 Test Loss: 0.15491223\n",
      "Epoch: 160 Training Loss: 0.15925959 Test Loss: 0.15482435\n",
      "Epoch: 161 Training Loss: 0.1591641 Test Loss: 0.15473789\n",
      "Epoch: 162 Training Loss: 0.15906793 Test Loss: 0.15465176\n",
      "Epoch: 163 Training Loss: 0.15897271 Test Loss: 0.15456566\n",
      "Epoch: 164 Training Loss: 0.15887873 Test Loss: 0.15448077\n",
      "Epoch: 165 Training Loss: 0.1587863 Test Loss: 0.15439768\n",
      "Epoch: 166 Training Loss: 0.15869525 Test Loss: 0.15431552\n",
      "Epoch: 167 Training Loss: 0.15860489 Test Loss: 0.15423444\n",
      "Epoch: 168 Training Loss: 0.15851565 Test Loss: 0.15415487\n",
      "Epoch: 169 Training Loss: 0.15842718 Test Loss: 0.15407588\n",
      "Epoch: 170 Training Loss: 0.15833957 Test Loss: 0.1539975\n",
      "Epoch: 171 Training Loss: 0.15825409 Test Loss: 0.15392035\n",
      "Epoch: 172 Training Loss: 0.15816998 Test Loss: 0.15384406\n",
      "Epoch: 173 Training Loss: 0.15808664 Test Loss: 0.15376969\n",
      "Epoch: 174 Training Loss: 0.1580044 Test Loss: 0.15369695\n",
      "Epoch: 175 Training Loss: 0.15792286 Test Loss: 0.15362419\n",
      "Epoch: 176 Training Loss: 0.15784247 Test Loss: 0.15355179\n",
      "Epoch: 177 Training Loss: 0.15776269 Test Loss: 0.15348026\n",
      "Epoch: 178 Training Loss: 0.15768237 Test Loss: 0.15340826\n",
      "Epoch: 179 Training Loss: 0.15760215 Test Loss: 0.1533366\n",
      "Epoch: 180 Training Loss: 0.15752167 Test Loss: 0.1532648\n",
      "Epoch: 181 Training Loss: 0.15744221 Test Loss: 0.15319353\n",
      "Epoch: 182 Training Loss: 0.1573645 Test Loss: 0.15312392\n",
      "Epoch: 183 Training Loss: 0.1572878 Test Loss: 0.15305501\n",
      "Epoch: 184 Training Loss: 0.15721199 Test Loss: 0.1529873\n",
      "Epoch: 185 Training Loss: 0.15713641 Test Loss: 0.15291962\n",
      "Epoch: 186 Training Loss: 0.15706134 Test Loss: 0.15285149\n",
      "Epoch: 187 Training Loss: 0.15698844 Test Loss: 0.1527848\n",
      "Epoch: 188 Training Loss: 0.15691617 Test Loss: 0.15271805\n",
      "Epoch: 189 Training Loss: 0.15684433 Test Loss: 0.15265143\n",
      "Epoch: 190 Training Loss: 0.15677273 Test Loss: 0.1525853\n",
      "Epoch: 191 Training Loss: 0.15670101 Test Loss: 0.15251975\n",
      "Epoch: 192 Training Loss: 0.15662915 Test Loss: 0.15245399\n",
      "Epoch: 193 Training Loss: 0.15655802 Test Loss: 0.15238953\n",
      "Epoch: 194 Training Loss: 0.15648721 Test Loss: 0.15232573\n",
      "Epoch: 195 Training Loss: 0.15641598 Test Loss: 0.15226209\n",
      "Epoch: 196 Training Loss: 0.15634635 Test Loss: 0.15219967\n",
      "Epoch: 197 Training Loss: 0.1562772 Test Loss: 0.15213749\n",
      "Epoch: 198 Training Loss: 0.15620908 Test Loss: 0.15207581\n",
      "Epoch: 199 Training Loss: 0.15614128 Test Loss: 0.1520148\n",
      "Epoch: 200 Training Loss: 0.15607426 Test Loss: 0.15195294\n",
      "Epoch: 201 Training Loss: 0.15600726 Test Loss: 0.15189041\n",
      "Epoch: 202 Training Loss: 0.15594019 Test Loss: 0.15182643\n",
      "Epoch: 203 Training Loss: 0.15587384 Test Loss: 0.15176298\n",
      "Epoch: 204 Training Loss: 0.15580872 Test Loss: 0.15169989\n",
      "Epoch: 205 Training Loss: 0.15574439 Test Loss: 0.1516374\n",
      "Epoch: 206 Training Loss: 0.15568057 Test Loss: 0.15157548\n",
      "Epoch: 207 Training Loss: 0.15561761 Test Loss: 0.15151551\n",
      "Epoch: 208 Training Loss: 0.15555508 Test Loss: 0.1514563\n",
      "Epoch: 209 Training Loss: 0.15549295 Test Loss: 0.1513976\n",
      "Epoch: 210 Training Loss: 0.15543115 Test Loss: 0.15133944\n",
      "Epoch: 211 Training Loss: 0.15537006 Test Loss: 0.15128206\n",
      "Epoch: 212 Training Loss: 0.15530929 Test Loss: 0.15122467\n",
      "Epoch: 213 Training Loss: 0.1552497 Test Loss: 0.1511673\n",
      "Epoch: 214 Training Loss: 0.15519078 Test Loss: 0.1511113\n",
      "Epoch: 215 Training Loss: 0.15513293 Test Loss: 0.1510564\n",
      "Epoch: 216 Training Loss: 0.15507534 Test Loss: 0.15100153\n",
      "Epoch: 217 Training Loss: 0.15501809 Test Loss: 0.15094669\n",
      "Epoch: 218 Training Loss: 0.15496151 Test Loss: 0.15089254\n",
      "Epoch: 219 Training Loss: 0.15490565 Test Loss: 0.15083908\n",
      "Epoch: 220 Training Loss: 0.15485014 Test Loss: 0.1507863\n",
      "Epoch: 221 Training Loss: 0.15479514 Test Loss: 0.15073483\n",
      "Epoch: 222 Training Loss: 0.15474026 Test Loss: 0.15068424\n",
      "Epoch: 223 Training Loss: 0.15468621 Test Loss: 0.1506352\n",
      "Epoch: 224 Training Loss: 0.15463284 Test Loss: 0.15058595\n",
      "Epoch: 225 Training Loss: 0.1545801 Test Loss: 0.15053684\n",
      "Epoch: 226 Training Loss: 0.15452799 Test Loss: 0.15048808\n",
      "Epoch: 227 Training Loss: 0.1544774 Test Loss: 0.15044034\n",
      "Epoch: 228 Training Loss: 0.15442748 Test Loss: 0.15039304\n",
      "Epoch: 229 Training Loss: 0.15437768 Test Loss: 0.15034561\n",
      "Epoch: 230 Training Loss: 0.154328 Test Loss: 0.15029782\n",
      "Epoch: 231 Training Loss: 0.15427865 Test Loss: 0.15025017\n",
      "Epoch: 232 Training Loss: 0.15423007 Test Loss: 0.1502033\n",
      "Epoch: 233 Training Loss: 0.15418209 Test Loss: 0.15015687\n",
      "Epoch: 234 Training Loss: 0.15413485 Test Loss: 0.15011145\n",
      "Epoch: 235 Training Loss: 0.15408754 Test Loss: 0.15006553\n",
      "Epoch: 236 Training Loss: 0.15404074 Test Loss: 0.1500206\n",
      "Epoch: 237 Training Loss: 0.15399413 Test Loss: 0.14997663\n",
      "Epoch: 238 Training Loss: 0.15394765 Test Loss: 0.1499325\n",
      "Epoch: 239 Training Loss: 0.15390119 Test Loss: 0.14988855\n",
      "Epoch: 240 Training Loss: 0.15385537 Test Loss: 0.14984535\n",
      "Epoch: 241 Training Loss: 0.15380971 Test Loss: 0.14980197\n",
      "Epoch: 242 Training Loss: 0.15376455 Test Loss: 0.14975922\n",
      "Epoch: 243 Training Loss: 0.15371984 Test Loss: 0.14971742\n",
      "Epoch: 244 Training Loss: 0.15367554 Test Loss: 0.14967562\n",
      "Epoch: 245 Training Loss: 0.1536315 Test Loss: 0.14963475\n",
      "Epoch: 246 Training Loss: 0.1535874 Test Loss: 0.14959423\n",
      "Epoch: 247 Training Loss: 0.15354328 Test Loss: 0.14955348\n",
      "Epoch: 248 Training Loss: 0.15349911 Test Loss: 0.14951359\n",
      "Epoch: 249 Training Loss: 0.15345536 Test Loss: 0.14947364\n",
      "Epoch: 250 Training Loss: 0.1534118 Test Loss: 0.14943399\n",
      "Epoch: 251 Training Loss: 0.15336815 Test Loss: 0.14939462\n",
      "Epoch: 252 Training Loss: 0.15332477 Test Loss: 0.14935592\n",
      "Epoch: 253 Training Loss: 0.1532817 Test Loss: 0.14931738\n",
      "Epoch: 254 Training Loss: 0.15323867 Test Loss: 0.14927845\n",
      "Epoch: 255 Training Loss: 0.15319565 Test Loss: 0.14923933\n",
      "Epoch: 256 Training Loss: 0.15315339 Test Loss: 0.14920062\n",
      "Epoch: 257 Training Loss: 0.15311167 Test Loss: 0.14916223\n",
      "Epoch: 258 Training Loss: 0.15307006 Test Loss: 0.14912423\n",
      "Epoch: 259 Training Loss: 0.15302841 Test Loss: 0.14908616\n",
      "Epoch: 260 Training Loss: 0.15298627 Test Loss: 0.14904743\n",
      "Epoch: 261 Training Loss: 0.15294424 Test Loss: 0.14900866\n",
      "Epoch: 262 Training Loss: 0.15290263 Test Loss: 0.14897016\n",
      "Epoch: 263 Training Loss: 0.15286109 Test Loss: 0.14893164\n",
      "Epoch: 264 Training Loss: 0.15281987 Test Loss: 0.14889354\n",
      "Epoch: 265 Training Loss: 0.1527788 Test Loss: 0.14885584\n",
      "Epoch: 266 Training Loss: 0.1527381 Test Loss: 0.14881782\n",
      "Epoch: 267 Training Loss: 0.15269797 Test Loss: 0.14877988\n",
      "Epoch: 268 Training Loss: 0.15265855 Test Loss: 0.14874212\n",
      "Epoch: 269 Training Loss: 0.15261954 Test Loss: 0.1487049\n",
      "Epoch: 270 Training Loss: 0.15258044 Test Loss: 0.14866781\n",
      "Epoch: 271 Training Loss: 0.15254167 Test Loss: 0.14863053\n",
      "Epoch: 272 Training Loss: 0.15250306 Test Loss: 0.14859353\n",
      "Epoch: 273 Training Loss: 0.15246442 Test Loss: 0.1485559\n",
      "Epoch: 274 Training Loss: 0.15242623 Test Loss: 0.14851868\n",
      "Epoch: 275 Training Loss: 0.15238881 Test Loss: 0.14848278\n",
      "Epoch: 276 Training Loss: 0.15235226 Test Loss: 0.14844772\n",
      "Epoch: 277 Training Loss: 0.15231672 Test Loss: 0.14841336\n",
      "Epoch: 278 Training Loss: 0.15228201 Test Loss: 0.14838006\n",
      "Epoch: 279 Training Loss: 0.15224725 Test Loss: 0.1483465\n",
      "Epoch: 280 Training Loss: 0.15221258 Test Loss: 0.14831297\n",
      "Epoch: 281 Training Loss: 0.15217794 Test Loss: 0.14827974\n",
      "Epoch: 282 Training Loss: 0.15214333 Test Loss: 0.14824612\n",
      "Epoch: 283 Training Loss: 0.15210879 Test Loss: 0.14821228\n",
      "Epoch: 284 Training Loss: 0.15207481 Test Loss: 0.14817815\n",
      "Epoch: 285 Training Loss: 0.15204132 Test Loss: 0.1481445\n",
      "Epoch: 286 Training Loss: 0.15200835 Test Loss: 0.1481113\n",
      "Epoch: 287 Training Loss: 0.1519756 Test Loss: 0.14807835\n",
      "Epoch: 288 Training Loss: 0.15194318 Test Loss: 0.14804572\n",
      "Epoch: 289 Training Loss: 0.1519103 Test Loss: 0.14801289\n",
      "Epoch: 290 Training Loss: 0.15187787 Test Loss: 0.14798026\n",
      "Epoch: 291 Training Loss: 0.15184548 Test Loss: 0.14794764\n",
      "Epoch: 292 Training Loss: 0.15181327 Test Loss: 0.14791512\n",
      "Epoch: 293 Training Loss: 0.151782 Test Loss: 0.14788309\n",
      "Epoch: 294 Training Loss: 0.1517508 Test Loss: 0.14785162\n",
      "Epoch: 295 Training Loss: 0.15172035 Test Loss: 0.14782089\n",
      "Epoch: 296 Training Loss: 0.15169008 Test Loss: 0.14778988\n",
      "Epoch: 297 Training Loss: 0.15166 Test Loss: 0.14775887\n",
      "Epoch: 298 Training Loss: 0.15163013 Test Loss: 0.14772812\n",
      "Epoch: 299 Training Loss: 0.15160067 Test Loss: 0.14769787\n"
     ]
    },
    {
     "name": "stdout",
     "output_type": "stream",
     "text": [
      "Epoch: 300 Training Loss: 0.1515716 Test Loss: 0.14766799\n",
      "Epoch: 301 Training Loss: 0.15154271 Test Loss: 0.14763829\n",
      "Epoch: 302 Training Loss: 0.15151407 Test Loss: 0.14760901\n",
      "Epoch: 303 Training Loss: 0.15148547 Test Loss: 0.14758\n",
      "Epoch: 304 Training Loss: 0.15145734 Test Loss: 0.14755173\n",
      "Epoch: 305 Training Loss: 0.1514292 Test Loss: 0.1475236\n",
      "Epoch: 306 Training Loss: 0.151401 Test Loss: 0.14749509\n",
      "Epoch: 307 Training Loss: 0.15137304 Test Loss: 0.14746769\n",
      "Epoch: 308 Training Loss: 0.15134524 Test Loss: 0.14744043\n",
      "Epoch: 309 Training Loss: 0.15131772 Test Loss: 0.14741361\n",
      "Epoch: 310 Training Loss: 0.15129021 Test Loss: 0.14738698\n",
      "Epoch: 311 Training Loss: 0.15126275 Test Loss: 0.1473602\n",
      "Epoch: 312 Training Loss: 0.15123563 Test Loss: 0.14733359\n",
      "Epoch: 313 Training Loss: 0.1512086 Test Loss: 0.14730717\n",
      "Epoch: 314 Training Loss: 0.15118168 Test Loss: 0.14728124\n",
      "Epoch: 315 Training Loss: 0.15115507 Test Loss: 0.14725573\n",
      "Epoch: 316 Training Loss: 0.15112875 Test Loss: 0.14723067\n",
      "Epoch: 317 Training Loss: 0.15110248 Test Loss: 0.14720581\n",
      "Epoch: 318 Training Loss: 0.15107654 Test Loss: 0.14718091\n",
      "Epoch: 319 Training Loss: 0.15105069 Test Loss: 0.14715621\n",
      "Epoch: 320 Training Loss: 0.15102483 Test Loss: 0.14713159\n",
      "Epoch: 321 Training Loss: 0.15099925 Test Loss: 0.14710692\n",
      "Epoch: 322 Training Loss: 0.15097378 Test Loss: 0.14708255\n",
      "Epoch: 323 Training Loss: 0.15094815 Test Loss: 0.14705794\n",
      "Epoch: 324 Training Loss: 0.15092249 Test Loss: 0.14703329\n",
      "Epoch: 325 Training Loss: 0.15089694 Test Loss: 0.14700864\n",
      "Epoch: 326 Training Loss: 0.1508718 Test Loss: 0.14698508\n",
      "Epoch: 327 Training Loss: 0.15084681 Test Loss: 0.14696188\n",
      "Epoch: 328 Training Loss: 0.15082198 Test Loss: 0.14693882\n",
      "Epoch: 329 Training Loss: 0.1507973 Test Loss: 0.1469159\n",
      "Epoch: 330 Training Loss: 0.15077274 Test Loss: 0.14689307\n",
      "Epoch: 331 Training Loss: 0.15074848 Test Loss: 0.1468706\n",
      "Epoch: 332 Training Loss: 0.15072434 Test Loss: 0.1468484\n",
      "Epoch: 333 Training Loss: 0.15070027 Test Loss: 0.14682598\n",
      "Epoch: 334 Training Loss: 0.1506763 Test Loss: 0.14680348\n",
      "Epoch: 335 Training Loss: 0.15065259 Test Loss: 0.14678085\n",
      "Epoch: 336 Training Loss: 0.15062894 Test Loss: 0.14675835\n",
      "Epoch: 337 Training Loss: 0.150605 Test Loss: 0.14673588\n",
      "Epoch: 338 Training Loss: 0.15058129 Test Loss: 0.14671348\n",
      "Epoch: 339 Training Loss: 0.1505578 Test Loss: 0.14669135\n",
      "Epoch: 340 Training Loss: 0.15053448 Test Loss: 0.14666927\n",
      "Epoch: 341 Training Loss: 0.15051135 Test Loss: 0.14664738\n",
      "Epoch: 342 Training Loss: 0.1504881 Test Loss: 0.14662555\n",
      "Epoch: 343 Training Loss: 0.15046509 Test Loss: 0.14660385\n",
      "Epoch: 344 Training Loss: 0.15044208 Test Loss: 0.14658202\n",
      "Epoch: 345 Training Loss: 0.150419 Test Loss: 0.14656009\n",
      "Epoch: 346 Training Loss: 0.15039602 Test Loss: 0.14653827\n",
      "Epoch: 347 Training Loss: 0.15037307 Test Loss: 0.14651619\n",
      "Epoch: 348 Training Loss: 0.15035032 Test Loss: 0.14649452\n",
      "Epoch: 349 Training Loss: 0.15032785 Test Loss: 0.1464732\n",
      "Epoch: 350 Training Loss: 0.15030529 Test Loss: 0.14645216\n",
      "Epoch: 351 Training Loss: 0.15028287 Test Loss: 0.14643167\n",
      "Epoch: 352 Training Loss: 0.1502608 Test Loss: 0.14641151\n",
      "Epoch: 353 Training Loss: 0.15023893 Test Loss: 0.14639166\n",
      "Epoch: 354 Training Loss: 0.1502171 Test Loss: 0.14637192\n",
      "Epoch: 355 Training Loss: 0.15019523 Test Loss: 0.14635235\n",
      "Epoch: 356 Training Loss: 0.1501736 Test Loss: 0.14633283\n",
      "Epoch: 357 Training Loss: 0.15015201 Test Loss: 0.14631353\n",
      "Epoch: 358 Training Loss: 0.15013035 Test Loss: 0.14629436\n",
      "Epoch: 359 Training Loss: 0.1501088 Test Loss: 0.14627528\n",
      "Epoch: 360 Training Loss: 0.15008716 Test Loss: 0.1462561\n",
      "Epoch: 361 Training Loss: 0.15006554 Test Loss: 0.14623697\n",
      "Epoch: 362 Training Loss: 0.15004395 Test Loss: 0.14621776\n",
      "Epoch: 363 Training Loss: 0.15002258 Test Loss: 0.14619857\n",
      "Epoch: 364 Training Loss: 0.15000129 Test Loss: 0.14617941\n",
      "Epoch: 365 Training Loss: 0.14998029 Test Loss: 0.14616068\n",
      "Epoch: 366 Training Loss: 0.14995952 Test Loss: 0.14614224\n",
      "Epoch: 367 Training Loss: 0.14993888 Test Loss: 0.14612372\n",
      "Epoch: 368 Training Loss: 0.14991853 Test Loss: 0.14610532\n",
      "Epoch: 369 Training Loss: 0.14989804 Test Loss: 0.14608692\n",
      "Epoch: 370 Training Loss: 0.14987773 Test Loss: 0.14606857\n",
      "Epoch: 371 Training Loss: 0.14985745 Test Loss: 0.14605069\n",
      "Epoch: 372 Training Loss: 0.14983737 Test Loss: 0.14603296\n",
      "Epoch: 373 Training Loss: 0.14981751 Test Loss: 0.14601526\n",
      "Epoch: 374 Training Loss: 0.14979786 Test Loss: 0.14599755\n",
      "Epoch: 375 Training Loss: 0.14977844 Test Loss: 0.14598002\n",
      "Epoch: 376 Training Loss: 0.14975928 Test Loss: 0.14596255\n",
      "Epoch: 377 Training Loss: 0.14974011 Test Loss: 0.1459454\n",
      "Epoch: 378 Training Loss: 0.14972086 Test Loss: 0.14592855\n",
      "Epoch: 379 Training Loss: 0.14970168 Test Loss: 0.14591172\n",
      "Epoch: 380 Training Loss: 0.14968258 Test Loss: 0.14589499\n",
      "Epoch: 381 Training Loss: 0.14966354 Test Loss: 0.14587836\n",
      "Epoch: 382 Training Loss: 0.14964445 Test Loss: 0.14586161\n",
      "Epoch: 383 Training Loss: 0.14962558 Test Loss: 0.1458445\n",
      "Epoch: 384 Training Loss: 0.14960651 Test Loss: 0.1458274\n",
      "Epoch: 385 Training Loss: 0.14958733 Test Loss: 0.14581032\n",
      "Epoch: 386 Training Loss: 0.1495682 Test Loss: 0.14579348\n",
      "Epoch: 387 Training Loss: 0.14954923 Test Loss: 0.1457767\n",
      "Epoch: 388 Training Loss: 0.14953046 Test Loss: 0.1457601\n",
      "Epoch: 389 Training Loss: 0.14951198 Test Loss: 0.14574356\n",
      "Epoch: 390 Training Loss: 0.14949347 Test Loss: 0.14572708\n",
      "Epoch: 391 Training Loss: 0.14947498 Test Loss: 0.14571063\n",
      "Epoch: 392 Training Loss: 0.14945666 Test Loss: 0.14569421\n",
      "Epoch: 393 Training Loss: 0.1494384 Test Loss: 0.14567786\n",
      "Epoch: 394 Training Loss: 0.14942013 Test Loss: 0.14566168\n",
      "Epoch: 395 Training Loss: 0.14940207 Test Loss: 0.14564566\n",
      "Epoch: 396 Training Loss: 0.14938411 Test Loss: 0.14562961\n",
      "Epoch: 397 Training Loss: 0.14936621 Test Loss: 0.14561355\n",
      "Epoch: 398 Training Loss: 0.14934869 Test Loss: 0.14559785\n",
      "Epoch: 399 Training Loss: 0.14933118 Test Loss: 0.14558224\n",
      "Epoch: 400 Training Loss: 0.14931369 Test Loss: 0.14556661\n",
      "Epoch: 401 Training Loss: 0.14929616 Test Loss: 0.14555126\n",
      "Epoch: 402 Training Loss: 0.14927858 Test Loss: 0.14553575\n",
      "Epoch: 403 Training Loss: 0.14926091 Test Loss: 0.14552043\n",
      "Epoch: 404 Training Loss: 0.14924307 Test Loss: 0.14550523\n",
      "Epoch: 405 Training Loss: 0.14922538 Test Loss: 0.14549\n",
      "Epoch: 406 Training Loss: 0.1492078 Test Loss: 0.14547478\n",
      "Epoch: 407 Training Loss: 0.14919037 Test Loss: 0.14545958\n",
      "Epoch: 408 Training Loss: 0.14917323 Test Loss: 0.14544459\n",
      "Epoch: 409 Training Loss: 0.14915603 Test Loss: 0.14542954\n",
      "Epoch: 410 Training Loss: 0.14913891 Test Loss: 0.14541465\n",
      "Epoch: 411 Training Loss: 0.14912182 Test Loss: 0.14539972\n",
      "Epoch: 412 Training Loss: 0.14910477 Test Loss: 0.14538488\n",
      "Epoch: 413 Training Loss: 0.1490878 Test Loss: 0.14537019\n",
      "Epoch: 414 Training Loss: 0.14907095 Test Loss: 0.1453556\n",
      "Epoch: 415 Training Loss: 0.1490544 Test Loss: 0.14534147\n",
      "Epoch: 416 Training Loss: 0.14903787 Test Loss: 0.1453274\n",
      "Epoch: 417 Training Loss: 0.1490214 Test Loss: 0.14531331\n",
      "Epoch: 418 Training Loss: 0.14900507 Test Loss: 0.14529927\n",
      "Epoch: 419 Training Loss: 0.1489885 Test Loss: 0.14528519\n",
      "Epoch: 420 Training Loss: 0.14897214 Test Loss: 0.14527094\n",
      "Epoch: 421 Training Loss: 0.14895585 Test Loss: 0.14525683\n",
      "Epoch: 422 Training Loss: 0.14893973 Test Loss: 0.14524266\n",
      "Epoch: 423 Training Loss: 0.1489237 Test Loss: 0.14522846\n",
      "Epoch: 424 Training Loss: 0.14890777 Test Loss: 0.14521451\n",
      "Epoch: 425 Training Loss: 0.14889206 Test Loss: 0.14520058\n",
      "Epoch: 426 Training Loss: 0.14887646 Test Loss: 0.14518681\n",
      "Epoch: 427 Training Loss: 0.14886096 Test Loss: 0.14517306\n",
      "Epoch: 428 Training Loss: 0.14884552 Test Loss: 0.14515927\n",
      "Epoch: 429 Training Loss: 0.14882989 Test Loss: 0.14514543\n",
      "Epoch: 430 Training Loss: 0.1488141 Test Loss: 0.14513147\n",
      "Epoch: 431 Training Loss: 0.14879835 Test Loss: 0.14511746\n",
      "Epoch: 432 Training Loss: 0.14878267 Test Loss: 0.14510345\n",
      "Epoch: 433 Training Loss: 0.14876704 Test Loss: 0.14508966\n",
      "Epoch: 434 Training Loss: 0.14875168 Test Loss: 0.14507596\n",
      "Epoch: 435 Training Loss: 0.14873645 Test Loss: 0.14506237\n",
      "Epoch: 436 Training Loss: 0.1487211 Test Loss: 0.14504877\n",
      "Epoch: 437 Training Loss: 0.148706 Test Loss: 0.14503534\n",
      "Epoch: 438 Training Loss: 0.14869122 Test Loss: 0.14502198\n",
      "Epoch: 439 Training Loss: 0.14867654 Test Loss: 0.14500873\n",
      "Epoch: 440 Training Loss: 0.14866184 Test Loss: 0.14499554\n",
      "Epoch: 441 Training Loss: 0.1486473 Test Loss: 0.14498253\n",
      "Epoch: 442 Training Loss: 0.14863269 Test Loss: 0.14496942\n",
      "Epoch: 443 Training Loss: 0.14861827 Test Loss: 0.14495634\n",
      "Epoch: 444 Training Loss: 0.14860387 Test Loss: 0.14494325\n",
      "Epoch: 445 Training Loss: 0.14858963 Test Loss: 0.14493024\n",
      "Epoch: 446 Training Loss: 0.14857544 Test Loss: 0.14491747\n",
      "Epoch: 447 Training Loss: 0.14856139 Test Loss: 0.14490482\n",
      "Epoch: 448 Training Loss: 0.14854738 Test Loss: 0.14489213\n",
      "Epoch: 449 Training Loss: 0.14853369 Test Loss: 0.14487961\n",
      "Epoch: 450 Training Loss: 0.14852007 Test Loss: 0.14486718\n",
      "Epoch: 451 Training Loss: 0.14850655 Test Loss: 0.14485478\n",
      "Epoch: 452 Training Loss: 0.14849311 Test Loss: 0.1448425\n",
      "Epoch: 453 Training Loss: 0.1484798 Test Loss: 0.1448303\n",
      "Epoch: 454 Training Loss: 0.14846647 Test Loss: 0.14481822\n",
      "Epoch: 455 Training Loss: 0.14845324 Test Loss: 0.14480616\n"
     ]
    },
    {
     "name": "stdout",
     "output_type": "stream",
     "text": [
      "Epoch: 456 Training Loss: 0.14844027 Test Loss: 0.14479423\n",
      "Epoch: 457 Training Loss: 0.14842737 Test Loss: 0.14478242\n",
      "Epoch: 458 Training Loss: 0.14841437 Test Loss: 0.14477053\n",
      "Epoch: 459 Training Loss: 0.14840145 Test Loss: 0.14475861\n",
      "Epoch: 460 Training Loss: 0.14838846 Test Loss: 0.14474668\n",
      "Epoch: 461 Training Loss: 0.14837568 Test Loss: 0.14473471\n",
      "Epoch: 462 Training Loss: 0.14836302 Test Loss: 0.14472282\n",
      "Epoch: 463 Training Loss: 0.14835034 Test Loss: 0.14471109\n",
      "Epoch: 464 Training Loss: 0.14833775 Test Loss: 0.14469951\n",
      "Epoch: 465 Training Loss: 0.14832518 Test Loss: 0.14468789\n",
      "Epoch: 466 Training Loss: 0.14831266 Test Loss: 0.14467639\n",
      "Epoch: 467 Training Loss: 0.14830013 Test Loss: 0.14466488\n",
      "Epoch: 468 Training Loss: 0.14828779 Test Loss: 0.14465341\n",
      "Epoch: 469 Training Loss: 0.14827543 Test Loss: 0.1446419\n",
      "Epoch: 470 Training Loss: 0.14826304 Test Loss: 0.14463057\n",
      "Epoch: 471 Training Loss: 0.1482508 Test Loss: 0.14461933\n",
      "Epoch: 472 Training Loss: 0.1482385 Test Loss: 0.14460827\n",
      "Epoch: 473 Training Loss: 0.14822629 Test Loss: 0.14459713\n",
      "Epoch: 474 Training Loss: 0.14821412 Test Loss: 0.14458585\n",
      "Epoch: 475 Training Loss: 0.14820209 Test Loss: 0.1445746\n",
      "Epoch: 476 Training Loss: 0.14819013 Test Loss: 0.14456351\n",
      "Epoch: 477 Training Loss: 0.14817823 Test Loss: 0.14455236\n",
      "Epoch: 478 Training Loss: 0.14816636 Test Loss: 0.14454134\n",
      "Epoch: 479 Training Loss: 0.1481544 Test Loss: 0.1445302\n",
      "Epoch: 480 Training Loss: 0.14814252 Test Loss: 0.14451924\n",
      "Epoch: 481 Training Loss: 0.14813067 Test Loss: 0.14450827\n",
      "Epoch: 482 Training Loss: 0.14811875 Test Loss: 0.14449728\n",
      "Epoch: 483 Training Loss: 0.14810693 Test Loss: 0.14448638\n",
      "Epoch: 484 Training Loss: 0.14809518 Test Loss: 0.14447545\n",
      "Epoch: 485 Training Loss: 0.14808346 Test Loss: 0.14446457\n",
      "Epoch: 486 Training Loss: 0.14807174 Test Loss: 0.14445357\n",
      "Epoch: 487 Training Loss: 0.1480601 Test Loss: 0.1444426\n",
      "Epoch: 488 Training Loss: 0.14804858 Test Loss: 0.1444317\n",
      "Epoch: 489 Training Loss: 0.1480371 Test Loss: 0.14442083\n",
      "Epoch: 490 Training Loss: 0.1480255 Test Loss: 0.14441\n",
      "Epoch: 491 Training Loss: 0.14801401 Test Loss: 0.14439912\n",
      "Epoch: 492 Training Loss: 0.14800243 Test Loss: 0.14438829\n",
      "Epoch: 493 Training Loss: 0.14799103 Test Loss: 0.14437759\n",
      "Epoch: 494 Training Loss: 0.1479797 Test Loss: 0.14436692\n",
      "Epoch: 495 Training Loss: 0.14796858 Test Loss: 0.14435631\n",
      "Epoch: 496 Training Loss: 0.14795746 Test Loss: 0.14434572\n",
      "Epoch: 497 Training Loss: 0.1479463 Test Loss: 0.14433515\n",
      "Epoch: 498 Training Loss: 0.14793515 Test Loss: 0.14432462\n",
      "Epoch: 499 Training Loss: 0.14792408 Test Loss: 0.14431427\n",
      "Epoch: 500 Training Loss: 0.14791314 Test Loss: 0.14430389\n",
      "Epoch: 501 Training Loss: 0.1479024 Test Loss: 0.14429373\n",
      "Epoch: 502 Training Loss: 0.14789163 Test Loss: 0.14428353\n",
      "Epoch: 503 Training Loss: 0.14788105 Test Loss: 0.1442734\n",
      "Epoch: 504 Training Loss: 0.14787054 Test Loss: 0.14426337\n",
      "Epoch: 505 Training Loss: 0.14786011 Test Loss: 0.14425328\n",
      "Epoch: 506 Training Loss: 0.14784965 Test Loss: 0.14424327\n",
      "Epoch: 507 Training Loss: 0.14783919 Test Loss: 0.14423327\n",
      "Epoch: 508 Training Loss: 0.14782877 Test Loss: 0.14422333\n",
      "Epoch: 509 Training Loss: 0.14781834 Test Loss: 0.1442134\n",
      "Epoch: 510 Training Loss: 0.14780793 Test Loss: 0.14420354\n",
      "Epoch: 511 Training Loss: 0.1477975 Test Loss: 0.14419359\n",
      "Epoch: 512 Training Loss: 0.14778715 Test Loss: 0.14418368\n",
      "Epoch: 513 Training Loss: 0.14777678 Test Loss: 0.14417383\n",
      "Epoch: 514 Training Loss: 0.14776652 Test Loss: 0.14416403\n",
      "Epoch: 515 Training Loss: 0.14775635 Test Loss: 0.14415441\n",
      "Epoch: 516 Training Loss: 0.1477463 Test Loss: 0.14414494\n",
      "Epoch: 517 Training Loss: 0.14773624 Test Loss: 0.14413543\n",
      "Epoch: 518 Training Loss: 0.14772627 Test Loss: 0.14412595\n",
      "Epoch: 519 Training Loss: 0.14771628 Test Loss: 0.14411649\n",
      "Epoch: 520 Training Loss: 0.14770618 Test Loss: 0.14410707\n",
      "Epoch: 521 Training Loss: 0.14769617 Test Loss: 0.14409763\n",
      "Epoch: 522 Training Loss: 0.14768612 Test Loss: 0.14408816\n",
      "Epoch: 523 Training Loss: 0.14767614 Test Loss: 0.14407876\n",
      "Epoch: 524 Training Loss: 0.14766619 Test Loss: 0.14406934\n",
      "Epoch: 525 Training Loss: 0.14765637 Test Loss: 0.14405985\n",
      "Epoch: 526 Training Loss: 0.1476466 Test Loss: 0.1440504\n",
      "Epoch: 527 Training Loss: 0.1476369 Test Loss: 0.14404094\n",
      "Epoch: 528 Training Loss: 0.14762723 Test Loss: 0.14403155\n",
      "Epoch: 529 Training Loss: 0.14761761 Test Loss: 0.14402223\n",
      "Epoch: 530 Training Loss: 0.14760804 Test Loss: 0.14401294\n",
      "Epoch: 531 Training Loss: 0.14759843 Test Loss: 0.14400366\n",
      "Epoch: 532 Training Loss: 0.14758877 Test Loss: 0.14399432\n",
      "Epoch: 533 Training Loss: 0.14757915 Test Loss: 0.14398505\n",
      "Epoch: 534 Training Loss: 0.14756948 Test Loss: 0.14397572\n",
      "Epoch: 535 Training Loss: 0.14755994 Test Loss: 0.14396638\n",
      "Epoch: 536 Training Loss: 0.14755036 Test Loss: 0.14395711\n",
      "Epoch: 537 Training Loss: 0.14754078 Test Loss: 0.14394781\n",
      "Epoch: 538 Training Loss: 0.14753123 Test Loss: 0.14393862\n",
      "Epoch: 539 Training Loss: 0.14752182 Test Loss: 0.14392954\n",
      "Epoch: 540 Training Loss: 0.1475125 Test Loss: 0.1439204\n",
      "Epoch: 541 Training Loss: 0.14750336 Test Loss: 0.14391142\n",
      "Epoch: 542 Training Loss: 0.14749426 Test Loss: 0.1439025\n",
      "Epoch: 543 Training Loss: 0.1474851 Test Loss: 0.14389364\n",
      "Epoch: 544 Training Loss: 0.14747608 Test Loss: 0.14388469\n",
      "Epoch: 545 Training Loss: 0.14746708 Test Loss: 0.1438758\n",
      "Epoch: 546 Training Loss: 0.1474581 Test Loss: 0.14386685\n",
      "Epoch: 547 Training Loss: 0.14744915 Test Loss: 0.14385809\n",
      "Epoch: 548 Training Loss: 0.14744021 Test Loss: 0.14384912\n",
      "Epoch: 549 Training Loss: 0.14743134 Test Loss: 0.14384006\n",
      "Epoch: 550 Training Loss: 0.14742252 Test Loss: 0.14383118\n",
      "Epoch: 551 Training Loss: 0.14741367 Test Loss: 0.14382233\n",
      "Epoch: 552 Training Loss: 0.14740485 Test Loss: 0.14381342\n",
      "Epoch: 553 Training Loss: 0.14739597 Test Loss: 0.14380455\n",
      "Epoch: 554 Training Loss: 0.14738724 Test Loss: 0.1437957\n",
      "Epoch: 555 Training Loss: 0.1473785 Test Loss: 0.14378692\n",
      "Epoch: 556 Training Loss: 0.14736982 Test Loss: 0.14377809\n",
      "Epoch: 557 Training Loss: 0.14736114 Test Loss: 0.14376928\n",
      "Epoch: 558 Training Loss: 0.14735252 Test Loss: 0.1437605\n",
      "Epoch: 559 Training Loss: 0.14734392 Test Loss: 0.1437518\n",
      "Epoch: 560 Training Loss: 0.14733543 Test Loss: 0.1437431\n",
      "Epoch: 561 Training Loss: 0.14732698 Test Loss: 0.14373454\n",
      "Epoch: 562 Training Loss: 0.1473185 Test Loss: 0.14372593\n",
      "Epoch: 563 Training Loss: 0.14731011 Test Loss: 0.14371732\n",
      "Epoch: 564 Training Loss: 0.14730166 Test Loss: 0.14370874\n",
      "Epoch: 565 Training Loss: 0.14729324 Test Loss: 0.14370024\n",
      "Epoch: 566 Training Loss: 0.1472849 Test Loss: 0.14369166\n",
      "Epoch: 567 Training Loss: 0.14727658 Test Loss: 0.14368309\n",
      "Epoch: 568 Training Loss: 0.14726828 Test Loss: 0.1436746\n",
      "Epoch: 569 Training Loss: 0.14725998 Test Loss: 0.143666\n",
      "Epoch: 570 Training Loss: 0.14725175 Test Loss: 0.1436575\n",
      "Epoch: 571 Training Loss: 0.14724353 Test Loss: 0.14364895\n",
      "Epoch: 572 Training Loss: 0.14723532 Test Loss: 0.1436405\n",
      "Epoch: 573 Training Loss: 0.1472272 Test Loss: 0.14363205\n",
      "Epoch: 574 Training Loss: 0.14721903 Test Loss: 0.14362355\n",
      "Epoch: 575 Training Loss: 0.14721085 Test Loss: 0.14361502\n",
      "Epoch: 576 Training Loss: 0.14720273 Test Loss: 0.14360657\n",
      "Epoch: 577 Training Loss: 0.14719464 Test Loss: 0.14359805\n",
      "Epoch: 578 Training Loss: 0.14718658 Test Loss: 0.14358965\n",
      "Epoch: 579 Training Loss: 0.14717853 Test Loss: 0.14358127\n",
      "Epoch: 580 Training Loss: 0.14717047 Test Loss: 0.14357288\n",
      "Epoch: 581 Training Loss: 0.14716245 Test Loss: 0.1435645\n",
      "Epoch: 582 Training Loss: 0.14715442 Test Loss: 0.14355615\n",
      "Epoch: 583 Training Loss: 0.14714643 Test Loss: 0.14354788\n",
      "Epoch: 584 Training Loss: 0.1471384 Test Loss: 0.14353964\n",
      "Epoch: 585 Training Loss: 0.14713037 Test Loss: 0.14353143\n",
      "Epoch: 586 Training Loss: 0.14712243 Test Loss: 0.14352323\n",
      "Epoch: 587 Training Loss: 0.1471145 Test Loss: 0.14351502\n",
      "Epoch: 588 Training Loss: 0.14710668 Test Loss: 0.14350696\n",
      "Epoch: 589 Training Loss: 0.14709878 Test Loss: 0.14349894\n",
      "Epoch: 590 Training Loss: 0.147091 Test Loss: 0.14349091\n",
      "Epoch: 591 Training Loss: 0.14708318 Test Loss: 0.14348288\n",
      "Epoch: 592 Training Loss: 0.14707538 Test Loss: 0.14347488\n",
      "Epoch: 593 Training Loss: 0.14706753 Test Loss: 0.14346689\n",
      "Epoch: 594 Training Loss: 0.14705978 Test Loss: 0.14345895\n",
      "Epoch: 595 Training Loss: 0.147052 Test Loss: 0.14345105\n",
      "Epoch: 596 Training Loss: 0.14704427 Test Loss: 0.14344308\n",
      "Epoch: 597 Training Loss: 0.14703651 Test Loss: 0.14343514\n",
      "Epoch: 598 Training Loss: 0.14702876 Test Loss: 0.14342722\n",
      "Epoch: 599 Training Loss: 0.14702109 Test Loss: 0.14341934\n",
      "Epoch: 600 Training Loss: 0.14701334 Test Loss: 0.14341147\n",
      "Epoch: 601 Training Loss: 0.14700556 Test Loss: 0.14340356\n",
      "Epoch: 602 Training Loss: 0.14699787 Test Loss: 0.14339578\n",
      "Epoch: 603 Training Loss: 0.14699024 Test Loss: 0.14338797\n",
      "Epoch: 604 Training Loss: 0.14698255 Test Loss: 0.14338022\n",
      "Epoch: 605 Training Loss: 0.14697495 Test Loss: 0.14337243\n",
      "Epoch: 606 Training Loss: 0.1469673 Test Loss: 0.14336464\n",
      "Epoch: 607 Training Loss: 0.14695963 Test Loss: 0.14335687\n",
      "Epoch: 608 Training Loss: 0.14695196 Test Loss: 0.14334907\n",
      "Epoch: 609 Training Loss: 0.14694427 Test Loss: 0.14334126\n"
     ]
    },
    {
     "name": "stdout",
     "output_type": "stream",
     "text": [
      "Epoch: 610 Training Loss: 0.14693663 Test Loss: 0.14333352\n",
      "Epoch: 611 Training Loss: 0.14692897 Test Loss: 0.14332584\n",
      "Epoch: 612 Training Loss: 0.14692141 Test Loss: 0.14331807\n",
      "Epoch: 613 Training Loss: 0.14691386 Test Loss: 0.14331034\n",
      "Epoch: 614 Training Loss: 0.1469063 Test Loss: 0.14330271\n",
      "Epoch: 615 Training Loss: 0.14689878 Test Loss: 0.14329508\n",
      "Epoch: 616 Training Loss: 0.14689128 Test Loss: 0.14328754\n",
      "Epoch: 617 Training Loss: 0.14688382 Test Loss: 0.14328007\n",
      "Epoch: 618 Training Loss: 0.14687632 Test Loss: 0.14327262\n",
      "Epoch: 619 Training Loss: 0.14686881 Test Loss: 0.14326516\n",
      "Epoch: 620 Training Loss: 0.1468613 Test Loss: 0.14325759\n",
      "Epoch: 621 Training Loss: 0.14685374 Test Loss: 0.14324994\n",
      "Epoch: 622 Training Loss: 0.1468463 Test Loss: 0.1432424\n",
      "Epoch: 623 Training Loss: 0.1468389 Test Loss: 0.14323486\n",
      "Epoch: 624 Training Loss: 0.14683148 Test Loss: 0.14322744\n",
      "Epoch: 625 Training Loss: 0.14682409 Test Loss: 0.14321998\n",
      "Epoch: 626 Training Loss: 0.14681673 Test Loss: 0.1432125\n",
      "Epoch: 627 Training Loss: 0.14680941 Test Loss: 0.1432051\n",
      "Epoch: 628 Training Loss: 0.14680198 Test Loss: 0.14319755\n",
      "Epoch: 629 Training Loss: 0.14679465 Test Loss: 0.14319003\n",
      "Epoch: 630 Training Loss: 0.14678732 Test Loss: 0.14318262\n",
      "Epoch: 631 Training Loss: 0.14677997 Test Loss: 0.14317511\n",
      "Epoch: 632 Training Loss: 0.14677262 Test Loss: 0.14316778\n",
      "Epoch: 633 Training Loss: 0.14676529 Test Loss: 0.14316052\n",
      "Epoch: 634 Training Loss: 0.14675796 Test Loss: 0.14315327\n",
      "Epoch: 635 Training Loss: 0.14675066 Test Loss: 0.143146\n",
      "Epoch: 636 Training Loss: 0.1467434 Test Loss: 0.14313874\n",
      "Epoch: 637 Training Loss: 0.14673613 Test Loss: 0.14313154\n",
      "Epoch: 638 Training Loss: 0.14672889 Test Loss: 0.14312436\n",
      "Epoch: 639 Training Loss: 0.14672174 Test Loss: 0.14311719\n",
      "Epoch: 640 Training Loss: 0.1467146 Test Loss: 0.14311005\n",
      "Epoch: 641 Training Loss: 0.14670746 Test Loss: 0.143103\n",
      "Epoch: 642 Training Loss: 0.1467003 Test Loss: 0.14309585\n",
      "Epoch: 643 Training Loss: 0.14669321 Test Loss: 0.14308879\n",
      "Epoch: 644 Training Loss: 0.14668612 Test Loss: 0.14308181\n",
      "Epoch: 645 Training Loss: 0.14667907 Test Loss: 0.14307486\n",
      "Epoch: 646 Training Loss: 0.14667203 Test Loss: 0.14306799\n",
      "Epoch: 647 Training Loss: 0.14666498 Test Loss: 0.14306113\n",
      "Epoch: 648 Training Loss: 0.14665797 Test Loss: 0.14305429\n",
      "Epoch: 649 Training Loss: 0.14665097 Test Loss: 0.14304745\n",
      "Epoch: 650 Training Loss: 0.14664398 Test Loss: 0.14304061\n",
      "Epoch: 651 Training Loss: 0.14663705 Test Loss: 0.14303379\n",
      "Epoch: 652 Training Loss: 0.14663018 Test Loss: 0.14302698\n",
      "Epoch: 653 Training Loss: 0.14662322 Test Loss: 0.1430202\n",
      "Epoch: 654 Training Loss: 0.1466164 Test Loss: 0.1430134\n",
      "Epoch: 655 Training Loss: 0.1466095 Test Loss: 0.14300667\n",
      "Epoch: 656 Training Loss: 0.1466026 Test Loss: 0.14299983\n",
      "Epoch: 657 Training Loss: 0.14659576 Test Loss: 0.14299308\n",
      "Epoch: 658 Training Loss: 0.14658901 Test Loss: 0.14298633\n",
      "Epoch: 659 Training Loss: 0.14658217 Test Loss: 0.1429796\n",
      "Epoch: 660 Training Loss: 0.14657533 Test Loss: 0.1429729\n",
      "Epoch: 661 Training Loss: 0.1465685 Test Loss: 0.14296615\n",
      "Epoch: 662 Training Loss: 0.14656189 Test Loss: 0.14295948\n",
      "Epoch: 663 Training Loss: 0.14655519 Test Loss: 0.14295281\n",
      "Epoch: 664 Training Loss: 0.14654846 Test Loss: 0.14294617\n",
      "Epoch: 665 Training Loss: 0.14654177 Test Loss: 0.14293958\n",
      "Epoch: 666 Training Loss: 0.14653516 Test Loss: 0.14293301\n",
      "Epoch: 667 Training Loss: 0.14652845 Test Loss: 0.14292644\n",
      "Epoch: 668 Training Loss: 0.14652188 Test Loss: 0.14291988\n",
      "Epoch: 669 Training Loss: 0.14651524 Test Loss: 0.14291327\n",
      "Epoch: 670 Training Loss: 0.1465086 Test Loss: 0.14290674\n",
      "Epoch: 671 Training Loss: 0.14650199 Test Loss: 0.14290011\n",
      "Epoch: 672 Training Loss: 0.14649542 Test Loss: 0.14289358\n",
      "Epoch: 673 Training Loss: 0.14648883 Test Loss: 0.14288715\n",
      "Epoch: 674 Training Loss: 0.14648221 Test Loss: 0.14288056\n",
      "Epoch: 675 Training Loss: 0.14647563 Test Loss: 0.14287399\n",
      "Epoch: 676 Training Loss: 0.14646903 Test Loss: 0.14286746\n",
      "Epoch: 677 Training Loss: 0.14646253 Test Loss: 0.142861\n",
      "Epoch: 678 Training Loss: 0.14645603 Test Loss: 0.14285456\n",
      "Epoch: 679 Training Loss: 0.14644946 Test Loss: 0.14284803\n",
      "Epoch: 680 Training Loss: 0.14644295 Test Loss: 0.14284144\n",
      "Epoch: 681 Training Loss: 0.14643647 Test Loss: 0.14283499\n",
      "Epoch: 682 Training Loss: 0.14642996 Test Loss: 0.14282846\n",
      "Epoch: 683 Training Loss: 0.14642352 Test Loss: 0.14282204\n",
      "Epoch: 684 Training Loss: 0.14641707 Test Loss: 0.1428156\n",
      "Epoch: 685 Training Loss: 0.14641067 Test Loss: 0.14280917\n",
      "Epoch: 686 Training Loss: 0.14640433 Test Loss: 0.14280279\n",
      "Epoch: 687 Training Loss: 0.14639792 Test Loss: 0.14279638\n",
      "Epoch: 688 Training Loss: 0.14639148 Test Loss: 0.14279\n",
      "Epoch: 689 Training Loss: 0.1463851 Test Loss: 0.14278357\n",
      "Epoch: 690 Training Loss: 0.1463787 Test Loss: 0.14277732\n",
      "Epoch: 691 Training Loss: 0.14637232 Test Loss: 0.1427711\n",
      "Epoch: 692 Training Loss: 0.14636591 Test Loss: 0.1427648\n",
      "Epoch: 693 Training Loss: 0.14635947 Test Loss: 0.14275853\n",
      "Epoch: 694 Training Loss: 0.14635311 Test Loss: 0.1427523\n",
      "Epoch: 695 Training Loss: 0.14634669 Test Loss: 0.14274606\n",
      "Epoch: 696 Training Loss: 0.1463404 Test Loss: 0.14273985\n",
      "Epoch: 697 Training Loss: 0.14633408 Test Loss: 0.14273368\n",
      "Epoch: 698 Training Loss: 0.1463278 Test Loss: 0.14272751\n",
      "Epoch: 699 Training Loss: 0.14632143 Test Loss: 0.14272138\n",
      "Epoch: 700 Training Loss: 0.1463151 Test Loss: 0.14271526\n",
      "Epoch: 701 Training Loss: 0.14630878 Test Loss: 0.14270914\n",
      "Epoch: 702 Training Loss: 0.14630252 Test Loss: 0.14270297\n",
      "Epoch: 703 Training Loss: 0.14629614 Test Loss: 0.14269693\n",
      "Epoch: 704 Training Loss: 0.14628993 Test Loss: 0.14269091\n",
      "Epoch: 705 Training Loss: 0.14628364 Test Loss: 0.14268497\n",
      "Epoch: 706 Training Loss: 0.14627744 Test Loss: 0.14267899\n",
      "Epoch: 707 Training Loss: 0.14627118 Test Loss: 0.14267303\n",
      "Epoch: 708 Training Loss: 0.14626496 Test Loss: 0.14266708\n",
      "Epoch: 709 Training Loss: 0.14625877 Test Loss: 0.14266117\n",
      "Epoch: 710 Training Loss: 0.14625266 Test Loss: 0.14265536\n",
      "Epoch: 711 Training Loss: 0.14624651 Test Loss: 0.14264958\n",
      "Epoch: 712 Training Loss: 0.14624041 Test Loss: 0.14264366\n",
      "Epoch: 713 Training Loss: 0.14623442 Test Loss: 0.14263791\n",
      "Epoch: 714 Training Loss: 0.14622831 Test Loss: 0.14263208\n",
      "Epoch: 715 Training Loss: 0.14622238 Test Loss: 0.1426263\n",
      "Epoch: 716 Training Loss: 0.1462163 Test Loss: 0.14262052\n",
      "Epoch: 717 Training Loss: 0.14621037 Test Loss: 0.14261478\n",
      "Epoch: 718 Training Loss: 0.14620441 Test Loss: 0.14260903\n",
      "Epoch: 719 Training Loss: 0.14619838 Test Loss: 0.14260328\n",
      "Epoch: 720 Training Loss: 0.14619245 Test Loss: 0.14259759\n",
      "Epoch: 721 Training Loss: 0.14618644 Test Loss: 0.14259186\n",
      "Epoch: 722 Training Loss: 0.14618051 Test Loss: 0.14258622\n",
      "Epoch: 723 Training Loss: 0.14617455 Test Loss: 0.1425806\n",
      "Epoch: 724 Training Loss: 0.1461686 Test Loss: 0.14257489\n",
      "Epoch: 725 Training Loss: 0.14616266 Test Loss: 0.1425693\n",
      "Epoch: 726 Training Loss: 0.1461567 Test Loss: 0.14256363\n",
      "Epoch: 727 Training Loss: 0.14615077 Test Loss: 0.14255801\n",
      "Epoch: 728 Training Loss: 0.14614478 Test Loss: 0.14255244\n",
      "Epoch: 729 Training Loss: 0.1461389 Test Loss: 0.14254682\n",
      "Epoch: 730 Training Loss: 0.14613299 Test Loss: 0.14254111\n",
      "Epoch: 731 Training Loss: 0.14612716 Test Loss: 0.14253552\n",
      "Epoch: 732 Training Loss: 0.1461213 Test Loss: 0.14252988\n",
      "Epoch: 733 Training Loss: 0.14611545 Test Loss: 0.14252423\n",
      "Epoch: 734 Training Loss: 0.14610963 Test Loss: 0.14251873\n",
      "Epoch: 735 Training Loss: 0.14610377 Test Loss: 0.1425132\n",
      "Epoch: 736 Training Loss: 0.14609793 Test Loss: 0.1425076\n",
      "Epoch: 737 Training Loss: 0.14609213 Test Loss: 0.14250211\n",
      "Epoch: 738 Training Loss: 0.14608636 Test Loss: 0.1424966\n",
      "Epoch: 739 Training Loss: 0.14608061 Test Loss: 0.14249112\n",
      "Epoch: 740 Training Loss: 0.14607486 Test Loss: 0.14248565\n",
      "Epoch: 741 Training Loss: 0.14606911 Test Loss: 0.14248022\n",
      "Epoch: 742 Training Loss: 0.14606336 Test Loss: 0.14247492\n",
      "Epoch: 743 Training Loss: 0.14605762 Test Loss: 0.14246951\n",
      "Epoch: 744 Training Loss: 0.14605182 Test Loss: 0.1424642\n",
      "Epoch: 745 Training Loss: 0.1460462 Test Loss: 0.14245893\n",
      "Epoch: 746 Training Loss: 0.14604051 Test Loss: 0.14245355\n",
      "Epoch: 747 Training Loss: 0.1460348 Test Loss: 0.14244822\n",
      "Epoch: 748 Training Loss: 0.14602923 Test Loss: 0.14244282\n",
      "Epoch: 749 Training Loss: 0.14602353 Test Loss: 0.14243743\n",
      "Epoch: 750 Training Loss: 0.14601785 Test Loss: 0.14243202\n",
      "Epoch: 751 Training Loss: 0.14601219 Test Loss: 0.1424267\n",
      "Epoch: 752 Training Loss: 0.14600655 Test Loss: 0.14242129\n",
      "Epoch: 753 Training Loss: 0.14600106 Test Loss: 0.14241597\n",
      "Epoch: 754 Training Loss: 0.14599542 Test Loss: 0.14241052\n",
      "Epoch: 755 Training Loss: 0.14598988 Test Loss: 0.1424052\n",
      "Epoch: 756 Training Loss: 0.14598432 Test Loss: 0.14239985\n",
      "Epoch: 757 Training Loss: 0.14597873 Test Loss: 0.14239454\n",
      "Epoch: 758 Training Loss: 0.14597319 Test Loss: 0.1423892\n",
      "Epoch: 759 Training Loss: 0.14596762 Test Loss: 0.14238383\n",
      "Epoch: 760 Training Loss: 0.1459621 Test Loss: 0.14237858\n",
      "Epoch: 761 Training Loss: 0.14595653 Test Loss: 0.14237314\n",
      "Epoch: 762 Training Loss: 0.14595096 Test Loss: 0.14236781\n",
      "Epoch: 763 Training Loss: 0.14594544 Test Loss: 0.14236245\n"
     ]
    },
    {
     "name": "stdout",
     "output_type": "stream",
     "text": [
      "Epoch: 764 Training Loss: 0.14593993 Test Loss: 0.14235704\n",
      "Epoch: 765 Training Loss: 0.14593439 Test Loss: 0.14235172\n",
      "Epoch: 766 Training Loss: 0.14592876 Test Loss: 0.14234635\n",
      "Epoch: 767 Training Loss: 0.1459232 Test Loss: 0.14234103\n",
      "Epoch: 768 Training Loss: 0.14591776 Test Loss: 0.14233574\n",
      "Epoch: 769 Training Loss: 0.14591223 Test Loss: 0.14233044\n",
      "Epoch: 770 Training Loss: 0.1459068 Test Loss: 0.1423252\n",
      "Epoch: 771 Training Loss: 0.14590125 Test Loss: 0.14231983\n",
      "Epoch: 772 Training Loss: 0.14589576 Test Loss: 0.14231454\n",
      "Epoch: 773 Training Loss: 0.14589027 Test Loss: 0.14230928\n",
      "Epoch: 774 Training Loss: 0.14588478 Test Loss: 0.14230403\n",
      "Epoch: 775 Training Loss: 0.14587936 Test Loss: 0.14229882\n",
      "Epoch: 776 Training Loss: 0.14587393 Test Loss: 0.14229354\n",
      "Epoch: 777 Training Loss: 0.14586851 Test Loss: 0.14228836\n",
      "Epoch: 778 Training Loss: 0.14586309 Test Loss: 0.1422832\n",
      "Epoch: 779 Training Loss: 0.14585772 Test Loss: 0.14227809\n",
      "Epoch: 780 Training Loss: 0.14585236 Test Loss: 0.14227295\n",
      "Epoch: 781 Training Loss: 0.14584695 Test Loss: 0.14226788\n",
      "Epoch: 782 Training Loss: 0.14584157 Test Loss: 0.14226279\n",
      "Epoch: 783 Training Loss: 0.14583611 Test Loss: 0.14225775\n",
      "Epoch: 784 Training Loss: 0.14583072 Test Loss: 0.14225265\n",
      "Epoch: 785 Training Loss: 0.14582537 Test Loss: 0.1422476\n",
      "Epoch: 786 Training Loss: 0.14581995 Test Loss: 0.14224246\n",
      "Epoch: 787 Training Loss: 0.14581457 Test Loss: 0.14223742\n",
      "Epoch: 788 Training Loss: 0.14580926 Test Loss: 0.14223236\n",
      "Epoch: 789 Training Loss: 0.14580394 Test Loss: 0.14222726\n",
      "Epoch: 790 Training Loss: 0.14579855 Test Loss: 0.14222232\n",
      "Epoch: 791 Training Loss: 0.14579327 Test Loss: 0.14221746\n",
      "Epoch: 792 Training Loss: 0.14578797 Test Loss: 0.1422125\n",
      "Epoch: 793 Training Loss: 0.14578265 Test Loss: 0.14220761\n",
      "Epoch: 794 Training Loss: 0.14577737 Test Loss: 0.14220273\n",
      "Epoch: 795 Training Loss: 0.14577213 Test Loss: 0.14219785\n",
      "Epoch: 796 Training Loss: 0.1457668 Test Loss: 0.14219293\n",
      "Epoch: 797 Training Loss: 0.14576158 Test Loss: 0.14218812\n",
      "Epoch: 798 Training Loss: 0.14575632 Test Loss: 0.14218317\n",
      "Epoch: 799 Training Loss: 0.14575107 Test Loss: 0.14217834\n",
      "Epoch: 800 Training Loss: 0.14574589 Test Loss: 0.14217347\n",
      "Epoch: 801 Training Loss: 0.1457406 Test Loss: 0.14216867\n",
      "Epoch: 802 Training Loss: 0.1457354 Test Loss: 0.14216387\n",
      "Epoch: 803 Training Loss: 0.1457302 Test Loss: 0.142159\n",
      "Epoch: 804 Training Loss: 0.145725 Test Loss: 0.14215422\n",
      "Epoch: 805 Training Loss: 0.14571978 Test Loss: 0.14214937\n",
      "Epoch: 806 Training Loss: 0.14571466 Test Loss: 0.14214459\n",
      "Epoch: 807 Training Loss: 0.14570944 Test Loss: 0.1421398\n",
      "Epoch: 808 Training Loss: 0.14570428 Test Loss: 0.14213501\n",
      "Epoch: 809 Training Loss: 0.14569916 Test Loss: 0.14213027\n",
      "Epoch: 810 Training Loss: 0.14569403 Test Loss: 0.14212547\n",
      "Epoch: 811 Training Loss: 0.14568888 Test Loss: 0.1421207\n",
      "Epoch: 812 Training Loss: 0.14568378 Test Loss: 0.14211595\n",
      "Epoch: 813 Training Loss: 0.14567871 Test Loss: 0.14211124\n",
      "Epoch: 814 Training Loss: 0.14567356 Test Loss: 0.14210641\n",
      "Epoch: 815 Training Loss: 0.14566854 Test Loss: 0.1421017\n",
      "Epoch: 816 Training Loss: 0.14566346 Test Loss: 0.14209689\n",
      "Epoch: 817 Training Loss: 0.14565833 Test Loss: 0.14209217\n",
      "Epoch: 818 Training Loss: 0.14565329 Test Loss: 0.14208737\n",
      "Epoch: 819 Training Loss: 0.14564826 Test Loss: 0.1420826\n",
      "Epoch: 820 Training Loss: 0.14564322 Test Loss: 0.14207788\n",
      "Epoch: 821 Training Loss: 0.14563818 Test Loss: 0.14207311\n",
      "Epoch: 822 Training Loss: 0.14563316 Test Loss: 0.14206848\n",
      "Epoch: 823 Training Loss: 0.14562817 Test Loss: 0.14206372\n",
      "Epoch: 824 Training Loss: 0.1456231 Test Loss: 0.14205903\n",
      "Epoch: 825 Training Loss: 0.1456181 Test Loss: 0.14205435\n",
      "Epoch: 826 Training Loss: 0.1456131 Test Loss: 0.14204964\n",
      "Epoch: 827 Training Loss: 0.14560807 Test Loss: 0.14204495\n",
      "Epoch: 828 Training Loss: 0.14560306 Test Loss: 0.14204028\n",
      "Epoch: 829 Training Loss: 0.14559805 Test Loss: 0.14203553\n",
      "Epoch: 830 Training Loss: 0.14559305 Test Loss: 0.14203079\n",
      "Epoch: 831 Training Loss: 0.14558806 Test Loss: 0.14202607\n",
      "Epoch: 832 Training Loss: 0.14558306 Test Loss: 0.14202136\n",
      "Epoch: 833 Training Loss: 0.14557806 Test Loss: 0.14201666\n",
      "Epoch: 834 Training Loss: 0.1455731 Test Loss: 0.1420119\n",
      "Epoch: 835 Training Loss: 0.14556809 Test Loss: 0.14200725\n",
      "Epoch: 836 Training Loss: 0.14556311 Test Loss: 0.14200248\n",
      "Epoch: 837 Training Loss: 0.14555813 Test Loss: 0.14199787\n",
      "Epoch: 838 Training Loss: 0.14555316 Test Loss: 0.14199322\n",
      "Epoch: 839 Training Loss: 0.14554822 Test Loss: 0.14198852\n",
      "Epoch: 840 Training Loss: 0.14554328 Test Loss: 0.14198382\n",
      "Epoch: 841 Training Loss: 0.14553837 Test Loss: 0.14197911\n",
      "Epoch: 842 Training Loss: 0.14553349 Test Loss: 0.14197443\n",
      "Epoch: 843 Training Loss: 0.14552857 Test Loss: 0.1419698\n",
      "Epoch: 844 Training Loss: 0.14552364 Test Loss: 0.14196509\n",
      "Epoch: 845 Training Loss: 0.14551868 Test Loss: 0.14196038\n",
      "Epoch: 846 Training Loss: 0.14551379 Test Loss: 0.14195573\n",
      "Epoch: 847 Training Loss: 0.14550886 Test Loss: 0.14195102\n",
      "Epoch: 848 Training Loss: 0.14550394 Test Loss: 0.14194635\n",
      "Epoch: 849 Training Loss: 0.14549902 Test Loss: 0.14194168\n",
      "Epoch: 850 Training Loss: 0.14549418 Test Loss: 0.14193702\n",
      "Epoch: 851 Training Loss: 0.14548919 Test Loss: 0.14193238\n",
      "Epoch: 852 Training Loss: 0.14548431 Test Loss: 0.14192767\n",
      "Epoch: 853 Training Loss: 0.14547953 Test Loss: 0.14192301\n",
      "Epoch: 854 Training Loss: 0.14547455 Test Loss: 0.1419184\n",
      "Epoch: 855 Training Loss: 0.14546964 Test Loss: 0.14191379\n",
      "Epoch: 856 Training Loss: 0.14546472 Test Loss: 0.14190915\n",
      "Epoch: 857 Training Loss: 0.14545988 Test Loss: 0.1419045\n",
      "Epoch: 858 Training Loss: 0.14545502 Test Loss: 0.1418999\n",
      "Epoch: 859 Training Loss: 0.14545013 Test Loss: 0.14189523\n",
      "Epoch: 860 Training Loss: 0.14544533 Test Loss: 0.1418906\n",
      "Epoch: 861 Training Loss: 0.14544046 Test Loss: 0.14188601\n",
      "Epoch: 862 Training Loss: 0.14543568 Test Loss: 0.14188142\n",
      "Epoch: 863 Training Loss: 0.14543088 Test Loss: 0.14187683\n",
      "Epoch: 864 Training Loss: 0.14542605 Test Loss: 0.14187224\n",
      "Epoch: 865 Training Loss: 0.14542124 Test Loss: 0.1418676\n",
      "Epoch: 866 Training Loss: 0.14541647 Test Loss: 0.14186303\n",
      "Epoch: 867 Training Loss: 0.1454117 Test Loss: 0.14185841\n",
      "Epoch: 868 Training Loss: 0.14540695 Test Loss: 0.14185384\n",
      "Epoch: 869 Training Loss: 0.14540209 Test Loss: 0.14184918\n",
      "Epoch: 870 Training Loss: 0.14539734 Test Loss: 0.14184463\n",
      "Epoch: 871 Training Loss: 0.14539261 Test Loss: 0.14184006\n",
      "Epoch: 872 Training Loss: 0.14538775 Test Loss: 0.14183548\n",
      "Epoch: 873 Training Loss: 0.145383 Test Loss: 0.14183095\n",
      "Epoch: 874 Training Loss: 0.14537823 Test Loss: 0.14182638\n",
      "Epoch: 875 Training Loss: 0.1453734 Test Loss: 0.14182188\n",
      "Epoch: 876 Training Loss: 0.14536859 Test Loss: 0.14181727\n",
      "Epoch: 877 Training Loss: 0.14536384 Test Loss: 0.14181276\n",
      "Epoch: 878 Training Loss: 0.14535904 Test Loss: 0.14180815\n",
      "Epoch: 879 Training Loss: 0.14535421 Test Loss: 0.14180353\n",
      "Epoch: 880 Training Loss: 0.14534946 Test Loss: 0.141799\n",
      "Epoch: 881 Training Loss: 0.1453446 Test Loss: 0.14179437\n",
      "Epoch: 882 Training Loss: 0.14533992 Test Loss: 0.14178991\n",
      "Epoch: 883 Training Loss: 0.14533503 Test Loss: 0.14178534\n",
      "Epoch: 884 Training Loss: 0.14533031 Test Loss: 0.1417808\n",
      "Epoch: 885 Training Loss: 0.14532547 Test Loss: 0.1417762\n",
      "Epoch: 886 Training Loss: 0.14532065 Test Loss: 0.14177166\n",
      "Epoch: 887 Training Loss: 0.14531595 Test Loss: 0.14176708\n",
      "Epoch: 888 Training Loss: 0.14531113 Test Loss: 0.14176247\n",
      "Epoch: 889 Training Loss: 0.14530633 Test Loss: 0.1417579\n",
      "Epoch: 890 Training Loss: 0.14530155 Test Loss: 0.1417533\n",
      "Epoch: 891 Training Loss: 0.14529681 Test Loss: 0.1417487\n",
      "Epoch: 892 Training Loss: 0.14529204 Test Loss: 0.14174412\n",
      "Epoch: 893 Training Loss: 0.14528729 Test Loss: 0.14173958\n",
      "Epoch: 894 Training Loss: 0.14528255 Test Loss: 0.14173499\n",
      "Epoch: 895 Training Loss: 0.14527783 Test Loss: 0.14173044\n",
      "Epoch: 896 Training Loss: 0.14527304 Test Loss: 0.14172587\n",
      "Epoch: 897 Training Loss: 0.14526835 Test Loss: 0.14172131\n",
      "Epoch: 898 Training Loss: 0.14526361 Test Loss: 0.1417168\n",
      "Epoch: 899 Training Loss: 0.14525887 Test Loss: 0.14171232\n",
      "Epoch: 900 Training Loss: 0.14525415 Test Loss: 0.14170778\n",
      "Epoch: 901 Training Loss: 0.14524943 Test Loss: 0.14170328\n",
      "Epoch: 902 Training Loss: 0.14524464 Test Loss: 0.1416988\n",
      "Epoch: 903 Training Loss: 0.14523996 Test Loss: 0.14169425\n"
     ]
    },
    {
     "name": "stdout",
     "output_type": "stream",
     "text": [
      "Epoch: 904 Training Loss: 0.14523526 Test Loss: 0.1416898\n",
      "Epoch: 905 Training Loss: 0.14523052 Test Loss: 0.14168534\n",
      "Epoch: 906 Training Loss: 0.14522585 Test Loss: 0.14168082\n",
      "Epoch: 907 Training Loss: 0.14522113 Test Loss: 0.14167637\n",
      "Epoch: 908 Training Loss: 0.14521645 Test Loss: 0.14167188\n",
      "Epoch: 909 Training Loss: 0.14521179 Test Loss: 0.14166735\n",
      "Epoch: 910 Training Loss: 0.14520709 Test Loss: 0.14166285\n",
      "Epoch: 911 Training Loss: 0.14520243 Test Loss: 0.14165841\n",
      "Epoch: 912 Training Loss: 0.14519775 Test Loss: 0.14165393\n",
      "Epoch: 913 Training Loss: 0.14519309 Test Loss: 0.14164941\n",
      "Epoch: 914 Training Loss: 0.14518851 Test Loss: 0.14164491\n",
      "Epoch: 915 Training Loss: 0.14518383 Test Loss: 0.14164035\n",
      "Epoch: 916 Training Loss: 0.14517917 Test Loss: 0.14163585\n",
      "Epoch: 917 Training Loss: 0.14517453 Test Loss: 0.14163132\n",
      "Epoch: 918 Training Loss: 0.14516988 Test Loss: 0.14162678\n",
      "Epoch: 919 Training Loss: 0.14516528 Test Loss: 0.14162226\n",
      "Epoch: 920 Training Loss: 0.14516068 Test Loss: 0.14161773\n",
      "Epoch: 921 Training Loss: 0.14515607 Test Loss: 0.14161322\n",
      "Epoch: 922 Training Loss: 0.14515148 Test Loss: 0.14160876\n",
      "Epoch: 923 Training Loss: 0.14514685 Test Loss: 0.14160423\n",
      "Epoch: 924 Training Loss: 0.14514236 Test Loss: 0.14159968\n",
      "Epoch: 925 Training Loss: 0.14513773 Test Loss: 0.14159518\n",
      "Epoch: 926 Training Loss: 0.14513318 Test Loss: 0.14159067\n",
      "Epoch: 927 Training Loss: 0.14512864 Test Loss: 0.14158618\n",
      "Epoch: 928 Training Loss: 0.14512406 Test Loss: 0.14158165\n",
      "Epoch: 929 Training Loss: 0.14511949 Test Loss: 0.14157726\n",
      "Epoch: 930 Training Loss: 0.14511493 Test Loss: 0.14157277\n",
      "Epoch: 931 Training Loss: 0.1451103 Test Loss: 0.14156833\n",
      "Epoch: 932 Training Loss: 0.14510565 Test Loss: 0.14156394\n",
      "Epoch: 933 Training Loss: 0.14510116 Test Loss: 0.14155947\n",
      "Epoch: 934 Training Loss: 0.14509653 Test Loss: 0.14155503\n",
      "Epoch: 935 Training Loss: 0.14509204 Test Loss: 0.1415506\n",
      "Epoch: 936 Training Loss: 0.14508747 Test Loss: 0.14154619\n",
      "Epoch: 937 Training Loss: 0.14508289 Test Loss: 0.14154178\n",
      "Epoch: 938 Training Loss: 0.14507839 Test Loss: 0.14153737\n",
      "Epoch: 939 Training Loss: 0.1450738 Test Loss: 0.14153302\n",
      "Epoch: 940 Training Loss: 0.14506929 Test Loss: 0.14152862\n",
      "Epoch: 941 Training Loss: 0.14506476 Test Loss: 0.14152423\n",
      "Epoch: 942 Training Loss: 0.14506018 Test Loss: 0.14151977\n",
      "Epoch: 943 Training Loss: 0.14505565 Test Loss: 0.14151536\n",
      "Epoch: 944 Training Loss: 0.14505115 Test Loss: 0.14151102\n",
      "Epoch: 945 Training Loss: 0.14504658 Test Loss: 0.14150666\n",
      "Epoch: 946 Training Loss: 0.14504208 Test Loss: 0.14150226\n",
      "Epoch: 947 Training Loss: 0.14503756 Test Loss: 0.1414979\n",
      "Epoch: 948 Training Loss: 0.14503308 Test Loss: 0.14149359\n",
      "Epoch: 949 Training Loss: 0.14502853 Test Loss: 0.14148916\n",
      "Epoch: 950 Training Loss: 0.1450241 Test Loss: 0.14148487\n",
      "Epoch: 951 Training Loss: 0.14501964 Test Loss: 0.1414805\n",
      "Epoch: 952 Training Loss: 0.14501517 Test Loss: 0.14147617\n",
      "Epoch: 953 Training Loss: 0.14501074 Test Loss: 0.14147171\n",
      "Epoch: 954 Training Loss: 0.14500634 Test Loss: 0.14146739\n",
      "Epoch: 955 Training Loss: 0.14500192 Test Loss: 0.14146304\n",
      "Epoch: 956 Training Loss: 0.14499752 Test Loss: 0.14145866\n",
      "Epoch: 957 Training Loss: 0.14499307 Test Loss: 0.14145432\n",
      "Epoch: 958 Training Loss: 0.14498864 Test Loss: 0.14145008\n",
      "Epoch: 959 Training Loss: 0.14498419 Test Loss: 0.14144577\n",
      "Epoch: 960 Training Loss: 0.14497986 Test Loss: 0.14144143\n",
      "Epoch: 961 Training Loss: 0.14497544 Test Loss: 0.14143726\n",
      "Epoch: 962 Training Loss: 0.14497104 Test Loss: 0.141433\n",
      "Epoch: 963 Training Loss: 0.14496669 Test Loss: 0.14142868\n",
      "Epoch: 964 Training Loss: 0.14496231 Test Loss: 0.14142446\n",
      "Epoch: 965 Training Loss: 0.14495793 Test Loss: 0.1414202\n",
      "Epoch: 966 Training Loss: 0.14495358 Test Loss: 0.14141597\n",
      "Epoch: 967 Training Loss: 0.1449492 Test Loss: 0.14141177\n",
      "Epoch: 968 Training Loss: 0.14494488 Test Loss: 0.14140752\n",
      "Epoch: 969 Training Loss: 0.1449405 Test Loss: 0.14140332\n",
      "Epoch: 970 Training Loss: 0.14493616 Test Loss: 0.14139912\n",
      "Epoch: 971 Training Loss: 0.14493182 Test Loss: 0.14139487\n",
      "Epoch: 972 Training Loss: 0.14492752 Test Loss: 0.14139067\n",
      "Epoch: 973 Training Loss: 0.1449232 Test Loss: 0.1413864\n",
      "Epoch: 974 Training Loss: 0.14491895 Test Loss: 0.14138217\n",
      "Epoch: 975 Training Loss: 0.14491466 Test Loss: 0.14137799\n",
      "Epoch: 976 Training Loss: 0.14491037 Test Loss: 0.14137374\n",
      "Epoch: 977 Training Loss: 0.14490607 Test Loss: 0.14136952\n",
      "Epoch: 978 Training Loss: 0.14490183 Test Loss: 0.14136532\n",
      "Epoch: 979 Training Loss: 0.14489765 Test Loss: 0.14136107\n",
      "Epoch: 980 Training Loss: 0.14489338 Test Loss: 0.14135686\n",
      "Epoch: 981 Training Loss: 0.14488913 Test Loss: 0.14135262\n",
      "Epoch: 982 Training Loss: 0.14488493 Test Loss: 0.14134836\n",
      "Epoch: 983 Training Loss: 0.14488068 Test Loss: 0.1413442\n",
      "Epoch: 984 Training Loss: 0.14487645 Test Loss: 0.14134002\n",
      "Epoch: 985 Training Loss: 0.14487225 Test Loss: 0.14133592\n",
      "Epoch: 986 Training Loss: 0.14486808 Test Loss: 0.14133169\n",
      "Epoch: 987 Training Loss: 0.14486389 Test Loss: 0.1413275\n",
      "Epoch: 988 Training Loss: 0.14485969 Test Loss: 0.14132327\n",
      "Epoch: 989 Training Loss: 0.14485553 Test Loss: 0.14131907\n",
      "Epoch: 990 Training Loss: 0.14485136 Test Loss: 0.14131485\n",
      "Epoch: 991 Training Loss: 0.1448472 Test Loss: 0.14131066\n",
      "Epoch: 992 Training Loss: 0.14484301 Test Loss: 0.14130643\n",
      "Epoch: 993 Training Loss: 0.14483884 Test Loss: 0.14130221\n",
      "Epoch: 994 Training Loss: 0.14483471 Test Loss: 0.14129803\n",
      "Epoch: 995 Training Loss: 0.14483055 Test Loss: 0.14129378\n",
      "Epoch: 996 Training Loss: 0.14482638 Test Loss: 0.14128964\n",
      "Epoch: 997 Training Loss: 0.14482225 Test Loss: 0.1412854\n",
      "Epoch: 998 Training Loss: 0.14481811 Test Loss: 0.14128129\n",
      "Epoch: 999 Training Loss: 0.14481401 Test Loss: 0.14127706\n",
      "Epoch: 1000 Training Loss: 0.14480993 Test Loss: 0.14127289\n",
      "Epoch: 1001 Training Loss: 0.14480573 Test Loss: 0.14126866\n",
      "Epoch: 1002 Training Loss: 0.14480157 Test Loss: 0.1412645\n",
      "Epoch: 1003 Training Loss: 0.14479749 Test Loss: 0.14126022\n",
      "Epoch: 1004 Training Loss: 0.14479333 Test Loss: 0.14125605\n",
      "Epoch: 1005 Training Loss: 0.14478914 Test Loss: 0.14125183\n",
      "Epoch: 1006 Training Loss: 0.14478503 Test Loss: 0.14124757\n",
      "Epoch: 1007 Training Loss: 0.1447809 Test Loss: 0.14124338\n",
      "Epoch: 1008 Training Loss: 0.1447768 Test Loss: 0.14123917\n",
      "Epoch: 1009 Training Loss: 0.14477268 Test Loss: 0.14123496\n",
      "Epoch: 1010 Training Loss: 0.14476849 Test Loss: 0.14123072\n",
      "Epoch: 1011 Training Loss: 0.14476444 Test Loss: 0.14122656\n",
      "Epoch: 1012 Training Loss: 0.14476024 Test Loss: 0.14122243\n",
      "Epoch: 1013 Training Loss: 0.14475614 Test Loss: 0.14121825\n",
      "Epoch: 1014 Training Loss: 0.14475204 Test Loss: 0.14121418\n",
      "Epoch: 1015 Training Loss: 0.14474796 Test Loss: 0.14121005\n",
      "Epoch: 1016 Training Loss: 0.1447438 Test Loss: 0.1412059\n",
      "Epoch: 1017 Training Loss: 0.14473972 Test Loss: 0.1412018\n",
      "Epoch: 1018 Training Loss: 0.14473568 Test Loss: 0.14119767\n",
      "Epoch: 1019 Training Loss: 0.14473163 Test Loss: 0.14119357\n",
      "Epoch: 1020 Training Loss: 0.14472757 Test Loss: 0.14118947\n",
      "Epoch: 1021 Training Loss: 0.14472353 Test Loss: 0.14118542\n",
      "Epoch: 1022 Training Loss: 0.1447195 Test Loss: 0.14118132\n",
      "Epoch: 1023 Training Loss: 0.14471543 Test Loss: 0.1411772\n",
      "Epoch: 1024 Training Loss: 0.14471139 Test Loss: 0.14117306\n",
      "Epoch: 1025 Training Loss: 0.14470735 Test Loss: 0.14116894\n",
      "Epoch: 1026 Training Loss: 0.14470331 Test Loss: 0.14116482\n",
      "Epoch: 1027 Training Loss: 0.14469932 Test Loss: 0.14116074\n",
      "Epoch: 1028 Training Loss: 0.14469528 Test Loss: 0.14115658\n",
      "Epoch: 1029 Training Loss: 0.14469129 Test Loss: 0.14115252\n",
      "Epoch: 1030 Training Loss: 0.14468735 Test Loss: 0.14114851\n",
      "Epoch: 1031 Training Loss: 0.14468336 Test Loss: 0.14114434\n",
      "Epoch: 1032 Training Loss: 0.14467944 Test Loss: 0.14114039\n",
      "Epoch: 1033 Training Loss: 0.14467542 Test Loss: 0.14113638\n",
      "Epoch: 1034 Training Loss: 0.14467154 Test Loss: 0.1411323\n",
      "Epoch: 1035 Training Loss: 0.1446676 Test Loss: 0.1411283\n",
      "Epoch: 1036 Training Loss: 0.14466368 Test Loss: 0.1411243\n",
      "Epoch: 1037 Training Loss: 0.14465973 Test Loss: 0.14112033\n",
      "Epoch: 1038 Training Loss: 0.14465585 Test Loss: 0.14111632\n",
      "Epoch: 1039 Training Loss: 0.14465195 Test Loss: 0.14111234\n",
      "Epoch: 1040 Training Loss: 0.14464808 Test Loss: 0.14110838\n",
      "Epoch: 1041 Training Loss: 0.1446442 Test Loss: 0.14110443\n",
      "Epoch: 1042 Training Loss: 0.14464036 Test Loss: 0.14110047\n",
      "Epoch: 1043 Training Loss: 0.14463641 Test Loss: 0.14109653\n",
      "Epoch: 1044 Training Loss: 0.14463253 Test Loss: 0.14109263\n",
      "Epoch: 1045 Training Loss: 0.1446287 Test Loss: 0.14108868\n",
      "Epoch: 1046 Training Loss: 0.14462484 Test Loss: 0.1410847\n",
      "Epoch: 1047 Training Loss: 0.144621 Test Loss: 0.1410808\n",
      "Epoch: 1048 Training Loss: 0.14461716 Test Loss: 0.14107691\n",
      "Epoch: 1049 Training Loss: 0.14461325 Test Loss: 0.14107299\n",
      "Epoch: 1050 Training Loss: 0.14460944 Test Loss: 0.14106898\n",
      "Epoch: 1051 Training Loss: 0.14460559 Test Loss: 0.14106509\n",
      "Epoch: 1052 Training Loss: 0.14460178 Test Loss: 0.14106114\n",
      "Epoch: 1053 Training Loss: 0.14459793 Test Loss: 0.14105722\n",
      "Epoch: 1054 Training Loss: 0.14459409 Test Loss: 0.1410533\n"
     ]
    },
    {
     "name": "stdout",
     "output_type": "stream",
     "text": [
      "Epoch: 1055 Training Loss: 0.14459029 Test Loss: 0.14104937\n",
      "Epoch: 1056 Training Loss: 0.14458646 Test Loss: 0.14104539\n",
      "Epoch: 1057 Training Loss: 0.14458264 Test Loss: 0.14104147\n",
      "Epoch: 1058 Training Loss: 0.14457884 Test Loss: 0.14103751\n",
      "Epoch: 1059 Training Loss: 0.14457497 Test Loss: 0.14103363\n",
      "Epoch: 1060 Training Loss: 0.14457117 Test Loss: 0.1410297\n",
      "Epoch: 1061 Training Loss: 0.14456734 Test Loss: 0.1410258\n",
      "Epoch: 1062 Training Loss: 0.14456351 Test Loss: 0.14102186\n",
      "Epoch: 1063 Training Loss: 0.14455968 Test Loss: 0.14101796\n",
      "Epoch: 1064 Training Loss: 0.14455587 Test Loss: 0.14101404\n",
      "Epoch: 1065 Training Loss: 0.1445521 Test Loss: 0.14101017\n",
      "Epoch: 1066 Training Loss: 0.14454834 Test Loss: 0.14100629\n",
      "Epoch: 1067 Training Loss: 0.14454459 Test Loss: 0.14100239\n",
      "Epoch: 1068 Training Loss: 0.1445408 Test Loss: 0.14099847\n",
      "Epoch: 1069 Training Loss: 0.14453705 Test Loss: 0.14099465\n",
      "Epoch: 1070 Training Loss: 0.14453328 Test Loss: 0.14099072\n",
      "Epoch: 1071 Training Loss: 0.14452952 Test Loss: 0.14098682\n",
      "Epoch: 1072 Training Loss: 0.14452586 Test Loss: 0.1409829\n",
      "Epoch: 1073 Training Loss: 0.14452207 Test Loss: 0.14097902\n",
      "Epoch: 1074 Training Loss: 0.1445183 Test Loss: 0.14097527\n",
      "Epoch: 1075 Training Loss: 0.14451464 Test Loss: 0.14097147\n",
      "Epoch: 1076 Training Loss: 0.14451092 Test Loss: 0.14096753\n",
      "Epoch: 1077 Training Loss: 0.14450721 Test Loss: 0.14096381\n",
      "Epoch: 1078 Training Loss: 0.14450341 Test Loss: 0.1409599\n",
      "Epoch: 1079 Training Loss: 0.14449976 Test Loss: 0.14095612\n",
      "Epoch: 1080 Training Loss: 0.14449605 Test Loss: 0.14095227\n",
      "Epoch: 1081 Training Loss: 0.14449234 Test Loss: 0.14094846\n",
      "Epoch: 1082 Training Loss: 0.14448863 Test Loss: 0.14094459\n",
      "Epoch: 1083 Training Loss: 0.14448495 Test Loss: 0.14094076\n",
      "Epoch: 1084 Training Loss: 0.14448123 Test Loss: 0.14093696\n",
      "Epoch: 1085 Training Loss: 0.14447755 Test Loss: 0.14093311\n",
      "Epoch: 1086 Training Loss: 0.14447385 Test Loss: 0.1409293\n",
      "Epoch: 1087 Training Loss: 0.14447016 Test Loss: 0.14092548\n",
      "Epoch: 1088 Training Loss: 0.14446643 Test Loss: 0.14092167\n",
      "Epoch: 1089 Training Loss: 0.14446276 Test Loss: 0.1409178\n",
      "Epoch: 1090 Training Loss: 0.14445907 Test Loss: 0.14091402\n",
      "Epoch: 1091 Training Loss: 0.14445536 Test Loss: 0.14091025\n",
      "Epoch: 1092 Training Loss: 0.1444517 Test Loss: 0.1409065\n",
      "Epoch: 1093 Training Loss: 0.14444803 Test Loss: 0.14090277\n",
      "Epoch: 1094 Training Loss: 0.14444436 Test Loss: 0.14089903\n",
      "Epoch: 1095 Training Loss: 0.14444071 Test Loss: 0.14089532\n",
      "Epoch: 1096 Training Loss: 0.14443702 Test Loss: 0.14089157\n",
      "Epoch: 1097 Training Loss: 0.14443335 Test Loss: 0.14088781\n",
      "Epoch: 1098 Training Loss: 0.14442968 Test Loss: 0.14088407\n",
      "Epoch: 1099 Training Loss: 0.144426 Test Loss: 0.14088035\n",
      "Epoch: 1100 Training Loss: 0.14442235 Test Loss: 0.14087662\n",
      "Epoch: 1101 Training Loss: 0.1444187 Test Loss: 0.14087291\n",
      "Epoch: 1102 Training Loss: 0.14441505 Test Loss: 0.14086926\n",
      "Epoch: 1103 Training Loss: 0.14441144 Test Loss: 0.14086558\n",
      "Epoch: 1104 Training Loss: 0.14440775 Test Loss: 0.14086194\n",
      "Epoch: 1105 Training Loss: 0.1444041 Test Loss: 0.14085826\n",
      "Epoch: 1106 Training Loss: 0.1444005 Test Loss: 0.14085461\n",
      "Epoch: 1107 Training Loss: 0.14439686 Test Loss: 0.140851\n",
      "Epoch: 1108 Training Loss: 0.14439322 Test Loss: 0.14084734\n",
      "Epoch: 1109 Training Loss: 0.14438958 Test Loss: 0.14084376\n",
      "Epoch: 1110 Training Loss: 0.144386 Test Loss: 0.14084017\n",
      "Epoch: 1111 Training Loss: 0.14438236 Test Loss: 0.1408366\n",
      "Epoch: 1112 Training Loss: 0.14437872 Test Loss: 0.14083295\n",
      "Epoch: 1113 Training Loss: 0.14437515 Test Loss: 0.14082934\n",
      "Epoch: 1114 Training Loss: 0.14437154 Test Loss: 0.14082578\n",
      "Epoch: 1115 Training Loss: 0.14436795 Test Loss: 0.14082217\n",
      "Epoch: 1116 Training Loss: 0.14436434 Test Loss: 0.14081861\n",
      "Epoch: 1117 Training Loss: 0.14436077 Test Loss: 0.14081506\n",
      "Epoch: 1118 Training Loss: 0.14435723 Test Loss: 0.14081152\n",
      "Epoch: 1119 Training Loss: 0.14435364 Test Loss: 0.14080796\n",
      "Epoch: 1120 Training Loss: 0.14435 Test Loss: 0.14080444\n",
      "Epoch: 1121 Training Loss: 0.14434649 Test Loss: 0.14080083\n",
      "Epoch: 1122 Training Loss: 0.14434287 Test Loss: 0.14079724\n",
      "Epoch: 1123 Training Loss: 0.14433932 Test Loss: 0.14079364\n",
      "Epoch: 1124 Training Loss: 0.14433576 Test Loss: 0.1407901\n",
      "Epoch: 1125 Training Loss: 0.1443322 Test Loss: 0.14078653\n",
      "Epoch: 1126 Training Loss: 0.14432864 Test Loss: 0.14078297\n",
      "Epoch: 1127 Training Loss: 0.14432508 Test Loss: 0.14077945\n",
      "Epoch: 1128 Training Loss: 0.14432149 Test Loss: 0.14077581\n",
      "Epoch: 1129 Training Loss: 0.14431797 Test Loss: 0.1407723\n",
      "Epoch: 1130 Training Loss: 0.1443144 Test Loss: 0.14076868\n",
      "Epoch: 1131 Training Loss: 0.14431088 Test Loss: 0.1407652\n",
      "Epoch: 1132 Training Loss: 0.14430727 Test Loss: 0.14076161\n",
      "Epoch: 1133 Training Loss: 0.14430372 Test Loss: 0.14075805\n",
      "Epoch: 1134 Training Loss: 0.14430018 Test Loss: 0.14075452\n",
      "Epoch: 1135 Training Loss: 0.14429666 Test Loss: 0.14075102\n",
      "Epoch: 1136 Training Loss: 0.14429311 Test Loss: 0.14074744\n",
      "Epoch: 1137 Training Loss: 0.14428958 Test Loss: 0.14074396\n",
      "Epoch: 1138 Training Loss: 0.1442861 Test Loss: 0.14074044\n",
      "Epoch: 1139 Training Loss: 0.14428255 Test Loss: 0.14073686\n",
      "Epoch: 1140 Training Loss: 0.14427903 Test Loss: 0.1407333\n",
      "Epoch: 1141 Training Loss: 0.14427549 Test Loss: 0.14072986\n",
      "Epoch: 1142 Training Loss: 0.14427198 Test Loss: 0.14072634\n",
      "Epoch: 1143 Training Loss: 0.14426851 Test Loss: 0.14072281\n",
      "Epoch: 1144 Training Loss: 0.14426501 Test Loss: 0.14071935\n",
      "Epoch: 1145 Training Loss: 0.1442615 Test Loss: 0.14071591\n",
      "Epoch: 1146 Training Loss: 0.14425799 Test Loss: 0.14071244\n",
      "Epoch: 1147 Training Loss: 0.14425452 Test Loss: 0.14070895\n",
      "Epoch: 1148 Training Loss: 0.14425103 Test Loss: 0.14070551\n",
      "Epoch: 1149 Training Loss: 0.14424753 Test Loss: 0.140702\n",
      "Epoch: 1150 Training Loss: 0.14424402 Test Loss: 0.14069855\n",
      "Epoch: 1151 Training Loss: 0.14424054 Test Loss: 0.14069507\n",
      "Epoch: 1152 Training Loss: 0.14423709 Test Loss: 0.1406916\n",
      "Epoch: 1153 Training Loss: 0.14423361 Test Loss: 0.14068817\n",
      "Epoch: 1154 Training Loss: 0.14423007 Test Loss: 0.14068463\n",
      "Epoch: 1155 Training Loss: 0.14422663 Test Loss: 0.14068115\n",
      "Epoch: 1156 Training Loss: 0.1442232 Test Loss: 0.14067762\n",
      "Epoch: 1157 Training Loss: 0.14421976 Test Loss: 0.14067416\n",
      "Epoch: 1158 Training Loss: 0.1442163 Test Loss: 0.14067067\n",
      "Epoch: 1159 Training Loss: 0.14421287 Test Loss: 0.1406672\n",
      "Epoch: 1160 Training Loss: 0.14420947 Test Loss: 0.1406637\n",
      "Epoch: 1161 Training Loss: 0.14420602 Test Loss: 0.14066021\n",
      "Epoch: 1162 Training Loss: 0.14420258 Test Loss: 0.14065675\n",
      "Epoch: 1163 Training Loss: 0.14419919 Test Loss: 0.14065328\n",
      "Epoch: 1164 Training Loss: 0.14419574 Test Loss: 0.14064984\n",
      "Epoch: 1165 Training Loss: 0.14419232 Test Loss: 0.14064637\n",
      "Epoch: 1166 Training Loss: 0.14418885 Test Loss: 0.14064297\n",
      "Epoch: 1167 Training Loss: 0.1441855 Test Loss: 0.14063953\n",
      "Epoch: 1168 Training Loss: 0.14418207 Test Loss: 0.1406361\n",
      "Epoch: 1169 Training Loss: 0.14417864 Test Loss: 0.14063269\n",
      "Epoch: 1170 Training Loss: 0.14417522 Test Loss: 0.14062932\n",
      "Epoch: 1171 Training Loss: 0.1441718 Test Loss: 0.1406259\n",
      "Epoch: 1172 Training Loss: 0.14416839 Test Loss: 0.14062253\n",
      "Epoch: 1173 Training Loss: 0.14416504 Test Loss: 0.14061908\n",
      "Epoch: 1174 Training Loss: 0.14416166 Test Loss: 0.14061572\n",
      "Epoch: 1175 Training Loss: 0.14415826 Test Loss: 0.14061236\n",
      "Epoch: 1176 Training Loss: 0.14415488 Test Loss: 0.14060895\n",
      "Epoch: 1177 Training Loss: 0.1441515 Test Loss: 0.14060551\n",
      "Epoch: 1178 Training Loss: 0.14414813 Test Loss: 0.14060213\n",
      "Epoch: 1179 Training Loss: 0.14414474 Test Loss: 0.14059874\n",
      "Epoch: 1180 Training Loss: 0.14414135 Test Loss: 0.14059535\n",
      "Epoch: 1181 Training Loss: 0.14413793 Test Loss: 0.140592\n",
      "Epoch: 1182 Training Loss: 0.14413457 Test Loss: 0.14058863\n",
      "Epoch: 1183 Training Loss: 0.14413123 Test Loss: 0.1405852\n",
      "Epoch: 1184 Training Loss: 0.14412788 Test Loss: 0.1405818\n",
      "Epoch: 1185 Training Loss: 0.14412448 Test Loss: 0.14057843\n",
      "Epoch: 1186 Training Loss: 0.14412116 Test Loss: 0.140575\n",
      "Epoch: 1187 Training Loss: 0.14411783 Test Loss: 0.14057156\n",
      "Epoch: 1188 Training Loss: 0.14411445 Test Loss: 0.14056821\n",
      "Epoch: 1189 Training Loss: 0.14411102 Test Loss: 0.14056481\n",
      "Epoch: 1190 Training Loss: 0.14410773 Test Loss: 0.14056143\n",
      "Epoch: 1191 Training Loss: 0.1441043 Test Loss: 0.14055812\n",
      "Epoch: 1192 Training Loss: 0.14410089 Test Loss: 0.14055467\n",
      "Epoch: 1193 Training Loss: 0.14409755 Test Loss: 0.14055134\n",
      "Epoch: 1194 Training Loss: 0.14409421 Test Loss: 0.14054804\n",
      "Epoch: 1195 Training Loss: 0.14409085 Test Loss: 0.14054468\n",
      "Epoch: 1196 Training Loss: 0.14408746 Test Loss: 0.14054133\n",
      "Epoch: 1197 Training Loss: 0.14408413 Test Loss: 0.140538\n",
      "Epoch: 1198 Training Loss: 0.14408082 Test Loss: 0.14053467\n",
      "Epoch: 1199 Training Loss: 0.14407742 Test Loss: 0.14053135\n",
      "Epoch: 1200 Training Loss: 0.1440741 Test Loss: 0.14052802\n",
      "Epoch: 1201 Training Loss: 0.14407071 Test Loss: 0.14052474\n",
      "Epoch: 1202 Training Loss: 0.1440674 Test Loss: 0.14052139\n",
      "Epoch: 1203 Training Loss: 0.14406408 Test Loss: 0.14051808\n",
      "Epoch: 1204 Training Loss: 0.1440608 Test Loss: 0.14051484\n",
      "Epoch: 1205 Training Loss: 0.14405748 Test Loss: 0.14051154\n",
      "Epoch: 1206 Training Loss: 0.14405419 Test Loss: 0.14050823\n",
      "Epoch: 1207 Training Loss: 0.14405085 Test Loss: 0.14050496\n",
      "Epoch: 1208 Training Loss: 0.1440475 Test Loss: 0.14050168\n",
      "Epoch: 1209 Training Loss: 0.14404419 Test Loss: 0.14049836\n",
      "Epoch: 1210 Training Loss: 0.14404093 Test Loss: 0.14049506\n",
      "Epoch: 1211 Training Loss: 0.14403762 Test Loss: 0.14049175\n",
      "Epoch: 1212 Training Loss: 0.14403427 Test Loss: 0.14048839\n",
      "Epoch: 1213 Training Loss: 0.14403097 Test Loss: 0.14048502\n",
      "Epoch: 1214 Training Loss: 0.1440277 Test Loss: 0.1404817\n",
      "Epoch: 1215 Training Loss: 0.14402434 Test Loss: 0.14047842\n",
      "Epoch: 1216 Training Loss: 0.14402105 Test Loss: 0.14047512\n",
      "Epoch: 1217 Training Loss: 0.14401774 Test Loss: 0.14047183\n",
      "Epoch: 1218 Training Loss: 0.14401443 Test Loss: 0.1404685\n",
      "Epoch: 1219 Training Loss: 0.14401117 Test Loss: 0.14046521\n",
      "Epoch: 1220 Training Loss: 0.1440079 Test Loss: 0.1404619\n",
      "Epoch: 1221 Training Loss: 0.14400464 Test Loss: 0.14045867\n",
      "Epoch: 1222 Training Loss: 0.1440013 Test Loss: 0.14045535\n",
      "Epoch: 1223 Training Loss: 0.14399804 Test Loss: 0.14045212\n",
      "Epoch: 1224 Training Loss: 0.14399472 Test Loss: 0.14044882\n",
      "Epoch: 1225 Training Loss: 0.14399147 Test Loss: 0.14044562\n",
      "Epoch: 1226 Training Loss: 0.14398819 Test Loss: 0.14044237\n",
      "Epoch: 1227 Training Loss: 0.14398487 Test Loss: 0.14043912\n"
     ]
    },
    {
     "name": "stdout",
     "output_type": "stream",
     "text": [
      "Epoch: 1228 Training Loss: 0.14398164 Test Loss: 0.14043592\n",
      "Epoch: 1229 Training Loss: 0.14397836 Test Loss: 0.14043269\n",
      "Epoch: 1230 Training Loss: 0.1439751 Test Loss: 0.14042951\n",
      "Epoch: 1231 Training Loss: 0.14397182 Test Loss: 0.14042626\n",
      "Epoch: 1232 Training Loss: 0.14396852 Test Loss: 0.14042303\n",
      "Epoch: 1233 Training Loss: 0.14396521 Test Loss: 0.14041977\n",
      "Epoch: 1234 Training Loss: 0.14396198 Test Loss: 0.14041659\n",
      "Epoch: 1235 Training Loss: 0.14395875 Test Loss: 0.1404133\n",
      "Epoch: 1236 Training Loss: 0.14395545 Test Loss: 0.1404101\n",
      "Epoch: 1237 Training Loss: 0.1439522 Test Loss: 0.14040689\n",
      "Epoch: 1238 Training Loss: 0.14394888 Test Loss: 0.14040366\n",
      "Epoch: 1239 Training Loss: 0.14394568 Test Loss: 0.14040044\n",
      "Epoch: 1240 Training Loss: 0.14394236 Test Loss: 0.14039719\n",
      "Epoch: 1241 Training Loss: 0.14393912 Test Loss: 0.14039405\n",
      "Epoch: 1242 Training Loss: 0.14393577 Test Loss: 0.14039075\n",
      "Epoch: 1243 Training Loss: 0.14393246 Test Loss: 0.14038758\n",
      "Epoch: 1244 Training Loss: 0.14392924 Test Loss: 0.1403843\n",
      "Epoch: 1245 Training Loss: 0.1439259 Test Loss: 0.14038114\n",
      "Epoch: 1246 Training Loss: 0.14392267 Test Loss: 0.14037794\n",
      "Epoch: 1247 Training Loss: 0.14391938 Test Loss: 0.14037481\n",
      "Epoch: 1248 Training Loss: 0.1439161 Test Loss: 0.14037165\n",
      "Epoch: 1249 Training Loss: 0.14391284 Test Loss: 0.14036849\n",
      "Epoch: 1250 Training Loss: 0.14390954 Test Loss: 0.14036542\n",
      "Epoch: 1251 Training Loss: 0.14390628 Test Loss: 0.14036225\n",
      "Epoch: 1252 Training Loss: 0.14390305 Test Loss: 0.14035907\n",
      "Epoch: 1253 Training Loss: 0.14389981 Test Loss: 0.14035597\n",
      "Epoch: 1254 Training Loss: 0.14389664 Test Loss: 0.14035285\n",
      "Epoch: 1255 Training Loss: 0.14389335 Test Loss: 0.1403497\n",
      "Epoch: 1256 Training Loss: 0.14389017 Test Loss: 0.14034659\n",
      "Epoch: 1257 Training Loss: 0.14388692 Test Loss: 0.14034349\n",
      "Epoch: 1258 Training Loss: 0.14388378 Test Loss: 0.14034042\n",
      "Epoch: 1259 Training Loss: 0.1438806 Test Loss: 0.14033721\n",
      "Epoch: 1260 Training Loss: 0.14387742 Test Loss: 0.14033408\n",
      "Epoch: 1261 Training Loss: 0.14387421 Test Loss: 0.14033097\n",
      "Epoch: 1262 Training Loss: 0.1438711 Test Loss: 0.14032781\n",
      "Epoch: 1263 Training Loss: 0.14386795 Test Loss: 0.14032468\n",
      "Epoch: 1264 Training Loss: 0.14386475 Test Loss: 0.14032155\n",
      "Epoch: 1265 Training Loss: 0.14386159 Test Loss: 0.14031836\n",
      "Epoch: 1266 Training Loss: 0.14385843 Test Loss: 0.14031525\n",
      "Epoch: 1267 Training Loss: 0.14385526 Test Loss: 0.14031212\n",
      "Epoch: 1268 Training Loss: 0.14385214 Test Loss: 0.14030895\n",
      "Epoch: 1269 Training Loss: 0.14384899 Test Loss: 0.14030576\n",
      "Epoch: 1270 Training Loss: 0.14384586 Test Loss: 0.14030261\n",
      "Epoch: 1271 Training Loss: 0.14384274 Test Loss: 0.14029951\n",
      "Epoch: 1272 Training Loss: 0.14383966 Test Loss: 0.14029637\n",
      "Epoch: 1273 Training Loss: 0.14383648 Test Loss: 0.14029326\n",
      "Epoch: 1274 Training Loss: 0.14383334 Test Loss: 0.14029016\n",
      "Epoch: 1275 Training Loss: 0.14383022 Test Loss: 0.14028706\n",
      "Epoch: 1276 Training Loss: 0.14382716 Test Loss: 0.14028397\n",
      "Epoch: 1277 Training Loss: 0.143824 Test Loss: 0.14028089\n",
      "Epoch: 1278 Training Loss: 0.14382093 Test Loss: 0.1402778\n",
      "Epoch: 1279 Training Loss: 0.14381781 Test Loss: 0.1402747\n",
      "Epoch: 1280 Training Loss: 0.14381467 Test Loss: 0.14027157\n",
      "Epoch: 1281 Training Loss: 0.14381152 Test Loss: 0.14026852\n",
      "Epoch: 1282 Training Loss: 0.14380841 Test Loss: 0.1402654\n",
      "Epoch: 1283 Training Loss: 0.1438053 Test Loss: 0.1402623\n",
      "Epoch: 1284 Training Loss: 0.14380215 Test Loss: 0.14025925\n",
      "Epoch: 1285 Training Loss: 0.14379913 Test Loss: 0.14025612\n",
      "Epoch: 1286 Training Loss: 0.14379607 Test Loss: 0.14025308\n",
      "Epoch: 1287 Training Loss: 0.14379296 Test Loss: 0.14025006\n",
      "Epoch: 1288 Training Loss: 0.14378986 Test Loss: 0.14024694\n",
      "Epoch: 1289 Training Loss: 0.14378677 Test Loss: 0.14024392\n",
      "Epoch: 1290 Training Loss: 0.14378366 Test Loss: 0.14024088\n",
      "Epoch: 1291 Training Loss: 0.14378054 Test Loss: 0.1402378\n",
      "Epoch: 1292 Training Loss: 0.14377749 Test Loss: 0.14023474\n",
      "Epoch: 1293 Training Loss: 0.14377446 Test Loss: 0.14023162\n",
      "Epoch: 1294 Training Loss: 0.14377135 Test Loss: 0.14022854\n",
      "Epoch: 1295 Training Loss: 0.1437683 Test Loss: 0.14022548\n",
      "Epoch: 1296 Training Loss: 0.1437652 Test Loss: 0.1402224\n",
      "Epoch: 1297 Training Loss: 0.1437621 Test Loss: 0.14021929\n",
      "Epoch: 1298 Training Loss: 0.14375897 Test Loss: 0.14021617\n",
      "Epoch: 1299 Training Loss: 0.14375588 Test Loss: 0.14021315\n",
      "Epoch: 1300 Training Loss: 0.14375284 Test Loss: 0.14020996\n",
      "Epoch: 1301 Training Loss: 0.14374976 Test Loss: 0.14020684\n",
      "Epoch: 1302 Training Loss: 0.14374664 Test Loss: 0.1402038\n",
      "Epoch: 1303 Training Loss: 0.14374356 Test Loss: 0.14020063\n",
      "Epoch: 1304 Training Loss: 0.14374048 Test Loss: 0.14019756\n",
      "Epoch: 1305 Training Loss: 0.14373739 Test Loss: 0.14019446\n",
      "Epoch: 1306 Training Loss: 0.14373428 Test Loss: 0.1401914\n",
      "Epoch: 1307 Training Loss: 0.1437313 Test Loss: 0.1401884\n",
      "Epoch: 1308 Training Loss: 0.14372826 Test Loss: 0.1401853\n",
      "Epoch: 1309 Training Loss: 0.14372523 Test Loss: 0.14018226\n",
      "Epoch: 1310 Training Loss: 0.14372213 Test Loss: 0.1401792\n",
      "Epoch: 1311 Training Loss: 0.1437191 Test Loss: 0.14017612\n",
      "Epoch: 1312 Training Loss: 0.14371608 Test Loss: 0.1401731\n",
      "Epoch: 1313 Training Loss: 0.14371301 Test Loss: 0.14016998\n",
      "Epoch: 1314 Training Loss: 0.14370999 Test Loss: 0.1401669\n",
      "Epoch: 1315 Training Loss: 0.14370698 Test Loss: 0.14016384\n",
      "Epoch: 1316 Training Loss: 0.14370392 Test Loss: 0.1401608\n",
      "Epoch: 1317 Training Loss: 0.1437009 Test Loss: 0.14015777\n",
      "Epoch: 1318 Training Loss: 0.14369787 Test Loss: 0.14015475\n",
      "Epoch: 1319 Training Loss: 0.14369482 Test Loss: 0.14015171\n",
      "Epoch: 1320 Training Loss: 0.14369181 Test Loss: 0.14014868\n",
      "Epoch: 1321 Training Loss: 0.14368877 Test Loss: 0.14014569\n",
      "Epoch: 1322 Training Loss: 0.1436858 Test Loss: 0.14014266\n",
      "Epoch: 1323 Training Loss: 0.14368276 Test Loss: 0.14013965\n",
      "Epoch: 1324 Training Loss: 0.14367978 Test Loss: 0.14013663\n",
      "Epoch: 1325 Training Loss: 0.14367676 Test Loss: 0.14013362\n",
      "Epoch: 1326 Training Loss: 0.14367373 Test Loss: 0.14013065\n",
      "Epoch: 1327 Training Loss: 0.14367081 Test Loss: 0.14012763\n",
      "Epoch: 1328 Training Loss: 0.1436678 Test Loss: 0.14012462\n",
      "Epoch: 1329 Training Loss: 0.14366482 Test Loss: 0.14012165\n",
      "Epoch: 1330 Training Loss: 0.14366184 Test Loss: 0.14011869\n",
      "Epoch: 1331 Training Loss: 0.14365885 Test Loss: 0.1401157\n",
      "Epoch: 1332 Training Loss: 0.14365584 Test Loss: 0.1401127\n",
      "Epoch: 1333 Training Loss: 0.14365287 Test Loss: 0.14010975\n",
      "Epoch: 1334 Training Loss: 0.1436499 Test Loss: 0.14010671\n",
      "Epoch: 1335 Training Loss: 0.14364691 Test Loss: 0.14010377\n",
      "Epoch: 1336 Training Loss: 0.14364395 Test Loss: 0.1401008\n",
      "Epoch: 1337 Training Loss: 0.14364094 Test Loss: 0.14009783\n",
      "Epoch: 1338 Training Loss: 0.14363798 Test Loss: 0.14009492\n",
      "Epoch: 1339 Training Loss: 0.14363506 Test Loss: 0.14009196\n",
      "Epoch: 1340 Training Loss: 0.14363205 Test Loss: 0.14008898\n",
      "Epoch: 1341 Training Loss: 0.14362909 Test Loss: 0.14008607\n",
      "Epoch: 1342 Training Loss: 0.1436261 Test Loss: 0.14008315\n",
      "Epoch: 1343 Training Loss: 0.14362311 Test Loss: 0.14008018\n",
      "Epoch: 1344 Training Loss: 0.14362018 Test Loss: 0.14007719\n",
      "Epoch: 1345 Training Loss: 0.14361721 Test Loss: 0.1400743\n",
      "Epoch: 1346 Training Loss: 0.14361428 Test Loss: 0.14007132\n",
      "Epoch: 1347 Training Loss: 0.14361125 Test Loss: 0.1400683\n",
      "Epoch: 1348 Training Loss: 0.1436083 Test Loss: 0.14006543\n",
      "Epoch: 1349 Training Loss: 0.1436053 Test Loss: 0.14006248\n",
      "Epoch: 1350 Training Loss: 0.14360236 Test Loss: 0.14005958\n",
      "Epoch: 1351 Training Loss: 0.14359939 Test Loss: 0.14005661\n",
      "Epoch: 1352 Training Loss: 0.14359649 Test Loss: 0.14005366\n",
      "Epoch: 1353 Training Loss: 0.1435935 Test Loss: 0.14005068\n",
      "Epoch: 1354 Training Loss: 0.14359048 Test Loss: 0.14004774\n",
      "Epoch: 1355 Training Loss: 0.1435876 Test Loss: 0.14004478\n",
      "Epoch: 1356 Training Loss: 0.14358462 Test Loss: 0.14004183\n",
      "Epoch: 1357 Training Loss: 0.14358166 Test Loss: 0.14003892\n",
      "Epoch: 1358 Training Loss: 0.14357866 Test Loss: 0.14003591\n",
      "Epoch: 1359 Training Loss: 0.14357568 Test Loss: 0.14003304\n",
      "Epoch: 1360 Training Loss: 0.14357272 Test Loss: 0.14003006\n",
      "Epoch: 1361 Training Loss: 0.14356975 Test Loss: 0.1400271\n",
      "Epoch: 1362 Training Loss: 0.14356677 Test Loss: 0.14002414\n",
      "Epoch: 1363 Training Loss: 0.14356379 Test Loss: 0.14002118\n",
      "Epoch: 1364 Training Loss: 0.14356089 Test Loss: 0.1400182\n",
      "Epoch: 1365 Training Loss: 0.14355792 Test Loss: 0.1400152\n",
      "Epoch: 1366 Training Loss: 0.14355494 Test Loss: 0.14001222\n",
      "Epoch: 1367 Training Loss: 0.14355202 Test Loss: 0.14000931\n",
      "Epoch: 1368 Training Loss: 0.14354904 Test Loss: 0.14000632\n",
      "Epoch: 1369 Training Loss: 0.14354613 Test Loss: 0.14000335\n",
      "Epoch: 1370 Training Loss: 0.14354315 Test Loss: 0.14000042\n",
      "Epoch: 1371 Training Loss: 0.14354019 Test Loss: 0.13999738\n",
      "Epoch: 1372 Training Loss: 0.14353725 Test Loss: 0.13999438\n",
      "Epoch: 1373 Training Loss: 0.1435343 Test Loss: 0.13999134\n",
      "Epoch: 1374 Training Loss: 0.14353134 Test Loss: 0.13998838\n",
      "Epoch: 1375 Training Loss: 0.14352842 Test Loss: 0.1399854\n",
      "Epoch: 1376 Training Loss: 0.14352548 Test Loss: 0.13998237\n",
      "Epoch: 1377 Training Loss: 0.14352249 Test Loss: 0.13997942\n",
      "Epoch: 1378 Training Loss: 0.14351957 Test Loss: 0.13997641\n",
      "Epoch: 1379 Training Loss: 0.1435166 Test Loss: 0.1399734\n",
      "Epoch: 1380 Training Loss: 0.14351363 Test Loss: 0.1399705\n",
      "Epoch: 1381 Training Loss: 0.14351076 Test Loss: 0.13996746\n",
      "Epoch: 1382 Training Loss: 0.14350784 Test Loss: 0.13996455\n",
      "Epoch: 1383 Training Loss: 0.14350481 Test Loss: 0.13996162\n",
      "Epoch: 1384 Training Loss: 0.14350195 Test Loss: 0.13995868\n",
      "Epoch: 1385 Training Loss: 0.14349902 Test Loss: 0.13995571\n",
      "Epoch: 1386 Training Loss: 0.14349611 Test Loss: 0.1399528\n",
      "Epoch: 1387 Training Loss: 0.14349319 Test Loss: 0.13994983\n",
      "Epoch: 1388 Training Loss: 0.14349024 Test Loss: 0.13994686\n",
      "Epoch: 1389 Training Loss: 0.1434873 Test Loss: 0.13994399\n",
      "Epoch: 1390 Training Loss: 0.14348435 Test Loss: 0.13994107\n",
      "Epoch: 1391 Training Loss: 0.14348148 Test Loss: 0.13993813\n",
      "Epoch: 1392 Training Loss: 0.14347857 Test Loss: 0.13993521\n",
      "Epoch: 1393 Training Loss: 0.14347559 Test Loss: 0.13993227\n",
      "Epoch: 1394 Training Loss: 0.14347272 Test Loss: 0.13992938\n",
      "Epoch: 1395 Training Loss: 0.14346987 Test Loss: 0.13992645\n",
      "Epoch: 1396 Training Loss: 0.143467 Test Loss: 0.1399235\n"
     ]
    },
    {
     "name": "stdout",
     "output_type": "stream",
     "text": [
      "Epoch: 1397 Training Loss: 0.14346415 Test Loss: 0.13992059\n",
      "Epoch: 1398 Training Loss: 0.14346123 Test Loss: 0.13991764\n",
      "Epoch: 1399 Training Loss: 0.14345834 Test Loss: 0.13991477\n",
      "Epoch: 1400 Training Loss: 0.14345554 Test Loss: 0.13991182\n",
      "Epoch: 1401 Training Loss: 0.14345257 Test Loss: 0.13990887\n",
      "Epoch: 1402 Training Loss: 0.1434497 Test Loss: 0.13990597\n",
      "Epoch: 1403 Training Loss: 0.1434468 Test Loss: 0.13990296\n",
      "Epoch: 1404 Training Loss: 0.14344397 Test Loss: 0.13990006\n",
      "Epoch: 1405 Training Loss: 0.14344107 Test Loss: 0.13989711\n",
      "Epoch: 1406 Training Loss: 0.14343818 Test Loss: 0.1398941\n",
      "Epoch: 1407 Training Loss: 0.14343536 Test Loss: 0.13989118\n",
      "Epoch: 1408 Training Loss: 0.14343247 Test Loss: 0.1398882\n",
      "Epoch: 1409 Training Loss: 0.14342958 Test Loss: 0.13988529\n",
      "Epoch: 1410 Training Loss: 0.14342673 Test Loss: 0.1398823\n",
      "Epoch: 1411 Training Loss: 0.14342389 Test Loss: 0.13987927\n",
      "Epoch: 1412 Training Loss: 0.14342102 Test Loss: 0.13987632\n",
      "Epoch: 1413 Training Loss: 0.14341816 Test Loss: 0.13987336\n",
      "Epoch: 1414 Training Loss: 0.14341535 Test Loss: 0.13987039\n",
      "Epoch: 1415 Training Loss: 0.14341249 Test Loss: 0.13986741\n",
      "Epoch: 1416 Training Loss: 0.14340967 Test Loss: 0.13986444\n",
      "Epoch: 1417 Training Loss: 0.14340678 Test Loss: 0.13986152\n",
      "Epoch: 1418 Training Loss: 0.14340396 Test Loss: 0.13985857\n",
      "Epoch: 1419 Training Loss: 0.14340112 Test Loss: 0.13985556\n",
      "Epoch: 1420 Training Loss: 0.14339831 Test Loss: 0.13985257\n",
      "Epoch: 1421 Training Loss: 0.14339545 Test Loss: 0.13984968\n",
      "Epoch: 1422 Training Loss: 0.14339258 Test Loss: 0.1398468\n",
      "Epoch: 1423 Training Loss: 0.14338978 Test Loss: 0.13984387\n",
      "Epoch: 1424 Training Loss: 0.14338696 Test Loss: 0.13984095\n",
      "Epoch: 1425 Training Loss: 0.14338414 Test Loss: 0.13983805\n",
      "Epoch: 1426 Training Loss: 0.1433813 Test Loss: 0.13983512\n",
      "Epoch: 1427 Training Loss: 0.14337848 Test Loss: 0.13983232\n",
      "Epoch: 1428 Training Loss: 0.14337559 Test Loss: 0.13982938\n",
      "Epoch: 1429 Training Loss: 0.14337279 Test Loss: 0.13982645\n",
      "Epoch: 1430 Training Loss: 0.14336996 Test Loss: 0.13982357\n",
      "Epoch: 1431 Training Loss: 0.14336716 Test Loss: 0.1398208\n",
      "Epoch: 1432 Training Loss: 0.14336433 Test Loss: 0.13981791\n",
      "Epoch: 1433 Training Loss: 0.14336145 Test Loss: 0.13981496\n",
      "Epoch: 1434 Training Loss: 0.14335862 Test Loss: 0.13981204\n",
      "Epoch: 1435 Training Loss: 0.14335577 Test Loss: 0.13980903\n",
      "Epoch: 1436 Training Loss: 0.14335294 Test Loss: 0.13980606\n",
      "Epoch: 1437 Training Loss: 0.1433501 Test Loss: 0.13980307\n",
      "Epoch: 1438 Training Loss: 0.1433472 Test Loss: 0.13980012\n",
      "Epoch: 1439 Training Loss: 0.14334433 Test Loss: 0.13979715\n",
      "Epoch: 1440 Training Loss: 0.1433415 Test Loss: 0.13979414\n",
      "Epoch: 1441 Training Loss: 0.14333864 Test Loss: 0.13979107\n",
      "Epoch: 1442 Training Loss: 0.14333582 Test Loss: 0.13978806\n",
      "Epoch: 1443 Training Loss: 0.14333297 Test Loss: 0.139785\n",
      "Epoch: 1444 Training Loss: 0.14333013 Test Loss: 0.13978195\n",
      "Epoch: 1445 Training Loss: 0.14332725 Test Loss: 0.1397789\n",
      "Epoch: 1446 Training Loss: 0.14332443 Test Loss: 0.13977587\n",
      "Epoch: 1447 Training Loss: 0.14332162 Test Loss: 0.13977286\n",
      "Epoch: 1448 Training Loss: 0.14331883 Test Loss: 0.13976984\n",
      "Epoch: 1449 Training Loss: 0.14331602 Test Loss: 0.13976684\n",
      "Epoch: 1450 Training Loss: 0.14331317 Test Loss: 0.13976392\n",
      "Epoch: 1451 Training Loss: 0.14331032 Test Loss: 0.13976093\n",
      "Epoch: 1452 Training Loss: 0.14330757 Test Loss: 0.13975793\n",
      "Epoch: 1453 Training Loss: 0.14330475 Test Loss: 0.13975498\n",
      "Epoch: 1454 Training Loss: 0.14330193 Test Loss: 0.139752\n",
      "Epoch: 1455 Training Loss: 0.14329907 Test Loss: 0.13974899\n",
      "Epoch: 1456 Training Loss: 0.1432963 Test Loss: 0.13974604\n",
      "Epoch: 1457 Training Loss: 0.1432935 Test Loss: 0.13974304\n",
      "Epoch: 1458 Training Loss: 0.14329068 Test Loss: 0.13974008\n",
      "Epoch: 1459 Training Loss: 0.14328787 Test Loss: 0.13973698\n",
      "Epoch: 1460 Training Loss: 0.14328505 Test Loss: 0.13973401\n",
      "Epoch: 1461 Training Loss: 0.14328222 Test Loss: 0.13973099\n",
      "Epoch: 1462 Training Loss: 0.14327937 Test Loss: 0.139728\n",
      "Epoch: 1463 Training Loss: 0.14327656 Test Loss: 0.13972494\n",
      "Epoch: 1464 Training Loss: 0.1432738 Test Loss: 0.13972196\n",
      "Epoch: 1465 Training Loss: 0.14327097 Test Loss: 0.13971893\n",
      "Epoch: 1466 Training Loss: 0.14326817 Test Loss: 0.13971591\n",
      "Epoch: 1467 Training Loss: 0.14326535 Test Loss: 0.13971293\n",
      "Epoch: 1468 Training Loss: 0.14326252 Test Loss: 0.13970995\n",
      "Epoch: 1469 Training Loss: 0.1432597 Test Loss: 0.13970688\n",
      "Epoch: 1470 Training Loss: 0.1432569 Test Loss: 0.13970385\n",
      "Epoch: 1471 Training Loss: 0.14325415 Test Loss: 0.1397008\n",
      "Epoch: 1472 Training Loss: 0.14325134 Test Loss: 0.13969783\n",
      "Epoch: 1473 Training Loss: 0.14324853 Test Loss: 0.13969487\n",
      "Epoch: 1474 Training Loss: 0.14324573 Test Loss: 0.13969189\n",
      "Epoch: 1475 Training Loss: 0.14324297 Test Loss: 0.13968888\n",
      "Epoch: 1476 Training Loss: 0.14324012 Test Loss: 0.13968594\n",
      "Epoch: 1477 Training Loss: 0.14323734 Test Loss: 0.13968292\n",
      "Epoch: 1478 Training Loss: 0.14323458 Test Loss: 0.13967997\n",
      "Epoch: 1479 Training Loss: 0.1432318 Test Loss: 0.13967703\n",
      "Epoch: 1480 Training Loss: 0.14322892 Test Loss: 0.1396741\n",
      "Epoch: 1481 Training Loss: 0.14322618 Test Loss: 0.13967119\n",
      "Epoch: 1482 Training Loss: 0.14322342 Test Loss: 0.13966826\n",
      "Epoch: 1483 Training Loss: 0.14322062 Test Loss: 0.13966537\n",
      "Epoch: 1484 Training Loss: 0.1432178 Test Loss: 0.13966238\n",
      "Epoch: 1485 Training Loss: 0.143215 Test Loss: 0.13965945\n",
      "Epoch: 1486 Training Loss: 0.1432122 Test Loss: 0.13965662\n",
      "Epoch: 1487 Training Loss: 0.1432094 Test Loss: 0.13965362\n",
      "Epoch: 1488 Training Loss: 0.14320667 Test Loss: 0.13965067\n",
      "Epoch: 1489 Training Loss: 0.14320384 Test Loss: 0.13964774\n",
      "Epoch: 1490 Training Loss: 0.14320107 Test Loss: 0.13964483\n",
      "Epoch: 1491 Training Loss: 0.14319827 Test Loss: 0.13964194\n",
      "Epoch: 1492 Training Loss: 0.14319547 Test Loss: 0.13963903\n",
      "Epoch: 1493 Training Loss: 0.14319272 Test Loss: 0.1396361\n",
      "Epoch: 1494 Training Loss: 0.14318994 Test Loss: 0.13963324\n",
      "Epoch: 1495 Training Loss: 0.14318717 Test Loss: 0.13963029\n",
      "Epoch: 1496 Training Loss: 0.14318436 Test Loss: 0.13962738\n",
      "Epoch: 1497 Training Loss: 0.14318159 Test Loss: 0.1396245\n",
      "Epoch: 1498 Training Loss: 0.1431788 Test Loss: 0.13962165\n",
      "Epoch: 1499 Training Loss: 0.14317603 Test Loss: 0.13961877\n"
     ]
    }
   ],
   "source": [
    "Training_loss = [ ]\n",
    "Test_loss = [ ]\n",
    "epochs = 1500\n",
    "for epoch in range (epochs):\n",
    "    sess.run(opt, feed_dict = {x: x_train, y: y_train})\n",
    "    \n",
    "    Training_loss.append(sess.run(cost_function, feed_dict = {x: x_train, y: y_train}))\n",
    "    Test_loss.append(sess.run(cost_function, feed_dict = {x: x_test, y: y_test}))\n",
    "    \n",
    "    print('Epoch:', epoch, 'Training Loss:', Training_loss[epoch], 'Test Loss:', Test_loss[epoch])"
   ]
  },
  {
   "cell_type": "code",
   "execution_count": 53,
   "metadata": {},
   "outputs": [],
   "source": [
    "y_pred = sess.run(out, feed_dict = {x: x_test})"
   ]
  },
  {
   "cell_type": "code",
   "execution_count": 54,
   "metadata": {},
   "outputs": [
    {
     "data": {
      "text/plain": [
       "array([[0.27347443],\n",
       "       [0.33827376],\n",
       "       [0.20757052],\n",
       "       ...,\n",
       "       [0.24407822],\n",
       "       [0.07727322],\n",
       "       [0.20401123]], dtype=float32)"
      ]
     },
     "execution_count": 54,
     "metadata": {},
     "output_type": "execute_result"
    }
   ],
   "source": [
    "y_pred"
   ]
  },
  {
   "cell_type": "code",
   "execution_count": 55,
   "metadata": {},
   "outputs": [],
   "source": [
    "y_pred = (y_pred > 0.5)"
   ]
  },
  {
   "cell_type": "code",
   "execution_count": 56,
   "metadata": {},
   "outputs": [
    {
     "data": {
      "text/plain": [
       "array([[False],\n",
       "       [False],\n",
       "       [False],\n",
       "       ...,\n",
       "       [False],\n",
       "       [False],\n",
       "       [False]])"
      ]
     },
     "execution_count": 56,
     "metadata": {},
     "output_type": "execute_result"
    }
   ],
   "source": [
    "y_pred"
   ]
  },
  {
   "cell_type": "code",
   "execution_count": 57,
   "metadata": {},
   "outputs": [
    {
     "data": {
      "text/plain": [
       "array([[1566,   29],\n",
       "       [ 376,   29]])"
      ]
     },
     "execution_count": 57,
     "metadata": {},
     "output_type": "execute_result"
    }
   ],
   "source": [
    "cm = confusion_matrix(y_test, y_pred)\n",
    "cm"
   ]
  },
  {
   "cell_type": "code",
   "execution_count": 58,
   "metadata": {},
   "outputs": [
    {
     "name": "stdout",
     "output_type": "stream",
     "text": [
      "              precision    recall  f1-score   support\n",
      "\n",
      "           0       0.81      0.98      0.89      1595\n",
      "           1       0.50      0.07      0.13       405\n",
      "\n",
      "    accuracy                           0.80      2000\n",
      "   macro avg       0.65      0.53      0.51      2000\n",
      "weighted avg       0.74      0.80      0.73      2000\n",
      "\n"
     ]
    }
   ],
   "source": [
    "print(classification_report(y_test, y_pred))"
   ]
  },
  {
   "cell_type": "code",
   "execution_count": 59,
   "metadata": {},
   "outputs": [
    {
     "name": "stdout",
     "output_type": "stream",
     "text": [
      "0.7975\n"
     ]
    }
   ],
   "source": [
    "print(accuracy_score(y_test, y_pred))"
   ]
  },
  {
   "cell_type": "code",
   "execution_count": 60,
   "metadata": {},
   "outputs": [
    {
     "data": {
      "image/png": "[encoded data removed]",
      "text/plain": [
       "<Figure size 432x288 with 1 Axes>"
      ]
     },
     "metadata": {
      "needs_background": "light"
     },
     "output_type": "display_data"
    }
   ],
   "source": [
    "plt.plot(Training_loss)\n",
    "plt.show()"
   ]
  },
  {
   "cell_type": "code",
   "execution_count": 61,
   "metadata": {},
   "outputs": [
    {
     "data": {
      "image/png": "[encoded data removed]",
      "text/plain": [
       "<Figure size 432x288 with 1 Axes>"
      ]
     },
     "metadata": {
      "needs_background": "light"
     },
     "output_type": "display_data"
    }
   ],
   "source": [
    "plt.plot(Test_loss)\n",
    "plt.show()"
   ]
  },
  {
   "cell_type": "code",
   "execution_count": null,
   "metadata": {},
   "outputs": [],
   "source": []
  }
 ],
 "metadata": {
  "kernelspec": {
   "display_name": "Python 3",
   "language": "python",
   "name": "python3"
  },
  "language_info": {
   "codemirror_mode": {
    "name": "ipython",
    "version": 3
   },
   "file_extension": ".py",
   "mimetype": "text/x-python",
   "name": "python",
   "nbconvert_exporter": "python",
   "pygments_lexer": "ipython3",
   "version": "3.7.5"
  }
 },
 "nbformat": 4,
 "nbformat_minor": 2
}
