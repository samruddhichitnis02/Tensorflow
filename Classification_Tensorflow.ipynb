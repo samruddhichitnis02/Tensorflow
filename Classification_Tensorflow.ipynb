{
 "cells": [
  {
   "cell_type": "code",
   "execution_count": 1,
   "metadata": {},
   "outputs": [],
   "source": [
    "import tensorflow as tf\n",
    "from sklearn.model_selection import train_test_split\n",
    "from sklearn.preprocessing import LabelEncoder, OneHotEncoder, StandardScaler\n",
    "from sklearn.metrics import classification_report, confusion_matrix, accuracy_score\n",
    "\n",
    "import seaborn as sb\n",
    "import matplotlib.pyplot as plt\n",
    "import pandas as pd\n",
    "import numpy as np\n",
    "\n",
    "import warnings\n",
    "warnings.filterwarnings('ignore')"
   ]
  },
  {
   "cell_type": "code",
   "execution_count": 2,
   "metadata": {},
   "outputs": [
    {
     "data": {
      "text/plain": [
       "'2.0.0'"
      ]
     },
     "execution_count": 2,
     "metadata": {},
     "output_type": "execute_result"
    }
   ],
   "source": [
    "tf.__version__"
   ]
  },
  {
   "cell_type": "code",
   "execution_count": 3,
   "metadata": {},
   "outputs": [],
   "source": [
    "data = pd.read_csv('Churn_Modelling.csv')"
   ]
  },
  {
   "cell_type": "code",
   "execution_count": 4,
   "metadata": {},
   "outputs": [
    {
     "data": {
      "text/plain": [
       "(10000, 14)"
      ]
     },
     "execution_count": 4,
     "metadata": {},
     "output_type": "execute_result"
    }
   ],
   "source": [
    "data.shape"
   ]
  },
  {
   "cell_type": "code",
   "execution_count": 5,
   "metadata": {},
   "outputs": [
    {
     "data": {
      "text/html": [
       "<div>\n",
       "<style scoped>\n",
       "    .dataframe tbody tr th:only-of-type {\n",
       "        vertical-align: middle;\n",
       "    }\n",
       "\n",
       "    .dataframe tbody tr th {\n",
       "        vertical-align: top;\n",
       "    }\n",
       "\n",
       "    .dataframe thead th {\n",
       "        text-align: right;\n",
       "    }\n",
       "</style>\n",
       "<table border=\"1\" class=\"dataframe\">\n",
       "  <thead>\n",
       "    <tr style=\"text-align: right;\">\n",
       "      <th></th>\n",
       "      <th>RowNumber</th>\n",
       "      <th>CustomerId</th>\n",
       "      <th>Surname</th>\n",
       "      <th>CreditScore</th>\n",
       "      <th>Geography</th>\n",
       "      <th>Gender</th>\n",
       "      <th>Age</th>\n",
       "      <th>Tenure</th>\n",
       "      <th>Balance</th>\n",
       "      <th>NumOfProducts</th>\n",
       "      <th>HasCrCard</th>\n",
       "      <th>IsActiveMember</th>\n",
       "      <th>EstimatedSalary</th>\n",
       "      <th>Exited</th>\n",
       "    </tr>\n",
       "  </thead>\n",
       "  <tbody>\n",
       "    <tr>\n",
       "      <th>0</th>\n",
       "      <td>1</td>\n",
       "      <td>15634602</td>\n",
       "      <td>Hargrave</td>\n",
       "      <td>619</td>\n",
       "      <td>France</td>\n",
       "      <td>Female</td>\n",
       "      <td>42</td>\n",
       "      <td>2</td>\n",
       "      <td>0.00</td>\n",
       "      <td>1</td>\n",
       "      <td>1</td>\n",
       "      <td>1</td>\n",
       "      <td>101348.88</td>\n",
       "      <td>1</td>\n",
       "    </tr>\n",
       "    <tr>\n",
       "      <th>1</th>\n",
       "      <td>2</td>\n",
       "      <td>15647311</td>\n",
       "      <td>Hill</td>\n",
       "      <td>608</td>\n",
       "      <td>Spain</td>\n",
       "      <td>Female</td>\n",
       "      <td>41</td>\n",
       "      <td>1</td>\n",
       "      <td>83807.86</td>\n",
       "      <td>1</td>\n",
       "      <td>0</td>\n",
       "      <td>1</td>\n",
       "      <td>112542.58</td>\n",
       "      <td>0</td>\n",
       "    </tr>\n",
       "    <tr>\n",
       "      <th>2</th>\n",
       "      <td>3</td>\n",
       "      <td>15619304</td>\n",
       "      <td>Onio</td>\n",
       "      <td>502</td>\n",
       "      <td>France</td>\n",
       "      <td>Female</td>\n",
       "      <td>42</td>\n",
       "      <td>8</td>\n",
       "      <td>159660.80</td>\n",
       "      <td>3</td>\n",
       "      <td>1</td>\n",
       "      <td>0</td>\n",
       "      <td>113931.57</td>\n",
       "      <td>1</td>\n",
       "    </tr>\n",
       "    <tr>\n",
       "      <th>3</th>\n",
       "      <td>4</td>\n",
       "      <td>15701354</td>\n",
       "      <td>Boni</td>\n",
       "      <td>699</td>\n",
       "      <td>France</td>\n",
       "      <td>Female</td>\n",
       "      <td>39</td>\n",
       "      <td>1</td>\n",
       "      <td>0.00</td>\n",
       "      <td>2</td>\n",
       "      <td>0</td>\n",
       "      <td>0</td>\n",
       "      <td>93826.63</td>\n",
       "      <td>0</td>\n",
       "    </tr>\n",
       "    <tr>\n",
       "      <th>4</th>\n",
       "      <td>5</td>\n",
       "      <td>15737888</td>\n",
       "      <td>Mitchell</td>\n",
       "      <td>850</td>\n",
       "      <td>Spain</td>\n",
       "      <td>Female</td>\n",
       "      <td>43</td>\n",
       "      <td>2</td>\n",
       "      <td>125510.82</td>\n",
       "      <td>1</td>\n",
       "      <td>1</td>\n",
       "      <td>1</td>\n",
       "      <td>79084.10</td>\n",
       "      <td>0</td>\n",
       "    </tr>\n",
       "  </tbody>\n",
       "</table>\n",
       "</div>"
      ],
      "text/plain": [
       "   RowNumber  CustomerId   Surname  CreditScore Geography  Gender  Age  \\\n",
       "0          1    15634602  Hargrave          619    France  Female   42   \n",
       "1          2    15647311      Hill          608     Spain  Female   41   \n",
       "2          3    15619304      Onio          502    France  Female   42   \n",
       "3          4    15701354      Boni          699    France  Female   39   \n",
       "4          5    15737888  Mitchell          850     Spain  Female   43   \n",
       "\n",
       "   Tenure    Balance  NumOfProducts  HasCrCard  IsActiveMember  \\\n",
       "0       2       0.00              1          1               1   \n",
       "1       1   83807.86              1          0               1   \n",
       "2       8  159660.80              3          1               0   \n",
       "3       1       0.00              2          0               0   \n",
       "4       2  125510.82              1          1               1   \n",
       "\n",
       "   EstimatedSalary  Exited  \n",
       "0        101348.88       1  \n",
       "1        112542.58       0  \n",
       "2        113931.57       1  \n",
       "3         93826.63       0  \n",
       "4         79084.10       0  "
      ]
     },
     "execution_count": 5,
     "metadata": {},
     "output_type": "execute_result"
    }
   ],
   "source": [
    "data.head()"
   ]
  },
  {
   "cell_type": "code",
   "execution_count": 6,
   "metadata": {},
   "outputs": [
    {
     "data": {
      "text/plain": [
       "(10000, 10000)"
      ]
     },
     "execution_count": 6,
     "metadata": {},
     "output_type": "execute_result"
    }
   ],
   "source": [
    "len(data['RowNumber'].unique()), len(data['CustomerId'].unique())"
   ]
  },
  {
   "cell_type": "code",
   "execution_count": 7,
   "metadata": {},
   "outputs": [],
   "source": [
    "data.drop(['RowNumber', 'CustomerId', 'Surname'], axis = 1, inplace = True)"
   ]
  },
  {
   "cell_type": "code",
   "execution_count": 8,
   "metadata": {},
   "outputs": [
    {
     "data": {
      "text/html": [
       "<div>\n",
       "<style scoped>\n",
       "    .dataframe tbody tr th:only-of-type {\n",
       "        vertical-align: middle;\n",
       "    }\n",
       "\n",
       "    .dataframe tbody tr th {\n",
       "        vertical-align: top;\n",
       "    }\n",
       "\n",
       "    .dataframe thead th {\n",
       "        text-align: right;\n",
       "    }\n",
       "</style>\n",
       "<table border=\"1\" class=\"dataframe\">\n",
       "  <thead>\n",
       "    <tr style=\"text-align: right;\">\n",
       "      <th></th>\n",
       "      <th>CreditScore</th>\n",
       "      <th>Geography</th>\n",
       "      <th>Gender</th>\n",
       "      <th>Age</th>\n",
       "      <th>Tenure</th>\n",
       "      <th>Balance</th>\n",
       "      <th>NumOfProducts</th>\n",
       "      <th>HasCrCard</th>\n",
       "      <th>IsActiveMember</th>\n",
       "      <th>EstimatedSalary</th>\n",
       "      <th>Exited</th>\n",
       "    </tr>\n",
       "  </thead>\n",
       "  <tbody>\n",
       "    <tr>\n",
       "      <th>0</th>\n",
       "      <td>619</td>\n",
       "      <td>France</td>\n",
       "      <td>Female</td>\n",
       "      <td>42</td>\n",
       "      <td>2</td>\n",
       "      <td>0.00</td>\n",
       "      <td>1</td>\n",
       "      <td>1</td>\n",
       "      <td>1</td>\n",
       "      <td>101348.88</td>\n",
       "      <td>1</td>\n",
       "    </tr>\n",
       "    <tr>\n",
       "      <th>1</th>\n",
       "      <td>608</td>\n",
       "      <td>Spain</td>\n",
       "      <td>Female</td>\n",
       "      <td>41</td>\n",
       "      <td>1</td>\n",
       "      <td>83807.86</td>\n",
       "      <td>1</td>\n",
       "      <td>0</td>\n",
       "      <td>1</td>\n",
       "      <td>112542.58</td>\n",
       "      <td>0</td>\n",
       "    </tr>\n",
       "    <tr>\n",
       "      <th>2</th>\n",
       "      <td>502</td>\n",
       "      <td>France</td>\n",
       "      <td>Female</td>\n",
       "      <td>42</td>\n",
       "      <td>8</td>\n",
       "      <td>159660.80</td>\n",
       "      <td>3</td>\n",
       "      <td>1</td>\n",
       "      <td>0</td>\n",
       "      <td>113931.57</td>\n",
       "      <td>1</td>\n",
       "    </tr>\n",
       "    <tr>\n",
       "      <th>3</th>\n",
       "      <td>699</td>\n",
       "      <td>France</td>\n",
       "      <td>Female</td>\n",
       "      <td>39</td>\n",
       "      <td>1</td>\n",
       "      <td>0.00</td>\n",
       "      <td>2</td>\n",
       "      <td>0</td>\n",
       "      <td>0</td>\n",
       "      <td>93826.63</td>\n",
       "      <td>0</td>\n",
       "    </tr>\n",
       "    <tr>\n",
       "      <th>4</th>\n",
       "      <td>850</td>\n",
       "      <td>Spain</td>\n",
       "      <td>Female</td>\n",
       "      <td>43</td>\n",
       "      <td>2</td>\n",
       "      <td>125510.82</td>\n",
       "      <td>1</td>\n",
       "      <td>1</td>\n",
       "      <td>1</td>\n",
       "      <td>79084.10</td>\n",
       "      <td>0</td>\n",
       "    </tr>\n",
       "  </tbody>\n",
       "</table>\n",
       "</div>"
      ],
      "text/plain": [
       "   CreditScore Geography  Gender  Age  Tenure    Balance  NumOfProducts  \\\n",
       "0          619    France  Female   42       2       0.00              1   \n",
       "1          608     Spain  Female   41       1   83807.86              1   \n",
       "2          502    France  Female   42       8  159660.80              3   \n",
       "3          699    France  Female   39       1       0.00              2   \n",
       "4          850     Spain  Female   43       2  125510.82              1   \n",
       "\n",
       "   HasCrCard  IsActiveMember  EstimatedSalary  Exited  \n",
       "0          1               1        101348.88       1  \n",
       "1          0               1        112542.58       0  \n",
       "2          1               0        113931.57       1  \n",
       "3          0               0         93826.63       0  \n",
       "4          1               1         79084.10       0  "
      ]
     },
     "execution_count": 8,
     "metadata": {},
     "output_type": "execute_result"
    }
   ],
   "source": [
    "data.head()"
   ]
  },
  {
   "cell_type": "code",
   "execution_count": 9,
   "metadata": {},
   "outputs": [
    {
     "data": {
      "image/png": "[encoded data removed]",
      "text/plain": [
       "<Figure size 432x288 with 1 Axes>"
      ]
     },
     "metadata": {
      "needs_background": "light"
     },
     "output_type": "display_data"
    }
   ],
   "source": [
    "sb.heatmap(data.isna(),\n",
    "          cbar = False,\n",
    "          yticklabels = False,\n",
    "          cmap = 'summer')\n",
    "plt.show()"
   ]
  },
  {
   "cell_type": "code",
   "execution_count": 10,
   "metadata": {},
   "outputs": [
    {
     "data": {
      "image/png": "[encoded data removed]",
      "text/plain": [
       "<Figure size 432x288 with 1 Axes>"
      ]
     },
     "metadata": {
      "needs_background": "light"
     },
     "output_type": "display_data"
    }
   ],
   "source": [
    "sb.countplot(data['Exited'])\n",
    "plt.show()"
   ]
  },
  {
   "cell_type": "code",
   "execution_count": 11,
   "metadata": {},
   "outputs": [
    {
     "data": {
      "image/png": "[encoded data removed]",
      "text/plain": [
       "<Figure size 720x432 with 2 Axes>"
      ]
     },
     "metadata": {
      "needs_background": "light"
     },
     "output_type": "display_data"
    }
   ],
   "source": [
    "fig, ax = plt.subplots(figsize = (10, 6))\n",
    "\n",
    "corr = data.corr()\n",
    "ax = sb.heatmap(corr,\n",
    "          annot = True,\n",
    "          cmap = 'Blues')\n",
    "bottom, top = ax.get_ylim()\n",
    "ax.set_ylim(bottom + 0.5, top - 0.5)\n",
    "plt.show()"
   ]
  },
  {
   "cell_type": "code",
   "execution_count": 12,
   "metadata": {},
   "outputs": [
    {
     "data": {
      "text/html": [
       "<div>\n",
       "<style scoped>\n",
       "    .dataframe tbody tr th:only-of-type {\n",
       "        vertical-align: middle;\n",
       "    }\n",
       "\n",
       "    .dataframe tbody tr th {\n",
       "        vertical-align: top;\n",
       "    }\n",
       "\n",
       "    .dataframe thead th {\n",
       "        text-align: right;\n",
       "    }\n",
       "</style>\n",
       "<table border=\"1\" class=\"dataframe\">\n",
       "  <thead>\n",
       "    <tr style=\"text-align: right;\">\n",
       "      <th></th>\n",
       "      <th>CreditScore</th>\n",
       "      <th>Geography</th>\n",
       "      <th>Gender</th>\n",
       "      <th>Age</th>\n",
       "      <th>Tenure</th>\n",
       "      <th>Balance</th>\n",
       "      <th>NumOfProducts</th>\n",
       "      <th>HasCrCard</th>\n",
       "      <th>IsActiveMember</th>\n",
       "      <th>EstimatedSalary</th>\n",
       "      <th>Exited</th>\n",
       "    </tr>\n",
       "  </thead>\n",
       "  <tbody>\n",
       "  </tbody>\n",
       "</table>\n",
       "</div>"
      ],
      "text/plain": [
       "Empty DataFrame\n",
       "Columns: [CreditScore, Geography, Gender, Age, Tenure, Balance, NumOfProducts, HasCrCard, IsActiveMember, EstimatedSalary, Exited]\n",
       "Index: []"
      ]
     },
     "execution_count": 12,
     "metadata": {},
     "output_type": "execute_result"
    }
   ],
   "source": [
    "data[data.duplicated()]"
   ]
  },
  {
   "cell_type": "code",
   "execution_count": 13,
   "metadata": {},
   "outputs": [
    {
     "data": {
      "image/png": "[encoded data removed]",
      "text/plain": [
       "<Figure size 1080x576 with 1 Axes>"
      ]
     },
     "metadata": {
      "needs_background": "light"
     },
     "output_type": "display_data"
    }
   ],
   "source": [
    "fig, ax = plt.subplots(figsize = (15, 8))\n",
    "\n",
    "sb.countplot(data['Age'])\n",
    "plt.show()"
   ]
  },
  {
   "cell_type": "code",
   "execution_count": 14,
   "metadata": {},
   "outputs": [
    {
     "data": {
      "image/png": "[encoded data removed]",
      "text/plain": [
       "<Figure size 360x288 with 1 Axes>"
      ]
     },
     "metadata": {
      "needs_background": "light"
     },
     "output_type": "display_data"
    }
   ],
   "source": [
    "fig, ax = plt.subplots(figsize = (5, 4))\n",
    "\n",
    "sb.countplot(data['Gender'])\n",
    "plt.show()"
   ]
  },
  {
   "cell_type": "code",
   "execution_count": 15,
   "metadata": {},
   "outputs": [
    {
     "data": {
      "image/png": "[encoded data removed]",
      "text/plain": [
       "<Figure size 432x288 with 1 Axes>"
      ]
     },
     "metadata": {
      "needs_background": "light"
     },
     "output_type": "display_data"
    }
   ],
   "source": [
    "sb.distplot(data['Balance'])\n",
    "plt.show()"
   ]
  },
  {
   "cell_type": "code",
   "execution_count": 16,
   "metadata": {},
   "outputs": [
    {
     "data": {
      "image/png": "[encoded data removed]",
      "text/plain": [
       "<Figure size 432x288 with 1 Axes>"
      ]
     },
     "metadata": {
      "needs_background": "light"
     },
     "output_type": "display_data"
    }
   ],
   "source": [
    "sb.countplot(data['Geography'])\n",
    "plt.show()"
   ]
  },
  {
   "cell_type": "code",
   "execution_count": 17,
   "metadata": {},
   "outputs": [
    {
     "data": {
      "image/png": "[encoded data removed]",
      "text/plain": [
       "<Figure size 432x288 with 1 Axes>"
      ]
     },
     "metadata": {
      "needs_background": "light"
     },
     "output_type": "display_data"
    }
   ],
   "source": [
    "sb.boxplot(x = 'Geography', \n",
    "           y = 'Exited', \n",
    "           data = data)\n",
    "plt.grid()\n",
    "plt.show()"
   ]
  },
  {
   "cell_type": "code",
   "execution_count": 18,
   "metadata": {},
   "outputs": [
    {
     "data": {
      "image/png": "[encoded data removed]",
      "text/plain": [
       "<Figure size 432x288 with 1 Axes>"
      ]
     },
     "metadata": {
      "needs_background": "light"
     },
     "output_type": "display_data"
    }
   ],
   "source": [
    "sb.boxplot(x = 'Tenure', \n",
    "           y = 'Exited', \n",
    "           data = data)\n",
    "plt.grid()\n",
    "plt.show()"
   ]
  },
  {
   "cell_type": "code",
   "execution_count": 19,
   "metadata": {},
   "outputs": [
    {
     "data": {
      "text/html": [
       "<div>\n",
       "<style scoped>\n",
       "    .dataframe tbody tr th:only-of-type {\n",
       "        vertical-align: middle;\n",
       "    }\n",
       "\n",
       "    .dataframe tbody tr th {\n",
       "        vertical-align: top;\n",
       "    }\n",
       "\n",
       "    .dataframe thead th {\n",
       "        text-align: right;\n",
       "    }\n",
       "</style>\n",
       "<table border=\"1\" class=\"dataframe\">\n",
       "  <thead>\n",
       "    <tr style=\"text-align: right;\">\n",
       "      <th></th>\n",
       "      <th>CreditScore</th>\n",
       "      <th>Age</th>\n",
       "      <th>Tenure</th>\n",
       "      <th>Balance</th>\n",
       "      <th>NumOfProducts</th>\n",
       "      <th>HasCrCard</th>\n",
       "      <th>IsActiveMember</th>\n",
       "      <th>EstimatedSalary</th>\n",
       "      <th>Exited</th>\n",
       "    </tr>\n",
       "  </thead>\n",
       "  <tbody>\n",
       "    <tr>\n",
       "      <th>count</th>\n",
       "      <td>10000.000000</td>\n",
       "      <td>10000.000000</td>\n",
       "      <td>10000.000000</td>\n",
       "      <td>10000.000000</td>\n",
       "      <td>10000.000000</td>\n",
       "      <td>10000.00000</td>\n",
       "      <td>10000.000000</td>\n",
       "      <td>10000.000000</td>\n",
       "      <td>10000.000000</td>\n",
       "    </tr>\n",
       "    <tr>\n",
       "      <th>mean</th>\n",
       "      <td>650.528800</td>\n",
       "      <td>38.921800</td>\n",
       "      <td>5.012800</td>\n",
       "      <td>76485.889288</td>\n",
       "      <td>1.530200</td>\n",
       "      <td>0.70550</td>\n",
       "      <td>0.515100</td>\n",
       "      <td>100090.239881</td>\n",
       "      <td>0.203700</td>\n",
       "    </tr>\n",
       "    <tr>\n",
       "      <th>std</th>\n",
       "      <td>96.653299</td>\n",
       "      <td>10.487806</td>\n",
       "      <td>2.892174</td>\n",
       "      <td>62397.405202</td>\n",
       "      <td>0.581654</td>\n",
       "      <td>0.45584</td>\n",
       "      <td>0.499797</td>\n",
       "      <td>57510.492818</td>\n",
       "      <td>0.402769</td>\n",
       "    </tr>\n",
       "    <tr>\n",
       "      <th>min</th>\n",
       "      <td>350.000000</td>\n",
       "      <td>18.000000</td>\n",
       "      <td>0.000000</td>\n",
       "      <td>0.000000</td>\n",
       "      <td>1.000000</td>\n",
       "      <td>0.00000</td>\n",
       "      <td>0.000000</td>\n",
       "      <td>11.580000</td>\n",
       "      <td>0.000000</td>\n",
       "    </tr>\n",
       "    <tr>\n",
       "      <th>25%</th>\n",
       "      <td>584.000000</td>\n",
       "      <td>32.000000</td>\n",
       "      <td>3.000000</td>\n",
       "      <td>0.000000</td>\n",
       "      <td>1.000000</td>\n",
       "      <td>0.00000</td>\n",
       "      <td>0.000000</td>\n",
       "      <td>51002.110000</td>\n",
       "      <td>0.000000</td>\n",
       "    </tr>\n",
       "    <tr>\n",
       "      <th>50%</th>\n",
       "      <td>652.000000</td>\n",
       "      <td>37.000000</td>\n",
       "      <td>5.000000</td>\n",
       "      <td>97198.540000</td>\n",
       "      <td>1.000000</td>\n",
       "      <td>1.00000</td>\n",
       "      <td>1.000000</td>\n",
       "      <td>100193.915000</td>\n",
       "      <td>0.000000</td>\n",
       "    </tr>\n",
       "    <tr>\n",
       "      <th>75%</th>\n",
       "      <td>718.000000</td>\n",
       "      <td>44.000000</td>\n",
       "      <td>7.000000</td>\n",
       "      <td>127644.240000</td>\n",
       "      <td>2.000000</td>\n",
       "      <td>1.00000</td>\n",
       "      <td>1.000000</td>\n",
       "      <td>149388.247500</td>\n",
       "      <td>0.000000</td>\n",
       "    </tr>\n",
       "    <tr>\n",
       "      <th>max</th>\n",
       "      <td>850.000000</td>\n",
       "      <td>92.000000</td>\n",
       "      <td>10.000000</td>\n",
       "      <td>250898.090000</td>\n",
       "      <td>4.000000</td>\n",
       "      <td>1.00000</td>\n",
       "      <td>1.000000</td>\n",
       "      <td>199992.480000</td>\n",
       "      <td>1.000000</td>\n",
       "    </tr>\n",
       "  </tbody>\n",
       "</table>\n",
       "</div>"
      ],
      "text/plain": [
       "        CreditScore           Age        Tenure        Balance  NumOfProducts  \\\n",
       "count  10000.000000  10000.000000  10000.000000   10000.000000   10000.000000   \n",
       "mean     650.528800     38.921800      5.012800   76485.889288       1.530200   \n",
       "std       96.653299     10.487806      2.892174   62397.405202       0.581654   \n",
       "min      350.000000     18.000000      0.000000       0.000000       1.000000   \n",
       "25%      584.000000     32.000000      3.000000       0.000000       1.000000   \n",
       "50%      652.000000     37.000000      5.000000   97198.540000       1.000000   \n",
       "75%      718.000000     44.000000      7.000000  127644.240000       2.000000   \n",
       "max      850.000000     92.000000     10.000000  250898.090000       4.000000   \n",
       "\n",
       "         HasCrCard  IsActiveMember  EstimatedSalary        Exited  \n",
       "count  10000.00000    10000.000000     10000.000000  10000.000000  \n",
       "mean       0.70550        0.515100    100090.239881      0.203700  \n",
       "std        0.45584        0.499797     57510.492818      0.402769  \n",
       "min        0.00000        0.000000        11.580000      0.000000  \n",
       "25%        0.00000        0.000000     51002.110000      0.000000  \n",
       "50%        1.00000        1.000000    100193.915000      0.000000  \n",
       "75%        1.00000        1.000000    149388.247500      0.000000  \n",
       "max        1.00000        1.000000    199992.480000      1.000000  "
      ]
     },
     "execution_count": 19,
     "metadata": {},
     "output_type": "execute_result"
    }
   ],
   "source": [
    "data.describe()"
   ]
  },
  {
   "cell_type": "markdown",
   "metadata": {},
   "source": [
    "# Data Preprocessing"
   ]
  },
  {
   "cell_type": "code",
   "execution_count": 20,
   "metadata": {
    "scrolled": true
   },
   "outputs": [
    {
     "data": {
      "text/plain": [
       "array([ 2,  1,  8,  7,  4,  6,  3, 10,  5,  9,  0])"
      ]
     },
     "execution_count": 20,
     "metadata": {},
     "output_type": "execute_result"
    }
   ],
   "source": [
    "data['Tenure'].unique()"
   ]
  },
  {
   "cell_type": "code",
   "execution_count": 21,
   "metadata": {},
   "outputs": [
    {
     "data": {
      "text/plain": [
       "array([1, 3, 2, 4])"
      ]
     },
     "execution_count": 21,
     "metadata": {},
     "output_type": "execute_result"
    }
   ],
   "source": [
    "data['NumOfProducts'].unique()"
   ]
  },
  {
   "cell_type": "code",
   "execution_count": 22,
   "metadata": {},
   "outputs": [],
   "source": [
    "sc = StandardScaler()\n",
    "data.iloc[:, [0,3,5,9]] = sc.fit_transform(data.iloc[:,[0,3,5,9]])"
   ]
  },
  {
   "cell_type": "code",
   "execution_count": 23,
   "metadata": {},
   "outputs": [
    {
     "data": {
      "text/html": [
       "<div>\n",
       "<style scoped>\n",
       "    .dataframe tbody tr th:only-of-type {\n",
       "        vertical-align: middle;\n",
       "    }\n",
       "\n",
       "    .dataframe tbody tr th {\n",
       "        vertical-align: top;\n",
       "    }\n",
       "\n",
       "    .dataframe thead th {\n",
       "        text-align: right;\n",
       "    }\n",
       "</style>\n",
       "<table border=\"1\" class=\"dataframe\">\n",
       "  <thead>\n",
       "    <tr style=\"text-align: right;\">\n",
       "      <th></th>\n",
       "      <th>CreditScore</th>\n",
       "      <th>Geography</th>\n",
       "      <th>Gender</th>\n",
       "      <th>Age</th>\n",
       "      <th>Tenure</th>\n",
       "      <th>Balance</th>\n",
       "      <th>NumOfProducts</th>\n",
       "      <th>HasCrCard</th>\n",
       "      <th>IsActiveMember</th>\n",
       "      <th>EstimatedSalary</th>\n",
       "      <th>Exited</th>\n",
       "    </tr>\n",
       "  </thead>\n",
       "  <tbody>\n",
       "    <tr>\n",
       "      <th>0</th>\n",
       "      <td>-0.326221</td>\n",
       "      <td>France</td>\n",
       "      <td>Female</td>\n",
       "      <td>0.293517</td>\n",
       "      <td>2</td>\n",
       "      <td>-1.225848</td>\n",
       "      <td>1</td>\n",
       "      <td>1</td>\n",
       "      <td>1</td>\n",
       "      <td>0.021886</td>\n",
       "      <td>1</td>\n",
       "    </tr>\n",
       "    <tr>\n",
       "      <th>1</th>\n",
       "      <td>-0.440036</td>\n",
       "      <td>Spain</td>\n",
       "      <td>Female</td>\n",
       "      <td>0.198164</td>\n",
       "      <td>1</td>\n",
       "      <td>0.117350</td>\n",
       "      <td>1</td>\n",
       "      <td>0</td>\n",
       "      <td>1</td>\n",
       "      <td>0.216534</td>\n",
       "      <td>0</td>\n",
       "    </tr>\n",
       "    <tr>\n",
       "      <th>2</th>\n",
       "      <td>-1.536794</td>\n",
       "      <td>France</td>\n",
       "      <td>Female</td>\n",
       "      <td>0.293517</td>\n",
       "      <td>8</td>\n",
       "      <td>1.333053</td>\n",
       "      <td>3</td>\n",
       "      <td>1</td>\n",
       "      <td>0</td>\n",
       "      <td>0.240687</td>\n",
       "      <td>1</td>\n",
       "    </tr>\n",
       "    <tr>\n",
       "      <th>3</th>\n",
       "      <td>0.501521</td>\n",
       "      <td>France</td>\n",
       "      <td>Female</td>\n",
       "      <td>0.007457</td>\n",
       "      <td>1</td>\n",
       "      <td>-1.225848</td>\n",
       "      <td>2</td>\n",
       "      <td>0</td>\n",
       "      <td>0</td>\n",
       "      <td>-0.108918</td>\n",
       "      <td>0</td>\n",
       "    </tr>\n",
       "    <tr>\n",
       "      <th>4</th>\n",
       "      <td>2.063884</td>\n",
       "      <td>Spain</td>\n",
       "      <td>Female</td>\n",
       "      <td>0.388871</td>\n",
       "      <td>2</td>\n",
       "      <td>0.785728</td>\n",
       "      <td>1</td>\n",
       "      <td>1</td>\n",
       "      <td>1</td>\n",
       "      <td>-0.365276</td>\n",
       "      <td>0</td>\n",
       "    </tr>\n",
       "  </tbody>\n",
       "</table>\n",
       "</div>"
      ],
      "text/plain": [
       "   CreditScore Geography  Gender       Age  Tenure   Balance  NumOfProducts  \\\n",
       "0    -0.326221    France  Female  0.293517       2 -1.225848              1   \n",
       "1    -0.440036     Spain  Female  0.198164       1  0.117350              1   \n",
       "2    -1.536794    France  Female  0.293517       8  1.333053              3   \n",
       "3     0.501521    France  Female  0.007457       1 -1.225848              2   \n",
       "4     2.063884     Spain  Female  0.388871       2  0.785728              1   \n",
       "\n",
       "   HasCrCard  IsActiveMember  EstimatedSalary  Exited  \n",
       "0          1               1         0.021886       1  \n",
       "1          0               1         0.216534       0  \n",
       "2          1               0         0.240687       1  \n",
       "3          0               0        -0.108918       0  \n",
       "4          1               1        -0.365276       0  "
      ]
     },
     "execution_count": 23,
     "metadata": {},
     "output_type": "execute_result"
    }
   ],
   "source": [
    "data.head()"
   ]
  },
  {
   "cell_type": "code",
   "execution_count": 24,
   "metadata": {},
   "outputs": [],
   "source": [
    "X = data.iloc[:, :-1].values\n",
    "Y = data.iloc[:, -1:].values"
   ]
  },
  {
   "cell_type": "code",
   "execution_count": 25,
   "metadata": {},
   "outputs": [
    {
     "data": {
      "text/plain": [
       "((10000, 10), (10000, 1))"
      ]
     },
     "execution_count": 25,
     "metadata": {},
     "output_type": "execute_result"
    }
   ],
   "source": [
    "X.shape, Y.shape"
   ]
  },
  {
   "cell_type": "code",
   "execution_count": 26,
   "metadata": {},
   "outputs": [
    {
     "data": {
      "text/plain": [
       "array([-0.4400359548576657, 'Spain', 'Female', 0.1981638321954454, 1,\n",
       "       0.11735002143511059, 1, 0, 1, 0.21653375188734025], dtype=object)"
      ]
     },
     "execution_count": 26,
     "metadata": {},
     "output_type": "execute_result"
    }
   ],
   "source": [
    "X[1]"
   ]
  },
  {
   "cell_type": "code",
   "execution_count": 27,
   "metadata": {},
   "outputs": [],
   "source": [
    "lb = LabelEncoder()\n",
    "X[:, 1] = lb.fit_transform(X[:, 1])\n",
    "X[:, 2] = lb.fit_transform(X[:, 2])"
   ]
  },
  {
   "cell_type": "code",
   "execution_count": 28,
   "metadata": {},
   "outputs": [
    {
     "data": {
      "text/plain": [
       "array([-0.4400359548576657, 2, 0, 0.1981638321954454, 1,\n",
       "       0.11735002143511059, 1, 0, 1, 0.21653375188734025], dtype=object)"
      ]
     },
     "execution_count": 28,
     "metadata": {},
     "output_type": "execute_result"
    }
   ],
   "source": [
    "X[1]"
   ]
  },
  {
   "cell_type": "code",
   "execution_count": 29,
   "metadata": {},
   "outputs": [],
   "source": [
    "ohe = OneHotEncoder(categorical_features = [1])\n",
    "X = ohe.fit_transform(X).toarray()"
   ]
  },
  {
   "cell_type": "code",
   "execution_count": 30,
   "metadata": {},
   "outputs": [
    {
     "data": {
      "text/plain": [
       "array([ 0.        ,  0.        ,  1.        , -0.44003595,  0.        ,\n",
       "        0.19816383,  1.        ,  0.11735002,  1.        ,  0.        ,\n",
       "        1.        ,  0.21653375])"
      ]
     },
     "execution_count": 30,
     "metadata": {},
     "output_type": "execute_result"
    }
   ],
   "source": [
    "X[1]"
   ]
  },
  {
   "cell_type": "code",
   "execution_count": 31,
   "metadata": {},
   "outputs": [],
   "source": [
    "X = X[:, 1:]"
   ]
  },
  {
   "cell_type": "code",
   "execution_count": 32,
   "metadata": {},
   "outputs": [
    {
     "data": {
      "text/plain": [
       "array([ 0.        ,  1.        , -0.44003595,  0.        ,  0.19816383,\n",
       "        1.        ,  0.11735002,  1.        ,  0.        ,  1.        ,\n",
       "        0.21653375])"
      ]
     },
     "execution_count": 32,
     "metadata": {},
     "output_type": "execute_result"
    }
   ],
   "source": [
    "X[1]"
   ]
  },
  {
   "cell_type": "code",
   "execution_count": 33,
   "metadata": {},
   "outputs": [
    {
     "data": {
      "text/plain": [
       "(10000, 11)"
      ]
     },
     "execution_count": 33,
     "metadata": {},
     "output_type": "execute_result"
    }
   ],
   "source": [
    "X.shape"
   ]
  },
  {
   "cell_type": "code",
   "execution_count": 34,
   "metadata": {},
   "outputs": [],
   "source": [
    "x_train, x_test, y_train, y_test = train_test_split(X, Y, test_size = 0.2, random_state = 0)"
   ]
  },
  {
   "cell_type": "code",
   "execution_count": 35,
   "metadata": {},
   "outputs": [
    {
     "data": {
      "text/plain": [
       "((8000, 11), (8000, 1), (2000, 11), (2000, 1))"
      ]
     },
     "execution_count": 35,
     "metadata": {},
     "output_type": "execute_result"
    }
   ],
   "source": [
    "x_train.shape, y_train.shape, x_test.shape, y_test.shape"
   ]
  },
  {
   "cell_type": "markdown",
   "metadata": {},
   "source": [
    "# Creating Placeholders"
   ]
  },
  {
   "cell_type": "markdown",
   "metadata": {},
   "source": [
    "To create placeholders we need to disable the eager execution as place holders are not compatible with eager execution"
   ]
  },
  {
   "cell_type": "code",
   "execution_count": 36,
   "metadata": {},
   "outputs": [],
   "source": [
    "tf.compat.v1.disable_eager_execution()"
   ]
  },
  {
   "cell_type": "code",
   "execution_count": 37,
   "metadata": {},
   "outputs": [],
   "source": [
    "x = tf.compat.v1.placeholder(dtype = 'float32', shape = [None, 11], name = 'x')\n",
    "y = tf.compat.v1.placeholder(dtype = 'float32', shape = [None, 1], name = 'y')"
   ]
  },
  {
   "cell_type": "code",
   "execution_count": 38,
   "metadata": {},
   "outputs": [
    {
     "data": {
      "text/plain": [
       "(<tf.Tensor 'x:0' shape=(None, 11) dtype=float32>,\n",
       " <tf.Tensor 'y:0' shape=(None, 1) dtype=float32>)"
      ]
     },
     "execution_count": 38,
     "metadata": {},
     "output_type": "execute_result"
    }
   ],
   "source": [
    "x, y"
   ]
  },
  {
   "cell_type": "markdown",
   "metadata": {},
   "source": [
    "# Initialising weights and bias"
   ]
  },
  {
   "cell_type": "code",
   "execution_count": 39,
   "metadata": {},
   "outputs": [],
   "source": [
    "sigma = 1\n",
    "weight_initializer = tf.compat.v1.variance_scaling_initializer(mode = 'fan_avg', distribution = 'uniform', scale = sigma, seed = 42) \n",
    "bias_initializer = tf.zeros_initializer()"
   ]
  },
  {
   "cell_type": "code",
   "execution_count": 40,
   "metadata": {},
   "outputs": [
    {
     "name": "stdout",
     "output_type": "stream",
     "text": [
      "WARNING:tensorflow:From /home/admin1/anaconda3/envs/my_env/lib/python3.7/site-packages/tensorflow_core/python/ops/resource_variable_ops.py:1630: calling BaseResourceVariable.__init__ (from tensorflow.python.ops.resource_variable_ops) with constraint is deprecated and will be removed in a future version.\n",
      "Instructions for updating:\n",
      "If using Keras pass *_constraint arguments to layers.\n"
     ]
    }
   ],
   "source": [
    "#Weights and Bias of 1st Layer\n",
    "w1 = tf.Variable(weight_initializer([x_train.shape[1], 10]))\n",
    "b1 = tf.Variable(bias_initializer([10]))\n",
    "\n",
    "#Weights and Bias of 2nd layer\n",
    "w2 = tf.Variable(weight_initializer([10, 6]))\n",
    "b2 = tf.Variable(bias_initializer([6]))\n",
    "\n",
    "#Weights and Bias of 3rd layer\n",
    "# w3 = tf.Variable(weight_initializer([10, 8]))\n",
    "# b3 = tf.Variable(bias_initializer([8]))\n",
    "\n",
    "\n",
    "#Weights and Bias of output layer\n",
    "wo = tf.Variable(weight_initializer([6, 2]))\n",
    "bo = tf.Variable(bias_initializer([2]))\n",
    "\n",
    "init = tf.compat.v1.global_variables_initializer()"
   ]
  },
  {
   "cell_type": "code",
   "execution_count": 41,
   "metadata": {},
   "outputs": [
    {
     "data": {
      "text/plain": [
       "(<tf.Variable 'Variable:0' shape=(11, 10) dtype=float32>,\n",
       " <tf.Variable 'Variable_1:0' shape=(10,) dtype=float32>)"
      ]
     },
     "execution_count": 41,
     "metadata": {},
     "output_type": "execute_result"
    }
   ],
   "source": [
    "w1, b1"
   ]
  },
  {
   "cell_type": "code",
   "execution_count": 42,
   "metadata": {},
   "outputs": [
    {
     "data": {
      "text/plain": [
       "(<tf.Variable 'Variable_2:0' shape=(10, 6) dtype=float32>,\n",
       " <tf.Variable 'Variable_3:0' shape=(6,) dtype=float32>)"
      ]
     },
     "execution_count": 42,
     "metadata": {},
     "output_type": "execute_result"
    }
   ],
   "source": [
    "w2, b2"
   ]
  },
  {
   "cell_type": "code",
   "execution_count": 43,
   "metadata": {},
   "outputs": [],
   "source": [
    "# w3, b3"
   ]
  },
  {
   "cell_type": "code",
   "execution_count": 44,
   "metadata": {},
   "outputs": [
    {
     "data": {
      "text/plain": [
       "(<tf.Variable 'Variable_4:0' shape=(6, 2) dtype=float32>,\n",
       " <tf.Variable 'Variable_5:0' shape=(2,) dtype=float32>)"
      ]
     },
     "execution_count": 44,
     "metadata": {},
     "output_type": "execute_result"
    }
   ],
   "source": [
    "wo, bo"
   ]
  },
  {
   "cell_type": "markdown",
   "metadata": {},
   "source": [
    "# Forward Propagation"
   ]
  },
  {
   "cell_type": "code",
   "execution_count": 45,
   "metadata": {},
   "outputs": [],
   "source": [
    "#Layer1 with relu activation function\n",
    "hidden1 = tf.add(tf.matmul(x, w1), b1)\n",
    "hidden1 = tf.nn.relu(hidden1)\n",
    "\n",
    "#layer2 with relu activation function\n",
    "hidden2 = tf.add(tf.matmul(hidden1, w2), b2)\n",
    "hidden2 = tf.nn.relu(hidden2)\n",
    "\n",
    "#layer3\n",
    "# hidden3 = tf.add(tf.matmul(hidden2, w3), b3)\n",
    "# hidden3 = tf.nn.relu(hidden3)\n",
    "\n",
    "#output layer with sigmoid activation function\n",
    "out = tf.add(tf.matmul(hidden2, wo), bo)\n",
    "out = tf.nn.sigmoid(out, name = 'output')"
   ]
  },
  {
   "cell_type": "code",
   "execution_count": 46,
   "metadata": {},
   "outputs": [
    {
     "data": {
      "text/plain": [
       "(<tf.Tensor 'Relu:0' shape=(None, 10) dtype=float32>,\n",
       " <tf.Tensor 'Relu_1:0' shape=(None, 6) dtype=float32>,\n",
       " <tf.Tensor 'output:0' shape=(None, 2) dtype=float32>)"
      ]
     },
     "execution_count": 46,
     "metadata": {},
     "output_type": "execute_result"
    }
   ],
   "source": [
    "hidden1, hidden2, out"
   ]
  },
  {
   "cell_type": "markdown",
   "metadata": {},
   "source": [
    "# Cost Function"
   ]
  },
  {
   "cell_type": "code",
   "execution_count": 47,
   "metadata": {},
   "outputs": [],
   "source": [
    "cost_function = tf.reduce_mean(tf.nn.softmax_cross_entropy_with_logits(logits = out, labels = y))"
   ]
  },
  {
   "cell_type": "code",
   "execution_count": 48,
   "metadata": {},
   "outputs": [
    {
     "data": {
      "text/plain": [
       "<tf.Tensor 'Mean:0' shape=() dtype=float32>"
      ]
     },
     "execution_count": 48,
     "metadata": {},
     "output_type": "execute_result"
    }
   ],
   "source": [
    "cost_function"
   ]
  },
  {
   "cell_type": "markdown",
   "metadata": {},
   "source": [
    "# Optimizer"
   ]
  },
  {
   "cell_type": "code",
   "execution_count": 49,
   "metadata": {},
   "outputs": [],
   "source": [
    "learning_rate = 0.01\n",
    "opt = tf.compat.v1.train.GradientDescentOptimizer(learning_rate).minimize(cost_function)"
   ]
  },
  {
   "cell_type": "markdown",
   "metadata": {},
   "source": [
    "# launching the graph in Session"
   ]
  },
  {
   "cell_type": "code",
   "execution_count": 50,
   "metadata": {},
   "outputs": [],
   "source": [
    "sess = tf.compat.v1.Session()\n",
    "sess.run(init)"
   ]
  },
  {
   "cell_type": "code",
   "execution_count": 51,
   "metadata": {},
   "outputs": [
    {
     "data": {
      "text/plain": [
       "<tensorflow.python.client.session.Session at 0x7ffa870f5b90>"
      ]
     },
     "execution_count": 51,
     "metadata": {},
     "output_type": "execute_result"
    }
   ],
   "source": [
    "sess"
   ]
  },
  {
   "cell_type": "markdown",
   "metadata": {},
   "source": [
    "# Back Propagation"
   ]
  },
  {
   "cell_type": "code",
   "execution_count": 52,
   "metadata": {
    "scrolled": true
   },
   "outputs": [
    {
     "name": "stdout",
     "output_type": "stream",
     "text": [
      "Epoch: 0 Training Loss: 0.2833342 Test Loss: 0.2812278\n",
      "Epoch: 1 Training Loss: 0.28332794 Test Loss: 0.2812204\n",
      "Epoch: 2 Training Loss: 0.2833217 Test Loss: 0.28121307\n",
      "Epoch: 3 Training Loss: 0.2833156 Test Loss: 0.28120574\n",
      "Epoch: 4 Training Loss: 0.2833095 Test Loss: 0.28119847\n",
      "Epoch: 5 Training Loss: 0.28330353 Test Loss: 0.28119135\n",
      "Epoch: 6 Training Loss: 0.2832976 Test Loss: 0.28118426\n",
      "Epoch: 7 Training Loss: 0.28329176 Test Loss: 0.2811773\n",
      "Epoch: 8 Training Loss: 0.28328606 Test Loss: 0.28117043\n",
      "Epoch: 9 Training Loss: 0.28328034 Test Loss: 0.2811637\n",
      "Epoch: 10 Training Loss: 0.28327477 Test Loss: 0.28115702\n",
      "Epoch: 11 Training Loss: 0.28326926 Test Loss: 0.2811504\n",
      "Epoch: 12 Training Loss: 0.2832639 Test Loss: 0.281144\n",
      "Epoch: 13 Training Loss: 0.2832586 Test Loss: 0.28113762\n",
      "Epoch: 14 Training Loss: 0.28325328 Test Loss: 0.2811314\n",
      "Epoch: 15 Training Loss: 0.2832481 Test Loss: 0.28112528\n",
      "Epoch: 16 Training Loss: 0.2832431 Test Loss: 0.2811192\n",
      "Epoch: 17 Training Loss: 0.28323814 Test Loss: 0.28111327\n",
      "Epoch: 18 Training Loss: 0.28323323 Test Loss: 0.2811075\n",
      "Epoch: 19 Training Loss: 0.28322837 Test Loss: 0.28110176\n",
      "Epoch: 20 Training Loss: 0.28322363 Test Loss: 0.2810962\n",
      "Epoch: 21 Training Loss: 0.28321898 Test Loss: 0.2810907\n",
      "Epoch: 22 Training Loss: 0.28321442 Test Loss: 0.2810854\n",
      "Epoch: 23 Training Loss: 0.2832099 Test Loss: 0.28108007\n",
      "Epoch: 24 Training Loss: 0.28320545 Test Loss: 0.28107494\n",
      "Epoch: 25 Training Loss: 0.28320107 Test Loss: 0.28106982\n",
      "Epoch: 26 Training Loss: 0.2831968 Test Loss: 0.2810649\n",
      "Epoch: 27 Training Loss: 0.2831926 Test Loss: 0.28106007\n",
      "Epoch: 28 Training Loss: 0.2831884 Test Loss: 0.2810553\n",
      "Epoch: 29 Training Loss: 0.28318432 Test Loss: 0.2810506\n",
      "Epoch: 30 Training Loss: 0.28318036 Test Loss: 0.2810461\n",
      "Epoch: 31 Training Loss: 0.28317642 Test Loss: 0.2810416\n",
      "Epoch: 32 Training Loss: 0.28317255 Test Loss: 0.28103727\n",
      "Epoch: 33 Training Loss: 0.28316873 Test Loss: 0.28103298\n",
      "Epoch: 34 Training Loss: 0.28316495 Test Loss: 0.28102878\n",
      "Epoch: 35 Training Loss: 0.28316125 Test Loss: 0.28102466\n",
      "Epoch: 36 Training Loss: 0.28315765 Test Loss: 0.28102064\n",
      "Epoch: 37 Training Loss: 0.28315404 Test Loss: 0.28101674\n",
      "Epoch: 38 Training Loss: 0.28315058 Test Loss: 0.2810129\n",
      "Epoch: 39 Training Loss: 0.28314716 Test Loss: 0.2810091\n",
      "Epoch: 40 Training Loss: 0.2831438 Test Loss: 0.28100538\n",
      "Epoch: 41 Training Loss: 0.2831405 Test Loss: 0.28100178\n",
      "Epoch: 42 Training Loss: 0.2831372 Test Loss: 0.28099823\n",
      "Epoch: 43 Training Loss: 0.28313398 Test Loss: 0.28099474\n",
      "Epoch: 44 Training Loss: 0.28313082 Test Loss: 0.28099144\n",
      "Epoch: 45 Training Loss: 0.2831277 Test Loss: 0.28098813\n",
      "Epoch: 46 Training Loss: 0.28312466 Test Loss: 0.2809849\n",
      "Epoch: 47 Training Loss: 0.28312165 Test Loss: 0.2809818\n",
      "Epoch: 48 Training Loss: 0.28311872 Test Loss: 0.2809787\n",
      "Epoch: 49 Training Loss: 0.28311577 Test Loss: 0.28097567\n",
      "Epoch: 50 Training Loss: 0.28311297 Test Loss: 0.28097272\n",
      "Epoch: 51 Training Loss: 0.28311017 Test Loss: 0.28096983\n",
      "Epoch: 52 Training Loss: 0.28310737 Test Loss: 0.28096703\n",
      "Epoch: 53 Training Loss: 0.28310463 Test Loss: 0.28096423\n",
      "Epoch: 54 Training Loss: 0.28310198 Test Loss: 0.28096148\n",
      "Epoch: 55 Training Loss: 0.28309935 Test Loss: 0.28095883\n",
      "Epoch: 56 Training Loss: 0.28309676 Test Loss: 0.28095615\n",
      "Epoch: 57 Training Loss: 0.28309423 Test Loss: 0.2809536\n",
      "Epoch: 58 Training Loss: 0.2830917 Test Loss: 0.28095105\n",
      "Epoch: 59 Training Loss: 0.28308922 Test Loss: 0.28094855\n",
      "Epoch: 60 Training Loss: 0.28308684 Test Loss: 0.2809461\n",
      "Epoch: 61 Training Loss: 0.28308442 Test Loss: 0.28094372\n",
      "Epoch: 62 Training Loss: 0.283082 Test Loss: 0.28094134\n",
      "Epoch: 63 Training Loss: 0.28307968 Test Loss: 0.280939\n",
      "Epoch: 64 Training Loss: 0.28307745 Test Loss: 0.28093672\n",
      "Epoch: 65 Training Loss: 0.28307518 Test Loss: 0.2809345\n",
      "Epoch: 66 Training Loss: 0.28307292 Test Loss: 0.28093228\n",
      "Epoch: 67 Training Loss: 0.28307074 Test Loss: 0.2809301\n",
      "Epoch: 68 Training Loss: 0.28306857 Test Loss: 0.28092805\n",
      "Epoch: 69 Training Loss: 0.28306648 Test Loss: 0.28092587\n",
      "Epoch: 70 Training Loss: 0.28306442 Test Loss: 0.2809238\n",
      "Epoch: 71 Training Loss: 0.28306228 Test Loss: 0.28092188\n",
      "Epoch: 72 Training Loss: 0.28306025 Test Loss: 0.28091988\n",
      "Epoch: 73 Training Loss: 0.2830583 Test Loss: 0.28091797\n",
      "Epoch: 74 Training Loss: 0.28305635 Test Loss: 0.28091604\n",
      "Epoch: 75 Training Loss: 0.28305432 Test Loss: 0.2809142\n",
      "Epoch: 76 Training Loss: 0.2830525 Test Loss: 0.28091234\n",
      "Epoch: 77 Training Loss: 0.28305054 Test Loss: 0.28091052\n",
      "Epoch: 78 Training Loss: 0.28304875 Test Loss: 0.28090876\n",
      "Epoch: 79 Training Loss: 0.2830469 Test Loss: 0.28090703\n",
      "Epoch: 80 Training Loss: 0.28304514 Test Loss: 0.2809053\n",
      "Epoch: 81 Training Loss: 0.28304335 Test Loss: 0.28090364\n",
      "Epoch: 82 Training Loss: 0.28304157 Test Loss: 0.28090197\n",
      "Epoch: 83 Training Loss: 0.28303987 Test Loss: 0.28090036\n",
      "Epoch: 84 Training Loss: 0.2830381 Test Loss: 0.2808988\n",
      "Epoch: 85 Training Loss: 0.28303647 Test Loss: 0.2808972\n",
      "Epoch: 86 Training Loss: 0.28303486 Test Loss: 0.28089565\n",
      "Epoch: 87 Training Loss: 0.2830332 Test Loss: 0.28089416\n",
      "Epoch: 88 Training Loss: 0.28303155 Test Loss: 0.2808927\n",
      "Epoch: 89 Training Loss: 0.2830299 Test Loss: 0.28089124\n",
      "Epoch: 90 Training Loss: 0.2830284 Test Loss: 0.28088978\n",
      "Epoch: 91 Training Loss: 0.28302678 Test Loss: 0.2808884\n",
      "Epoch: 92 Training Loss: 0.28302526 Test Loss: 0.2808869\n",
      "Epoch: 93 Training Loss: 0.28302374 Test Loss: 0.2808856\n",
      "Epoch: 94 Training Loss: 0.28302225 Test Loss: 0.2808842\n",
      "Epoch: 95 Training Loss: 0.28302082 Test Loss: 0.28088292\n",
      "Epoch: 96 Training Loss: 0.28301933 Test Loss: 0.28088158\n",
      "Epoch: 97 Training Loss: 0.28301787 Test Loss: 0.28088027\n",
      "Epoch: 98 Training Loss: 0.28301647 Test Loss: 0.28087902\n",
      "Epoch: 99 Training Loss: 0.283015 Test Loss: 0.28087777\n",
      "Epoch: 100 Training Loss: 0.28301367 Test Loss: 0.28087655\n",
      "Epoch: 101 Training Loss: 0.28301233 Test Loss: 0.28087533\n",
      "Epoch: 102 Training Loss: 0.283011 Test Loss: 0.28087413\n",
      "Epoch: 103 Training Loss: 0.28300968 Test Loss: 0.2808729\n",
      "Epoch: 104 Training Loss: 0.28300837 Test Loss: 0.2808718\n",
      "Epoch: 105 Training Loss: 0.28300706 Test Loss: 0.28087062\n",
      "Epoch: 106 Training Loss: 0.28300574 Test Loss: 0.2808695\n",
      "Epoch: 107 Training Loss: 0.2830045 Test Loss: 0.28086835\n",
      "Epoch: 108 Training Loss: 0.2830033 Test Loss: 0.28086725\n",
      "Epoch: 109 Training Loss: 0.28300202 Test Loss: 0.28086612\n",
      "Epoch: 110 Training Loss: 0.28300083 Test Loss: 0.28086504\n",
      "Epoch: 111 Training Loss: 0.2829996 Test Loss: 0.28086388\n",
      "Epoch: 112 Training Loss: 0.28299847 Test Loss: 0.28086287\n",
      "Epoch: 113 Training Loss: 0.28299725 Test Loss: 0.28086182\n",
      "Epoch: 114 Training Loss: 0.28299612 Test Loss: 0.2808608\n",
      "Epoch: 115 Training Loss: 0.28299493 Test Loss: 0.2808598\n",
      "Epoch: 116 Training Loss: 0.28299382 Test Loss: 0.28085878\n",
      "Epoch: 117 Training Loss: 0.28299275 Test Loss: 0.28085783\n",
      "Epoch: 118 Training Loss: 0.28299165 Test Loss: 0.28085688\n",
      "Epoch: 119 Training Loss: 0.28299055 Test Loss: 0.2808559\n",
      "Epoch: 120 Training Loss: 0.28298944 Test Loss: 0.28085497\n",
      "Epoch: 121 Training Loss: 0.28298834 Test Loss: 0.28085405\n",
      "Epoch: 122 Training Loss: 0.2829873 Test Loss: 0.2808531\n",
      "Epoch: 123 Training Loss: 0.28298622 Test Loss: 0.2808521\n",
      "Epoch: 124 Training Loss: 0.28298518 Test Loss: 0.2808512\n",
      "Epoch: 125 Training Loss: 0.28298414 Test Loss: 0.28085032\n",
      "Epoch: 126 Training Loss: 0.28298315 Test Loss: 0.28084943\n",
      "Epoch: 127 Training Loss: 0.28298217 Test Loss: 0.2808485\n",
      "Epoch: 128 Training Loss: 0.28298113 Test Loss: 0.28084767\n",
      "Epoch: 129 Training Loss: 0.28298023 Test Loss: 0.2808468\n",
      "Epoch: 130 Training Loss: 0.28297922 Test Loss: 0.28084597\n",
      "Epoch: 131 Training Loss: 0.28297827 Test Loss: 0.28084514\n",
      "Epoch: 132 Training Loss: 0.28297728 Test Loss: 0.28084427\n",
      "Epoch: 133 Training Loss: 0.2829764 Test Loss: 0.28084347\n",
      "Epoch: 134 Training Loss: 0.2829754 Test Loss: 0.28084266\n",
      "Epoch: 135 Training Loss: 0.2829745 Test Loss: 0.28084186\n",
      "Epoch: 136 Training Loss: 0.28297365 Test Loss: 0.28084105\n",
      "Epoch: 137 Training Loss: 0.28297266 Test Loss: 0.28084025\n",
      "Epoch: 138 Training Loss: 0.2829718 Test Loss: 0.28083947\n",
      "Epoch: 139 Training Loss: 0.28297094 Test Loss: 0.28083873\n",
      "Epoch: 140 Training Loss: 0.2829701 Test Loss: 0.28083795\n",
      "Epoch: 141 Training Loss: 0.2829692 Test Loss: 0.28083727\n",
      "Epoch: 142 Training Loss: 0.2829683 Test Loss: 0.28083652\n",
      "Epoch: 143 Training Loss: 0.28296748 Test Loss: 0.2808358\n",
      "Epoch: 144 Training Loss: 0.28296667 Test Loss: 0.2808351\n",
      "Epoch: 145 Training Loss: 0.28296578 Test Loss: 0.28083432\n",
      "Epoch: 146 Training Loss: 0.28296503 Test Loss: 0.28083363\n",
      "Epoch: 147 Training Loss: 0.28296417 Test Loss: 0.28083292\n",
      "Epoch: 148 Training Loss: 0.2829634 Test Loss: 0.28083226\n",
      "Epoch: 149 Training Loss: 0.2829626 Test Loss: 0.28083158\n",
      "Epoch: 150 Training Loss: 0.2829618 Test Loss: 0.2808309\n",
      "Epoch: 151 Training Loss: 0.282961 Test Loss: 0.28083026\n",
      "Epoch: 152 Training Loss: 0.28296027 Test Loss: 0.28082958\n",
      "Epoch: 153 Training Loss: 0.28295946 Test Loss: 0.28082895\n"
     ]
    },
    {
     "name": "stdout",
     "output_type": "stream",
     "text": [
      "Epoch: 154 Training Loss: 0.28295872 Test Loss: 0.2808283\n",
      "Epoch: 155 Training Loss: 0.282958 Test Loss: 0.2808277\n",
      "Epoch: 156 Training Loss: 0.2829573 Test Loss: 0.28082705\n",
      "Epoch: 157 Training Loss: 0.28295648 Test Loss: 0.2808264\n",
      "Epoch: 158 Training Loss: 0.28295583 Test Loss: 0.28082576\n",
      "Epoch: 159 Training Loss: 0.28295508 Test Loss: 0.28082517\n",
      "Epoch: 160 Training Loss: 0.28295434 Test Loss: 0.28082457\n",
      "Epoch: 161 Training Loss: 0.28295362 Test Loss: 0.28082398\n",
      "Epoch: 162 Training Loss: 0.2829529 Test Loss: 0.28082335\n",
      "Epoch: 163 Training Loss: 0.28295222 Test Loss: 0.28082278\n",
      "Epoch: 164 Training Loss: 0.28295153 Test Loss: 0.28082225\n",
      "Epoch: 165 Training Loss: 0.28295085 Test Loss: 0.28082165\n",
      "Epoch: 166 Training Loss: 0.2829502 Test Loss: 0.28082108\n",
      "Epoch: 167 Training Loss: 0.28294948 Test Loss: 0.2808205\n",
      "Epoch: 168 Training Loss: 0.2829488 Test Loss: 0.28081995\n",
      "Epoch: 169 Training Loss: 0.2829481 Test Loss: 0.28081936\n",
      "Epoch: 170 Training Loss: 0.28294745 Test Loss: 0.28081885\n",
      "Epoch: 171 Training Loss: 0.28294683 Test Loss: 0.28081828\n",
      "Epoch: 172 Training Loss: 0.2829462 Test Loss: 0.28081778\n",
      "Epoch: 173 Training Loss: 0.28294554 Test Loss: 0.28081727\n",
      "Epoch: 174 Training Loss: 0.28294492 Test Loss: 0.2808167\n",
      "Epoch: 175 Training Loss: 0.28294426 Test Loss: 0.28081623\n",
      "Epoch: 176 Training Loss: 0.28294367 Test Loss: 0.28081566\n",
      "Epoch: 177 Training Loss: 0.28294304 Test Loss: 0.28081512\n",
      "Epoch: 178 Training Loss: 0.28294244 Test Loss: 0.28081468\n",
      "Epoch: 179 Training Loss: 0.28294185 Test Loss: 0.28081414\n",
      "Epoch: 180 Training Loss: 0.28294122 Test Loss: 0.28081366\n",
      "Epoch: 181 Training Loss: 0.28294063 Test Loss: 0.28081316\n",
      "Epoch: 182 Training Loss: 0.28294003 Test Loss: 0.28081268\n",
      "Epoch: 183 Training Loss: 0.28293946 Test Loss: 0.2808122\n",
      "Epoch: 184 Training Loss: 0.28293884 Test Loss: 0.2808117\n",
      "Epoch: 185 Training Loss: 0.2829383 Test Loss: 0.28081122\n",
      "Epoch: 186 Training Loss: 0.28293768 Test Loss: 0.28081074\n",
      "Epoch: 187 Training Loss: 0.28293714 Test Loss: 0.28081024\n",
      "Epoch: 188 Training Loss: 0.28293657 Test Loss: 0.2808098\n",
      "Epoch: 189 Training Loss: 0.282936 Test Loss: 0.2808093\n",
      "Epoch: 190 Training Loss: 0.2829354 Test Loss: 0.2808089\n",
      "Epoch: 191 Training Loss: 0.28293487 Test Loss: 0.28080848\n",
      "Epoch: 192 Training Loss: 0.28293434 Test Loss: 0.280808\n",
      "Epoch: 193 Training Loss: 0.2829338 Test Loss: 0.28080758\n",
      "Epoch: 194 Training Loss: 0.28293324 Test Loss: 0.28080714\n",
      "Epoch: 195 Training Loss: 0.28293273 Test Loss: 0.2808067\n",
      "Epoch: 196 Training Loss: 0.28293225 Test Loss: 0.28080627\n",
      "Epoch: 197 Training Loss: 0.28293172 Test Loss: 0.28080583\n",
      "Epoch: 198 Training Loss: 0.28293118 Test Loss: 0.28080538\n",
      "Epoch: 199 Training Loss: 0.28293067 Test Loss: 0.280805\n",
      "Epoch: 200 Training Loss: 0.2829301 Test Loss: 0.2808046\n",
      "Epoch: 201 Training Loss: 0.28292963 Test Loss: 0.2808042\n",
      "Epoch: 202 Training Loss: 0.28292912 Test Loss: 0.28080377\n",
      "Epoch: 203 Training Loss: 0.28292862 Test Loss: 0.28080338\n",
      "Epoch: 204 Training Loss: 0.2829281 Test Loss: 0.28080297\n",
      "Epoch: 205 Training Loss: 0.2829276 Test Loss: 0.28080258\n",
      "Epoch: 206 Training Loss: 0.28292716 Test Loss: 0.2808022\n",
      "Epoch: 207 Training Loss: 0.28292665 Test Loss: 0.2808018\n",
      "Epoch: 208 Training Loss: 0.2829262 Test Loss: 0.28080145\n",
      "Epoch: 209 Training Loss: 0.2829257 Test Loss: 0.28080103\n",
      "Epoch: 210 Training Loss: 0.28292516 Test Loss: 0.2808007\n",
      "Epoch: 211 Training Loss: 0.28292474 Test Loss: 0.28080028\n",
      "Epoch: 212 Training Loss: 0.28292426 Test Loss: 0.28079993\n",
      "Epoch: 213 Training Loss: 0.28292382 Test Loss: 0.2807995\n",
      "Epoch: 214 Training Loss: 0.28292334 Test Loss: 0.28079915\n",
      "Epoch: 215 Training Loss: 0.2829229 Test Loss: 0.2807988\n",
      "Epoch: 216 Training Loss: 0.28292242 Test Loss: 0.28079847\n",
      "Epoch: 217 Training Loss: 0.28292194 Test Loss: 0.2807981\n",
      "Epoch: 218 Training Loss: 0.28292152 Test Loss: 0.2807977\n",
      "Epoch: 219 Training Loss: 0.28292102 Test Loss: 0.28079736\n",
      "Epoch: 220 Training Loss: 0.2829206 Test Loss: 0.28079703\n",
      "Epoch: 221 Training Loss: 0.28292012 Test Loss: 0.28079665\n",
      "Epoch: 222 Training Loss: 0.28291973 Test Loss: 0.28079632\n",
      "Epoch: 223 Training Loss: 0.2829193 Test Loss: 0.28079602\n",
      "Epoch: 224 Training Loss: 0.28291884 Test Loss: 0.28079566\n",
      "Epoch: 225 Training Loss: 0.2829184 Test Loss: 0.28079534\n",
      "Epoch: 226 Training Loss: 0.28291804 Test Loss: 0.280795\n",
      "Epoch: 227 Training Loss: 0.2829176 Test Loss: 0.28079468\n",
      "Epoch: 228 Training Loss: 0.28291717 Test Loss: 0.28079438\n",
      "Epoch: 229 Training Loss: 0.28291675 Test Loss: 0.28079405\n",
      "Epoch: 230 Training Loss: 0.2829163 Test Loss: 0.28079373\n",
      "Epoch: 231 Training Loss: 0.28291595 Test Loss: 0.28079343\n",
      "Epoch: 232 Training Loss: 0.28291553 Test Loss: 0.2807931\n",
      "Epoch: 233 Training Loss: 0.2829151 Test Loss: 0.28079277\n",
      "Epoch: 234 Training Loss: 0.28291473 Test Loss: 0.28079242\n",
      "Epoch: 235 Training Loss: 0.28291434 Test Loss: 0.28079215\n",
      "Epoch: 236 Training Loss: 0.28291392 Test Loss: 0.28079188\n",
      "Epoch: 237 Training Loss: 0.2829135 Test Loss: 0.28079155\n",
      "Epoch: 238 Training Loss: 0.28291315 Test Loss: 0.28079125\n",
      "Epoch: 239 Training Loss: 0.28291273 Test Loss: 0.28079095\n",
      "Epoch: 240 Training Loss: 0.28291234 Test Loss: 0.2807907\n",
      "Epoch: 241 Training Loss: 0.28291196 Test Loss: 0.28079042\n",
      "Epoch: 242 Training Loss: 0.28291157 Test Loss: 0.28079012\n",
      "Epoch: 243 Training Loss: 0.28291118 Test Loss: 0.2807898\n",
      "Epoch: 244 Training Loss: 0.28291082 Test Loss: 0.28078952\n",
      "Epoch: 245 Training Loss: 0.28291047 Test Loss: 0.28078926\n",
      "Epoch: 246 Training Loss: 0.2829101 Test Loss: 0.28078893\n",
      "Epoch: 247 Training Loss: 0.28290975 Test Loss: 0.28078866\n",
      "Epoch: 248 Training Loss: 0.28290936 Test Loss: 0.28078842\n",
      "Epoch: 249 Training Loss: 0.28290904 Test Loss: 0.28078815\n",
      "Epoch: 250 Training Loss: 0.28290865 Test Loss: 0.28078791\n",
      "Epoch: 251 Training Loss: 0.2829083 Test Loss: 0.28078762\n",
      "Epoch: 252 Training Loss: 0.28290793 Test Loss: 0.28078735\n",
      "Epoch: 253 Training Loss: 0.2829076 Test Loss: 0.28078705\n",
      "Epoch: 254 Training Loss: 0.28290722 Test Loss: 0.2807868\n",
      "Epoch: 255 Training Loss: 0.28290686 Test Loss: 0.28078648\n",
      "Epoch: 256 Training Loss: 0.2829065 Test Loss: 0.28078625\n",
      "Epoch: 257 Training Loss: 0.28290612 Test Loss: 0.28078598\n",
      "Epoch: 258 Training Loss: 0.28290582 Test Loss: 0.28078574\n",
      "Epoch: 259 Training Loss: 0.28290546 Test Loss: 0.28078547\n",
      "Epoch: 260 Training Loss: 0.28290516 Test Loss: 0.2807852\n",
      "Epoch: 261 Training Loss: 0.28290477 Test Loss: 0.28078493\n",
      "Epoch: 262 Training Loss: 0.28290445 Test Loss: 0.2807847\n",
      "Epoch: 263 Training Loss: 0.28290415 Test Loss: 0.28078443\n",
      "Epoch: 264 Training Loss: 0.28290382 Test Loss: 0.28078422\n",
      "Epoch: 265 Training Loss: 0.2829035 Test Loss: 0.28078392\n",
      "Epoch: 266 Training Loss: 0.28290313 Test Loss: 0.28078368\n",
      "Epoch: 267 Training Loss: 0.28290284 Test Loss: 0.28078344\n",
      "Epoch: 268 Training Loss: 0.28290254 Test Loss: 0.2807832\n",
      "Epoch: 269 Training Loss: 0.28290218 Test Loss: 0.280783\n",
      "Epoch: 270 Training Loss: 0.28290185 Test Loss: 0.28078276\n",
      "Epoch: 271 Training Loss: 0.28290156 Test Loss: 0.2807825\n",
      "Epoch: 272 Training Loss: 0.28290126 Test Loss: 0.28078228\n",
      "Epoch: 273 Training Loss: 0.28290093 Test Loss: 0.28078204\n",
      "Epoch: 274 Training Loss: 0.28290063 Test Loss: 0.2807818\n",
      "Epoch: 275 Training Loss: 0.2829003 Test Loss: 0.2807816\n",
      "Epoch: 276 Training Loss: 0.28290004 Test Loss: 0.28078136\n",
      "Epoch: 277 Training Loss: 0.28289968 Test Loss: 0.28078112\n",
      "Epoch: 278 Training Loss: 0.2828994 Test Loss: 0.28078088\n",
      "Epoch: 279 Training Loss: 0.2828991 Test Loss: 0.28078064\n",
      "Epoch: 280 Training Loss: 0.28289878 Test Loss: 0.28078043\n",
      "Epoch: 281 Training Loss: 0.2828985 Test Loss: 0.28078023\n",
      "Epoch: 282 Training Loss: 0.2828982 Test Loss: 0.28078\n",
      "Epoch: 283 Training Loss: 0.2828979 Test Loss: 0.28077975\n",
      "Epoch: 284 Training Loss: 0.2828976 Test Loss: 0.28077957\n",
      "Epoch: 285 Training Loss: 0.28289735 Test Loss: 0.28077936\n",
      "Epoch: 286 Training Loss: 0.28289703 Test Loss: 0.28077912\n",
      "Epoch: 287 Training Loss: 0.28289673 Test Loss: 0.28077894\n",
      "Epoch: 288 Training Loss: 0.2828965 Test Loss: 0.2807787\n",
      "Epoch: 289 Training Loss: 0.28289616 Test Loss: 0.2807785\n",
      "Epoch: 290 Training Loss: 0.28289586 Test Loss: 0.28077832\n",
      "Epoch: 291 Training Loss: 0.28289562 Test Loss: 0.28077808\n",
      "Epoch: 292 Training Loss: 0.28289533 Test Loss: 0.2807779\n",
      "Epoch: 293 Training Loss: 0.2828951 Test Loss: 0.2807777\n",
      "Epoch: 294 Training Loss: 0.2828948 Test Loss: 0.28077745\n",
      "Epoch: 295 Training Loss: 0.28289452 Test Loss: 0.28077728\n",
      "Epoch: 296 Training Loss: 0.28289422 Test Loss: 0.2807771\n",
      "Epoch: 297 Training Loss: 0.282894 Test Loss: 0.28077686\n",
      "Epoch: 298 Training Loss: 0.28289375 Test Loss: 0.28077668\n",
      "Epoch: 299 Training Loss: 0.28289342 Test Loss: 0.2807765\n",
      "Epoch: 300 Training Loss: 0.28289318 Test Loss: 0.2807763\n",
      "Epoch: 301 Training Loss: 0.2828929 Test Loss: 0.28077608\n",
      "Epoch: 302 Training Loss: 0.28289267 Test Loss: 0.2807759\n",
      "Epoch: 303 Training Loss: 0.2828924 Test Loss: 0.28077573\n",
      "Epoch: 304 Training Loss: 0.28289208 Test Loss: 0.28077552\n",
      "Epoch: 305 Training Loss: 0.28289187 Test Loss: 0.28077534\n",
      "Epoch: 306 Training Loss: 0.2828916 Test Loss: 0.28077516\n",
      "Epoch: 307 Training Loss: 0.28289136 Test Loss: 0.28077498\n",
      "Epoch: 308 Training Loss: 0.28289112 Test Loss: 0.28077477\n",
      "Epoch: 309 Training Loss: 0.2828908 Test Loss: 0.2807746\n",
      "Epoch: 310 Training Loss: 0.28289056 Test Loss: 0.2807744\n",
      "Epoch: 311 Training Loss: 0.2828903 Test Loss: 0.28077427\n",
      "Epoch: 312 Training Loss: 0.28289005 Test Loss: 0.28077406\n",
      "Epoch: 313 Training Loss: 0.28288978 Test Loss: 0.28077388\n"
     ]
    },
    {
     "name": "stdout",
     "output_type": "stream",
     "text": [
      "Epoch: 314 Training Loss: 0.28288954 Test Loss: 0.28077367\n",
      "Epoch: 315 Training Loss: 0.28288934 Test Loss: 0.2807735\n",
      "Epoch: 316 Training Loss: 0.28288904 Test Loss: 0.2807733\n",
      "Epoch: 317 Training Loss: 0.28288883 Test Loss: 0.28077313\n",
      "Epoch: 318 Training Loss: 0.2828886 Test Loss: 0.28077295\n",
      "Epoch: 319 Training Loss: 0.28288835 Test Loss: 0.2807728\n",
      "Epoch: 320 Training Loss: 0.28288808 Test Loss: 0.28077266\n",
      "Epoch: 321 Training Loss: 0.28288788 Test Loss: 0.28077245\n",
      "Epoch: 322 Training Loss: 0.2828876 Test Loss: 0.2807723\n",
      "Epoch: 323 Training Loss: 0.2828874 Test Loss: 0.28077212\n",
      "Epoch: 324 Training Loss: 0.28288716 Test Loss: 0.28077197\n",
      "Epoch: 325 Training Loss: 0.2828869 Test Loss: 0.2807718\n",
      "Epoch: 326 Training Loss: 0.28288668 Test Loss: 0.28077164\n",
      "Epoch: 327 Training Loss: 0.28288645 Test Loss: 0.2807715\n",
      "Epoch: 328 Training Loss: 0.28288618 Test Loss: 0.28077132\n",
      "Epoch: 329 Training Loss: 0.282886 Test Loss: 0.28077114\n",
      "Epoch: 330 Training Loss: 0.28288573 Test Loss: 0.280771\n",
      "Epoch: 331 Training Loss: 0.2828855 Test Loss: 0.2807708\n",
      "Epoch: 332 Training Loss: 0.2828853 Test Loss: 0.28077066\n",
      "Epoch: 333 Training Loss: 0.28288507 Test Loss: 0.2807705\n",
      "Epoch: 334 Training Loss: 0.28288487 Test Loss: 0.28077036\n",
      "Epoch: 335 Training Loss: 0.28288466 Test Loss: 0.2807702\n",
      "Epoch: 336 Training Loss: 0.2828844 Test Loss: 0.28077003\n",
      "Epoch: 337 Training Loss: 0.28288418 Test Loss: 0.28076985\n",
      "Epoch: 338 Training Loss: 0.28288397 Test Loss: 0.2807697\n",
      "Epoch: 339 Training Loss: 0.28288373 Test Loss: 0.28076956\n",
      "Epoch: 340 Training Loss: 0.28288355 Test Loss: 0.2807694\n",
      "Epoch: 341 Training Loss: 0.2828833 Test Loss: 0.2807693\n",
      "Epoch: 342 Training Loss: 0.28288305 Test Loss: 0.2807691\n",
      "Epoch: 343 Training Loss: 0.28288287 Test Loss: 0.280769\n",
      "Epoch: 344 Training Loss: 0.2828827 Test Loss: 0.28076884\n",
      "Epoch: 345 Training Loss: 0.28288245 Test Loss: 0.28076866\n",
      "Epoch: 346 Training Loss: 0.28288227 Test Loss: 0.28076848\n",
      "Epoch: 347 Training Loss: 0.28288203 Test Loss: 0.28076836\n",
      "Epoch: 348 Training Loss: 0.28288183 Test Loss: 0.28076825\n",
      "Epoch: 349 Training Loss: 0.28288162 Test Loss: 0.28076807\n",
      "Epoch: 350 Training Loss: 0.2828814 Test Loss: 0.28076795\n",
      "Epoch: 351 Training Loss: 0.2828812 Test Loss: 0.28076783\n",
      "Epoch: 352 Training Loss: 0.28288102 Test Loss: 0.2807677\n",
      "Epoch: 353 Training Loss: 0.2828808 Test Loss: 0.28076753\n",
      "Epoch: 354 Training Loss: 0.2828806 Test Loss: 0.28076738\n",
      "Epoch: 355 Training Loss: 0.2828804 Test Loss: 0.2807672\n",
      "Epoch: 356 Training Loss: 0.2828802 Test Loss: 0.28076708\n",
      "Epoch: 357 Training Loss: 0.28288 Test Loss: 0.28076696\n",
      "Epoch: 358 Training Loss: 0.28287983 Test Loss: 0.28076681\n",
      "Epoch: 359 Training Loss: 0.28287965 Test Loss: 0.28076667\n",
      "Epoch: 360 Training Loss: 0.28287944 Test Loss: 0.28076652\n",
      "Epoch: 361 Training Loss: 0.28287926 Test Loss: 0.28076643\n",
      "Epoch: 362 Training Loss: 0.28287902 Test Loss: 0.28076625\n",
      "Epoch: 363 Training Loss: 0.28287885 Test Loss: 0.2807661\n",
      "Epoch: 364 Training Loss: 0.28287864 Test Loss: 0.28076598\n",
      "Epoch: 365 Training Loss: 0.2828785 Test Loss: 0.28076586\n",
      "Epoch: 366 Training Loss: 0.28287828 Test Loss: 0.28076574\n",
      "Epoch: 367 Training Loss: 0.28287807 Test Loss: 0.28076562\n",
      "Epoch: 368 Training Loss: 0.2828779 Test Loss: 0.28076547\n",
      "Epoch: 369 Training Loss: 0.28287768 Test Loss: 0.28076532\n",
      "Epoch: 370 Training Loss: 0.2828775 Test Loss: 0.2807652\n",
      "Epoch: 371 Training Loss: 0.28287736 Test Loss: 0.2807651\n",
      "Epoch: 372 Training Loss: 0.28287715 Test Loss: 0.28076497\n",
      "Epoch: 373 Training Loss: 0.28287694 Test Loss: 0.28076482\n",
      "Epoch: 374 Training Loss: 0.28287676 Test Loss: 0.2807647\n",
      "Epoch: 375 Training Loss: 0.2828766 Test Loss: 0.28076455\n",
      "Epoch: 376 Training Loss: 0.28287643 Test Loss: 0.28076446\n",
      "Epoch: 377 Training Loss: 0.28287625 Test Loss: 0.28076434\n",
      "Epoch: 378 Training Loss: 0.28287604 Test Loss: 0.28076422\n",
      "Epoch: 379 Training Loss: 0.28287587 Test Loss: 0.28076407\n",
      "Epoch: 380 Training Loss: 0.28287575 Test Loss: 0.28076398\n",
      "Epoch: 381 Training Loss: 0.28287548 Test Loss: 0.28076386\n",
      "Epoch: 382 Training Loss: 0.28287536 Test Loss: 0.28076375\n",
      "Epoch: 383 Training Loss: 0.28287515 Test Loss: 0.2807636\n",
      "Epoch: 384 Training Loss: 0.282875 Test Loss: 0.28076348\n",
      "Epoch: 385 Training Loss: 0.28287482 Test Loss: 0.28076336\n",
      "Epoch: 386 Training Loss: 0.28287464 Test Loss: 0.28076324\n",
      "Epoch: 387 Training Loss: 0.28287452 Test Loss: 0.28076315\n",
      "Epoch: 388 Training Loss: 0.28287432 Test Loss: 0.28076303\n",
      "Epoch: 389 Training Loss: 0.28287414 Test Loss: 0.2807629\n",
      "Epoch: 390 Training Loss: 0.28287396 Test Loss: 0.28076282\n",
      "Epoch: 391 Training Loss: 0.2828738 Test Loss: 0.2807627\n",
      "Epoch: 392 Training Loss: 0.28287366 Test Loss: 0.28076258\n",
      "Epoch: 393 Training Loss: 0.28287348 Test Loss: 0.28076246\n",
      "Epoch: 394 Training Loss: 0.28287333 Test Loss: 0.28076237\n",
      "Epoch: 395 Training Loss: 0.28287318 Test Loss: 0.28076226\n",
      "Epoch: 396 Training Loss: 0.28287297 Test Loss: 0.2807621\n",
      "Epoch: 397 Training Loss: 0.28287283 Test Loss: 0.28076202\n",
      "Epoch: 398 Training Loss: 0.28287265 Test Loss: 0.2807619\n",
      "Epoch: 399 Training Loss: 0.2828725 Test Loss: 0.2807618\n",
      "Epoch: 400 Training Loss: 0.28287235 Test Loss: 0.28076166\n",
      "Epoch: 401 Training Loss: 0.2828722 Test Loss: 0.2807616\n",
      "Epoch: 402 Training Loss: 0.28287202 Test Loss: 0.2807615\n",
      "Epoch: 403 Training Loss: 0.2828719 Test Loss: 0.28076136\n",
      "Epoch: 404 Training Loss: 0.2828717 Test Loss: 0.28076127\n",
      "Epoch: 405 Training Loss: 0.2828715 Test Loss: 0.28076118\n",
      "Epoch: 406 Training Loss: 0.2828714 Test Loss: 0.28076103\n",
      "Epoch: 407 Training Loss: 0.28287122 Test Loss: 0.2807609\n",
      "Epoch: 408 Training Loss: 0.2828711 Test Loss: 0.28076082\n",
      "Epoch: 409 Training Loss: 0.28287095 Test Loss: 0.28076074\n",
      "Epoch: 410 Training Loss: 0.2828708 Test Loss: 0.28076062\n",
      "Epoch: 411 Training Loss: 0.2828706 Test Loss: 0.28076056\n",
      "Epoch: 412 Training Loss: 0.28287047 Test Loss: 0.28076044\n",
      "Epoch: 413 Training Loss: 0.2828703 Test Loss: 0.28076035\n",
      "Epoch: 414 Training Loss: 0.28287014 Test Loss: 0.28076023\n",
      "Epoch: 415 Training Loss: 0.28287 Test Loss: 0.28076014\n",
      "Epoch: 416 Training Loss: 0.28286985 Test Loss: 0.28076005\n",
      "Epoch: 417 Training Loss: 0.2828697 Test Loss: 0.28075996\n",
      "Epoch: 418 Training Loss: 0.28286958 Test Loss: 0.28075984\n",
      "Epoch: 419 Training Loss: 0.2828694 Test Loss: 0.2807597\n",
      "Epoch: 420 Training Loss: 0.28286925 Test Loss: 0.28075963\n",
      "Epoch: 421 Training Loss: 0.2828691 Test Loss: 0.2807595\n",
      "Epoch: 422 Training Loss: 0.28286895 Test Loss: 0.2807594\n",
      "Epoch: 423 Training Loss: 0.2828688 Test Loss: 0.28075933\n",
      "Epoch: 424 Training Loss: 0.28286865 Test Loss: 0.28075922\n",
      "Epoch: 425 Training Loss: 0.28286853 Test Loss: 0.28075916\n",
      "Epoch: 426 Training Loss: 0.28286842 Test Loss: 0.28075904\n",
      "Epoch: 427 Training Loss: 0.28286824 Test Loss: 0.28075898\n",
      "Epoch: 428 Training Loss: 0.28286812 Test Loss: 0.28075886\n",
      "Epoch: 429 Training Loss: 0.28286794 Test Loss: 0.2807588\n",
      "Epoch: 430 Training Loss: 0.28286782 Test Loss: 0.28075868\n",
      "Epoch: 431 Training Loss: 0.28286767 Test Loss: 0.2807586\n",
      "Epoch: 432 Training Loss: 0.28286755 Test Loss: 0.28075847\n",
      "Epoch: 433 Training Loss: 0.28286743 Test Loss: 0.28075838\n",
      "Epoch: 434 Training Loss: 0.28286725 Test Loss: 0.2807583\n",
      "Epoch: 435 Training Loss: 0.28286713 Test Loss: 0.2807582\n",
      "Epoch: 436 Training Loss: 0.282867 Test Loss: 0.28075814\n",
      "Epoch: 437 Training Loss: 0.28286687 Test Loss: 0.28075805\n",
      "Epoch: 438 Training Loss: 0.2828667 Test Loss: 0.28075793\n",
      "Epoch: 439 Training Loss: 0.28286657 Test Loss: 0.28075787\n",
      "Epoch: 440 Training Loss: 0.28286645 Test Loss: 0.28075778\n",
      "Epoch: 441 Training Loss: 0.28286627 Test Loss: 0.2807577\n",
      "Epoch: 442 Training Loss: 0.28286615 Test Loss: 0.28075764\n",
      "Epoch: 443 Training Loss: 0.28286603 Test Loss: 0.28075752\n",
      "Epoch: 444 Training Loss: 0.2828659 Test Loss: 0.28075743\n",
      "Epoch: 445 Training Loss: 0.28286573 Test Loss: 0.28075734\n",
      "Epoch: 446 Training Loss: 0.2828656 Test Loss: 0.28075725\n",
      "Epoch: 447 Training Loss: 0.28286546 Test Loss: 0.28075716\n",
      "Epoch: 448 Training Loss: 0.28286538 Test Loss: 0.28075707\n",
      "Epoch: 449 Training Loss: 0.28286523 Test Loss: 0.28075698\n",
      "Epoch: 450 Training Loss: 0.2828651 Test Loss: 0.2807569\n",
      "Epoch: 451 Training Loss: 0.282865 Test Loss: 0.28075683\n",
      "Epoch: 452 Training Loss: 0.28286487 Test Loss: 0.28075677\n",
      "Epoch: 453 Training Loss: 0.28286475 Test Loss: 0.28075665\n",
      "Epoch: 454 Training Loss: 0.28286463 Test Loss: 0.28075656\n",
      "Epoch: 455 Training Loss: 0.28286448 Test Loss: 0.2807565\n",
      "Epoch: 456 Training Loss: 0.28286436 Test Loss: 0.2807564\n",
      "Epoch: 457 Training Loss: 0.2828642 Test Loss: 0.28075635\n",
      "Epoch: 458 Training Loss: 0.2828641 Test Loss: 0.2807563\n",
      "Epoch: 459 Training Loss: 0.28286394 Test Loss: 0.2807562\n",
      "Epoch: 460 Training Loss: 0.28286386 Test Loss: 0.28075612\n",
      "Epoch: 461 Training Loss: 0.2828637 Test Loss: 0.28075603\n",
      "Epoch: 462 Training Loss: 0.2828636 Test Loss: 0.2807559\n",
      "Epoch: 463 Training Loss: 0.28286347 Test Loss: 0.28075585\n",
      "Epoch: 464 Training Loss: 0.28286335 Test Loss: 0.2807558\n",
      "Epoch: 465 Training Loss: 0.28286323 Test Loss: 0.2807557\n",
      "Epoch: 466 Training Loss: 0.28286314 Test Loss: 0.2807556\n",
      "Epoch: 467 Training Loss: 0.28286296 Test Loss: 0.28075555\n",
      "Epoch: 468 Training Loss: 0.28286284 Test Loss: 0.28075546\n",
      "Epoch: 469 Training Loss: 0.28286272 Test Loss: 0.28075537\n",
      "Epoch: 470 Training Loss: 0.2828626 Test Loss: 0.2807553\n",
      "Epoch: 471 Training Loss: 0.28286248 Test Loss: 0.28075525\n",
      "Epoch: 472 Training Loss: 0.28286237 Test Loss: 0.28075516\n",
      "Epoch: 473 Training Loss: 0.28286225 Test Loss: 0.28075507\n",
      "Epoch: 474 Training Loss: 0.28286213 Test Loss: 0.28075498\n",
      "Epoch: 475 Training Loss: 0.282862 Test Loss: 0.28075492\n",
      "Epoch: 476 Training Loss: 0.2828619 Test Loss: 0.28075486\n"
     ]
    },
    {
     "name": "stdout",
     "output_type": "stream",
     "text": [
      "Epoch: 477 Training Loss: 0.2828618 Test Loss: 0.28075477\n",
      "Epoch: 478 Training Loss: 0.28286165 Test Loss: 0.2807547\n",
      "Epoch: 479 Training Loss: 0.28286153 Test Loss: 0.28075463\n",
      "Epoch: 480 Training Loss: 0.28286144 Test Loss: 0.28075454\n",
      "Epoch: 481 Training Loss: 0.2828613 Test Loss: 0.28075445\n",
      "Epoch: 482 Training Loss: 0.28286117 Test Loss: 0.2807544\n",
      "Epoch: 483 Training Loss: 0.28286102 Test Loss: 0.28075433\n",
      "Epoch: 484 Training Loss: 0.28286096 Test Loss: 0.28075427\n",
      "Epoch: 485 Training Loss: 0.28286085 Test Loss: 0.2807542\n",
      "Epoch: 486 Training Loss: 0.28286073 Test Loss: 0.28075415\n",
      "Epoch: 487 Training Loss: 0.2828606 Test Loss: 0.28075403\n",
      "Epoch: 488 Training Loss: 0.28286052 Test Loss: 0.28075397\n",
      "Epoch: 489 Training Loss: 0.28286037 Test Loss: 0.2807539\n",
      "Epoch: 490 Training Loss: 0.28286028 Test Loss: 0.28075382\n",
      "Epoch: 491 Training Loss: 0.28286016 Test Loss: 0.28075373\n",
      "Epoch: 492 Training Loss: 0.28286 Test Loss: 0.28075373\n",
      "Epoch: 493 Training Loss: 0.28285992 Test Loss: 0.2807536\n",
      "Epoch: 494 Training Loss: 0.2828598 Test Loss: 0.28075355\n",
      "Epoch: 495 Training Loss: 0.28285968 Test Loss: 0.2807535\n",
      "Epoch: 496 Training Loss: 0.28285962 Test Loss: 0.2807534\n",
      "Epoch: 497 Training Loss: 0.28285947 Test Loss: 0.28075334\n",
      "Epoch: 498 Training Loss: 0.28285939 Test Loss: 0.28075328\n",
      "Epoch: 499 Training Loss: 0.28285927 Test Loss: 0.28075323\n",
      "Epoch: 500 Training Loss: 0.28285915 Test Loss: 0.2807531\n",
      "Epoch: 501 Training Loss: 0.28285906 Test Loss: 0.28075308\n",
      "Epoch: 502 Training Loss: 0.28285894 Test Loss: 0.28075302\n",
      "Epoch: 503 Training Loss: 0.28285882 Test Loss: 0.28075293\n",
      "Epoch: 504 Training Loss: 0.28285873 Test Loss: 0.28075287\n",
      "Epoch: 505 Training Loss: 0.28285864 Test Loss: 0.2807528\n",
      "Epoch: 506 Training Loss: 0.28285852 Test Loss: 0.28075275\n",
      "Epoch: 507 Training Loss: 0.2828584 Test Loss: 0.2807527\n",
      "Epoch: 508 Training Loss: 0.28285828 Test Loss: 0.28075263\n",
      "Epoch: 509 Training Loss: 0.2828582 Test Loss: 0.28075257\n",
      "Epoch: 510 Training Loss: 0.28285807 Test Loss: 0.2807525\n",
      "Epoch: 511 Training Loss: 0.28285798 Test Loss: 0.28075245\n",
      "Epoch: 512 Training Loss: 0.28285784 Test Loss: 0.2807524\n",
      "Epoch: 513 Training Loss: 0.28285775 Test Loss: 0.28075233\n",
      "Epoch: 514 Training Loss: 0.28285766 Test Loss: 0.28075227\n",
      "Epoch: 515 Training Loss: 0.28285754 Test Loss: 0.2807522\n",
      "Epoch: 516 Training Loss: 0.28285742 Test Loss: 0.28075212\n",
      "Epoch: 517 Training Loss: 0.28285733 Test Loss: 0.28075206\n",
      "Epoch: 518 Training Loss: 0.28285724 Test Loss: 0.280752\n",
      "Epoch: 519 Training Loss: 0.28285715 Test Loss: 0.28075194\n",
      "Epoch: 520 Training Loss: 0.28285706 Test Loss: 0.28075188\n",
      "Epoch: 521 Training Loss: 0.28285694 Test Loss: 0.28075182\n",
      "Epoch: 522 Training Loss: 0.28285688 Test Loss: 0.28075176\n",
      "Epoch: 523 Training Loss: 0.28285676 Test Loss: 0.2807517\n",
      "Epoch: 524 Training Loss: 0.28285664 Test Loss: 0.28075165\n",
      "Epoch: 525 Training Loss: 0.2828565 Test Loss: 0.2807516\n",
      "Epoch: 526 Training Loss: 0.2828564 Test Loss: 0.28075153\n",
      "Epoch: 527 Training Loss: 0.28285635 Test Loss: 0.28075147\n",
      "Epoch: 528 Training Loss: 0.28285623 Test Loss: 0.28075144\n",
      "Epoch: 529 Training Loss: 0.28285614 Test Loss: 0.28075135\n",
      "Epoch: 530 Training Loss: 0.28285605 Test Loss: 0.2807513\n",
      "Epoch: 531 Training Loss: 0.28285596 Test Loss: 0.28075123\n",
      "Epoch: 532 Training Loss: 0.28285584 Test Loss: 0.28075117\n",
      "Epoch: 533 Training Loss: 0.28285575 Test Loss: 0.2807511\n",
      "Epoch: 534 Training Loss: 0.28285566 Test Loss: 0.28075105\n",
      "Epoch: 535 Training Loss: 0.28285554 Test Loss: 0.28075102\n",
      "Epoch: 536 Training Loss: 0.28285545 Test Loss: 0.280751\n",
      "Epoch: 537 Training Loss: 0.28285533 Test Loss: 0.28075087\n",
      "Epoch: 538 Training Loss: 0.28285527 Test Loss: 0.2807508\n",
      "Epoch: 539 Training Loss: 0.28285515 Test Loss: 0.28075075\n",
      "Epoch: 540 Training Loss: 0.2828551 Test Loss: 0.28075072\n",
      "Epoch: 541 Training Loss: 0.28285497 Test Loss: 0.28075066\n",
      "Epoch: 542 Training Loss: 0.28285488 Test Loss: 0.2807506\n",
      "Epoch: 543 Training Loss: 0.2828548 Test Loss: 0.28075054\n",
      "Epoch: 544 Training Loss: 0.2828547 Test Loss: 0.2807505\n",
      "Epoch: 545 Training Loss: 0.28285462 Test Loss: 0.28075042\n",
      "Epoch: 546 Training Loss: 0.2828545 Test Loss: 0.28075036\n",
      "Epoch: 547 Training Loss: 0.2828544 Test Loss: 0.2807503\n",
      "Epoch: 548 Training Loss: 0.28285432 Test Loss: 0.28075027\n",
      "Epoch: 549 Training Loss: 0.28285426 Test Loss: 0.28075022\n",
      "Epoch: 550 Training Loss: 0.28285414 Test Loss: 0.2807502\n",
      "Epoch: 551 Training Loss: 0.28285405 Test Loss: 0.28075013\n",
      "Epoch: 552 Training Loss: 0.28285393 Test Loss: 0.28075007\n",
      "Epoch: 553 Training Loss: 0.28285387 Test Loss: 0.28075\n",
      "Epoch: 554 Training Loss: 0.28285378 Test Loss: 0.28074995\n",
      "Epoch: 555 Training Loss: 0.2828537 Test Loss: 0.28074992\n",
      "Epoch: 556 Training Loss: 0.2828536 Test Loss: 0.2807499\n",
      "Epoch: 557 Training Loss: 0.2828535 Test Loss: 0.28074983\n",
      "Epoch: 558 Training Loss: 0.28285342 Test Loss: 0.28074977\n",
      "Epoch: 559 Training Loss: 0.28285334 Test Loss: 0.2807497\n",
      "Epoch: 560 Training Loss: 0.28285325 Test Loss: 0.28074968\n",
      "Epoch: 561 Training Loss: 0.28285316 Test Loss: 0.2807496\n",
      "Epoch: 562 Training Loss: 0.28285307 Test Loss: 0.28074956\n",
      "Epoch: 563 Training Loss: 0.28285298 Test Loss: 0.28074947\n",
      "Epoch: 564 Training Loss: 0.28285292 Test Loss: 0.2807494\n",
      "Epoch: 565 Training Loss: 0.28285283 Test Loss: 0.28074938\n",
      "Epoch: 566 Training Loss: 0.2828527 Test Loss: 0.28074932\n",
      "Epoch: 567 Training Loss: 0.2828526 Test Loss: 0.2807493\n",
      "Epoch: 568 Training Loss: 0.28285253 Test Loss: 0.28074926\n",
      "Epoch: 569 Training Loss: 0.28285247 Test Loss: 0.2807492\n",
      "Epoch: 570 Training Loss: 0.28285235 Test Loss: 0.28074914\n",
      "Epoch: 571 Training Loss: 0.2828523 Test Loss: 0.28074908\n",
      "Epoch: 572 Training Loss: 0.2828522 Test Loss: 0.28074905\n",
      "Epoch: 573 Training Loss: 0.28285214 Test Loss: 0.280749\n",
      "Epoch: 574 Training Loss: 0.28285205 Test Loss: 0.28074896\n",
      "Epoch: 575 Training Loss: 0.28285193 Test Loss: 0.2807489\n",
      "Epoch: 576 Training Loss: 0.28285187 Test Loss: 0.28074884\n",
      "Epoch: 577 Training Loss: 0.28285182 Test Loss: 0.2807488\n",
      "Epoch: 578 Training Loss: 0.2828517 Test Loss: 0.28074875\n",
      "Epoch: 579 Training Loss: 0.28285164 Test Loss: 0.28074872\n",
      "Epoch: 580 Training Loss: 0.28285152 Test Loss: 0.28074867\n",
      "Epoch: 581 Training Loss: 0.28285143 Test Loss: 0.2807486\n",
      "Epoch: 582 Training Loss: 0.28285134 Test Loss: 0.28074855\n",
      "Epoch: 583 Training Loss: 0.28285125 Test Loss: 0.28074852\n",
      "Epoch: 584 Training Loss: 0.2828512 Test Loss: 0.2807485\n",
      "Epoch: 585 Training Loss: 0.28285113 Test Loss: 0.28074843\n",
      "Epoch: 586 Training Loss: 0.282851 Test Loss: 0.28074834\n",
      "Epoch: 587 Training Loss: 0.28285095 Test Loss: 0.2807483\n",
      "Epoch: 588 Training Loss: 0.2828509 Test Loss: 0.28074822\n",
      "Epoch: 589 Training Loss: 0.28285077 Test Loss: 0.28074822\n",
      "Epoch: 590 Training Loss: 0.2828507 Test Loss: 0.28074816\n",
      "Epoch: 591 Training Loss: 0.28285062 Test Loss: 0.28074813\n",
      "Epoch: 592 Training Loss: 0.28285056 Test Loss: 0.2807481\n",
      "Epoch: 593 Training Loss: 0.28285047 Test Loss: 0.28074804\n",
      "Epoch: 594 Training Loss: 0.28285038 Test Loss: 0.28074798\n",
      "Epoch: 595 Training Loss: 0.28285033 Test Loss: 0.28074795\n",
      "Epoch: 596 Training Loss: 0.2828502 Test Loss: 0.28074792\n",
      "Epoch: 597 Training Loss: 0.28285012 Test Loss: 0.28074786\n",
      "Epoch: 598 Training Loss: 0.28285006 Test Loss: 0.28074783\n",
      "Epoch: 599 Training Loss: 0.28285 Test Loss: 0.28074777\n",
      "Epoch: 600 Training Loss: 0.2828499 Test Loss: 0.2807477\n",
      "Epoch: 601 Training Loss: 0.28284985 Test Loss: 0.28074765\n",
      "Epoch: 602 Training Loss: 0.28284973 Test Loss: 0.28074762\n",
      "Epoch: 603 Training Loss: 0.2828497 Test Loss: 0.2807476\n",
      "Epoch: 604 Training Loss: 0.2828496 Test Loss: 0.28074756\n",
      "Epoch: 605 Training Loss: 0.28284952 Test Loss: 0.2807475\n",
      "Epoch: 606 Training Loss: 0.28284946 Test Loss: 0.28074744\n",
      "Epoch: 607 Training Loss: 0.28284937 Test Loss: 0.2807474\n",
      "Epoch: 608 Training Loss: 0.2828493 Test Loss: 0.28074738\n",
      "Epoch: 609 Training Loss: 0.28284925 Test Loss: 0.28074735\n",
      "Epoch: 610 Training Loss: 0.28284916 Test Loss: 0.2807473\n",
      "Epoch: 611 Training Loss: 0.2828491 Test Loss: 0.28074726\n",
      "Epoch: 612 Training Loss: 0.28284895 Test Loss: 0.2807472\n",
      "Epoch: 613 Training Loss: 0.2828489 Test Loss: 0.2807472\n",
      "Epoch: 614 Training Loss: 0.28284883 Test Loss: 0.28074715\n",
      "Epoch: 615 Training Loss: 0.28284875 Test Loss: 0.28074706\n",
      "Epoch: 616 Training Loss: 0.2828487 Test Loss: 0.28074706\n",
      "Epoch: 617 Training Loss: 0.28284863 Test Loss: 0.280747\n",
      "Epoch: 618 Training Loss: 0.28284857 Test Loss: 0.28074694\n",
      "Epoch: 619 Training Loss: 0.2828485 Test Loss: 0.28074688\n",
      "Epoch: 620 Training Loss: 0.28284842 Test Loss: 0.28074688\n",
      "Epoch: 621 Training Loss: 0.28284833 Test Loss: 0.28074682\n",
      "Epoch: 622 Training Loss: 0.28284827 Test Loss: 0.28074682\n",
      "Epoch: 623 Training Loss: 0.2828482 Test Loss: 0.28074676\n",
      "Epoch: 624 Training Loss: 0.28284812 Test Loss: 0.28074673\n",
      "Epoch: 625 Training Loss: 0.28284803 Test Loss: 0.2807467\n",
      "Epoch: 626 Training Loss: 0.28284797 Test Loss: 0.28074664\n",
      "Epoch: 627 Training Loss: 0.28284788 Test Loss: 0.28074658\n",
      "Epoch: 628 Training Loss: 0.28284782 Test Loss: 0.28074655\n",
      "Epoch: 629 Training Loss: 0.28284776 Test Loss: 0.28074652\n"
     ]
    },
    {
     "name": "stdout",
     "output_type": "stream",
     "text": [
      "Epoch: 630 Training Loss: 0.28284767 Test Loss: 0.2807465\n",
      "Epoch: 631 Training Loss: 0.28284758 Test Loss: 0.28074646\n",
      "Epoch: 632 Training Loss: 0.28284752 Test Loss: 0.28074643\n",
      "Epoch: 633 Training Loss: 0.28284746 Test Loss: 0.28074637\n",
      "Epoch: 634 Training Loss: 0.2828474 Test Loss: 0.28074634\n",
      "Epoch: 635 Training Loss: 0.28284732 Test Loss: 0.28074628\n",
      "Epoch: 636 Training Loss: 0.28284726 Test Loss: 0.28074625\n",
      "Epoch: 637 Training Loss: 0.28284717 Test Loss: 0.28074622\n",
      "Epoch: 638 Training Loss: 0.2828471 Test Loss: 0.28074616\n",
      "Epoch: 639 Training Loss: 0.28284705 Test Loss: 0.28074616\n",
      "Epoch: 640 Training Loss: 0.282847 Test Loss: 0.2807461\n",
      "Epoch: 641 Training Loss: 0.28284693 Test Loss: 0.28074607\n",
      "Epoch: 642 Training Loss: 0.28284684 Test Loss: 0.280746\n",
      "Epoch: 643 Training Loss: 0.28284678 Test Loss: 0.28074598\n",
      "Epoch: 644 Training Loss: 0.28284675 Test Loss: 0.28074592\n",
      "Epoch: 645 Training Loss: 0.2828467 Test Loss: 0.28074592\n",
      "Epoch: 646 Training Loss: 0.2828466 Test Loss: 0.28074592\n",
      "Epoch: 647 Training Loss: 0.2828465 Test Loss: 0.28074586\n",
      "Epoch: 648 Training Loss: 0.28284648 Test Loss: 0.28074577\n",
      "Epoch: 649 Training Loss: 0.28284636 Test Loss: 0.28074577\n",
      "Epoch: 650 Training Loss: 0.2828463 Test Loss: 0.28074571\n",
      "Epoch: 651 Training Loss: 0.28284624 Test Loss: 0.28074566\n",
      "Epoch: 652 Training Loss: 0.28284618 Test Loss: 0.28074566\n",
      "Epoch: 653 Training Loss: 0.28284612 Test Loss: 0.2807456\n",
      "Epoch: 654 Training Loss: 0.28284606 Test Loss: 0.28074557\n",
      "Epoch: 655 Training Loss: 0.282846 Test Loss: 0.28074554\n",
      "Epoch: 656 Training Loss: 0.28284594 Test Loss: 0.2807455\n",
      "Epoch: 657 Training Loss: 0.28284588 Test Loss: 0.28074548\n",
      "Epoch: 658 Training Loss: 0.2828458 Test Loss: 0.28074545\n",
      "Epoch: 659 Training Loss: 0.28284577 Test Loss: 0.28074542\n",
      "Epoch: 660 Training Loss: 0.28284568 Test Loss: 0.2807454\n",
      "Epoch: 661 Training Loss: 0.28284562 Test Loss: 0.28074536\n",
      "Epoch: 662 Training Loss: 0.28284556 Test Loss: 0.2807453\n",
      "Epoch: 663 Training Loss: 0.2828455 Test Loss: 0.28074527\n",
      "Epoch: 664 Training Loss: 0.2828454 Test Loss: 0.28074524\n",
      "Epoch: 665 Training Loss: 0.28284535 Test Loss: 0.28074518\n",
      "Epoch: 666 Training Loss: 0.2828453 Test Loss: 0.28074512\n",
      "Epoch: 667 Training Loss: 0.28284523 Test Loss: 0.28074512\n",
      "Epoch: 668 Training Loss: 0.28284514 Test Loss: 0.2807451\n",
      "Epoch: 669 Training Loss: 0.28284508 Test Loss: 0.28074506\n",
      "Epoch: 670 Training Loss: 0.28284502 Test Loss: 0.28074503\n",
      "Epoch: 671 Training Loss: 0.28284496 Test Loss: 0.280745\n",
      "Epoch: 672 Training Loss: 0.2828449 Test Loss: 0.28074494\n",
      "Epoch: 673 Training Loss: 0.28284484 Test Loss: 0.28074494\n",
      "Epoch: 674 Training Loss: 0.28284478 Test Loss: 0.28074488\n",
      "Epoch: 675 Training Loss: 0.2828447 Test Loss: 0.28074485\n",
      "Epoch: 676 Training Loss: 0.28284463 Test Loss: 0.28074482\n",
      "Epoch: 677 Training Loss: 0.28284457 Test Loss: 0.2807448\n",
      "Epoch: 678 Training Loss: 0.28284454 Test Loss: 0.28074476\n",
      "Epoch: 679 Training Loss: 0.28284445 Test Loss: 0.2807447\n",
      "Epoch: 680 Training Loss: 0.2828444 Test Loss: 0.2807447\n",
      "Epoch: 681 Training Loss: 0.28284433 Test Loss: 0.28074467\n",
      "Epoch: 682 Training Loss: 0.28284428 Test Loss: 0.2807446\n",
      "Epoch: 683 Training Loss: 0.28284422 Test Loss: 0.2807446\n",
      "Epoch: 684 Training Loss: 0.2828442 Test Loss: 0.28074458\n",
      "Epoch: 685 Training Loss: 0.28284407 Test Loss: 0.28074452\n",
      "Epoch: 686 Training Loss: 0.282844 Test Loss: 0.2807445\n",
      "Epoch: 687 Training Loss: 0.28284395 Test Loss: 0.28074443\n",
      "Epoch: 688 Training Loss: 0.28284395 Test Loss: 0.28074443\n",
      "Epoch: 689 Training Loss: 0.28284383 Test Loss: 0.2807444\n",
      "Epoch: 690 Training Loss: 0.28284377 Test Loss: 0.28074434\n",
      "Epoch: 691 Training Loss: 0.2828437 Test Loss: 0.2807443\n",
      "Epoch: 692 Training Loss: 0.28284365 Test Loss: 0.2807443\n",
      "Epoch: 693 Training Loss: 0.28284362 Test Loss: 0.28074425\n",
      "Epoch: 694 Training Loss: 0.28284353 Test Loss: 0.28074422\n",
      "Epoch: 695 Training Loss: 0.2828435 Test Loss: 0.2807442\n",
      "Epoch: 696 Training Loss: 0.28284344 Test Loss: 0.2807442\n",
      "Epoch: 697 Training Loss: 0.28284338 Test Loss: 0.28074414\n",
      "Epoch: 698 Training Loss: 0.28284332 Test Loss: 0.28074414\n",
      "Epoch: 699 Training Loss: 0.28284326 Test Loss: 0.28074408\n",
      "Epoch: 700 Training Loss: 0.2828432 Test Loss: 0.28074402\n",
      "Epoch: 701 Training Loss: 0.28284314 Test Loss: 0.28074402\n",
      "Epoch: 702 Training Loss: 0.28284308 Test Loss: 0.280744\n",
      "Epoch: 703 Training Loss: 0.28284302 Test Loss: 0.28074396\n",
      "Epoch: 704 Training Loss: 0.28284302 Test Loss: 0.28074393\n",
      "Epoch: 705 Training Loss: 0.28284293 Test Loss: 0.2807439\n",
      "Epoch: 706 Training Loss: 0.2828429 Test Loss: 0.28074387\n",
      "Epoch: 707 Training Loss: 0.28284284 Test Loss: 0.28074384\n",
      "Epoch: 708 Training Loss: 0.2828428 Test Loss: 0.2807438\n",
      "Epoch: 709 Training Loss: 0.28284273 Test Loss: 0.28074378\n",
      "Epoch: 710 Training Loss: 0.28284267 Test Loss: 0.28074372\n",
      "Epoch: 711 Training Loss: 0.28284258 Test Loss: 0.28074372\n",
      "Epoch: 712 Training Loss: 0.28284255 Test Loss: 0.2807437\n",
      "Epoch: 713 Training Loss: 0.28284246 Test Loss: 0.28074366\n",
      "Epoch: 714 Training Loss: 0.28284243 Test Loss: 0.28074363\n",
      "Epoch: 715 Training Loss: 0.28284237 Test Loss: 0.2807436\n",
      "Epoch: 716 Training Loss: 0.2828423 Test Loss: 0.2807436\n",
      "Epoch: 717 Training Loss: 0.28284228 Test Loss: 0.28074357\n",
      "Epoch: 718 Training Loss: 0.28284222 Test Loss: 0.28074354\n",
      "Epoch: 719 Training Loss: 0.28284216 Test Loss: 0.28074348\n",
      "Epoch: 720 Training Loss: 0.2828421 Test Loss: 0.28074348\n",
      "Epoch: 721 Training Loss: 0.28284204 Test Loss: 0.28074345\n",
      "Epoch: 722 Training Loss: 0.28284198 Test Loss: 0.28074342\n",
      "Epoch: 723 Training Loss: 0.28284198 Test Loss: 0.2807434\n",
      "Epoch: 724 Training Loss: 0.28284192 Test Loss: 0.2807434\n",
      "Epoch: 725 Training Loss: 0.28284183 Test Loss: 0.28074333\n",
      "Epoch: 726 Training Loss: 0.2828418 Test Loss: 0.2807433\n",
      "Epoch: 727 Training Loss: 0.28284174 Test Loss: 0.2807433\n",
      "Epoch: 728 Training Loss: 0.28284168 Test Loss: 0.28074324\n",
      "Epoch: 729 Training Loss: 0.28284162 Test Loss: 0.2807432\n",
      "Epoch: 730 Training Loss: 0.2828416 Test Loss: 0.28074318\n",
      "Epoch: 731 Training Loss: 0.28284153 Test Loss: 0.28074315\n",
      "Epoch: 732 Training Loss: 0.28284147 Test Loss: 0.2807431\n",
      "Epoch: 733 Training Loss: 0.2828414 Test Loss: 0.2807431\n",
      "Epoch: 734 Training Loss: 0.28284138 Test Loss: 0.28074306\n",
      "Epoch: 735 Training Loss: 0.2828413 Test Loss: 0.28074303\n",
      "Epoch: 736 Training Loss: 0.28284127 Test Loss: 0.280743\n",
      "Epoch: 737 Training Loss: 0.2828412 Test Loss: 0.280743\n",
      "Epoch: 738 Training Loss: 0.28284118 Test Loss: 0.28074297\n",
      "Epoch: 739 Training Loss: 0.28284112 Test Loss: 0.2807429\n",
      "Epoch: 740 Training Loss: 0.28284106 Test Loss: 0.2807429\n",
      "Epoch: 741 Training Loss: 0.282841 Test Loss: 0.28074285\n",
      "Epoch: 742 Training Loss: 0.28284094 Test Loss: 0.28074285\n",
      "Epoch: 743 Training Loss: 0.2828409 Test Loss: 0.28074285\n",
      "Epoch: 744 Training Loss: 0.28284085 Test Loss: 0.2807428\n",
      "Epoch: 745 Training Loss: 0.28284082 Test Loss: 0.28074276\n",
      "Epoch: 746 Training Loss: 0.28284076 Test Loss: 0.28074273\n",
      "Epoch: 747 Training Loss: 0.2828407 Test Loss: 0.28074273\n",
      "Epoch: 748 Training Loss: 0.28284067 Test Loss: 0.2807427\n",
      "Epoch: 749 Training Loss: 0.2828406 Test Loss: 0.28074268\n",
      "Epoch: 750 Training Loss: 0.28284055 Test Loss: 0.28074265\n",
      "Epoch: 751 Training Loss: 0.2828405 Test Loss: 0.28074265\n",
      "Epoch: 752 Training Loss: 0.28284046 Test Loss: 0.28074262\n",
      "Epoch: 753 Training Loss: 0.2828404 Test Loss: 0.2807426\n",
      "Epoch: 754 Training Loss: 0.28284034 Test Loss: 0.28074256\n",
      "Epoch: 755 Training Loss: 0.28284028 Test Loss: 0.28074253\n",
      "Epoch: 756 Training Loss: 0.28284022 Test Loss: 0.2807425\n",
      "Epoch: 757 Training Loss: 0.2828402 Test Loss: 0.28074247\n",
      "Epoch: 758 Training Loss: 0.28284013 Test Loss: 0.28074244\n",
      "Epoch: 759 Training Loss: 0.28284004 Test Loss: 0.28074244\n",
      "Epoch: 760 Training Loss: 0.28284 Test Loss: 0.2807424\n",
      "Epoch: 761 Training Loss: 0.28283995 Test Loss: 0.2807424\n",
      "Epoch: 762 Training Loss: 0.2828399 Test Loss: 0.28074238\n",
      "Epoch: 763 Training Loss: 0.28283986 Test Loss: 0.28074235\n",
      "Epoch: 764 Training Loss: 0.28283983 Test Loss: 0.28074232\n",
      "Epoch: 765 Training Loss: 0.28283978 Test Loss: 0.2807423\n",
      "Epoch: 766 Training Loss: 0.28283972 Test Loss: 0.2807423\n",
      "Epoch: 767 Training Loss: 0.28283966 Test Loss: 0.28074226\n",
      "Epoch: 768 Training Loss: 0.2828396 Test Loss: 0.28074223\n",
      "Epoch: 769 Training Loss: 0.28283957 Test Loss: 0.2807422\n",
      "Epoch: 770 Training Loss: 0.28283954 Test Loss: 0.28074217\n",
      "Epoch: 771 Training Loss: 0.28283945 Test Loss: 0.28074214\n",
      "Epoch: 772 Training Loss: 0.28283942 Test Loss: 0.28074214\n",
      "Epoch: 773 Training Loss: 0.28283936 Test Loss: 0.28074214\n",
      "Epoch: 774 Training Loss: 0.28283933 Test Loss: 0.28074208\n",
      "Epoch: 775 Training Loss: 0.2828393 Test Loss: 0.28074208\n",
      "Epoch: 776 Training Loss: 0.28283924 Test Loss: 0.28074205\n",
      "Epoch: 777 Training Loss: 0.28283918 Test Loss: 0.280742\n",
      "Epoch: 778 Training Loss: 0.28283912 Test Loss: 0.28074196\n",
      "Epoch: 779 Training Loss: 0.2828391 Test Loss: 0.28074193\n"
     ]
    },
    {
     "name": "stdout",
     "output_type": "stream",
     "text": [
      "Epoch: 780 Training Loss: 0.28283903 Test Loss: 0.28074193\n",
      "Epoch: 781 Training Loss: 0.282839 Test Loss: 0.28074193\n",
      "Epoch: 782 Training Loss: 0.28283894 Test Loss: 0.28074187\n",
      "Epoch: 783 Training Loss: 0.28283888 Test Loss: 0.28074187\n",
      "Epoch: 784 Training Loss: 0.28283885 Test Loss: 0.28074184\n",
      "Epoch: 785 Training Loss: 0.28283876 Test Loss: 0.2807418\n",
      "Epoch: 786 Training Loss: 0.28283873 Test Loss: 0.2807418\n",
      "Epoch: 787 Training Loss: 0.28283867 Test Loss: 0.28074175\n",
      "Epoch: 788 Training Loss: 0.2828386 Test Loss: 0.28074175\n",
      "Epoch: 789 Training Loss: 0.28283855 Test Loss: 0.28074175\n",
      "Epoch: 790 Training Loss: 0.2828385 Test Loss: 0.28074175\n",
      "Epoch: 791 Training Loss: 0.2828385 Test Loss: 0.2807417\n",
      "Epoch: 792 Training Loss: 0.28283843 Test Loss: 0.2807417\n",
      "Epoch: 793 Training Loss: 0.28283837 Test Loss: 0.28074163\n",
      "Epoch: 794 Training Loss: 0.2828383 Test Loss: 0.28074163\n",
      "Epoch: 795 Training Loss: 0.2828383 Test Loss: 0.2807416\n",
      "Epoch: 796 Training Loss: 0.28283826 Test Loss: 0.28074157\n",
      "Epoch: 797 Training Loss: 0.2828382 Test Loss: 0.28074157\n",
      "Epoch: 798 Training Loss: 0.28283817 Test Loss: 0.28074157\n",
      "Epoch: 799 Training Loss: 0.2828381 Test Loss: 0.28074154\n",
      "Epoch: 800 Training Loss: 0.28283808 Test Loss: 0.2807415\n",
      "Epoch: 801 Training Loss: 0.28283802 Test Loss: 0.2807415\n",
      "Epoch: 802 Training Loss: 0.282838 Test Loss: 0.28074145\n",
      "Epoch: 803 Training Loss: 0.28283793 Test Loss: 0.28074145\n",
      "Epoch: 804 Training Loss: 0.2828379 Test Loss: 0.28074142\n",
      "Epoch: 805 Training Loss: 0.28283784 Test Loss: 0.2807414\n",
      "Epoch: 806 Training Loss: 0.2828378 Test Loss: 0.2807414\n",
      "Epoch: 807 Training Loss: 0.28283775 Test Loss: 0.28074136\n",
      "Epoch: 808 Training Loss: 0.28283772 Test Loss: 0.28074133\n",
      "Epoch: 809 Training Loss: 0.28283766 Test Loss: 0.28074133\n",
      "Epoch: 810 Training Loss: 0.2828376 Test Loss: 0.28074127\n",
      "Epoch: 811 Training Loss: 0.28283757 Test Loss: 0.28074127\n",
      "Epoch: 812 Training Loss: 0.2828375 Test Loss: 0.28074127\n",
      "Epoch: 813 Training Loss: 0.28283745 Test Loss: 0.28074127\n",
      "Epoch: 814 Training Loss: 0.28283742 Test Loss: 0.2807412\n",
      "Epoch: 815 Training Loss: 0.2828374 Test Loss: 0.2807412\n",
      "Epoch: 816 Training Loss: 0.28283733 Test Loss: 0.2807412\n",
      "Epoch: 817 Training Loss: 0.28283727 Test Loss: 0.28074116\n",
      "Epoch: 818 Training Loss: 0.28283724 Test Loss: 0.28074116\n",
      "Epoch: 819 Training Loss: 0.2828372 Test Loss: 0.28074113\n",
      "Epoch: 820 Training Loss: 0.28283715 Test Loss: 0.2807411\n",
      "Epoch: 821 Training Loss: 0.2828371 Test Loss: 0.2807411\n",
      "Epoch: 822 Training Loss: 0.2828371 Test Loss: 0.28074107\n",
      "Epoch: 823 Training Loss: 0.28283703 Test Loss: 0.28074104\n",
      "Epoch: 824 Training Loss: 0.28283697 Test Loss: 0.28074104\n",
      "Epoch: 825 Training Loss: 0.28283694 Test Loss: 0.280741\n",
      "Epoch: 826 Training Loss: 0.2828369 Test Loss: 0.28074098\n",
      "Epoch: 827 Training Loss: 0.28283682 Test Loss: 0.28074098\n",
      "Epoch: 828 Training Loss: 0.2828368 Test Loss: 0.28074095\n",
      "Epoch: 829 Training Loss: 0.28283677 Test Loss: 0.28074092\n",
      "Epoch: 830 Training Loss: 0.2828367 Test Loss: 0.28074092\n",
      "Epoch: 831 Training Loss: 0.28283668 Test Loss: 0.28074086\n",
      "Epoch: 832 Training Loss: 0.28283662 Test Loss: 0.28074086\n",
      "Epoch: 833 Training Loss: 0.28283662 Test Loss: 0.28074086\n",
      "Epoch: 834 Training Loss: 0.28283656 Test Loss: 0.28074083\n",
      "Epoch: 835 Training Loss: 0.2828365 Test Loss: 0.28074083\n",
      "Epoch: 836 Training Loss: 0.28283644 Test Loss: 0.2807408\n",
      "Epoch: 837 Training Loss: 0.28283644 Test Loss: 0.2807408\n",
      "Epoch: 838 Training Loss: 0.2828364 Test Loss: 0.2807408\n",
      "Epoch: 839 Training Loss: 0.28283638 Test Loss: 0.2807407\n",
      "Epoch: 840 Training Loss: 0.28283635 Test Loss: 0.2807407\n",
      "Epoch: 841 Training Loss: 0.28283626 Test Loss: 0.28074068\n",
      "Epoch: 842 Training Loss: 0.2828362 Test Loss: 0.28074065\n",
      "Epoch: 843 Training Loss: 0.28283617 Test Loss: 0.28074065\n",
      "Epoch: 844 Training Loss: 0.28283614 Test Loss: 0.28074062\n",
      "Epoch: 845 Training Loss: 0.2828361 Test Loss: 0.28074062\n",
      "Epoch: 846 Training Loss: 0.28283605 Test Loss: 0.28074056\n",
      "Epoch: 847 Training Loss: 0.282836 Test Loss: 0.28074056\n",
      "Epoch: 848 Training Loss: 0.282836 Test Loss: 0.28074053\n",
      "Epoch: 849 Training Loss: 0.28283593 Test Loss: 0.28074056\n",
      "Epoch: 850 Training Loss: 0.28283587 Test Loss: 0.2807405\n",
      "Epoch: 851 Training Loss: 0.28283584 Test Loss: 0.28074047\n",
      "Epoch: 852 Training Loss: 0.2828358 Test Loss: 0.28074047\n",
      "Epoch: 853 Training Loss: 0.28283575 Test Loss: 0.28074044\n",
      "Epoch: 854 Training Loss: 0.28283572 Test Loss: 0.2807404\n",
      "Epoch: 855 Training Loss: 0.2828357 Test Loss: 0.2807404\n",
      "Epoch: 856 Training Loss: 0.28283563 Test Loss: 0.2807404\n",
      "Epoch: 857 Training Loss: 0.28283563 Test Loss: 0.28074038\n",
      "Epoch: 858 Training Loss: 0.28283557 Test Loss: 0.28074035\n",
      "Epoch: 859 Training Loss: 0.2828355 Test Loss: 0.28074032\n",
      "Epoch: 860 Training Loss: 0.28283548 Test Loss: 0.28074032\n",
      "Epoch: 861 Training Loss: 0.28283545 Test Loss: 0.2807403\n",
      "Epoch: 862 Training Loss: 0.2828354 Test Loss: 0.2807403\n",
      "Epoch: 863 Training Loss: 0.28283533 Test Loss: 0.28074023\n",
      "Epoch: 864 Training Loss: 0.28283533 Test Loss: 0.28074026\n",
      "Epoch: 865 Training Loss: 0.28283527 Test Loss: 0.28074023\n",
      "Epoch: 866 Training Loss: 0.28283527 Test Loss: 0.2807402\n",
      "Epoch: 867 Training Loss: 0.28283522 Test Loss: 0.2807402\n",
      "Epoch: 868 Training Loss: 0.2828352 Test Loss: 0.28074017\n",
      "Epoch: 869 Training Loss: 0.28283516 Test Loss: 0.28074014\n",
      "Epoch: 870 Training Loss: 0.2828351 Test Loss: 0.28074014\n",
      "Epoch: 871 Training Loss: 0.2828351 Test Loss: 0.2807401\n",
      "Epoch: 872 Training Loss: 0.28283504 Test Loss: 0.2807401\n",
      "Epoch: 873 Training Loss: 0.28283498 Test Loss: 0.28074008\n",
      "Epoch: 874 Training Loss: 0.28283495 Test Loss: 0.28074005\n",
      "Epoch: 875 Training Loss: 0.2828349 Test Loss: 0.28074005\n",
      "Epoch: 876 Training Loss: 0.28283483 Test Loss: 0.28074005\n",
      "Epoch: 877 Training Loss: 0.28283483 Test Loss: 0.28074002\n",
      "Epoch: 878 Training Loss: 0.28283477 Test Loss: 0.28074\n",
      "Epoch: 879 Training Loss: 0.2828347 Test Loss: 0.28074\n",
      "Epoch: 880 Training Loss: 0.28283468 Test Loss: 0.28073993\n",
      "Epoch: 881 Training Loss: 0.28283465 Test Loss: 0.28073993\n",
      "Epoch: 882 Training Loss: 0.2828346 Test Loss: 0.28073993\n",
      "Epoch: 883 Training Loss: 0.28283456 Test Loss: 0.28073987\n",
      "Epoch: 884 Training Loss: 0.28283453 Test Loss: 0.28073987\n",
      "Epoch: 885 Training Loss: 0.2828345 Test Loss: 0.28073987\n",
      "Epoch: 886 Training Loss: 0.28283447 Test Loss: 0.28073987\n",
      "Epoch: 887 Training Loss: 0.2828344 Test Loss: 0.28073987\n",
      "Epoch: 888 Training Loss: 0.28283438 Test Loss: 0.2807398\n",
      "Epoch: 889 Training Loss: 0.28283435 Test Loss: 0.2807398\n",
      "Epoch: 890 Training Loss: 0.28283432 Test Loss: 0.2807398\n",
      "Epoch: 891 Training Loss: 0.2828343 Test Loss: 0.28073975\n",
      "Epoch: 892 Training Loss: 0.28283423 Test Loss: 0.28073975\n",
      "Epoch: 893 Training Loss: 0.2828342 Test Loss: 0.28073975\n",
      "Epoch: 894 Training Loss: 0.28283417 Test Loss: 0.28073972\n",
      "Epoch: 895 Training Loss: 0.2828341 Test Loss: 0.2807397\n",
      "Epoch: 896 Training Loss: 0.28283408 Test Loss: 0.2807397\n",
      "Epoch: 897 Training Loss: 0.28283405 Test Loss: 0.2807397\n",
      "Epoch: 898 Training Loss: 0.282834 Test Loss: 0.28073964\n",
      "Epoch: 899 Training Loss: 0.282834 Test Loss: 0.28073964\n",
      "Epoch: 900 Training Loss: 0.28283393 Test Loss: 0.28073964\n",
      "Epoch: 901 Training Loss: 0.28283393 Test Loss: 0.28073958\n",
      "Epoch: 902 Training Loss: 0.28283387 Test Loss: 0.28073958\n",
      "Epoch: 903 Training Loss: 0.28283384 Test Loss: 0.28073955\n",
      "Epoch: 904 Training Loss: 0.2828338 Test Loss: 0.28073955\n",
      "Epoch: 905 Training Loss: 0.28283376 Test Loss: 0.28073955\n",
      "Epoch: 906 Training Loss: 0.28283376 Test Loss: 0.28073952\n",
      "Epoch: 907 Training Loss: 0.28283367 Test Loss: 0.2807395\n",
      "Epoch: 908 Training Loss: 0.28283364 Test Loss: 0.28073943\n",
      "Epoch: 909 Training Loss: 0.2828336 Test Loss: 0.28073943\n",
      "Epoch: 910 Training Loss: 0.28283355 Test Loss: 0.2807394\n",
      "Epoch: 911 Training Loss: 0.28283355 Test Loss: 0.2807394\n",
      "Epoch: 912 Training Loss: 0.2828335 Test Loss: 0.28073937\n",
      "Epoch: 913 Training Loss: 0.28283346 Test Loss: 0.28073937\n",
      "Epoch: 914 Training Loss: 0.28283343 Test Loss: 0.28073937\n",
      "Epoch: 915 Training Loss: 0.2828334 Test Loss: 0.28073934\n",
      "Epoch: 916 Training Loss: 0.28283337 Test Loss: 0.28073934\n",
      "Epoch: 917 Training Loss: 0.2828333 Test Loss: 0.2807393\n",
      "Epoch: 918 Training Loss: 0.2828333 Test Loss: 0.2807393\n",
      "Epoch: 919 Training Loss: 0.28283325 Test Loss: 0.28073928\n",
      "Epoch: 920 Training Loss: 0.28283325 Test Loss: 0.28073925\n",
      "Epoch: 921 Training Loss: 0.2828332 Test Loss: 0.28073925\n",
      "Epoch: 922 Training Loss: 0.28283316 Test Loss: 0.2807392\n",
      "Epoch: 923 Training Loss: 0.28283313 Test Loss: 0.2807392\n",
      "Epoch: 924 Training Loss: 0.28283307 Test Loss: 0.2807392\n",
      "Epoch: 925 Training Loss: 0.28283307 Test Loss: 0.2807392\n",
      "Epoch: 926 Training Loss: 0.282833 Test Loss: 0.28073916\n",
      "Epoch: 927 Training Loss: 0.28283298 Test Loss: 0.28073913\n",
      "Epoch: 928 Training Loss: 0.28283295 Test Loss: 0.28073913\n",
      "Epoch: 929 Training Loss: 0.28283295 Test Loss: 0.28073913\n",
      "Epoch: 930 Training Loss: 0.2828329 Test Loss: 0.2807391\n",
      "Epoch: 931 Training Loss: 0.28283286 Test Loss: 0.28073907\n",
      "Epoch: 932 Training Loss: 0.28283283 Test Loss: 0.28073907\n",
      "Epoch: 933 Training Loss: 0.2828328 Test Loss: 0.28073907\n",
      "Epoch: 934 Training Loss: 0.28283277 Test Loss: 0.28073904\n",
      "Epoch: 935 Training Loss: 0.2828327 Test Loss: 0.280739\n",
      "Epoch: 936 Training Loss: 0.2828327 Test Loss: 0.280739\n",
      "Epoch: 937 Training Loss: 0.28283265 Test Loss: 0.280739\n",
      "Epoch: 938 Training Loss: 0.28283265 Test Loss: 0.280739\n",
      "Epoch: 939 Training Loss: 0.2828326 Test Loss: 0.28073895\n",
      "Epoch: 940 Training Loss: 0.28283256 Test Loss: 0.28073895\n",
      "Epoch: 941 Training Loss: 0.28283253 Test Loss: 0.28073892\n",
      "Epoch: 942 Training Loss: 0.2828325 Test Loss: 0.28073892\n"
     ]
    },
    {
     "name": "stdout",
     "output_type": "stream",
     "text": [
      "Epoch: 943 Training Loss: 0.28283244 Test Loss: 0.28073892\n",
      "Epoch: 944 Training Loss: 0.2828324 Test Loss: 0.2807389\n",
      "Epoch: 945 Training Loss: 0.28283238 Test Loss: 0.2807389\n",
      "Epoch: 946 Training Loss: 0.28283238 Test Loss: 0.28073886\n",
      "Epoch: 947 Training Loss: 0.28283232 Test Loss: 0.28073886\n",
      "Epoch: 948 Training Loss: 0.28283226 Test Loss: 0.28073883\n",
      "Epoch: 949 Training Loss: 0.28283226 Test Loss: 0.28073883\n",
      "Epoch: 950 Training Loss: 0.28283224 Test Loss: 0.2807388\n",
      "Epoch: 951 Training Loss: 0.2828322 Test Loss: 0.2807388\n",
      "Epoch: 952 Training Loss: 0.28283215 Test Loss: 0.28073877\n",
      "Epoch: 953 Training Loss: 0.28283212 Test Loss: 0.28073877\n",
      "Epoch: 954 Training Loss: 0.28283212 Test Loss: 0.28073877\n",
      "Epoch: 955 Training Loss: 0.28283206 Test Loss: 0.2807387\n",
      "Epoch: 956 Training Loss: 0.28283203 Test Loss: 0.2807387\n",
      "Epoch: 957 Training Loss: 0.282832 Test Loss: 0.2807387\n",
      "Epoch: 958 Training Loss: 0.282832 Test Loss: 0.2807387\n",
      "Epoch: 959 Training Loss: 0.28283194 Test Loss: 0.2807387\n",
      "Epoch: 960 Training Loss: 0.2828319 Test Loss: 0.28073865\n",
      "Epoch: 961 Training Loss: 0.28283188 Test Loss: 0.28073865\n",
      "Epoch: 962 Training Loss: 0.28283185 Test Loss: 0.28073865\n",
      "Epoch: 963 Training Loss: 0.2828318 Test Loss: 0.28073865\n",
      "Epoch: 964 Training Loss: 0.2828318 Test Loss: 0.2807386\n",
      "Epoch: 965 Training Loss: 0.28283173 Test Loss: 0.2807386\n",
      "Epoch: 966 Training Loss: 0.28283173 Test Loss: 0.2807386\n",
      "Epoch: 967 Training Loss: 0.28283167 Test Loss: 0.28073856\n",
      "Epoch: 968 Training Loss: 0.28283167 Test Loss: 0.28073853\n",
      "Epoch: 969 Training Loss: 0.2828316 Test Loss: 0.28073853\n",
      "Epoch: 970 Training Loss: 0.2828316 Test Loss: 0.28073853\n",
      "Epoch: 971 Training Loss: 0.28283155 Test Loss: 0.28073853\n",
      "Epoch: 972 Training Loss: 0.28283155 Test Loss: 0.28073847\n",
      "Epoch: 973 Training Loss: 0.2828315 Test Loss: 0.28073847\n",
      "Epoch: 974 Training Loss: 0.2828315 Test Loss: 0.28073847\n",
      "Epoch: 975 Training Loss: 0.28283146 Test Loss: 0.28073847\n",
      "Epoch: 976 Training Loss: 0.2828314 Test Loss: 0.2807384\n",
      "Epoch: 977 Training Loss: 0.28283137 Test Loss: 0.2807384\n",
      "Epoch: 978 Training Loss: 0.28283137 Test Loss: 0.2807384\n",
      "Epoch: 979 Training Loss: 0.2828313 Test Loss: 0.2807384\n",
      "Epoch: 980 Training Loss: 0.2828313 Test Loss: 0.2807384\n",
      "Epoch: 981 Training Loss: 0.28283125 Test Loss: 0.28073838\n",
      "Epoch: 982 Training Loss: 0.28283125 Test Loss: 0.28073838\n",
      "Epoch: 983 Training Loss: 0.28283116 Test Loss: 0.28073835\n",
      "Epoch: 984 Training Loss: 0.28283116 Test Loss: 0.28073835\n",
      "Epoch: 985 Training Loss: 0.2828311 Test Loss: 0.28073832\n",
      "Epoch: 986 Training Loss: 0.2828311 Test Loss: 0.28073832\n",
      "Epoch: 987 Training Loss: 0.28283104 Test Loss: 0.28073832\n",
      "Epoch: 988 Training Loss: 0.28283104 Test Loss: 0.2807383\n",
      "Epoch: 989 Training Loss: 0.28283098 Test Loss: 0.2807383\n",
      "Epoch: 990 Training Loss: 0.28283095 Test Loss: 0.28073826\n",
      "Epoch: 991 Training Loss: 0.28283092 Test Loss: 0.28073823\n",
      "Epoch: 992 Training Loss: 0.28283092 Test Loss: 0.28073823\n",
      "Epoch: 993 Training Loss: 0.28283086 Test Loss: 0.28073823\n",
      "Epoch: 994 Training Loss: 0.28283086 Test Loss: 0.28073823\n",
      "Epoch: 995 Training Loss: 0.28283083 Test Loss: 0.28073815\n",
      "Epoch: 996 Training Loss: 0.2828308 Test Loss: 0.28073815\n",
      "Epoch: 997 Training Loss: 0.28283077 Test Loss: 0.28073815\n",
      "Epoch: 998 Training Loss: 0.28283074 Test Loss: 0.28073815\n",
      "Epoch: 999 Training Loss: 0.2828307 Test Loss: 0.28073812\n"
     ]
    }
   ],
   "source": [
    "Training_loss = [ ]\n",
    "Test_loss = [ ]\n",
    "pred = [ ]\n",
    "epochs = 1000\n",
    "for epoch in range (epochs):\n",
    "    sess.run(opt, feed_dict = {x: x_train, y: y_train})\n",
    "    Training_loss.append(sess.run(cost_function, feed_dict = {x: x_train, y: y_train}))\n",
    "    Test_loss.append(sess.run(cost_function, feed_dict = {x: x_test, y: y_test}))\n",
    "    \n",
    "    \n",
    "    print('Epoch:', epoch, 'Training Loss:', Training_loss[epoch], 'Test Loss:', Test_loss[epoch])"
   ]
  },
  {
   "cell_type": "code",
   "execution_count": 53,
   "metadata": {},
   "outputs": [],
   "source": [
    "y_pred = sess.run(out, feed_dict = {x: x_test})"
   ]
  },
  {
   "cell_type": "code",
   "execution_count": 54,
   "metadata": {},
   "outputs": [],
   "source": [
    "prediction = tf.argmax(out, axis = 1)"
   ]
  },
  {
   "cell_type": "code",
   "execution_count": 55,
   "metadata": {
    "scrolled": true
   },
   "outputs": [],
   "source": [
    "pred = [ ]\n",
    "for i in range(2000):\n",
    "    pred.append(sess.run(prediction, feed_dict = {x: x_test[i].reshape(1, 11)}))"
   ]
  },
  {
   "cell_type": "code",
   "execution_count": 56,
   "metadata": {},
   "outputs": [
    {
     "data": {
      "text/plain": [
       "array([0])"
      ]
     },
     "execution_count": 56,
     "metadata": {},
     "output_type": "execute_result"
    }
   ],
   "source": [
    "pred[10]"
   ]
  },
  {
   "cell_type": "code",
   "execution_count": 57,
   "metadata": {},
   "outputs": [
    {
     "data": {
      "text/plain": [
       "array([[1518,   77],\n",
       "       [ 369,   36]])"
      ]
     },
     "execution_count": 57,
     "metadata": {},
     "output_type": "execute_result"
    }
   ],
   "source": [
    "cm = confusion_matrix(y_test, pred)\n",
    "cm"
   ]
  },
  {
   "cell_type": "code",
   "execution_count": 58,
   "metadata": {},
   "outputs": [
    {
     "name": "stdout",
     "output_type": "stream",
     "text": [
      "              precision    recall  f1-score   support\n",
      "\n",
      "           0       0.80      0.95      0.87      1595\n",
      "           1       0.32      0.09      0.14       405\n",
      "\n",
      "    accuracy                           0.78      2000\n",
      "   macro avg       0.56      0.52      0.51      2000\n",
      "weighted avg       0.71      0.78      0.72      2000\n",
      "\n"
     ]
    }
   ],
   "source": [
    "print(classification_report(y_test, pred))"
   ]
  },
  {
   "cell_type": "code",
   "execution_count": 59,
   "metadata": {},
   "outputs": [
    {
     "name": "stdout",
     "output_type": "stream",
     "text": [
      "0.777\n"
     ]
    }
   ],
   "source": [
    "print(accuracy_score(y_test, pred))"
   ]
  },
  {
   "cell_type": "code",
   "execution_count": 60,
   "metadata": {},
   "outputs": [
    {
     "data": {
      "image/png": "[encoded data removed]",
      "text/plain": [
       "<Figure size 432x288 with 1 Axes>"
      ]
     },
     "metadata": {
      "needs_background": "light"
     },
     "output_type": "display_data"
    }
   ],
   "source": [
    "plt.plot(Training_loss)\n",
    "plt.title('Training Loss', fontsize = 20)\n",
    "plt.show()"
   ]
  },
  {
   "cell_type": "code",
   "execution_count": 61,
   "metadata": {},
   "outputs": [
    {
     "data": {
      "image/png": "[encoded data removed]",
      "text/plain": [
       "<Figure size 432x288 with 1 Axes>"
      ]
     },
     "metadata": {
      "needs_background": "light"
     },
     "output_type": "display_data"
    }
   ],
   "source": [
    "plt.plot(Test_loss)\n",
    "plt.title('Test Loss', fontsize = 20)\n",
    "plt.show()"
   ]
  },
  {
   "cell_type": "markdown",
   "metadata": {},
   "source": [
    "# Saving the Model"
   ]
  },
  {
   "cell_type": "code",
   "execution_count": 62,
   "metadata": {},
   "outputs": [
    {
     "data": {
      "text/plain": [
       "'classification_models/Bank.ckpt'"
      ]
     },
     "execution_count": 62,
     "metadata": {},
     "output_type": "execute_result"
    }
   ],
   "source": [
    "saver = tf.compat.v1.train.Saver()\n",
    "saver.save(sess,'classification_models/Bank.ckpt')"
   ]
  },
  {
   "cell_type": "markdown",
   "metadata": {},
   "source": [
    "# Loading the model"
   ]
  },
  {
   "cell_type": "code",
   "execution_count": 63,
   "metadata": {
    "scrolled": false
   },
   "outputs": [
    {
     "name": "stdout",
     "output_type": "stream",
     "text": [
      "INFO:tensorflow:Restoring parameters from /home/admin1/Tensorflow/classification_models/Bank.ckpt\n",
      "[[4.5239925e-05 2.2351742e-05]\n",
      " [1.9484967e-02 1.5077114e-02]\n",
      " [5.5998564e-05 2.8192997e-05]\n",
      " ...\n",
      " [2.6373893e-02 2.0893753e-02]\n",
      " [2.3126900e-03 1.6753674e-03]\n",
      " [5.8323145e-05 2.9444695e-05]]\n"
     ]
    }
   ],
   "source": [
    "with tf.compat.v1.Session() as ses:\n",
    "    saver = tf.compat.v1.train.import_meta_graph('/home/admin1/Tensorflow/classification_models/Bank.ckpt.meta')\n",
    "    model = saver.restore(ses, tf.train.latest_checkpoint('/home/admin1/Tensorflow/classification_models/'))\n",
    "    \n",
    "    graph = tf.compat.v1.get_default_graph()\n",
    "    input_x = graph.get_tensor_by_name(\"x:0\")\n",
    "    input_y = graph.get_tensor_by_name(\"y:0\")\n",
    "    \n",
    "    output = graph.get_tensor_by_name(\"output:0\")\n",
    "    \n",
    "    \n",
    "    feed_dict = {input_x: x_test}\n",
    "    predictions = output.eval(feed_dict = feed_dict)\n",
    "    print(predictions)"
   ]
  },
  {
   "cell_type": "code",
   "execution_count": 64,
   "metadata": {},
   "outputs": [],
   "source": [
    "predict = tf.argmax(output, axis = 1)"
   ]
  },
  {
   "cell_type": "code",
   "execution_count": 81,
   "metadata": {},
   "outputs": [],
   "source": [
    "result = [ ]\n",
    "for i in range(2000):\n",
    "    result.append(sess.run(predict, feed_dict = {input_x: x_test[i].reshape(1, 11)}))"
   ]
  },
  {
   "cell_type": "code",
   "execution_count": 82,
   "metadata": {},
   "outputs": [
    {
     "data": {
      "text/plain": [
       "[array([0]), array([0]), array([0]), array([0]), array([0])]"
      ]
     },
     "execution_count": 82,
     "metadata": {},
     "output_type": "execute_result"
    }
   ],
   "source": [
    "result[0:5]"
   ]
  },
  {
   "cell_type": "markdown",
   "metadata": {},
   "source": [
    "# Predicting for one input value"
   ]
  },
  {
   "cell_type": "code",
   "execution_count": 69,
   "metadata": {},
   "outputs": [],
   "source": [
    "a = X[500]"
   ]
  },
  {
   "cell_type": "code",
   "execution_count": 70,
   "metadata": {},
   "outputs": [
    {
     "data": {
      "text/plain": [
       "array([ 0.        ,  1.        , -0.98841507,  1.        , -0.66001848,\n",
       "        4.        , -1.22584767,  2.        ,  1.        ,  1.        ,\n",
       "       -0.79440693])"
      ]
     },
     "execution_count": 70,
     "metadata": {},
     "output_type": "execute_result"
    }
   ],
   "source": [
    "a"
   ]
  },
  {
   "cell_type": "code",
   "execution_count": 71,
   "metadata": {},
   "outputs": [
    {
     "data": {
      "text/plain": [
       "(11,)"
      ]
     },
     "execution_count": 71,
     "metadata": {},
     "output_type": "execute_result"
    }
   ],
   "source": [
    "a.shape"
   ]
  },
  {
   "cell_type": "code",
   "execution_count": 73,
   "metadata": {},
   "outputs": [],
   "source": [
    "a = np.reshape(a, (1, 11))"
   ]
  },
  {
   "cell_type": "code",
   "execution_count": 74,
   "metadata": {},
   "outputs": [
    {
     "data": {
      "text/plain": [
       "(1, 11)"
      ]
     },
     "execution_count": 74,
     "metadata": {},
     "output_type": "execute_result"
    }
   ],
   "source": [
    "a.shape"
   ]
  },
  {
   "cell_type": "code",
   "execution_count": 75,
   "metadata": {},
   "outputs": [
    {
     "name": "stdout",
     "output_type": "stream",
     "text": [
      "INFO:tensorflow:Restoring parameters from /home/admin1/Tensorflow/classification_models/Bank.ckpt\n",
      "[[0.00136606 0.00086753]]\n"
     ]
    }
   ],
   "source": [
    "with tf.compat.v1.Session() as ses:\n",
    "    saver = tf.compat.v1.train.import_meta_graph('/home/admin1/Tensorflow/classification_models/Bank.ckpt.meta')\n",
    "    model = saver.restore(ses, tf.train.latest_checkpoint('/home/admin1/Tensorflow/classification_models/'))\n",
    "    \n",
    "    graph = tf.compat.v1.get_default_graph()\n",
    "    input_x = graph.get_tensor_by_name(\"x:0\")\n",
    "    input_y = graph.get_tensor_by_name(\"y:0\")\n",
    "    \n",
    "    output = graph.get_tensor_by_name(\"output:0\")\n",
    "    \n",
    "    \n",
    "    feed_dict = {input_x: a}\n",
    "    prediction = output.eval(feed_dict = feed_dict)\n",
    "    print(prediction)"
   ]
  },
  {
   "cell_type": "code",
   "execution_count": 76,
   "metadata": {},
   "outputs": [],
   "source": [
    "result_a = tf.argmax(output, axis = 1)"
   ]
  },
  {
   "cell_type": "code",
   "execution_count": 83,
   "metadata": {},
   "outputs": [
    {
     "data": {
      "text/plain": [
       "array([0])"
      ]
     },
     "execution_count": 83,
     "metadata": {},
     "output_type": "execute_result"
    }
   ],
   "source": [
    "sess.run(result_a, feed_dict = {input_x: a.reshape(1, 11)})"
   ]
  },
  {
   "cell_type": "code",
   "execution_count": null,
   "metadata": {},
   "outputs": [],
   "source": []
  }
 ],
 "metadata": {
  "kernelspec": {
   "display_name": "Python 3",
   "language": "python",
   "name": "python3"
  },
  "language_info": {
   "codemirror_mode": {
    "name": "ipython",
    "version": 3
   },
   "file_extension": ".py",
   "mimetype": "text/x-python",
   "name": "python",
   "nbconvert_exporter": "python",
   "pygments_lexer": "ipython3",
   "version": "3.7.5"
  }
 },
 "nbformat": 4,
 "nbformat_minor": 2
}
