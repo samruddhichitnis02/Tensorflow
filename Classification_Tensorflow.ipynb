{
 "cells": [
  {
   "cell_type": "code",
   "execution_count": 1,
   "metadata": {},
   "outputs": [],
   "source": [
    "import tensorflow as tf\n",
    "from sklearn.model_selection import train_test_split\n",
    "from sklearn.preprocessing import LabelEncoder, OneHotEncoder, StandardScaler\n",
    "from sklearn.metrics import classification_report, confusion_matrix, accuracy_score\n",
    "\n",
    "import seaborn as sb\n",
    "import matplotlib.pyplot as plt\n",
    "import pandas as pd\n",
    "import numpy as np\n",
    "\n",
    "import warnings\n",
    "warnings.filterwarnings('ignore')"
   ]
  },
  {
   "cell_type": "code",
   "execution_count": 2,
   "metadata": {},
   "outputs": [
    {
     "data": {
      "text/plain": [
       "'2.0.0'"
      ]
     },
     "execution_count": 2,
     "metadata": {},
     "output_type": "execute_result"
    }
   ],
   "source": [
    "tf.__version__"
   ]
  },
  {
   "cell_type": "code",
   "execution_count": 3,
   "metadata": {},
   "outputs": [],
   "source": [
    "data = pd.read_csv('Churn_Modelling.csv')"
   ]
  },
  {
   "cell_type": "code",
   "execution_count": 4,
   "metadata": {},
   "outputs": [
    {
     "data": {
      "text/plain": [
       "(10000, 14)"
      ]
     },
     "execution_count": 4,
     "metadata": {},
     "output_type": "execute_result"
    }
   ],
   "source": [
    "data.shape"
   ]
  },
  {
   "cell_type": "code",
   "execution_count": 5,
   "metadata": {},
   "outputs": [
    {
     "data": {
      "text/html": [
       "<div>\n",
       "<style scoped>\n",
       "    .dataframe tbody tr th:only-of-type {\n",
       "        vertical-align: middle;\n",
       "    }\n",
       "\n",
       "    .dataframe tbody tr th {\n",
       "        vertical-align: top;\n",
       "    }\n",
       "\n",
       "    .dataframe thead th {\n",
       "        text-align: right;\n",
       "    }\n",
       "</style>\n",
       "<table border=\"1\" class=\"dataframe\">\n",
       "  <thead>\n",
       "    <tr style=\"text-align: right;\">\n",
       "      <th></th>\n",
       "      <th>RowNumber</th>\n",
       "      <th>CustomerId</th>\n",
       "      <th>Surname</th>\n",
       "      <th>CreditScore</th>\n",
       "      <th>Geography</th>\n",
       "      <th>Gender</th>\n",
       "      <th>Age</th>\n",
       "      <th>Tenure</th>\n",
       "      <th>Balance</th>\n",
       "      <th>NumOfProducts</th>\n",
       "      <th>HasCrCard</th>\n",
       "      <th>IsActiveMember</th>\n",
       "      <th>EstimatedSalary</th>\n",
       "      <th>Exited</th>\n",
       "    </tr>\n",
       "  </thead>\n",
       "  <tbody>\n",
       "    <tr>\n",
       "      <th>0</th>\n",
       "      <td>1</td>\n",
       "      <td>15634602</td>\n",
       "      <td>Hargrave</td>\n",
       "      <td>619</td>\n",
       "      <td>France</td>\n",
       "      <td>Female</td>\n",
       "      <td>42</td>\n",
       "      <td>2</td>\n",
       "      <td>0.00</td>\n",
       "      <td>1</td>\n",
       "      <td>1</td>\n",
       "      <td>1</td>\n",
       "      <td>101348.88</td>\n",
       "      <td>1</td>\n",
       "    </tr>\n",
       "    <tr>\n",
       "      <th>1</th>\n",
       "      <td>2</td>\n",
       "      <td>15647311</td>\n",
       "      <td>Hill</td>\n",
       "      <td>608</td>\n",
       "      <td>Spain</td>\n",
       "      <td>Female</td>\n",
       "      <td>41</td>\n",
       "      <td>1</td>\n",
       "      <td>83807.86</td>\n",
       "      <td>1</td>\n",
       "      <td>0</td>\n",
       "      <td>1</td>\n",
       "      <td>112542.58</td>\n",
       "      <td>0</td>\n",
       "    </tr>\n",
       "    <tr>\n",
       "      <th>2</th>\n",
       "      <td>3</td>\n",
       "      <td>15619304</td>\n",
       "      <td>Onio</td>\n",
       "      <td>502</td>\n",
       "      <td>France</td>\n",
       "      <td>Female</td>\n",
       "      <td>42</td>\n",
       "      <td>8</td>\n",
       "      <td>159660.80</td>\n",
       "      <td>3</td>\n",
       "      <td>1</td>\n",
       "      <td>0</td>\n",
       "      <td>113931.57</td>\n",
       "      <td>1</td>\n",
       "    </tr>\n",
       "    <tr>\n",
       "      <th>3</th>\n",
       "      <td>4</td>\n",
       "      <td>15701354</td>\n",
       "      <td>Boni</td>\n",
       "      <td>699</td>\n",
       "      <td>France</td>\n",
       "      <td>Female</td>\n",
       "      <td>39</td>\n",
       "      <td>1</td>\n",
       "      <td>0.00</td>\n",
       "      <td>2</td>\n",
       "      <td>0</td>\n",
       "      <td>0</td>\n",
       "      <td>93826.63</td>\n",
       "      <td>0</td>\n",
       "    </tr>\n",
       "    <tr>\n",
       "      <th>4</th>\n",
       "      <td>5</td>\n",
       "      <td>15737888</td>\n",
       "      <td>Mitchell</td>\n",
       "      <td>850</td>\n",
       "      <td>Spain</td>\n",
       "      <td>Female</td>\n",
       "      <td>43</td>\n",
       "      <td>2</td>\n",
       "      <td>125510.82</td>\n",
       "      <td>1</td>\n",
       "      <td>1</td>\n",
       "      <td>1</td>\n",
       "      <td>79084.10</td>\n",
       "      <td>0</td>\n",
       "    </tr>\n",
       "  </tbody>\n",
       "</table>\n",
       "</div>"
      ],
      "text/plain": [
       "   RowNumber  CustomerId   Surname  CreditScore Geography  Gender  Age  \\\n",
       "0          1    15634602  Hargrave          619    France  Female   42   \n",
       "1          2    15647311      Hill          608     Spain  Female   41   \n",
       "2          3    15619304      Onio          502    France  Female   42   \n",
       "3          4    15701354      Boni          699    France  Female   39   \n",
       "4          5    15737888  Mitchell          850     Spain  Female   43   \n",
       "\n",
       "   Tenure    Balance  NumOfProducts  HasCrCard  IsActiveMember  \\\n",
       "0       2       0.00              1          1               1   \n",
       "1       1   83807.86              1          0               1   \n",
       "2       8  159660.80              3          1               0   \n",
       "3       1       0.00              2          0               0   \n",
       "4       2  125510.82              1          1               1   \n",
       "\n",
       "   EstimatedSalary  Exited  \n",
       "0        101348.88       1  \n",
       "1        112542.58       0  \n",
       "2        113931.57       1  \n",
       "3         93826.63       0  \n",
       "4         79084.10       0  "
      ]
     },
     "execution_count": 5,
     "metadata": {},
     "output_type": "execute_result"
    }
   ],
   "source": [
    "data.head()"
   ]
  },
  {
   "cell_type": "code",
   "execution_count": 6,
   "metadata": {},
   "outputs": [
    {
     "data": {
      "text/plain": [
       "(10000, 10000)"
      ]
     },
     "execution_count": 6,
     "metadata": {},
     "output_type": "execute_result"
    }
   ],
   "source": [
    "len(data['RowNumber'].unique()), len(data['CustomerId'].unique())"
   ]
  },
  {
   "cell_type": "code",
   "execution_count": 7,
   "metadata": {},
   "outputs": [],
   "source": [
    "data.drop(['RowNumber', 'CustomerId', 'Surname'], axis = 1, inplace = True)"
   ]
  },
  {
   "cell_type": "code",
   "execution_count": 8,
   "metadata": {},
   "outputs": [
    {
     "data": {
      "text/html": [
       "<div>\n",
       "<style scoped>\n",
       "    .dataframe tbody tr th:only-of-type {\n",
       "        vertical-align: middle;\n",
       "    }\n",
       "\n",
       "    .dataframe tbody tr th {\n",
       "        vertical-align: top;\n",
       "    }\n",
       "\n",
       "    .dataframe thead th {\n",
       "        text-align: right;\n",
       "    }\n",
       "</style>\n",
       "<table border=\"1\" class=\"dataframe\">\n",
       "  <thead>\n",
       "    <tr style=\"text-align: right;\">\n",
       "      <th></th>\n",
       "      <th>CreditScore</th>\n",
       "      <th>Geography</th>\n",
       "      <th>Gender</th>\n",
       "      <th>Age</th>\n",
       "      <th>Tenure</th>\n",
       "      <th>Balance</th>\n",
       "      <th>NumOfProducts</th>\n",
       "      <th>HasCrCard</th>\n",
       "      <th>IsActiveMember</th>\n",
       "      <th>EstimatedSalary</th>\n",
       "      <th>Exited</th>\n",
       "    </tr>\n",
       "  </thead>\n",
       "  <tbody>\n",
       "    <tr>\n",
       "      <th>0</th>\n",
       "      <td>619</td>\n",
       "      <td>France</td>\n",
       "      <td>Female</td>\n",
       "      <td>42</td>\n",
       "      <td>2</td>\n",
       "      <td>0.00</td>\n",
       "      <td>1</td>\n",
       "      <td>1</td>\n",
       "      <td>1</td>\n",
       "      <td>101348.88</td>\n",
       "      <td>1</td>\n",
       "    </tr>\n",
       "    <tr>\n",
       "      <th>1</th>\n",
       "      <td>608</td>\n",
       "      <td>Spain</td>\n",
       "      <td>Female</td>\n",
       "      <td>41</td>\n",
       "      <td>1</td>\n",
       "      <td>83807.86</td>\n",
       "      <td>1</td>\n",
       "      <td>0</td>\n",
       "      <td>1</td>\n",
       "      <td>112542.58</td>\n",
       "      <td>0</td>\n",
       "    </tr>\n",
       "    <tr>\n",
       "      <th>2</th>\n",
       "      <td>502</td>\n",
       "      <td>France</td>\n",
       "      <td>Female</td>\n",
       "      <td>42</td>\n",
       "      <td>8</td>\n",
       "      <td>159660.80</td>\n",
       "      <td>3</td>\n",
       "      <td>1</td>\n",
       "      <td>0</td>\n",
       "      <td>113931.57</td>\n",
       "      <td>1</td>\n",
       "    </tr>\n",
       "    <tr>\n",
       "      <th>3</th>\n",
       "      <td>699</td>\n",
       "      <td>France</td>\n",
       "      <td>Female</td>\n",
       "      <td>39</td>\n",
       "      <td>1</td>\n",
       "      <td>0.00</td>\n",
       "      <td>2</td>\n",
       "      <td>0</td>\n",
       "      <td>0</td>\n",
       "      <td>93826.63</td>\n",
       "      <td>0</td>\n",
       "    </tr>\n",
       "    <tr>\n",
       "      <th>4</th>\n",
       "      <td>850</td>\n",
       "      <td>Spain</td>\n",
       "      <td>Female</td>\n",
       "      <td>43</td>\n",
       "      <td>2</td>\n",
       "      <td>125510.82</td>\n",
       "      <td>1</td>\n",
       "      <td>1</td>\n",
       "      <td>1</td>\n",
       "      <td>79084.10</td>\n",
       "      <td>0</td>\n",
       "    </tr>\n",
       "  </tbody>\n",
       "</table>\n",
       "</div>"
      ],
      "text/plain": [
       "   CreditScore Geography  Gender  Age  Tenure    Balance  NumOfProducts  \\\n",
       "0          619    France  Female   42       2       0.00              1   \n",
       "1          608     Spain  Female   41       1   83807.86              1   \n",
       "2          502    France  Female   42       8  159660.80              3   \n",
       "3          699    France  Female   39       1       0.00              2   \n",
       "4          850     Spain  Female   43       2  125510.82              1   \n",
       "\n",
       "   HasCrCard  IsActiveMember  EstimatedSalary  Exited  \n",
       "0          1               1        101348.88       1  \n",
       "1          0               1        112542.58       0  \n",
       "2          1               0        113931.57       1  \n",
       "3          0               0         93826.63       0  \n",
       "4          1               1         79084.10       0  "
      ]
     },
     "execution_count": 8,
     "metadata": {},
     "output_type": "execute_result"
    }
   ],
   "source": [
    "data.head()"
   ]
  },
  {
   "cell_type": "code",
   "execution_count": 9,
   "metadata": {},
   "outputs": [
    {
     "data": {
      "image/png": "[encoded data removed]",
      "text/plain": [
       "<Figure size 432x288 with 1 Axes>"
      ]
     },
     "metadata": {
      "needs_background": "light"
     },
     "output_type": "display_data"
    }
   ],
   "source": [
    "sb.heatmap(data.isna(),\n",
    "          cbar = False,\n",
    "          yticklabels = False,\n",
    "          cmap = 'summer')\n",
    "plt.show()"
   ]
  },
  {
   "cell_type": "code",
   "execution_count": 10,
   "metadata": {},
   "outputs": [
    {
     "data": {
      "image/png": "[encoded data removed]",
      "text/plain": [
       "<Figure size 432x288 with 1 Axes>"
      ]
     },
     "metadata": {
      "needs_background": "light"
     },
     "output_type": "display_data"
    }
   ],
   "source": [
    "sb.countplot(data['Exited'])\n",
    "plt.show()"
   ]
  },
  {
   "cell_type": "code",
   "execution_count": 11,
   "metadata": {},
   "outputs": [
    {
     "data": {
      "image/png": "[encoded data removed]",
      "text/plain": [
       "<Figure size 720x432 with 2 Axes>"
      ]
     },
     "metadata": {
      "needs_background": "light"
     },
     "output_type": "display_data"
    }
   ],
   "source": [
    "fig, ax = plt.subplots(figsize = (10, 6))\n",
    "\n",
    "corr = data.corr()\n",
    "ax = sb.heatmap(corr,\n",
    "          annot = True,\n",
    "          cmap = 'Blues')\n",
    "bottom, top = ax.get_ylim()\n",
    "ax.set_ylim(bottom + 0.5, top - 0.5)\n",
    "plt.show()"
   ]
  },
  {
   "cell_type": "code",
   "execution_count": 12,
   "metadata": {},
   "outputs": [
    {
     "data": {
      "text/html": [
       "<div>\n",
       "<style scoped>\n",
       "    .dataframe tbody tr th:only-of-type {\n",
       "        vertical-align: middle;\n",
       "    }\n",
       "\n",
       "    .dataframe tbody tr th {\n",
       "        vertical-align: top;\n",
       "    }\n",
       "\n",
       "    .dataframe thead th {\n",
       "        text-align: right;\n",
       "    }\n",
       "</style>\n",
       "<table border=\"1\" class=\"dataframe\">\n",
       "  <thead>\n",
       "    <tr style=\"text-align: right;\">\n",
       "      <th></th>\n",
       "      <th>CreditScore</th>\n",
       "      <th>Geography</th>\n",
       "      <th>Gender</th>\n",
       "      <th>Age</th>\n",
       "      <th>Tenure</th>\n",
       "      <th>Balance</th>\n",
       "      <th>NumOfProducts</th>\n",
       "      <th>HasCrCard</th>\n",
       "      <th>IsActiveMember</th>\n",
       "      <th>EstimatedSalary</th>\n",
       "      <th>Exited</th>\n",
       "    </tr>\n",
       "  </thead>\n",
       "  <tbody>\n",
       "  </tbody>\n",
       "</table>\n",
       "</div>"
      ],
      "text/plain": [
       "Empty DataFrame\n",
       "Columns: [CreditScore, Geography, Gender, Age, Tenure, Balance, NumOfProducts, HasCrCard, IsActiveMember, EstimatedSalary, Exited]\n",
       "Index: []"
      ]
     },
     "execution_count": 12,
     "metadata": {},
     "output_type": "execute_result"
    }
   ],
   "source": [
    "data[data.duplicated()]"
   ]
  },
  {
   "cell_type": "code",
   "execution_count": 13,
   "metadata": {},
   "outputs": [
    {
     "data": {
      "image/png": "[encoded data removed]",
      "text/plain": [
       "<Figure size 1080x576 with 1 Axes>"
      ]
     },
     "metadata": {
      "needs_background": "light"
     },
     "output_type": "display_data"
    }
   ],
   "source": [
    "fig, ax = plt.subplots(figsize = (15, 8))\n",
    "\n",
    "sb.countplot(data['Age'])\n",
    "plt.show()"
   ]
  },
  {
   "cell_type": "code",
   "execution_count": 14,
   "metadata": {},
   "outputs": [
    {
     "data": {
      "image/png": "[encoded data removed]",
      "text/plain": [
       "<Figure size 360x288 with 1 Axes>"
      ]
     },
     "metadata": {
      "needs_background": "light"
     },
     "output_type": "display_data"
    }
   ],
   "source": [
    "fig, ax = plt.subplots(figsize = (5, 4))\n",
    "\n",
    "sb.countplot(data['Gender'])\n",
    "plt.show()"
   ]
  },
  {
   "cell_type": "code",
   "execution_count": 15,
   "metadata": {},
   "outputs": [
    {
     "data": {
      "image/png": "[encoded data removed]",
      "text/plain": [
       "<Figure size 432x288 with 1 Axes>"
      ]
     },
     "metadata": {
      "needs_background": "light"
     },
     "output_type": "display_data"
    }
   ],
   "source": [
    "sb.distplot(data['Balance'])\n",
    "plt.show()"
   ]
  },
  {
   "cell_type": "code",
   "execution_count": 16,
   "metadata": {},
   "outputs": [
    {
     "data": {
      "image/png": "[encoded data removed]",
      "text/plain": [
       "<Figure size 432x288 with 1 Axes>"
      ]
     },
     "metadata": {
      "needs_background": "light"
     },
     "output_type": "display_data"
    }
   ],
   "source": [
    "sb.countplot(data['Geography'])\n",
    "plt.show()"
   ]
  },
  {
   "cell_type": "code",
   "execution_count": 17,
   "metadata": {},
   "outputs": [
    {
     "data": {
      "image/png": "[encoded data removed]",
      "text/plain": [
       "<Figure size 432x288 with 1 Axes>"
      ]
     },
     "metadata": {
      "needs_background": "light"
     },
     "output_type": "display_data"
    }
   ],
   "source": [
    "sb.boxplot(x = 'Geography', \n",
    "           y = 'Exited', \n",
    "           data = data)\n",
    "plt.grid()\n",
    "plt.show()"
   ]
  },
  {
   "cell_type": "code",
   "execution_count": 18,
   "metadata": {},
   "outputs": [
    {
     "data": {
      "image/png": "[encoded data removed]",
      "text/plain": [
       "<Figure size 432x288 with 1 Axes>"
      ]
     },
     "metadata": {
      "needs_background": "light"
     },
     "output_type": "display_data"
    }
   ],
   "source": [
    "sb.boxplot(x = 'Tenure', \n",
    "           y = 'Exited', \n",
    "           data = data)\n",
    "plt.grid()\n",
    "plt.show()"
   ]
  },
  {
   "cell_type": "code",
   "execution_count": 19,
   "metadata": {},
   "outputs": [
    {
     "data": {
      "text/html": [
       "<div>\n",
       "<style scoped>\n",
       "    .dataframe tbody tr th:only-of-type {\n",
       "        vertical-align: middle;\n",
       "    }\n",
       "\n",
       "    .dataframe tbody tr th {\n",
       "        vertical-align: top;\n",
       "    }\n",
       "\n",
       "    .dataframe thead th {\n",
       "        text-align: right;\n",
       "    }\n",
       "</style>\n",
       "<table border=\"1\" class=\"dataframe\">\n",
       "  <thead>\n",
       "    <tr style=\"text-align: right;\">\n",
       "      <th></th>\n",
       "      <th>CreditScore</th>\n",
       "      <th>Age</th>\n",
       "      <th>Tenure</th>\n",
       "      <th>Balance</th>\n",
       "      <th>NumOfProducts</th>\n",
       "      <th>HasCrCard</th>\n",
       "      <th>IsActiveMember</th>\n",
       "      <th>EstimatedSalary</th>\n",
       "      <th>Exited</th>\n",
       "    </tr>\n",
       "  </thead>\n",
       "  <tbody>\n",
       "    <tr>\n",
       "      <th>count</th>\n",
       "      <td>10000.000000</td>\n",
       "      <td>10000.000000</td>\n",
       "      <td>10000.000000</td>\n",
       "      <td>10000.000000</td>\n",
       "      <td>10000.000000</td>\n",
       "      <td>10000.00000</td>\n",
       "      <td>10000.000000</td>\n",
       "      <td>10000.000000</td>\n",
       "      <td>10000.000000</td>\n",
       "    </tr>\n",
       "    <tr>\n",
       "      <th>mean</th>\n",
       "      <td>650.528800</td>\n",
       "      <td>38.921800</td>\n",
       "      <td>5.012800</td>\n",
       "      <td>76485.889288</td>\n",
       "      <td>1.530200</td>\n",
       "      <td>0.70550</td>\n",
       "      <td>0.515100</td>\n",
       "      <td>100090.239881</td>\n",
       "      <td>0.203700</td>\n",
       "    </tr>\n",
       "    <tr>\n",
       "      <th>std</th>\n",
       "      <td>96.653299</td>\n",
       "      <td>10.487806</td>\n",
       "      <td>2.892174</td>\n",
       "      <td>62397.405202</td>\n",
       "      <td>0.581654</td>\n",
       "      <td>0.45584</td>\n",
       "      <td>0.499797</td>\n",
       "      <td>57510.492818</td>\n",
       "      <td>0.402769</td>\n",
       "    </tr>\n",
       "    <tr>\n",
       "      <th>min</th>\n",
       "      <td>350.000000</td>\n",
       "      <td>18.000000</td>\n",
       "      <td>0.000000</td>\n",
       "      <td>0.000000</td>\n",
       "      <td>1.000000</td>\n",
       "      <td>0.00000</td>\n",
       "      <td>0.000000</td>\n",
       "      <td>11.580000</td>\n",
       "      <td>0.000000</td>\n",
       "    </tr>\n",
       "    <tr>\n",
       "      <th>25%</th>\n",
       "      <td>584.000000</td>\n",
       "      <td>32.000000</td>\n",
       "      <td>3.000000</td>\n",
       "      <td>0.000000</td>\n",
       "      <td>1.000000</td>\n",
       "      <td>0.00000</td>\n",
       "      <td>0.000000</td>\n",
       "      <td>51002.110000</td>\n",
       "      <td>0.000000</td>\n",
       "    </tr>\n",
       "    <tr>\n",
       "      <th>50%</th>\n",
       "      <td>652.000000</td>\n",
       "      <td>37.000000</td>\n",
       "      <td>5.000000</td>\n",
       "      <td>97198.540000</td>\n",
       "      <td>1.000000</td>\n",
       "      <td>1.00000</td>\n",
       "      <td>1.000000</td>\n",
       "      <td>100193.915000</td>\n",
       "      <td>0.000000</td>\n",
       "    </tr>\n",
       "    <tr>\n",
       "      <th>75%</th>\n",
       "      <td>718.000000</td>\n",
       "      <td>44.000000</td>\n",
       "      <td>7.000000</td>\n",
       "      <td>127644.240000</td>\n",
       "      <td>2.000000</td>\n",
       "      <td>1.00000</td>\n",
       "      <td>1.000000</td>\n",
       "      <td>149388.247500</td>\n",
       "      <td>0.000000</td>\n",
       "    </tr>\n",
       "    <tr>\n",
       "      <th>max</th>\n",
       "      <td>850.000000</td>\n",
       "      <td>92.000000</td>\n",
       "      <td>10.000000</td>\n",
       "      <td>250898.090000</td>\n",
       "      <td>4.000000</td>\n",
       "      <td>1.00000</td>\n",
       "      <td>1.000000</td>\n",
       "      <td>199992.480000</td>\n",
       "      <td>1.000000</td>\n",
       "    </tr>\n",
       "  </tbody>\n",
       "</table>\n",
       "</div>"
      ],
      "text/plain": [
       "        CreditScore           Age        Tenure        Balance  NumOfProducts  \\\n",
       "count  10000.000000  10000.000000  10000.000000   10000.000000   10000.000000   \n",
       "mean     650.528800     38.921800      5.012800   76485.889288       1.530200   \n",
       "std       96.653299     10.487806      2.892174   62397.405202       0.581654   \n",
       "min      350.000000     18.000000      0.000000       0.000000       1.000000   \n",
       "25%      584.000000     32.000000      3.000000       0.000000       1.000000   \n",
       "50%      652.000000     37.000000      5.000000   97198.540000       1.000000   \n",
       "75%      718.000000     44.000000      7.000000  127644.240000       2.000000   \n",
       "max      850.000000     92.000000     10.000000  250898.090000       4.000000   \n",
       "\n",
       "         HasCrCard  IsActiveMember  EstimatedSalary        Exited  \n",
       "count  10000.00000    10000.000000     10000.000000  10000.000000  \n",
       "mean       0.70550        0.515100    100090.239881      0.203700  \n",
       "std        0.45584        0.499797     57510.492818      0.402769  \n",
       "min        0.00000        0.000000        11.580000      0.000000  \n",
       "25%        0.00000        0.000000     51002.110000      0.000000  \n",
       "50%        1.00000        1.000000    100193.915000      0.000000  \n",
       "75%        1.00000        1.000000    149388.247500      0.000000  \n",
       "max        1.00000        1.000000    199992.480000      1.000000  "
      ]
     },
     "execution_count": 19,
     "metadata": {},
     "output_type": "execute_result"
    }
   ],
   "source": [
    "data.describe()"
   ]
  },
  {
   "cell_type": "markdown",
   "metadata": {},
   "source": [
    "# Data Preprocessing"
   ]
  },
  {
   "cell_type": "code",
   "execution_count": 20,
   "metadata": {
    "scrolled": true
   },
   "outputs": [
    {
     "data": {
      "text/plain": [
       "array([ 2,  1,  8,  7,  4,  6,  3, 10,  5,  9,  0])"
      ]
     },
     "execution_count": 20,
     "metadata": {},
     "output_type": "execute_result"
    }
   ],
   "source": [
    "data['Tenure'].unique()"
   ]
  },
  {
   "cell_type": "code",
   "execution_count": 21,
   "metadata": {},
   "outputs": [
    {
     "data": {
      "text/plain": [
       "array([1, 3, 2, 4])"
      ]
     },
     "execution_count": 21,
     "metadata": {},
     "output_type": "execute_result"
    }
   ],
   "source": [
    "data['NumOfProducts'].unique()"
   ]
  },
  {
   "cell_type": "code",
   "execution_count": 22,
   "metadata": {},
   "outputs": [],
   "source": [
    "sc = StandardScaler()\n",
    "data.iloc[:, [0,3,5,9]] = sc.fit_transform(data.iloc[:,[0,3,5,9]])"
   ]
  },
  {
   "cell_type": "code",
   "execution_count": 23,
   "metadata": {},
   "outputs": [
    {
     "data": {
      "text/html": [
       "<div>\n",
       "<style scoped>\n",
       "    .dataframe tbody tr th:only-of-type {\n",
       "        vertical-align: middle;\n",
       "    }\n",
       "\n",
       "    .dataframe tbody tr th {\n",
       "        vertical-align: top;\n",
       "    }\n",
       "\n",
       "    .dataframe thead th {\n",
       "        text-align: right;\n",
       "    }\n",
       "</style>\n",
       "<table border=\"1\" class=\"dataframe\">\n",
       "  <thead>\n",
       "    <tr style=\"text-align: right;\">\n",
       "      <th></th>\n",
       "      <th>CreditScore</th>\n",
       "      <th>Geography</th>\n",
       "      <th>Gender</th>\n",
       "      <th>Age</th>\n",
       "      <th>Tenure</th>\n",
       "      <th>Balance</th>\n",
       "      <th>NumOfProducts</th>\n",
       "      <th>HasCrCard</th>\n",
       "      <th>IsActiveMember</th>\n",
       "      <th>EstimatedSalary</th>\n",
       "      <th>Exited</th>\n",
       "    </tr>\n",
       "  </thead>\n",
       "  <tbody>\n",
       "    <tr>\n",
       "      <th>0</th>\n",
       "      <td>-0.326221</td>\n",
       "      <td>France</td>\n",
       "      <td>Female</td>\n",
       "      <td>0.293517</td>\n",
       "      <td>2</td>\n",
       "      <td>-1.225848</td>\n",
       "      <td>1</td>\n",
       "      <td>1</td>\n",
       "      <td>1</td>\n",
       "      <td>0.021886</td>\n",
       "      <td>1</td>\n",
       "    </tr>\n",
       "    <tr>\n",
       "      <th>1</th>\n",
       "      <td>-0.440036</td>\n",
       "      <td>Spain</td>\n",
       "      <td>Female</td>\n",
       "      <td>0.198164</td>\n",
       "      <td>1</td>\n",
       "      <td>0.117350</td>\n",
       "      <td>1</td>\n",
       "      <td>0</td>\n",
       "      <td>1</td>\n",
       "      <td>0.216534</td>\n",
       "      <td>0</td>\n",
       "    </tr>\n",
       "    <tr>\n",
       "      <th>2</th>\n",
       "      <td>-1.536794</td>\n",
       "      <td>France</td>\n",
       "      <td>Female</td>\n",
       "      <td>0.293517</td>\n",
       "      <td>8</td>\n",
       "      <td>1.333053</td>\n",
       "      <td>3</td>\n",
       "      <td>1</td>\n",
       "      <td>0</td>\n",
       "      <td>0.240687</td>\n",
       "      <td>1</td>\n",
       "    </tr>\n",
       "    <tr>\n",
       "      <th>3</th>\n",
       "      <td>0.501521</td>\n",
       "      <td>France</td>\n",
       "      <td>Female</td>\n",
       "      <td>0.007457</td>\n",
       "      <td>1</td>\n",
       "      <td>-1.225848</td>\n",
       "      <td>2</td>\n",
       "      <td>0</td>\n",
       "      <td>0</td>\n",
       "      <td>-0.108918</td>\n",
       "      <td>0</td>\n",
       "    </tr>\n",
       "    <tr>\n",
       "      <th>4</th>\n",
       "      <td>2.063884</td>\n",
       "      <td>Spain</td>\n",
       "      <td>Female</td>\n",
       "      <td>0.388871</td>\n",
       "      <td>2</td>\n",
       "      <td>0.785728</td>\n",
       "      <td>1</td>\n",
       "      <td>1</td>\n",
       "      <td>1</td>\n",
       "      <td>-0.365276</td>\n",
       "      <td>0</td>\n",
       "    </tr>\n",
       "  </tbody>\n",
       "</table>\n",
       "</div>"
      ],
      "text/plain": [
       "   CreditScore Geography  Gender       Age  Tenure   Balance  NumOfProducts  \\\n",
       "0    -0.326221    France  Female  0.293517       2 -1.225848              1   \n",
       "1    -0.440036     Spain  Female  0.198164       1  0.117350              1   \n",
       "2    -1.536794    France  Female  0.293517       8  1.333053              3   \n",
       "3     0.501521    France  Female  0.007457       1 -1.225848              2   \n",
       "4     2.063884     Spain  Female  0.388871       2  0.785728              1   \n",
       "\n",
       "   HasCrCard  IsActiveMember  EstimatedSalary  Exited  \n",
       "0          1               1         0.021886       1  \n",
       "1          0               1         0.216534       0  \n",
       "2          1               0         0.240687       1  \n",
       "3          0               0        -0.108918       0  \n",
       "4          1               1        -0.365276       0  "
      ]
     },
     "execution_count": 23,
     "metadata": {},
     "output_type": "execute_result"
    }
   ],
   "source": [
    "data.head()"
   ]
  },
  {
   "cell_type": "code",
   "execution_count": 24,
   "metadata": {},
   "outputs": [],
   "source": [
    "X = data.iloc[:, :-1].values\n",
    "Y = data.iloc[:, -1:].values"
   ]
  },
  {
   "cell_type": "code",
   "execution_count": 25,
   "metadata": {},
   "outputs": [
    {
     "data": {
      "text/plain": [
       "((10000, 10), (10000, 1))"
      ]
     },
     "execution_count": 25,
     "metadata": {},
     "output_type": "execute_result"
    }
   ],
   "source": [
    "X.shape, Y.shape"
   ]
  },
  {
   "cell_type": "code",
   "execution_count": 26,
   "metadata": {},
   "outputs": [
    {
     "data": {
      "text/plain": [
       "array([-0.4400359548576657, 'Spain', 'Female', 0.1981638321954454, 1,\n",
       "       0.11735002143511059, 1, 0, 1, 0.21653375188734025], dtype=object)"
      ]
     },
     "execution_count": 26,
     "metadata": {},
     "output_type": "execute_result"
    }
   ],
   "source": [
    "X[1]"
   ]
  },
  {
   "cell_type": "code",
   "execution_count": 27,
   "metadata": {},
   "outputs": [],
   "source": [
    "lb = LabelEncoder()\n",
    "X[:, 1] = lb.fit_transform(X[:, 1])\n",
    "X[:, 2] = lb.fit_transform(X[:, 2])"
   ]
  },
  {
   "cell_type": "code",
   "execution_count": 28,
   "metadata": {},
   "outputs": [
    {
     "data": {
      "text/plain": [
       "array([-0.4400359548576657, 2, 0, 0.1981638321954454, 1,\n",
       "       0.11735002143511059, 1, 0, 1, 0.21653375188734025], dtype=object)"
      ]
     },
     "execution_count": 28,
     "metadata": {},
     "output_type": "execute_result"
    }
   ],
   "source": [
    "X[1]"
   ]
  },
  {
   "cell_type": "code",
   "execution_count": 29,
   "metadata": {},
   "outputs": [],
   "source": [
    "ohe = OneHotEncoder(categorical_features = [1])\n",
    "X = ohe.fit_transform(X).toarray()"
   ]
  },
  {
   "cell_type": "code",
   "execution_count": 30,
   "metadata": {},
   "outputs": [
    {
     "data": {
      "text/plain": [
       "array([ 0.        ,  0.        ,  1.        , -0.44003595,  0.        ,\n",
       "        0.19816383,  1.        ,  0.11735002,  1.        ,  0.        ,\n",
       "        1.        ,  0.21653375])"
      ]
     },
     "execution_count": 30,
     "metadata": {},
     "output_type": "execute_result"
    }
   ],
   "source": [
    "X[1]"
   ]
  },
  {
   "cell_type": "code",
   "execution_count": 31,
   "metadata": {},
   "outputs": [],
   "source": [
    "X = X[:, 1:]"
   ]
  },
  {
   "cell_type": "code",
   "execution_count": 32,
   "metadata": {},
   "outputs": [
    {
     "data": {
      "text/plain": [
       "array([ 0.        ,  1.        , -0.44003595,  0.        ,  0.19816383,\n",
       "        1.        ,  0.11735002,  1.        ,  0.        ,  1.        ,\n",
       "        0.21653375])"
      ]
     },
     "execution_count": 32,
     "metadata": {},
     "output_type": "execute_result"
    }
   ],
   "source": [
    "X[1]"
   ]
  },
  {
   "cell_type": "code",
   "execution_count": 33,
   "metadata": {},
   "outputs": [
    {
     "data": {
      "text/plain": [
       "(10000, 11)"
      ]
     },
     "execution_count": 33,
     "metadata": {},
     "output_type": "execute_result"
    }
   ],
   "source": [
    "X.shape"
   ]
  },
  {
   "cell_type": "code",
   "execution_count": 34,
   "metadata": {},
   "outputs": [],
   "source": [
    "x_train, x_test, y_train, y_test = train_test_split(X, Y, test_size = 0.2, random_state = 0)"
   ]
  },
  {
   "cell_type": "code",
   "execution_count": 35,
   "metadata": {},
   "outputs": [
    {
     "data": {
      "text/plain": [
       "((8000, 11), (8000, 1), (2000, 11), (2000, 1))"
      ]
     },
     "execution_count": 35,
     "metadata": {},
     "output_type": "execute_result"
    }
   ],
   "source": [
    "x_train.shape, y_train.shape, x_test.shape, y_test.shape"
   ]
  },
  {
   "cell_type": "markdown",
   "metadata": {},
   "source": [
    "# Creating Placeholders"
   ]
  },
  {
   "cell_type": "markdown",
   "metadata": {},
   "source": [
    "To create placeholders we need to disable the eager execution as place holders are not compatible with eager execution"
   ]
  },
  {
   "cell_type": "code",
   "execution_count": 36,
   "metadata": {},
   "outputs": [],
   "source": [
    "tf.compat.v1.disable_eager_execution()"
   ]
  },
  {
   "cell_type": "code",
   "execution_count": 37,
   "metadata": {},
   "outputs": [],
   "source": [
    "x = tf.compat.v1.placeholder(dtype = 'float32', shape = [None, 11], name = 'x')\n",
    "y = tf.compat.v1.placeholder(dtype = 'float32', shape = [None, 1], name = 'y')"
   ]
  },
  {
   "cell_type": "code",
   "execution_count": 38,
   "metadata": {},
   "outputs": [
    {
     "data": {
      "text/plain": [
       "(<tf.Tensor 'x:0' shape=(None, 11) dtype=float32>,\n",
       " <tf.Tensor 'y:0' shape=(None, 1) dtype=float32>)"
      ]
     },
     "execution_count": 38,
     "metadata": {},
     "output_type": "execute_result"
    }
   ],
   "source": [
    "x, y"
   ]
  },
  {
   "cell_type": "markdown",
   "metadata": {},
   "source": [
    "# Initialising weights and bias"
   ]
  },
  {
   "cell_type": "code",
   "execution_count": 39,
   "metadata": {},
   "outputs": [],
   "source": [
    "sigma = 1\n",
    "weight_initializer = tf.compat.v1.variance_scaling_initializer(mode = 'fan_avg', distribution = 'uniform', scale = sigma, seed = 32) \n",
    "bias_initializer = tf.zeros_initializer()"
   ]
  },
  {
   "cell_type": "code",
   "execution_count": 40,
   "metadata": {},
   "outputs": [
    {
     "name": "stdout",
     "output_type": "stream",
     "text": [
      "WARNING:tensorflow:From /home/admin1/anaconda3/envs/my_env/lib/python3.7/site-packages/tensorflow_core/python/ops/resource_variable_ops.py:1630: calling BaseResourceVariable.__init__ (from tensorflow.python.ops.resource_variable_ops) with constraint is deprecated and will be removed in a future version.\n",
      "Instructions for updating:\n",
      "If using Keras pass *_constraint arguments to layers.\n"
     ]
    }
   ],
   "source": [
    "#Weights and Bias of 1st Layer\n",
    "w1 = tf.Variable(weight_initializer([x_train.shape[1], 8]))\n",
    "b1 = tf.Variable(bias_initializer([8]))\n",
    "\n",
    "#Weights and Bias of 2nd layer\n",
    "w2 = tf.Variable(weight_initializer([8, 7]))\n",
    "b2 = tf.Variable(bias_initializer([7]))\n",
    "\n",
    "#Weights and Bias of 3rd layer\n",
    "# w3 = tf.Variable(weight_initializer([10, 8]))\n",
    "# b3 = tf.Variable(bias_initializer([8]))\n",
    "\n",
    "\n",
    "#Weights and Bias of output layer\n",
    "wo = tf.Variable(weight_initializer([7, 1]))\n",
    "bo = tf.Variable(bias_initializer([1]))\n",
    "\n",
    "init = tf.compat.v1.global_variables_initializer()"
   ]
  },
  {
   "cell_type": "code",
   "execution_count": 41,
   "metadata": {},
   "outputs": [
    {
     "data": {
      "text/plain": [
       "(<tf.Variable 'Variable:0' shape=(11, 8) dtype=float32>,\n",
       " <tf.Variable 'Variable_1:0' shape=(8,) dtype=float32>)"
      ]
     },
     "execution_count": 41,
     "metadata": {},
     "output_type": "execute_result"
    }
   ],
   "source": [
    "w1, b1"
   ]
  },
  {
   "cell_type": "code",
   "execution_count": 42,
   "metadata": {},
   "outputs": [
    {
     "data": {
      "text/plain": [
       "(<tf.Variable 'Variable_2:0' shape=(8, 7) dtype=float32>,\n",
       " <tf.Variable 'Variable_3:0' shape=(7,) dtype=float32>)"
      ]
     },
     "execution_count": 42,
     "metadata": {},
     "output_type": "execute_result"
    }
   ],
   "source": [
    "w2, b2"
   ]
  },
  {
   "cell_type": "code",
   "execution_count": 43,
   "metadata": {},
   "outputs": [],
   "source": [
    "# w3, b3"
   ]
  },
  {
   "cell_type": "code",
   "execution_count": 44,
   "metadata": {},
   "outputs": [
    {
     "data": {
      "text/plain": [
       "(<tf.Variable 'Variable_4:0' shape=(7, 1) dtype=float32>,\n",
       " <tf.Variable 'Variable_5:0' shape=(1,) dtype=float32>)"
      ]
     },
     "execution_count": 44,
     "metadata": {},
     "output_type": "execute_result"
    }
   ],
   "source": [
    "wo, bo"
   ]
  },
  {
   "cell_type": "markdown",
   "metadata": {},
   "source": [
    "# Forward Propagation"
   ]
  },
  {
   "cell_type": "code",
   "execution_count": 45,
   "metadata": {},
   "outputs": [],
   "source": [
    "#Layer1\n",
    "hidden1 = tf.add(tf.matmul(x, w1), b1)\n",
    "hidden1 = tf.nn.relu(hidden1)\n",
    "\n",
    "#layer2\n",
    "hidden2 = tf.add(tf.matmul(hidden1, w2), b2)\n",
    "hidden2 = tf.nn.relu(hidden2)\n",
    "\n",
    "#layer3\n",
    "# hidden3 = tf.add(tf.matmul(hidden2, w3), b3)\n",
    "# hidden3 = tf.nn.relu(hidden3)\n",
    "\n",
    "#output layer\n",
    "out = tf.add(tf.matmul(hidden2, wo), bo, name = 'output')"
   ]
  },
  {
   "cell_type": "code",
   "execution_count": 46,
   "metadata": {},
   "outputs": [
    {
     "data": {
      "text/plain": [
       "(<tf.Tensor 'Relu:0' shape=(None, 8) dtype=float32>,\n",
       " <tf.Tensor 'Relu_1:0' shape=(None, 7) dtype=float32>,\n",
       " <tf.Tensor 'output:0' shape=(None, 1) dtype=float32>)"
      ]
     },
     "execution_count": 46,
     "metadata": {},
     "output_type": "execute_result"
    }
   ],
   "source": [
    "hidden1, hidden2, out"
   ]
  },
  {
   "cell_type": "markdown",
   "metadata": {},
   "source": [
    "# Cost Function"
   ]
  },
  {
   "cell_type": "code",
   "execution_count": 47,
   "metadata": {},
   "outputs": [],
   "source": [
    "cost_function = tf.reduce_mean(tf.square(out - y))"
   ]
  },
  {
   "cell_type": "code",
   "execution_count": 48,
   "metadata": {},
   "outputs": [
    {
     "data": {
      "text/plain": [
       "<tf.Tensor 'Mean:0' shape=() dtype=float32>"
      ]
     },
     "execution_count": 48,
     "metadata": {},
     "output_type": "execute_result"
    }
   ],
   "source": [
    "cost_function"
   ]
  },
  {
   "cell_type": "markdown",
   "metadata": {},
   "source": [
    "# Optimizer"
   ]
  },
  {
   "cell_type": "code",
   "execution_count": 49,
   "metadata": {},
   "outputs": [],
   "source": [
    "learning_rate = 0.00001\n",
    "opt = tf.compat.v1.train.GradientDescentOptimizer(learning_rate).minimize(cost_function)"
   ]
  },
  {
   "cell_type": "markdown",
   "metadata": {},
   "source": [
    "# launching the graph in Session"
   ]
  },
  {
   "cell_type": "code",
   "execution_count": 50,
   "metadata": {},
   "outputs": [],
   "source": [
    "sess = tf.compat.v1.Session()\n",
    "sess.run(init)"
   ]
  },
  {
   "cell_type": "code",
   "execution_count": 51,
   "metadata": {},
   "outputs": [
    {
     "data": {
      "text/plain": [
       "<tensorflow.python.client.session.Session at 0x7fef70c527d0>"
      ]
     },
     "execution_count": 51,
     "metadata": {},
     "output_type": "execute_result"
    }
   ],
   "source": [
    "sess"
   ]
  },
  {
   "cell_type": "markdown",
   "metadata": {},
   "source": [
    "# Back Propagation"
   ]
  },
  {
   "cell_type": "code",
   "execution_count": 52,
   "metadata": {},
   "outputs": [
    {
     "name": "stdout",
     "output_type": "stream",
     "text": [
      "Epoch: 0 Training Loss: 6.09108 Test Loss: 6.3886366\n",
      "Epoch: 1 Training Loss: 6.059709 Test Loss: 6.3558273\n",
      "Epoch: 2 Training Loss: 6.0285115 Test Loss: 6.3232255\n",
      "Epoch: 3 Training Loss: 5.997514 Test Loss: 6.290808\n",
      "Epoch: 4 Training Loss: 5.9667177 Test Loss: 6.258634\n",
      "Epoch: 5 Training Loss: 5.9361377 Test Loss: 6.2266912\n",
      "Epoch: 6 Training Loss: 5.9057655 Test Loss: 6.1949544\n",
      "Epoch: 7 Training Loss: 5.875588 Test Loss: 6.1634226\n",
      "Epoch: 8 Training Loss: 5.845598 Test Loss: 6.132089\n",
      "Epoch: 9 Training Loss: 5.815798 Test Loss: 6.100947\n",
      "Epoch: 10 Training Loss: 5.7861996 Test Loss: 6.07\n",
      "Epoch: 11 Training Loss: 5.756789 Test Loss: 6.039243\n",
      "Epoch: 12 Training Loss: 5.727558 Test Loss: 6.008673\n",
      "Epoch: 13 Training Loss: 5.6985283 Test Loss: 5.9783144\n",
      "Epoch: 14 Training Loss: 5.669688 Test Loss: 5.948159\n",
      "Epoch: 15 Training Loss: 5.6410275 Test Loss: 5.9181833\n",
      "Epoch: 16 Training Loss: 5.6125507 Test Loss: 5.8883915\n",
      "Epoch: 17 Training Loss: 5.5842447 Test Loss: 5.858793\n",
      "Epoch: 18 Training Loss: 5.5561066 Test Loss: 5.829373\n",
      "Epoch: 19 Training Loss: 5.5281544 Test Loss: 5.8001356\n",
      "Epoch: 20 Training Loss: 5.5003877 Test Loss: 5.771096\n",
      "Epoch: 21 Training Loss: 5.472774 Test Loss: 5.7422276\n",
      "Epoch: 22 Training Loss: 5.4453506 Test Loss: 5.7135468\n",
      "Epoch: 23 Training Loss: 5.4180984 Test Loss: 5.6850576\n",
      "Epoch: 24 Training Loss: 5.391002 Test Loss: 5.656719\n",
      "Epoch: 25 Training Loss: 5.364081 Test Loss: 5.6285796\n",
      "Epoch: 26 Training Loss: 5.337328 Test Loss: 5.6006327\n",
      "Epoch: 27 Training Loss: 5.3107295 Test Loss: 5.572832\n",
      "Epoch: 28 Training Loss: 5.284299 Test Loss: 5.545195\n",
      "Epoch: 29 Training Loss: 5.2580457 Test Loss: 5.5177083\n",
      "Epoch: 30 Training Loss: 5.231959 Test Loss: 5.490388\n",
      "Epoch: 31 Training Loss: 5.2060256 Test Loss: 5.4632344\n",
      "Epoch: 32 Training Loss: 5.180245 Test Loss: 5.436258\n",
      "Epoch: 33 Training Loss: 5.1546273 Test Loss: 5.409457\n",
      "Epoch: 34 Training Loss: 5.129179 Test Loss: 5.382833\n",
      "Epoch: 35 Training Loss: 5.1038737 Test Loss: 5.3563633\n",
      "Epoch: 36 Training Loss: 5.0787115 Test Loss: 5.330052\n",
      "Epoch: 37 Training Loss: 5.053695 Test Loss: 5.303893\n",
      "Epoch: 38 Training Loss: 5.028847 Test Loss: 5.2778916\n",
      "Epoch: 39 Training Loss: 5.0041623 Test Loss: 5.2520533\n",
      "Epoch: 40 Training Loss: 4.9796124 Test Loss: 5.2263613\n",
      "Epoch: 41 Training Loss: 4.9552097 Test Loss: 5.200819\n",
      "Epoch: 42 Training Loss: 4.930963 Test Loss: 5.1754436\n",
      "Epoch: 43 Training Loss: 4.906864 Test Loss: 5.1502223\n",
      "Epoch: 44 Training Loss: 4.88291 Test Loss: 5.1251454\n",
      "Epoch: 45 Training Loss: 4.8590975 Test Loss: 5.100248\n",
      "Epoch: 46 Training Loss: 4.8354177 Test Loss: 5.0755014\n",
      "Epoch: 47 Training Loss: 4.811867 Test Loss: 5.0508885\n",
      "Epoch: 48 Training Loss: 4.78846 Test Loss: 5.026416\n",
      "Epoch: 49 Training Loss: 4.7651954 Test Loss: 5.0020957\n",
      "Epoch: 50 Training Loss: 4.7420726 Test Loss: 4.977928\n",
      "Epoch: 51 Training Loss: 4.7191033 Test Loss: 4.9538956\n",
      "Epoch: 52 Training Loss: 4.6962714 Test Loss: 4.93001\n",
      "Epoch: 53 Training Loss: 4.6735663 Test Loss: 4.9062757\n",
      "Epoch: 54 Training Loss: 4.650984 Test Loss: 4.8826785\n",
      "Epoch: 55 Training Loss: 4.62854 Test Loss: 4.859208\n",
      "Epoch: 56 Training Loss: 4.6062713 Test Loss: 4.835897\n",
      "Epoch: 57 Training Loss: 4.5841455 Test Loss: 4.812728\n",
      "Epoch: 58 Training Loss: 4.5621514 Test Loss: 4.78969\n",
      "Epoch: 59 Training Loss: 4.540289 Test Loss: 4.7667613\n",
      "Epoch: 60 Training Loss: 4.518571 Test Loss: 4.7439656\n",
      "Epoch: 61 Training Loss: 4.4969907 Test Loss: 4.721307\n",
      "Epoch: 62 Training Loss: 4.4755497 Test Loss: 4.6987877\n",
      "Epoch: 63 Training Loss: 4.4542637 Test Loss: 4.6764064\n",
      "Epoch: 64 Training Loss: 4.433105 Test Loss: 4.6541743\n",
      "Epoch: 65 Training Loss: 4.412089 Test Loss: 4.6320906\n",
      "Epoch: 66 Training Loss: 4.391202 Test Loss: 4.6101756\n",
      "Epoch: 67 Training Loss: 4.37044 Test Loss: 4.5883985\n",
      "Epoch: 68 Training Loss: 4.3497934 Test Loss: 4.566754\n",
      "Epoch: 69 Training Loss: 4.3292913 Test Loss: 4.545258\n",
      "Epoch: 70 Training Loss: 4.3089323 Test Loss: 4.5239162\n",
      "Epoch: 71 Training Loss: 4.2886868 Test Loss: 4.5027056\n",
      "Epoch: 72 Training Loss: 4.268556 Test Loss: 4.4816127\n",
      "Epoch: 73 Training Loss: 4.248539 Test Loss: 4.460643\n",
      "Epoch: 74 Training Loss: 4.2286377 Test Loss: 4.439811\n",
      "Epoch: 75 Training Loss: 4.208844 Test Loss: 4.4190974\n",
      "Epoch: 76 Training Loss: 4.189172 Test Loss: 4.3984985\n",
      "Epoch: 77 Training Loss: 4.169631 Test Loss: 4.378023\n",
      "Epoch: 78 Training Loss: 4.150206 Test Loss: 4.3576655\n",
      "Epoch: 79 Training Loss: 4.1309023 Test Loss: 4.337424\n",
      "Epoch: 80 Training Loss: 4.111723 Test Loss: 4.317301\n",
      "Epoch: 81 Training Loss: 4.092674 Test Loss: 4.297295\n",
      "Epoch: 82 Training Loss: 4.0737457 Test Loss: 4.2774124\n",
      "Epoch: 83 Training Loss: 4.054925 Test Loss: 4.257625\n",
      "Epoch: 84 Training Loss: 4.0361953 Test Loss: 4.2379365\n",
      "Epoch: 85 Training Loss: 4.0175757 Test Loss: 4.218364\n",
      "Epoch: 86 Training Loss: 3.9990742 Test Loss: 4.198913\n",
      "Epoch: 87 Training Loss: 3.980689 Test Loss: 4.1795774\n",
      "Epoch: 88 Training Loss: 3.9624155 Test Loss: 4.1603546\n",
      "Epoch: 89 Training Loss: 3.944246 Test Loss: 4.1412425\n",
      "Epoch: 90 Training Loss: 3.9261837 Test Loss: 4.122234\n",
      "Epoch: 91 Training Loss: 3.9082208 Test Loss: 4.1033263\n",
      "Epoch: 92 Training Loss: 3.8903599 Test Loss: 4.0845213\n",
      "Epoch: 93 Training Loss: 3.8725986 Test Loss: 4.0658383\n",
      "Epoch: 94 Training Loss: 3.8549325 Test Loss: 4.04727\n",
      "Epoch: 95 Training Loss: 3.8373618 Test Loss: 4.028825\n",
      "Epoch: 96 Training Loss: 3.8198848 Test Loss: 4.010481\n",
      "Epoch: 97 Training Loss: 3.8025124 Test Loss: 3.9922564\n",
      "Epoch: 98 Training Loss: 3.7852447 Test Loss: 3.9741323\n",
      "Epoch: 99 Training Loss: 3.7680836 Test Loss: 3.9561234\n",
      "Epoch: 100 Training Loss: 3.7510295 Test Loss: 3.9382353\n",
      "Epoch: 101 Training Loss: 3.7340763 Test Loss: 3.9204545\n",
      "Epoch: 102 Training Loss: 3.7172296 Test Loss: 3.9027913\n",
      "Epoch: 103 Training Loss: 3.700486 Test Loss: 3.8852243\n",
      "Epoch: 104 Training Loss: 3.6838546 Test Loss: 3.8677533\n",
      "Epoch: 105 Training Loss: 3.667337 Test Loss: 3.8503883\n",
      "Epoch: 106 Training Loss: 3.6509063 Test Loss: 3.8331196\n",
      "Epoch: 107 Training Loss: 3.6345773 Test Loss: 3.8159525\n",
      "Epoch: 108 Training Loss: 3.618333 Test Loss: 3.7988775\n",
      "Epoch: 109 Training Loss: 3.6021817 Test Loss: 3.7819011\n",
      "Epoch: 110 Training Loss: 3.5861251 Test Loss: 3.765022\n",
      "Epoch: 111 Training Loss: 3.570161 Test Loss: 3.7482493\n",
      "Epoch: 112 Training Loss: 3.5543022 Test Loss: 3.731583\n",
      "Epoch: 113 Training Loss: 3.538544 Test Loss: 3.715023\n",
      "Epoch: 114 Training Loss: 3.5228753 Test Loss: 3.6985652\n",
      "Epoch: 115 Training Loss: 3.5073013 Test Loss: 3.6821992\n",
      "Epoch: 116 Training Loss: 3.4918246 Test Loss: 3.6659377\n",
      "Epoch: 117 Training Loss: 3.4764411 Test Loss: 3.6497777\n",
      "Epoch: 118 Training Loss: 3.4611444 Test Loss: 3.6337051\n",
      "Epoch: 119 Training Loss: 3.4459453 Test Loss: 3.6177368\n",
      "Epoch: 120 Training Loss: 3.4308324 Test Loss: 3.6018598\n",
      "Epoch: 121 Training Loss: 3.415794 Test Loss: 3.586067\n",
      "Epoch: 122 Training Loss: 3.400838 Test Loss: 3.5703712\n",
      "Epoch: 123 Training Loss: 3.3859694 Test Loss: 3.5547695\n",
      "Epoch: 124 Training Loss: 3.3711925 Test Loss: 3.539274\n",
      "Epoch: 125 Training Loss: 3.3565106 Test Loss: 3.5238736\n",
      "Epoch: 126 Training Loss: 3.3419027 Test Loss: 3.5085523\n",
      "Epoch: 127 Training Loss: 3.3273754 Test Loss: 3.493319\n",
      "Epoch: 128 Training Loss: 3.3129358 Test Loss: 3.478167\n",
      "Epoch: 129 Training Loss: 3.2985823 Test Loss: 3.4631069\n",
      "Epoch: 130 Training Loss: 3.2843082 Test Loss: 3.4481359\n",
      "Epoch: 131 Training Loss: 3.270117 Test Loss: 3.4332469\n",
      "Epoch: 132 Training Loss: 3.2560136 Test Loss: 3.4184484\n",
      "Epoch: 133 Training Loss: 3.2419908 Test Loss: 3.403736\n",
      "Epoch: 134 Training Loss: 3.228041 Test Loss: 3.3891006\n",
      "Epoch: 135 Training Loss: 3.2141724 Test Loss: 3.3745556\n",
      "Epoch: 136 Training Loss: 3.2003808 Test Loss: 3.360094\n",
      "Epoch: 137 Training Loss: 3.186661 Test Loss: 3.3457232\n",
      "Epoch: 138 Training Loss: 3.1730053 Test Loss: 3.331418\n",
      "Epoch: 139 Training Loss: 3.159421 Test Loss: 3.3171978\n",
      "Epoch: 140 Training Loss: 3.145915 Test Loss: 3.3030672\n",
      "Epoch: 141 Training Loss: 3.1324854 Test Loss: 3.2890205\n",
      "Epoch: 142 Training Loss: 3.1191256 Test Loss: 3.2750537\n",
      "Epoch: 143 Training Loss: 3.1058412 Test Loss: 3.26117\n",
      "Epoch: 144 Training Loss: 3.0926316 Test Loss: 3.2473733\n",
      "Epoch: 145 Training Loss: 3.079492 Test Loss: 3.2336528\n",
      "Epoch: 146 Training Loss: 3.0664284 Test Loss: 3.2200098\n",
      "Epoch: 147 Training Loss: 3.0534425 Test Loss: 3.2064493\n",
      "Epoch: 148 Training Loss: 3.0405393 Test Loss: 3.1929553\n",
      "Epoch: 149 Training Loss: 3.027711 Test Loss: 3.1795416\n",
      "Epoch: 150 Training Loss: 3.0149665 Test Loss: 3.1662056\n",
      "Epoch: 151 Training Loss: 3.002303 Test Loss: 3.1529462\n",
      "Epoch: 152 Training Loss: 2.98972 Test Loss: 3.1397662\n",
      "Epoch: 153 Training Loss: 2.9772115 Test Loss: 3.1266558\n",
      "Epoch: 154 Training Loss: 2.9647717 Test Loss: 3.1136167\n",
      "Epoch: 155 Training Loss: 2.952404 Test Loss: 3.1006596\n",
      "Epoch: 156 Training Loss: 2.940104 Test Loss: 3.087772\n",
      "Epoch: 157 Training Loss: 2.927875 Test Loss: 3.0749545\n",
      "Epoch: 158 Training Loss: 2.9157114 Test Loss: 3.0621986\n",
      "Epoch: 159 Training Loss: 2.9036186 Test Loss: 3.049509\n",
      "Epoch: 160 Training Loss: 2.8915977 Test Loss: 3.0368829\n",
      "Epoch: 161 Training Loss: 2.8796318 Test Loss: 3.0243204\n",
      "Epoch: 162 Training Loss: 2.867733 Test Loss: 3.0118244\n",
      "Epoch: 163 Training Loss: 2.855896 Test Loss: 2.9993985\n",
      "Epoch: 164 Training Loss: 2.8441298 Test Loss: 2.9870424\n",
      "Epoch: 165 Training Loss: 2.8324342 Test Loss: 2.9747627\n",
      "Epoch: 166 Training Loss: 2.8207967 Test Loss: 2.9625525\n",
      "Epoch: 167 Training Loss: 2.8092177 Test Loss: 2.9504054\n",
      "Epoch: 168 Training Loss: 2.7977011 Test Loss: 2.9383304\n",
      "Epoch: 169 Training Loss: 2.786254 Test Loss: 2.9263198\n",
      "Epoch: 170 Training Loss: 2.774871 Test Loss: 2.9143775\n",
      "Epoch: 171 Training Loss: 2.763562 Test Loss: 2.9025102\n",
      "Epoch: 172 Training Loss: 2.7523217 Test Loss: 2.8907082\n",
      "Epoch: 173 Training Loss: 2.7411397 Test Loss: 2.8789687\n",
      "Epoch: 174 Training Loss: 2.7300186 Test Loss: 2.867297\n",
      "Epoch: 175 Training Loss: 2.7189648 Test Loss: 2.8556905\n",
      "Epoch: 176 Training Loss: 2.7079697 Test Loss: 2.8441448\n",
      "Epoch: 177 Training Loss: 2.6970315 Test Loss: 2.8326612\n",
      "Epoch: 178 Training Loss: 2.686155 Test Loss: 2.8212523\n",
      "Epoch: 179 Training Loss: 2.6753368 Test Loss: 2.8099134\n",
      "Epoch: 180 Training Loss: 2.6645753 Test Loss: 2.7986348\n",
      "Epoch: 181 Training Loss: 2.6538713 Test Loss: 2.787418\n",
      "Epoch: 182 Training Loss: 2.6432295 Test Loss: 2.7762623\n",
      "Epoch: 183 Training Loss: 2.63265 Test Loss: 2.7651632\n",
      "Epoch: 184 Training Loss: 2.6221294 Test Loss: 2.7541113\n",
      "Epoch: 185 Training Loss: 2.611669 Test Loss: 2.743113\n",
      "Epoch: 186 Training Loss: 2.6012702 Test Loss: 2.7321815\n"
     ]
    },
    {
     "name": "stdout",
     "output_type": "stream",
     "text": [
      "Epoch: 187 Training Loss: 2.5909214 Test Loss: 2.721305\n",
      "Epoch: 188 Training Loss: 2.5806317 Test Loss: 2.71049\n",
      "Epoch: 189 Training Loss: 2.5703964 Test Loss: 2.6997304\n",
      "Epoch: 190 Training Loss: 2.5602212 Test Loss: 2.6890416\n",
      "Epoch: 191 Training Loss: 2.5501006 Test Loss: 2.6784244\n",
      "Epoch: 192 Training Loss: 2.540032 Test Loss: 2.6678677\n",
      "Epoch: 193 Training Loss: 2.5300124 Test Loss: 2.6573625\n",
      "Epoch: 194 Training Loss: 2.520047 Test Loss: 2.6469212\n",
      "Epoch: 195 Training Loss: 2.5101402 Test Loss: 2.6365423\n",
      "Epoch: 196 Training Loss: 2.5002866 Test Loss: 2.6262233\n",
      "Epoch: 197 Training Loss: 2.490484 Test Loss: 2.6159604\n",
      "Epoch: 198 Training Loss: 2.4807348 Test Loss: 2.6057534\n",
      "Epoch: 199 Training Loss: 2.471038 Test Loss: 2.595596\n",
      "Epoch: 200 Training Loss: 2.4613965 Test Loss: 2.5854998\n",
      "Epoch: 201 Training Loss: 2.4518056 Test Loss: 2.5754561\n",
      "Epoch: 202 Training Loss: 2.442273 Test Loss: 2.5654721\n",
      "Epoch: 203 Training Loss: 2.4327905 Test Loss: 2.5555458\n",
      "Epoch: 204 Training Loss: 2.4233646 Test Loss: 2.5456765\n",
      "Epoch: 205 Training Loss: 2.4139922 Test Loss: 2.5358586\n",
      "Epoch: 206 Training Loss: 2.4046695 Test Loss: 2.5260913\n",
      "Epoch: 207 Training Loss: 2.395398 Test Loss: 2.516378\n",
      "Epoch: 208 Training Loss: 2.3861768 Test Loss: 2.506706\n",
      "Epoch: 209 Training Loss: 2.377006 Test Loss: 2.4970813\n",
      "Epoch: 210 Training Loss: 2.36788 Test Loss: 2.4875\n",
      "Epoch: 211 Training Loss: 2.3588042 Test Loss: 2.4779747\n",
      "Epoch: 212 Training Loss: 2.3497818 Test Loss: 2.468498\n",
      "Epoch: 213 Training Loss: 2.3408105 Test Loss: 2.4590693\n",
      "Epoch: 214 Training Loss: 2.3318903 Test Loss: 2.4496963\n",
      "Epoch: 215 Training Loss: 2.3230124 Test Loss: 2.440383\n",
      "Epoch: 216 Training Loss: 2.3141842 Test Loss: 2.4311104\n",
      "Epoch: 217 Training Loss: 2.305403 Test Loss: 2.4218848\n",
      "Epoch: 218 Training Loss: 2.2966738 Test Loss: 2.4127157\n",
      "Epoch: 219 Training Loss: 2.2879932 Test Loss: 2.4035964\n",
      "Epoch: 220 Training Loss: 2.2793596 Test Loss: 2.3945286\n",
      "Epoch: 221 Training Loss: 2.2707686 Test Loss: 2.3855066\n",
      "Epoch: 222 Training Loss: 2.2622216 Test Loss: 2.3765333\n",
      "Epoch: 223 Training Loss: 2.2537212 Test Loss: 2.367606\n",
      "Epoch: 224 Training Loss: 2.2452676 Test Loss: 2.3587196\n",
      "Epoch: 225 Training Loss: 2.2368577 Test Loss: 2.349873\n",
      "Epoch: 226 Training Loss: 2.2284906 Test Loss: 2.3410666\n",
      "Epoch: 227 Training Loss: 2.2201664 Test Loss: 2.3323069\n",
      "Epoch: 228 Training Loss: 2.2118897 Test Loss: 2.3235996\n",
      "Epoch: 229 Training Loss: 2.203654 Test Loss: 2.3149319\n",
      "Epoch: 230 Training Loss: 2.1954603 Test Loss: 2.3063083\n",
      "Epoch: 231 Training Loss: 2.1873076 Test Loss: 2.2977319\n",
      "Epoch: 232 Training Loss: 2.1791983 Test Loss: 2.2891977\n",
      "Epoch: 233 Training Loss: 2.171136 Test Loss: 2.280711\n",
      "Epoch: 234 Training Loss: 2.1631227 Test Loss: 2.272275\n",
      "Epoch: 235 Training Loss: 2.1551533 Test Loss: 2.2638867\n",
      "Epoch: 236 Training Loss: 2.147229 Test Loss: 2.2555459\n",
      "Epoch: 237 Training Loss: 2.1393497 Test Loss: 2.247246\n",
      "Epoch: 238 Training Loss: 2.1315143 Test Loss: 2.2389948\n",
      "Epoch: 239 Training Loss: 2.1237206 Test Loss: 2.2307954\n",
      "Epoch: 240 Training Loss: 2.1159697 Test Loss: 2.2226377\n",
      "Epoch: 241 Training Loss: 2.1082706 Test Loss: 2.2145298\n",
      "Epoch: 242 Training Loss: 2.1006103 Test Loss: 2.206468\n",
      "Epoch: 243 Training Loss: 2.0929842 Test Loss: 2.1984453\n",
      "Epoch: 244 Training Loss: 2.0854003 Test Loss: 2.1904676\n",
      "Epoch: 245 Training Loss: 2.0778542 Test Loss: 2.1825278\n",
      "Epoch: 246 Training Loss: 2.0703502 Test Loss: 2.1746323\n",
      "Epoch: 247 Training Loss: 2.0628867 Test Loss: 2.1667738\n",
      "Epoch: 248 Training Loss: 2.0554652 Test Loss: 2.1589532\n",
      "Epoch: 249 Training Loss: 2.048082 Test Loss: 2.1511714\n",
      "Epoch: 250 Training Loss: 2.040738 Test Loss: 2.1434312\n",
      "Epoch: 251 Training Loss: 2.0334282 Test Loss: 2.13573\n",
      "Epoch: 252 Training Loss: 2.0261548 Test Loss: 2.1280684\n",
      "Epoch: 253 Training Loss: 2.0189214 Test Loss: 2.1204453\n",
      "Epoch: 254 Training Loss: 2.0117261 Test Loss: 2.1128619\n",
      "Epoch: 255 Training Loss: 2.0045676 Test Loss: 2.1053188\n",
      "Epoch: 256 Training Loss: 1.9974461 Test Loss: 2.0978134\n",
      "Epoch: 257 Training Loss: 1.9903623 Test Loss: 2.0903466\n",
      "Epoch: 258 Training Loss: 1.983317 Test Loss: 2.082919\n",
      "Epoch: 259 Training Loss: 1.9763091 Test Loss: 2.0755305\n",
      "Epoch: 260 Training Loss: 1.9693371 Test Loss: 2.0681765\n",
      "Epoch: 261 Training Loss: 1.9624045 Test Loss: 2.0608635\n",
      "Epoch: 262 Training Loss: 1.9555047 Test Loss: 2.053585\n",
      "Epoch: 263 Training Loss: 1.9486393 Test Loss: 2.0463402\n",
      "Epoch: 264 Training Loss: 1.9418052 Test Loss: 2.0391316\n",
      "Epoch: 265 Training Loss: 1.9350059 Test Loss: 2.0319626\n",
      "Epoch: 266 Training Loss: 1.928242 Test Loss: 2.0248313\n",
      "Epoch: 267 Training Loss: 1.9215184 Test Loss: 2.017742\n",
      "Epoch: 268 Training Loss: 1.9148321 Test Loss: 2.010688\n",
      "Epoch: 269 Training Loss: 1.9081798 Test Loss: 2.0036678\n",
      "Epoch: 270 Training Loss: 1.9015613 Test Loss: 1.9966834\n",
      "Epoch: 271 Training Loss: 1.8949828 Test Loss: 1.98974\n",
      "Epoch: 272 Training Loss: 1.8884358 Test Loss: 1.9828259\n",
      "Epoch: 273 Training Loss: 1.8819156 Test Loss: 1.9759436\n",
      "Epoch: 274 Training Loss: 1.8754272 Test Loss: 1.9690908\n",
      "Epoch: 275 Training Loss: 1.8689723 Test Loss: 1.9622703\n",
      "Epoch: 276 Training Loss: 1.8625534 Test Loss: 1.9554886\n",
      "Epoch: 277 Training Loss: 1.8561695 Test Loss: 1.9487444\n",
      "Epoch: 278 Training Loss: 1.8498213 Test Loss: 1.9420422\n",
      "Epoch: 279 Training Loss: 1.8435069 Test Loss: 1.935381\n",
      "Epoch: 280 Training Loss: 1.8372216 Test Loss: 1.9287496\n",
      "Epoch: 281 Training Loss: 1.8309673 Test Loss: 1.9221492\n",
      "Epoch: 282 Training Loss: 1.8247478 Test Loss: 1.9155843\n",
      "Epoch: 283 Training Loss: 1.8185594 Test Loss: 1.9090518\n",
      "Epoch: 284 Training Loss: 1.8124042 Test Loss: 1.9025501\n",
      "Epoch: 285 Training Loss: 1.8062823 Test Loss: 1.8960786\n",
      "Epoch: 286 Training Loss: 1.8001955 Test Loss: 1.8896424\n",
      "Epoch: 287 Training Loss: 1.7941402 Test Loss: 1.8832417\n",
      "Epoch: 288 Training Loss: 1.7881161 Test Loss: 1.8768729\n",
      "Epoch: 289 Training Loss: 1.7821188 Test Loss: 1.8705348\n",
      "Epoch: 290 Training Loss: 1.7761562 Test Loss: 1.8642315\n",
      "Epoch: 291 Training Loss: 1.7702243 Test Loss: 1.8579568\n",
      "Epoch: 292 Training Loss: 1.7643247 Test Loss: 1.8517152\n",
      "Epoch: 293 Training Loss: 1.7584587 Test Loss: 1.8455077\n",
      "Epoch: 294 Training Loss: 1.7526224 Test Loss: 1.8393312\n",
      "Epoch: 295 Training Loss: 1.7468159 Test Loss: 1.8331819\n",
      "Epoch: 296 Training Loss: 1.7410421 Test Loss: 1.8270664\n",
      "Epoch: 297 Training Loss: 1.7352957 Test Loss: 1.8209766\n",
      "Epoch: 298 Training Loss: 1.7295816 Test Loss: 1.8149163\n",
      "Epoch: 299 Training Loss: 1.7239012 Test Loss: 1.8088908\n",
      "Epoch: 300 Training Loss: 1.7182468 Test Loss: 1.8028979\n",
      "Epoch: 301 Training Loss: 1.7126225 Test Loss: 1.796936\n",
      "Epoch: 302 Training Loss: 1.7070262 Test Loss: 1.791003\n",
      "Epoch: 303 Training Loss: 1.7014583 Test Loss: 1.7851012\n",
      "Epoch: 304 Training Loss: 1.695917 Test Loss: 1.779228\n",
      "Epoch: 305 Training Loss: 1.6904001 Test Loss: 1.7733846\n",
      "Epoch: 306 Training Loss: 1.6849103 Test Loss: 1.7675656\n",
      "Epoch: 307 Training Loss: 1.6794513 Test Loss: 1.7617756\n",
      "Epoch: 308 Training Loss: 1.6740203 Test Loss: 1.7560142\n",
      "Epoch: 309 Training Loss: 1.668622 Test Loss: 1.7502869\n",
      "Epoch: 310 Training Loss: 1.6632499 Test Loss: 1.7445898\n",
      "Epoch: 311 Training Loss: 1.657905 Test Loss: 1.7389215\n",
      "Epoch: 312 Training Loss: 1.6525835 Test Loss: 1.7332797\n",
      "Epoch: 313 Training Loss: 1.6472878 Test Loss: 1.7276654\n",
      "Epoch: 314 Training Loss: 1.6420158 Test Loss: 1.7220875\n",
      "Epoch: 315 Training Loss: 1.6367713 Test Loss: 1.7165402\n",
      "Epoch: 316 Training Loss: 1.6315525 Test Loss: 1.711017\n",
      "Epoch: 317 Training Loss: 1.6263596 Test Loss: 1.7055205\n",
      "Epoch: 318 Training Loss: 1.6211926 Test Loss: 1.7000519\n",
      "Epoch: 319 Training Loss: 1.6160505 Test Loss: 1.69461\n",
      "Epoch: 320 Training Loss: 1.6109335 Test Loss: 1.6891943\n",
      "Epoch: 321 Training Loss: 1.605841 Test Loss: 1.6838053\n",
      "Epoch: 322 Training Loss: 1.6007746 Test Loss: 1.678441\n",
      "Epoch: 323 Training Loss: 1.5957341 Test Loss: 1.6731025\n",
      "Epoch: 324 Training Loss: 1.590721 Test Loss: 1.6677903\n",
      "Epoch: 325 Training Loss: 1.5857329 Test Loss: 1.6625066\n",
      "Epoch: 326 Training Loss: 1.5807666 Test Loss: 1.6572473\n",
      "Epoch: 327 Training Loss: 1.5758257 Test Loss: 1.6520139\n",
      "Epoch: 328 Training Loss: 1.5709068 Test Loss: 1.6468095\n",
      "Epoch: 329 Training Loss: 1.5660101 Test Loss: 1.6416283\n",
      "Epoch: 330 Training Loss: 1.5611346 Test Loss: 1.6364685\n",
      "Epoch: 331 Training Loss: 1.5562842 Test Loss: 1.6313332\n",
      "Epoch: 332 Training Loss: 1.5514605 Test Loss: 1.6262227\n",
      "Epoch: 333 Training Loss: 1.5466607 Test Loss: 1.6211342\n",
      "Epoch: 334 Training Loss: 1.5418842 Test Loss: 1.6160706\n",
      "Epoch: 335 Training Loss: 1.5371318 Test Loss: 1.6110351\n",
      "Epoch: 336 Training Loss: 1.5324025 Test Loss: 1.6060224\n",
      "Epoch: 337 Training Loss: 1.5276939 Test Loss: 1.6010332\n",
      "Epoch: 338 Training Loss: 1.5230091 Test Loss: 1.596067\n",
      "Epoch: 339 Training Loss: 1.5183476 Test Loss: 1.5911283\n",
      "Epoch: 340 Training Loss: 1.5137097 Test Loss: 1.5862149\n",
      "Epoch: 341 Training Loss: 1.5090955 Test Loss: 1.5813253\n",
      "Epoch: 342 Training Loss: 1.5045024 Test Loss: 1.576457\n",
      "Epoch: 343 Training Loss: 1.4999325 Test Loss: 1.571614\n"
     ]
    },
    {
     "name": "stdout",
     "output_type": "stream",
     "text": [
      "Epoch: 344 Training Loss: 1.4953823 Test Loss: 1.5667915\n",
      "Epoch: 345 Training Loss: 1.490855 Test Loss: 1.5619961\n",
      "Epoch: 346 Training Loss: 1.4863505 Test Loss: 1.5572295\n",
      "Epoch: 347 Training Loss: 1.4818681 Test Loss: 1.552487\n",
      "Epoch: 348 Training Loss: 1.4774064 Test Loss: 1.5477659\n",
      "Epoch: 349 Training Loss: 1.4729658 Test Loss: 1.5430666\n",
      "Epoch: 350 Training Loss: 1.468549 Test Loss: 1.5383893\n",
      "Epoch: 351 Training Loss: 1.464154 Test Loss: 1.5337324\n",
      "Epoch: 352 Training Loss: 1.4597797 Test Loss: 1.5290971\n",
      "Epoch: 353 Training Loss: 1.4554265 Test Loss: 1.524487\n",
      "Epoch: 354 Training Loss: 1.4510943 Test Loss: 1.519897\n",
      "Epoch: 355 Training Loss: 1.446783 Test Loss: 1.5153316\n",
      "Epoch: 356 Training Loss: 1.4424919 Test Loss: 1.5107864\n",
      "Epoch: 357 Training Loss: 1.4382204 Test Loss: 1.5062642\n",
      "Epoch: 358 Training Loss: 1.433967 Test Loss: 1.5017639\n",
      "Epoch: 359 Training Loss: 1.4297341 Test Loss: 1.4972878\n",
      "Epoch: 360 Training Loss: 1.4255198 Test Loss: 1.4928312\n",
      "Epoch: 361 Training Loss: 1.4213235 Test Loss: 1.4883945\n",
      "Epoch: 362 Training Loss: 1.4171467 Test Loss: 1.4839778\n",
      "Epoch: 363 Training Loss: 1.4129932 Test Loss: 1.4795836\n",
      "Epoch: 364 Training Loss: 1.4088584 Test Loss: 1.475209\n",
      "Epoch: 365 Training Loss: 1.4047472 Test Loss: 1.4708592\n",
      "Epoch: 366 Training Loss: 1.4006531 Test Loss: 1.4665296\n",
      "Epoch: 367 Training Loss: 1.3965759 Test Loss: 1.4622209\n",
      "Epoch: 368 Training Loss: 1.392518 Test Loss: 1.4579315\n",
      "Epoch: 369 Training Loss: 1.3884785 Test Loss: 1.4536633\n",
      "Epoch: 370 Training Loss: 1.3844588 Test Loss: 1.4494165\n",
      "Epoch: 371 Training Loss: 1.3804572 Test Loss: 1.4451885\n",
      "Epoch: 372 Training Loss: 1.3764746 Test Loss: 1.44098\n",
      "Epoch: 373 Training Loss: 1.3725085 Test Loss: 1.4367911\n",
      "Epoch: 374 Training Loss: 1.3685606 Test Loss: 1.432622\n",
      "Epoch: 375 Training Loss: 1.3646328 Test Loss: 1.4284726\n",
      "Epoch: 376 Training Loss: 1.3607271 Test Loss: 1.4243468\n",
      "Epoch: 377 Training Loss: 1.3568408 Test Loss: 1.420241\n",
      "Epoch: 378 Training Loss: 1.3529729 Test Loss: 1.4161557\n",
      "Epoch: 379 Training Loss: 1.3491223 Test Loss: 1.412087\n",
      "Epoch: 380 Training Loss: 1.3452903 Test Loss: 1.408038\n",
      "Epoch: 381 Training Loss: 1.3414723 Test Loss: 1.4040076\n",
      "Epoch: 382 Training Loss: 1.3376708 Test Loss: 1.3999939\n",
      "Epoch: 383 Training Loss: 1.3338902 Test Loss: 1.3960004\n",
      "Epoch: 384 Training Loss: 1.3301276 Test Loss: 1.3920256\n",
      "Epoch: 385 Training Loss: 1.3263822 Test Loss: 1.3880688\n",
      "Epoch: 386 Training Loss: 1.322653 Test Loss: 1.3841314\n",
      "Epoch: 387 Training Loss: 1.3189418 Test Loss: 1.3802102\n",
      "Epoch: 388 Training Loss: 1.3152499 Test Loss: 1.3763067\n",
      "Epoch: 389 Training Loss: 1.3115761 Test Loss: 1.3724195\n",
      "Epoch: 390 Training Loss: 1.3079226 Test Loss: 1.3685527\n",
      "Epoch: 391 Training Loss: 1.3042874 Test Loss: 1.3647041\n",
      "Epoch: 392 Training Loss: 1.3006678 Test Loss: 1.3608725\n",
      "Epoch: 393 Training Loss: 1.2970681 Test Loss: 1.3570596\n",
      "Epoch: 394 Training Loss: 1.293483 Test Loss: 1.3532636\n",
      "Epoch: 395 Training Loss: 1.2899158 Test Loss: 1.3494853\n",
      "Epoch: 396 Training Loss: 1.2863653 Test Loss: 1.3457253\n",
      "Epoch: 397 Training Loss: 1.2828294 Test Loss: 1.3419821\n",
      "Epoch: 398 Training Loss: 1.2793107 Test Loss: 1.3382566\n",
      "Epoch: 399 Training Loss: 1.2758108 Test Loss: 1.334549\n",
      "Epoch: 400 Training Loss: 1.2723281 Test Loss: 1.3308599\n",
      "Epoch: 401 Training Loss: 1.2688608 Test Loss: 1.3271887\n",
      "Epoch: 402 Training Loss: 1.2654083 Test Loss: 1.3235364\n",
      "Epoch: 403 Training Loss: 1.2619734 Test Loss: 1.3199004\n",
      "Epoch: 404 Training Loss: 1.2585547 Test Loss: 1.316281\n",
      "Epoch: 405 Training Loss: 1.2551509 Test Loss: 1.3126771\n",
      "Epoch: 406 Training Loss: 1.2517651 Test Loss: 1.3090914\n",
      "Epoch: 407 Training Loss: 1.2483959 Test Loss: 1.3055224\n",
      "Epoch: 408 Training Loss: 1.2450411 Test Loss: 1.3019685\n",
      "Epoch: 409 Training Loss: 1.2417016 Test Loss: 1.2984314\n",
      "Epoch: 410 Training Loss: 1.2383782 Test Loss: 1.2949077\n",
      "Epoch: 411 Training Loss: 1.2350703 Test Loss: 1.2913992\n",
      "Epoch: 412 Training Loss: 1.2317803 Test Loss: 1.2879103\n",
      "Epoch: 413 Training Loss: 1.2285058 Test Loss: 1.284438\n",
      "Epoch: 414 Training Loss: 1.2252442 Test Loss: 1.2809807\n",
      "Epoch: 415 Training Loss: 1.2219965 Test Loss: 1.277538\n",
      "Epoch: 416 Training Loss: 1.2187644 Test Loss: 1.2741122\n",
      "Epoch: 417 Training Loss: 1.2155459 Test Loss: 1.2707036\n",
      "Epoch: 418 Training Loss: 1.2123423 Test Loss: 1.2673099\n",
      "Epoch: 419 Training Loss: 1.2091514 Test Loss: 1.26393\n",
      "Epoch: 420 Training Loss: 1.2059749 Test Loss: 1.2605656\n",
      "Epoch: 421 Training Loss: 1.2028126 Test Loss: 1.2572156\n",
      "Epoch: 422 Training Loss: 1.1996647 Test Loss: 1.2538803\n",
      "Epoch: 423 Training Loss: 1.1965299 Test Loss: 1.2505589\n",
      "Epoch: 424 Training Loss: 1.1934102 Test Loss: 1.247253\n",
      "Epoch: 425 Training Loss: 1.1903048 Test Loss: 1.2439634\n",
      "Epoch: 426 Training Loss: 1.1872144 Test Loss: 1.2406888\n",
      "Epoch: 427 Training Loss: 1.1841395 Test Loss: 1.2374291\n",
      "Epoch: 428 Training Loss: 1.1810794 Test Loss: 1.2341849\n",
      "Epoch: 429 Training Loss: 1.1780344 Test Loss: 1.230953\n",
      "Epoch: 430 Training Loss: 1.1750032 Test Loss: 1.2277343\n",
      "Epoch: 431 Training Loss: 1.1719866 Test Loss: 1.2245313\n",
      "Epoch: 432 Training Loss: 1.1689833 Test Loss: 1.221344\n",
      "Epoch: 433 Training Loss: 1.1659954 Test Loss: 1.2181726\n",
      "Epoch: 434 Training Loss: 1.1630234 Test Loss: 1.2150178\n",
      "Epoch: 435 Training Loss: 1.1600646 Test Loss: 1.2118777\n",
      "Epoch: 436 Training Loss: 1.1571212 Test Loss: 1.2087502\n",
      "Epoch: 437 Training Loss: 1.1541939 Test Loss: 1.2056394\n",
      "Epoch: 438 Training Loss: 1.1512796 Test Loss: 1.202542\n",
      "Epoch: 439 Training Loss: 1.1483792 Test Loss: 1.1994597\n",
      "Epoch: 440 Training Loss: 1.1454911 Test Loss: 1.1963931\n",
      "Epoch: 441 Training Loss: 1.1426167 Test Loss: 1.1933419\n",
      "Epoch: 442 Training Loss: 1.1397549 Test Loss: 1.1903032\n",
      "Epoch: 443 Training Loss: 1.1369048 Test Loss: 1.187278\n",
      "Epoch: 444 Training Loss: 1.1340679 Test Loss: 1.1842656\n",
      "Epoch: 445 Training Loss: 1.1312437 Test Loss: 1.181268\n",
      "Epoch: 446 Training Loss: 1.1284301 Test Loss: 1.1782824\n",
      "Epoch: 447 Training Loss: 1.1256284 Test Loss: 1.1753093\n",
      "Epoch: 448 Training Loss: 1.1228396 Test Loss: 1.1723498\n",
      "Epoch: 449 Training Loss: 1.120063 Test Loss: 1.1694016\n",
      "Epoch: 450 Training Loss: 1.1172986 Test Loss: 1.1664664\n",
      "Epoch: 451 Training Loss: 1.1145469 Test Loss: 1.1635456\n",
      "Epoch: 452 Training Loss: 1.1118057 Test Loss: 1.1606377\n",
      "Epoch: 453 Training Loss: 1.1090769 Test Loss: 1.1577427\n",
      "Epoch: 454 Training Loss: 1.1063598 Test Loss: 1.1548601\n",
      "Epoch: 455 Training Loss: 1.1036557 Test Loss: 1.1519912\n",
      "Epoch: 456 Training Loss: 1.1009635 Test Loss: 1.149137\n",
      "Epoch: 457 Training Loss: 1.0982827 Test Loss: 1.1462947\n",
      "Epoch: 458 Training Loss: 1.0956132 Test Loss: 1.1434652\n",
      "Epoch: 459 Training Loss: 1.0929564 Test Loss: 1.1406484\n",
      "Epoch: 460 Training Loss: 1.0903105 Test Loss: 1.1378427\n",
      "Epoch: 461 Training Loss: 1.087677 Test Loss: 1.1350476\n",
      "Epoch: 462 Training Loss: 1.0850539 Test Loss: 1.132264\n",
      "Epoch: 463 Training Loss: 1.0824443 Test Loss: 1.1294934\n",
      "Epoch: 464 Training Loss: 1.0798475 Test Loss: 1.1267346\n",
      "Epoch: 465 Training Loss: 1.0772644 Test Loss: 1.1239898\n",
      "Epoch: 466 Training Loss: 1.0746926 Test Loss: 1.1212573\n",
      "Epoch: 467 Training Loss: 1.0721332 Test Loss: 1.1185392\n",
      "Epoch: 468 Training Loss: 1.069585 Test Loss: 1.1158328\n",
      "Epoch: 469 Training Loss: 1.0670487 Test Loss: 1.113138\n",
      "Epoch: 470 Training Loss: 1.0645239 Test Loss: 1.1104553\n",
      "Epoch: 471 Training Loss: 1.0620112 Test Loss: 1.1077842\n",
      "Epoch: 472 Training Loss: 1.0595102 Test Loss: 1.1051247\n",
      "Epoch: 473 Training Loss: 1.0570209 Test Loss: 1.1024785\n",
      "Epoch: 474 Training Loss: 1.054543 Test Loss: 1.0998454\n",
      "Epoch: 475 Training Loss: 1.0520762 Test Loss: 1.0972248\n",
      "Epoch: 476 Training Loss: 1.0496188 Test Loss: 1.0946136\n",
      "Epoch: 477 Training Loss: 1.0471734 Test Loss: 1.0920142\n",
      "Epoch: 478 Training Loss: 1.044738 Test Loss: 1.089426\n",
      "Epoch: 479 Training Loss: 1.0423146 Test Loss: 1.0868511\n",
      "Epoch: 480 Training Loss: 1.0399034 Test Loss: 1.0842874\n",
      "Epoch: 481 Training Loss: 1.0375031 Test Loss: 1.0817354\n",
      "Epoch: 482 Training Loss: 1.0351127 Test Loss: 1.0791931\n",
      "Epoch: 483 Training Loss: 1.0327334 Test Loss: 1.0766629\n",
      "Epoch: 484 Training Loss: 1.0303651 Test Loss: 1.0741435\n",
      "Epoch: 485 Training Loss: 1.0280046 Test Loss: 1.0716351\n",
      "Epoch: 486 Training Loss: 1.0256535 Test Loss: 1.0691372\n",
      "Epoch: 487 Training Loss: 1.0233124 Test Loss: 1.0666496\n",
      "Epoch: 488 Training Loss: 1.0209814 Test Loss: 1.0641726\n",
      "Epoch: 489 Training Loss: 1.0186616 Test Loss: 1.0617064\n",
      "Epoch: 490 Training Loss: 1.0163507 Test Loss: 1.0592505\n",
      "Epoch: 491 Training Loss: 1.0140498 Test Loss: 1.0568049\n",
      "Epoch: 492 Training Loss: 1.0117588 Test Loss: 1.0543693\n",
      "Epoch: 493 Training Loss: 1.0094789 Test Loss: 1.051945\n",
      "Epoch: 494 Training Loss: 1.0072075 Test Loss: 1.0495296\n",
      "Epoch: 495 Training Loss: 1.0049444 Test Loss: 1.0471238\n",
      "Epoch: 496 Training Loss: 1.0026916 Test Loss: 1.0447286\n",
      "Epoch: 497 Training Loss: 1.0004482 Test Loss: 1.042343\n",
      "Epoch: 498 Training Loss: 0.9982151 Test Loss: 1.0399698\n",
      "Epoch: 499 Training Loss: 0.9959915 Test Loss: 1.0376081\n",
      "Epoch: 500 Training Loss: 0.9937786 Test Loss: 1.0352569\n",
      "Epoch: 501 Training Loss: 0.99157524 Test Loss: 1.0329161\n",
      "Epoch: 502 Training Loss: 0.9893817 Test Loss: 1.0305842\n",
      "Epoch: 503 Training Loss: 0.9871979 Test Loss: 1.028265\n",
      "Epoch: 504 Training Loss: 0.9850238 Test Loss: 1.0259551\n",
      "Epoch: 505 Training Loss: 0.9828584 Test Loss: 1.023654\n",
      "Epoch: 506 Training Loss: 0.9807029 Test Loss: 1.0213633\n",
      "Epoch: 507 Training Loss: 0.9785563 Test Loss: 1.019082\n",
      "Epoch: 508 Training Loss: 0.97641873 Test Loss: 1.0168108\n",
      "Epoch: 509 Training Loss: 0.9742909 Test Loss: 1.01455\n",
      "Epoch: 510 Training Loss: 0.97217226 Test Loss: 1.0122993\n",
      "Epoch: 511 Training Loss: 0.9700634 Test Loss: 1.0100591\n",
      "Epoch: 512 Training Loss: 0.96796346 Test Loss: 1.0078282\n",
      "Epoch: 513 Training Loss: 0.965873 Test Loss: 1.0056074\n",
      "Epoch: 514 Training Loss: 0.9637912 Test Loss: 1.0033953\n",
      "Epoch: 515 Training Loss: 0.96172124 Test Loss: 1.0011944\n",
      "Epoch: 516 Training Loss: 0.9596595 Test Loss: 0.99900246\n",
      "Epoch: 517 Training Loss: 0.95760775 Test Loss: 0.9968197\n",
      "Epoch: 518 Training Loss: 0.9555651 Test Loss: 0.99464536\n",
      "Epoch: 519 Training Loss: 0.9535307 Test Loss: 0.99247986\n",
      "Epoch: 520 Training Loss: 0.95150346 Test Loss: 0.9903223\n"
     ]
    },
    {
     "name": "stdout",
     "output_type": "stream",
     "text": [
      "Epoch: 521 Training Loss: 0.9494847 Test Loss: 0.9881743\n",
      "Epoch: 522 Training Loss: 0.94747436 Test Loss: 0.9860359\n",
      "Epoch: 523 Training Loss: 0.94547445 Test Loss: 0.9839064\n",
      "Epoch: 524 Training Loss: 0.94348305 Test Loss: 0.9817873\n",
      "Epoch: 525 Training Loss: 0.94150126 Test Loss: 0.9796784\n",
      "Epoch: 526 Training Loss: 0.93952805 Test Loss: 0.9775796\n",
      "Epoch: 527 Training Loss: 0.9375637 Test Loss: 0.97549003\n",
      "Epoch: 528 Training Loss: 0.9356079 Test Loss: 0.97341\n",
      "Epoch: 529 Training Loss: 0.9336596 Test Loss: 0.9713386\n",
      "Epoch: 530 Training Loss: 0.9317193 Test Loss: 0.9692758\n",
      "Epoch: 531 Training Loss: 0.92978865 Test Loss: 0.9672217\n",
      "Epoch: 532 Training Loss: 0.9278666 Test Loss: 0.96517664\n",
      "Epoch: 533 Training Loss: 0.92595273 Test Loss: 0.963141\n",
      "Epoch: 534 Training Loss: 0.9240477 Test Loss: 0.96111596\n",
      "Epoch: 535 Training Loss: 0.92215043 Test Loss: 0.95909864\n",
      "Epoch: 536 Training Loss: 0.9202621 Test Loss: 0.95709133\n",
      "Epoch: 537 Training Loss: 0.91838187 Test Loss: 0.95509225\n",
      "Epoch: 538 Training Loss: 0.9165101 Test Loss: 0.9531023\n",
      "Epoch: 539 Training Loss: 0.91464454 Test Loss: 0.95111936\n",
      "Epoch: 540 Training Loss: 0.91278684 Test Loss: 0.9491449\n",
      "Epoch: 541 Training Loss: 0.9109377 Test Loss: 0.9471784\n",
      "Epoch: 542 Training Loss: 0.9090963 Test Loss: 0.9452202\n",
      "Epoch: 543 Training Loss: 0.9072631 Test Loss: 0.94327086\n",
      "Epoch: 544 Training Loss: 0.90543765 Test Loss: 0.9413293\n",
      "Epoch: 545 Training Loss: 0.9036202 Test Loss: 0.93939626\n",
      "Epoch: 546 Training Loss: 0.90181077 Test Loss: 0.93747205\n",
      "Epoch: 547 Training Loss: 0.9000096 Test Loss: 0.93555653\n",
      "Epoch: 548 Training Loss: 0.89821595 Test Loss: 0.9336483\n",
      "Epoch: 549 Training Loss: 0.8964301 Test Loss: 0.9317489\n",
      "Epoch: 550 Training Loss: 0.8946516 Test Loss: 0.9298584\n",
      "Epoch: 551 Training Loss: 0.89288104 Test Loss: 0.92797756\n",
      "Epoch: 552 Training Loss: 0.891118 Test Loss: 0.9261039\n",
      "Epoch: 553 Training Loss: 0.88936216 Test Loss: 0.924238\n",
      "Epoch: 554 Training Loss: 0.88761526 Test Loss: 0.9223808\n",
      "Epoch: 555 Training Loss: 0.8858761 Test Loss: 0.9205316\n",
      "Epoch: 556 Training Loss: 0.8841443 Test Loss: 0.9186903\n",
      "Epoch: 557 Training Loss: 0.8824204 Test Loss: 0.91685706\n",
      "Epoch: 558 Training Loss: 0.88070387 Test Loss: 0.91503197\n",
      "Epoch: 559 Training Loss: 0.87899506 Test Loss: 0.91321504\n",
      "Epoch: 560 Training Loss: 0.87729317 Test Loss: 0.9114057\n",
      "Epoch: 561 Training Loss: 0.8755985 Test Loss: 0.90960354\n",
      "Epoch: 562 Training Loss: 0.8739109 Test Loss: 0.9078109\n",
      "Epoch: 563 Training Loss: 0.87223047 Test Loss: 0.9060267\n",
      "Epoch: 564 Training Loss: 0.8705571 Test Loss: 0.9042495\n",
      "Epoch: 565 Training Loss: 0.86889064 Test Loss: 0.90248024\n",
      "Epoch: 566 Training Loss: 0.86723065 Test Loss: 0.90071833\n",
      "Epoch: 567 Training Loss: 0.86557883 Test Loss: 0.8989644\n",
      "Epoch: 568 Training Loss: 0.8639336 Test Loss: 0.8972174\n",
      "Epoch: 569 Training Loss: 0.8622954 Test Loss: 0.8954774\n",
      "Epoch: 570 Training Loss: 0.8606636 Test Loss: 0.89374495\n",
      "Epoch: 571 Training Loss: 0.85903895 Test Loss: 0.8920197\n",
      "Epoch: 572 Training Loss: 0.8574205 Test Loss: 0.89030147\n",
      "Epoch: 573 Training Loss: 0.8558081 Test Loss: 0.88859063\n",
      "Epoch: 574 Training Loss: 0.85420346 Test Loss: 0.88688546\n",
      "Epoch: 575 Training Loss: 0.85260516 Test Loss: 0.8851876\n",
      "Epoch: 576 Training Loss: 0.85101354 Test Loss: 0.8834974\n",
      "Epoch: 577 Training Loss: 0.8494287 Test Loss: 0.88181514\n",
      "Epoch: 578 Training Loss: 0.847851 Test Loss: 0.8801393\n",
      "Epoch: 579 Training Loss: 0.8462796 Test Loss: 0.8784697\n",
      "Epoch: 580 Training Loss: 0.84471506 Test Loss: 0.876808\n",
      "Epoch: 581 Training Loss: 0.84315664 Test Loss: 0.8751532\n",
      "Epoch: 582 Training Loss: 0.84160584 Test Loss: 0.8735055\n",
      "Epoch: 583 Training Loss: 0.8400626 Test Loss: 0.8718646\n",
      "Epoch: 584 Training Loss: 0.8385261 Test Loss: 0.87023073\n",
      "Epoch: 585 Training Loss: 0.8369955 Test Loss: 0.8686033\n",
      "Epoch: 586 Training Loss: 0.83547205 Test Loss: 0.8669824\n",
      "Epoch: 587 Training Loss: 0.8339546 Test Loss: 0.8653684\n",
      "Epoch: 588 Training Loss: 0.83244365 Test Loss: 0.8637611\n",
      "Epoch: 589 Training Loss: 0.83093834 Test Loss: 0.8621603\n",
      "Epoch: 590 Training Loss: 0.82943994 Test Loss: 0.8605659\n",
      "Epoch: 591 Training Loss: 0.827948 Test Loss: 0.85897887\n",
      "Epoch: 592 Training Loss: 0.8264618 Test Loss: 0.8573981\n",
      "Epoch: 593 Training Loss: 0.82498187 Test Loss: 0.85582554\n",
      "Epoch: 594 Training Loss: 0.8235087 Test Loss: 0.8542593\n",
      "Epoch: 595 Training Loss: 0.82204294 Test Loss: 0.8527002\n",
      "Epoch: 596 Training Loss: 0.8205831 Test Loss: 0.85114795\n",
      "Epoch: 597 Training Loss: 0.81912935 Test Loss: 0.8496017\n",
      "Epoch: 598 Training Loss: 0.8176819 Test Loss: 0.8480623\n",
      "Epoch: 599 Training Loss: 0.8162407 Test Loss: 0.8465288\n",
      "Epoch: 600 Training Loss: 0.8148055 Test Loss: 0.8450022\n",
      "Epoch: 601 Training Loss: 0.8133775 Test Loss: 0.84348303\n",
      "Epoch: 602 Training Loss: 0.8119571 Test Loss: 0.8419716\n",
      "Epoch: 603 Training Loss: 0.81054217 Test Loss: 0.8404656\n",
      "Epoch: 604 Training Loss: 0.80913234 Test Loss: 0.83896595\n",
      "Epoch: 605 Training Loss: 0.80772895 Test Loss: 0.83747375\n",
      "Epoch: 606 Training Loss: 0.80633074 Test Loss: 0.835988\n",
      "Epoch: 607 Training Loss: 0.804939 Test Loss: 0.8345082\n",
      "Epoch: 608 Training Loss: 0.8035532 Test Loss: 0.83303356\n",
      "Epoch: 609 Training Loss: 0.8021735 Test Loss: 0.831566\n",
      "Epoch: 610 Training Loss: 0.8007992 Test Loss: 0.8301041\n",
      "Epoch: 611 Training Loss: 0.7994308 Test Loss: 0.82864857\n",
      "Epoch: 612 Training Loss: 0.7980683 Test Loss: 0.8271995\n",
      "Epoch: 613 Training Loss: 0.79671264 Test Loss: 0.8257573\n",
      "Epoch: 614 Training Loss: 0.7953622 Test Loss: 0.8243219\n",
      "Epoch: 615 Training Loss: 0.794018 Test Loss: 0.82289356\n",
      "Epoch: 616 Training Loss: 0.7926793 Test Loss: 0.8214716\n",
      "Epoch: 617 Training Loss: 0.7913457 Test Loss: 0.8200559\n",
      "Epoch: 618 Training Loss: 0.79001784 Test Loss: 0.8186456\n",
      "Epoch: 619 Training Loss: 0.7886955 Test Loss: 0.8172411\n",
      "Epoch: 620 Training Loss: 0.7873789 Test Loss: 0.81584156\n",
      "Epoch: 621 Training Loss: 0.78606814 Test Loss: 0.81444865\n",
      "Epoch: 622 Training Loss: 0.7847623 Test Loss: 0.8130619\n",
      "Epoch: 623 Training Loss: 0.78346264 Test Loss: 0.81168\n",
      "Epoch: 624 Training Loss: 0.78216946 Test Loss: 0.8103053\n",
      "Epoch: 625 Training Loss: 0.78088135 Test Loss: 0.80893606\n",
      "Epoch: 626 Training Loss: 0.77959853 Test Loss: 0.80757153\n",
      "Epoch: 627 Training Loss: 0.77832115 Test Loss: 0.8062136\n",
      "Epoch: 628 Training Loss: 0.77704936 Test Loss: 0.804861\n",
      "Epoch: 629 Training Loss: 0.7757836 Test Loss: 0.8035152\n",
      "Epoch: 630 Training Loss: 0.77452314 Test Loss: 0.8021742\n",
      "Epoch: 631 Training Loss: 0.7732679 Test Loss: 0.8008392\n",
      "Epoch: 632 Training Loss: 0.77201784 Test Loss: 0.79950964\n",
      "Epoch: 633 Training Loss: 0.77077293 Test Loss: 0.7981853\n",
      "Epoch: 634 Training Loss: 0.76953274 Test Loss: 0.79686564\n",
      "Epoch: 635 Training Loss: 0.76829827 Test Loss: 0.7955511\n",
      "Epoch: 636 Training Loss: 0.767069 Test Loss: 0.79424256\n",
      "Epoch: 637 Training Loss: 0.7658448 Test Loss: 0.79293954\n",
      "Epoch: 638 Training Loss: 0.7646267 Test Loss: 0.79164296\n",
      "Epoch: 639 Training Loss: 0.7634133 Test Loss: 0.790351\n",
      "Epoch: 640 Training Loss: 0.7622049 Test Loss: 0.7890634\n",
      "Epoch: 641 Training Loss: 0.76100147 Test Loss: 0.78778124\n",
      "Epoch: 642 Training Loss: 0.75980365 Test Loss: 0.7865037\n",
      "Epoch: 643 Training Loss: 0.7586109 Test Loss: 0.78523195\n",
      "Epoch: 644 Training Loss: 0.7574226 Test Loss: 0.78396577\n",
      "Epoch: 645 Training Loss: 0.7562403 Test Loss: 0.7827055\n",
      "Epoch: 646 Training Loss: 0.75506324 Test Loss: 0.78145\n",
      "Epoch: 647 Training Loss: 0.7538915 Test Loss: 0.7802002\n",
      "Epoch: 648 Training Loss: 0.7527259 Test Loss: 0.7789552\n",
      "Epoch: 649 Training Loss: 0.75156444 Test Loss: 0.777715\n",
      "Epoch: 650 Training Loss: 0.7504087 Test Loss: 0.7764807\n",
      "Epoch: 651 Training Loss: 0.7492578 Test Loss: 0.77525145\n",
      "Epoch: 652 Training Loss: 0.7481112 Test Loss: 0.7740269\n",
      "Epoch: 653 Training Loss: 0.7469693 Test Loss: 0.7728075\n",
      "Epoch: 654 Training Loss: 0.74583226 Test Loss: 0.7715936\n",
      "Epoch: 655 Training Loss: 0.74469894 Test Loss: 0.770384\n",
      "Epoch: 656 Training Loss: 0.74357164 Test Loss: 0.7691802\n",
      "Epoch: 657 Training Loss: 0.7424483 Test Loss: 0.76798105\n",
      "Epoch: 658 Training Loss: 0.7413298 Test Loss: 0.76678634\n",
      "Epoch: 659 Training Loss: 0.7402161 Test Loss: 0.76559746\n",
      "Epoch: 660 Training Loss: 0.73910695 Test Loss: 0.7644134\n",
      "Epoch: 661 Training Loss: 0.73800194 Test Loss: 0.7632339\n",
      "Epoch: 662 Training Loss: 0.7369012 Test Loss: 0.762059\n",
      "Epoch: 663 Training Loss: 0.7358058 Test Loss: 0.76089007\n",
      "Epoch: 664 Training Loss: 0.73471415 Test Loss: 0.7597256\n",
      "Epoch: 665 Training Loss: 0.7336271 Test Loss: 0.7585661\n",
      "Epoch: 666 Training Loss: 0.73254377 Test Loss: 0.75741154\n",
      "Epoch: 667 Training Loss: 0.7314657 Test Loss: 0.75626165\n",
      "Epoch: 668 Training Loss: 0.73039114 Test Loss: 0.75511724\n",
      "Epoch: 669 Training Loss: 0.7293221 Test Loss: 0.7539777\n",
      "Epoch: 670 Training Loss: 0.72825706 Test Loss: 0.7528424\n",
      "Epoch: 671 Training Loss: 0.72719675 Test Loss: 0.751712\n"
     ]
    },
    {
     "name": "stdout",
     "output_type": "stream",
     "text": [
      "Epoch: 672 Training Loss: 0.7261411 Test Loss: 0.7505869\n",
      "Epoch: 673 Training Loss: 0.72508997 Test Loss: 0.7494663\n",
      "Epoch: 674 Training Loss: 0.7240429 Test Loss: 0.74835074\n",
      "Epoch: 675 Training Loss: 0.72299963 Test Loss: 0.74723923\n",
      "Epoch: 676 Training Loss: 0.72196144 Test Loss: 0.7461332\n",
      "Epoch: 677 Training Loss: 0.720927 Test Loss: 0.74503154\n",
      "Epoch: 678 Training Loss: 0.7198971 Test Loss: 0.74393463\n",
      "Epoch: 679 Training Loss: 0.7188716 Test Loss: 0.7428422\n",
      "Epoch: 680 Training Loss: 0.71784985 Test Loss: 0.7417542\n",
      "Epoch: 681 Training Loss: 0.71683216 Test Loss: 0.74067026\n",
      "Epoch: 682 Training Loss: 0.71581864 Test Loss: 0.7395906\n",
      "Epoch: 683 Training Loss: 0.7148096 Test Loss: 0.7385156\n",
      "Epoch: 684 Training Loss: 0.7138045 Test Loss: 0.73744535\n",
      "Epoch: 685 Training Loss: 0.7128037 Test Loss: 0.73638034\n",
      "Epoch: 686 Training Loss: 0.71180755 Test Loss: 0.7353199\n",
      "Epoch: 687 Training Loss: 0.71081495 Test Loss: 0.7342635\n",
      "Epoch: 688 Training Loss: 0.7098269 Test Loss: 0.7332112\n",
      "Epoch: 689 Training Loss: 0.7088419 Test Loss: 0.73216397\n",
      "Epoch: 690 Training Loss: 0.7078612 Test Loss: 0.73111975\n",
      "Epoch: 691 Training Loss: 0.706885 Test Loss: 0.7300807\n",
      "Epoch: 692 Training Loss: 0.7059128 Test Loss: 0.72904533\n",
      "Epoch: 693 Training Loss: 0.70494473 Test Loss: 0.72801507\n",
      "Epoch: 694 Training Loss: 0.703981 Test Loss: 0.7269894\n",
      "Epoch: 695 Training Loss: 0.703021 Test Loss: 0.7259675\n",
      "Epoch: 696 Training Loss: 0.70206517 Test Loss: 0.72495025\n",
      "Epoch: 697 Training Loss: 0.70111316 Test Loss: 0.7239366\n",
      "Epoch: 698 Training Loss: 0.700165 Test Loss: 0.7229279\n",
      "Epoch: 699 Training Loss: 0.69922155 Test Loss: 0.7219232\n",
      "Epoch: 700 Training Loss: 0.6982817 Test Loss: 0.7209225\n",
      "Epoch: 701 Training Loss: 0.6973463 Test Loss: 0.7199264\n",
      "Epoch: 702 Training Loss: 0.6964145 Test Loss: 0.71893394\n",
      "Epoch: 703 Training Loss: 0.69548666 Test Loss: 0.7179456\n",
      "Epoch: 704 Training Loss: 0.69456255 Test Loss: 0.7169613\n",
      "Epoch: 705 Training Loss: 0.6936421 Test Loss: 0.7159811\n",
      "Epoch: 706 Training Loss: 0.6927257 Test Loss: 0.71500415\n",
      "Epoch: 707 Training Loss: 0.6918131 Test Loss: 0.71403104\n",
      "Epoch: 708 Training Loss: 0.6909041 Test Loss: 0.71306163\n",
      "Epoch: 709 Training Loss: 0.68999916 Test Loss: 0.7120962\n",
      "Epoch: 710 Training Loss: 0.68909776 Test Loss: 0.7111349\n",
      "Epoch: 711 Training Loss: 0.68819994 Test Loss: 0.7101777\n",
      "Epoch: 712 Training Loss: 0.6873061 Test Loss: 0.7092246\n",
      "Epoch: 713 Training Loss: 0.68641555 Test Loss: 0.7082751\n",
      "Epoch: 714 Training Loss: 0.6855289 Test Loss: 0.7073296\n",
      "Epoch: 715 Training Loss: 0.6846465 Test Loss: 0.70638794\n",
      "Epoch: 716 Training Loss: 0.68376833 Test Loss: 0.70545006\n",
      "Epoch: 717 Training Loss: 0.68289274 Test Loss: 0.7045162\n",
      "Epoch: 718 Training Loss: 0.68202233 Test Loss: 0.70358616\n",
      "Epoch: 719 Training Loss: 0.6811559 Test Loss: 0.7026607\n",
      "Epoch: 720 Training Loss: 0.68029284 Test Loss: 0.70173883\n",
      "Epoch: 721 Training Loss: 0.6794334 Test Loss: 0.70082027\n",
      "Epoch: 722 Training Loss: 0.67857796 Test Loss: 0.69990563\n",
      "Epoch: 723 Training Loss: 0.67772645 Test Loss: 0.6989953\n",
      "Epoch: 724 Training Loss: 0.6768781 Test Loss: 0.6980881\n",
      "Epoch: 725 Training Loss: 0.6760333 Test Loss: 0.6971846\n",
      "Epoch: 726 Training Loss: 0.67519146 Test Loss: 0.69628465\n",
      "Epoch: 727 Training Loss: 0.67435384 Test Loss: 0.6953889\n",
      "Epoch: 728 Training Loss: 0.6735189 Test Loss: 0.69449556\n",
      "Epoch: 729 Training Loss: 0.672688 Test Loss: 0.693606\n",
      "Epoch: 730 Training Loss: 0.67186093 Test Loss: 0.69272095\n",
      "Epoch: 731 Training Loss: 0.6710371 Test Loss: 0.6918383\n",
      "Epoch: 732 Training Loss: 0.6702167 Test Loss: 0.69096\n",
      "Epoch: 733 Training Loss: 0.66939956 Test Loss: 0.69008505\n",
      "Epoch: 734 Training Loss: 0.66858584 Test Loss: 0.68921393\n",
      "Epoch: 735 Training Loss: 0.6677752 Test Loss: 0.68834573\n",
      "Epoch: 736 Training Loss: 0.666968 Test Loss: 0.6874814\n",
      "Epoch: 737 Training Loss: 0.66616416 Test Loss: 0.68662\n",
      "Epoch: 738 Training Loss: 0.66536325 Test Loss: 0.68576217\n",
      "Epoch: 739 Training Loss: 0.6645663 Test Loss: 0.68490845\n",
      "Epoch: 740 Training Loss: 0.6637726 Test Loss: 0.6840574\n",
      "Epoch: 741 Training Loss: 0.6629818 Test Loss: 0.68321043\n",
      "Epoch: 742 Training Loss: 0.6621946 Test Loss: 0.68236685\n",
      "Epoch: 743 Training Loss: 0.6614099 Test Loss: 0.68152606\n",
      "Epoch: 744 Training Loss: 0.6606287 Test Loss: 0.68068886\n",
      "Epoch: 745 Training Loss: 0.65985066 Test Loss: 0.679855\n",
      "Epoch: 746 Training Loss: 0.6590757 Test Loss: 0.6790247\n",
      "Epoch: 747 Training Loss: 0.65830445 Test Loss: 0.6781974\n",
      "Epoch: 748 Training Loss: 0.6575365 Test Loss: 0.677374\n",
      "Epoch: 749 Training Loss: 0.6567711 Test Loss: 0.6765537\n",
      "Epoch: 750 Training Loss: 0.6560089 Test Loss: 0.6757366\n",
      "Epoch: 751 Training Loss: 0.6552499 Test Loss: 0.6749233\n",
      "Epoch: 752 Training Loss: 0.6544941 Test Loss: 0.67411274\n",
      "Epoch: 753 Training Loss: 0.6537416 Test Loss: 0.6733057\n",
      "Epoch: 754 Training Loss: 0.65299225 Test Loss: 0.6725016\n",
      "Epoch: 755 Training Loss: 0.652246 Test Loss: 0.6717011\n",
      "Epoch: 756 Training Loss: 0.6515028 Test Loss: 0.67090356\n",
      "Epoch: 757 Training Loss: 0.65076303 Test Loss: 0.67010987\n",
      "Epoch: 758 Training Loss: 0.6500258 Test Loss: 0.66931987\n",
      "Epoch: 759 Training Loss: 0.6492913 Test Loss: 0.6685337\n",
      "Epoch: 760 Training Loss: 0.64855975 Test Loss: 0.6677502\n",
      "Epoch: 761 Training Loss: 0.6478309 Test Loss: 0.6669701\n",
      "Epoch: 762 Training Loss: 0.6471052 Test Loss: 0.6661942\n",
      "Epoch: 763 Training Loss: 0.6463829 Test Loss: 0.66542095\n",
      "Epoch: 764 Training Loss: 0.6456627 Test Loss: 0.66465104\n",
      "Epoch: 765 Training Loss: 0.64494616 Test Loss: 0.66388375\n",
      "Epoch: 766 Training Loss: 0.6442325 Test Loss: 0.6631204\n",
      "Epoch: 767 Training Loss: 0.6435215 Test Loss: 0.6623594\n",
      "Epoch: 768 Training Loss: 0.6428135 Test Loss: 0.66160184\n",
      "Epoch: 769 Training Loss: 0.6421084 Test Loss: 0.6608473\n",
      "Epoch: 770 Training Loss: 0.6414058 Test Loss: 0.66009617\n",
      "Epoch: 771 Training Loss: 0.64070606 Test Loss: 0.6593479\n",
      "Epoch: 772 Training Loss: 0.64000964 Test Loss: 0.6586023\n",
      "Epoch: 773 Training Loss: 0.6393159 Test Loss: 0.65785944\n",
      "Epoch: 774 Training Loss: 0.6386246 Test Loss: 0.65711933\n",
      "Epoch: 775 Training Loss: 0.63793683 Test Loss: 0.6563827\n",
      "Epoch: 776 Training Loss: 0.6372513 Test Loss: 0.6556483\n",
      "Epoch: 777 Training Loss: 0.63656896 Test Loss: 0.6549173\n",
      "Epoch: 778 Training Loss: 0.63588923 Test Loss: 0.6541889\n",
      "Epoch: 779 Training Loss: 0.63521177 Test Loss: 0.6534637\n",
      "Epoch: 780 Training Loss: 0.63453746 Test Loss: 0.6527406\n",
      "Epoch: 781 Training Loss: 0.6338656 Test Loss: 0.652021\n",
      "Epoch: 782 Training Loss: 0.6331968 Test Loss: 0.651304\n",
      "Epoch: 783 Training Loss: 0.6325304 Test Loss: 0.6505907\n",
      "Epoch: 784 Training Loss: 0.6318672 Test Loss: 0.6498798\n",
      "Epoch: 785 Training Loss: 0.6312069 Test Loss: 0.6491732\n",
      "Epoch: 786 Training Loss: 0.63054895 Test Loss: 0.64846873\n",
      "Epoch: 787 Training Loss: 0.6298936 Test Loss: 0.64776695\n",
      "Epoch: 788 Training Loss: 0.629241 Test Loss: 0.64706796\n",
      "Epoch: 789 Training Loss: 0.628591 Test Loss: 0.6463721\n",
      "Epoch: 790 Training Loss: 0.62794346 Test Loss: 0.64567894\n",
      "Epoch: 791 Training Loss: 0.6272991 Test Loss: 0.64498866\n",
      "Epoch: 792 Training Loss: 0.6266566 Test Loss: 0.6443005\n",
      "Epoch: 793 Training Loss: 0.626017 Test Loss: 0.6436156\n",
      "Epoch: 794 Training Loss: 0.6253796 Test Loss: 0.64293337\n",
      "Epoch: 795 Training Loss: 0.62474513 Test Loss: 0.6422537\n",
      "Epoch: 796 Training Loss: 0.6241129 Test Loss: 0.6415771\n",
      "Epoch: 797 Training Loss: 0.6234834 Test Loss: 0.6409033\n",
      "Epoch: 798 Training Loss: 0.62285596 Test Loss: 0.6402323\n",
      "Epoch: 799 Training Loss: 0.6222317 Test Loss: 0.6395648\n",
      "Epoch: 800 Training Loss: 0.6216102 Test Loss: 0.6389002\n",
      "Epoch: 801 Training Loss: 0.620991 Test Loss: 0.6382383\n",
      "Epoch: 802 Training Loss: 0.62037426 Test Loss: 0.6375786\n",
      "Epoch: 803 Training Loss: 0.61975956 Test Loss: 0.63692164\n",
      "Epoch: 804 Training Loss: 0.61914814 Test Loss: 0.6362676\n",
      "Epoch: 805 Training Loss: 0.61853886 Test Loss: 0.63561624\n",
      "Epoch: 806 Training Loss: 0.6179323 Test Loss: 0.63496697\n",
      "Epoch: 807 Training Loss: 0.617328 Test Loss: 0.63432103\n",
      "Epoch: 808 Training Loss: 0.6167261 Test Loss: 0.63367724\n",
      "Epoch: 809 Training Loss: 0.61612654 Test Loss: 0.6330364\n",
      "Epoch: 810 Training Loss: 0.6155299 Test Loss: 0.6323983\n",
      "Epoch: 811 Training Loss: 0.6149349 Test Loss: 0.63176215\n",
      "Epoch: 812 Training Loss: 0.6143423 Test Loss: 0.6311288\n",
      "Epoch: 813 Training Loss: 0.6137523 Test Loss: 0.63049793\n",
      "Epoch: 814 Training Loss: 0.6131642 Test Loss: 0.6298695\n",
      "Epoch: 815 Training Loss: 0.61257887 Test Loss: 0.629243\n",
      "Epoch: 816 Training Loss: 0.61199576 Test Loss: 0.6286193\n",
      "Epoch: 817 Training Loss: 0.61141527 Test Loss: 0.62799746\n",
      "Epoch: 818 Training Loss: 0.6108374 Test Loss: 0.62737817\n",
      "Epoch: 819 Training Loss: 0.6102621 Test Loss: 0.62676173\n",
      "Epoch: 820 Training Loss: 0.60968924 Test Loss: 0.6261478\n",
      "Epoch: 821 Training Loss: 0.6091189 Test Loss: 0.6255366\n",
      "Epoch: 822 Training Loss: 0.6085506 Test Loss: 0.62492734\n",
      "Epoch: 823 Training Loss: 0.6079848 Test Loss: 0.6243207\n",
      "Epoch: 824 Training Loss: 0.60742044 Test Loss: 0.62371576\n",
      "Epoch: 825 Training Loss: 0.6068584 Test Loss: 0.62311375\n",
      "Epoch: 826 Training Loss: 0.6062987 Test Loss: 0.6225139\n",
      "Epoch: 827 Training Loss: 0.6057417 Test Loss: 0.6219162\n",
      "Epoch: 828 Training Loss: 0.6051871 Test Loss: 0.6213213\n",
      "Epoch: 829 Training Loss: 0.6046349 Test Loss: 0.6207286\n",
      "Epoch: 830 Training Loss: 0.6040846 Test Loss: 0.6201384\n",
      "Epoch: 831 Training Loss: 0.60353684 Test Loss: 0.6195503\n",
      "Epoch: 832 Training Loss: 0.6029913 Test Loss: 0.6189646\n",
      "Epoch: 833 Training Loss: 0.60244775 Test Loss: 0.6183813\n",
      "Epoch: 834 Training Loss: 0.6019064 Test Loss: 0.61780006\n",
      "Epoch: 835 Training Loss: 0.601367 Test Loss: 0.6172213\n",
      "Epoch: 836 Training Loss: 0.60083 Test Loss: 0.6166448\n",
      "Epoch: 837 Training Loss: 0.60029554 Test Loss: 0.61607045\n"
     ]
    },
    {
     "name": "stdout",
     "output_type": "stream",
     "text": [
      "Epoch: 838 Training Loss: 0.59976286 Test Loss: 0.6154983\n",
      "Epoch: 839 Training Loss: 0.5992327 Test Loss: 0.6149281\n",
      "Epoch: 840 Training Loss: 0.598704 Test Loss: 0.61436\n",
      "Epoch: 841 Training Loss: 0.5981781 Test Loss: 0.61379445\n",
      "Epoch: 842 Training Loss: 0.59765404 Test Loss: 0.6132312\n",
      "Epoch: 843 Training Loss: 0.5971323 Test Loss: 0.6126701\n",
      "Epoch: 844 Training Loss: 0.5966127 Test Loss: 0.6121112\n",
      "Epoch: 845 Training Loss: 0.59609485 Test Loss: 0.6115544\n",
      "Epoch: 846 Training Loss: 0.5955792 Test Loss: 0.61099976\n",
      "Epoch: 847 Training Loss: 0.5950659 Test Loss: 0.61044747\n",
      "Epoch: 848 Training Loss: 0.59455454 Test Loss: 0.6098972\n",
      "Epoch: 849 Training Loss: 0.5940451 Test Loss: 0.60934895\n",
      "Epoch: 850 Training Loss: 0.59353757 Test Loss: 0.608803\n",
      "Epoch: 851 Training Loss: 0.593032 Test Loss: 0.6082589\n",
      "Epoch: 852 Training Loss: 0.5925284 Test Loss: 0.6077173\n",
      "Epoch: 853 Training Loss: 0.5920268 Test Loss: 0.60717726\n",
      "Epoch: 854 Training Loss: 0.5915271 Test Loss: 0.60663974\n",
      "Epoch: 855 Training Loss: 0.5910295 Test Loss: 0.606104\n",
      "Epoch: 856 Training Loss: 0.59053403 Test Loss: 0.60557044\n",
      "Epoch: 857 Training Loss: 0.5900405 Test Loss: 0.60503936\n",
      "Epoch: 858 Training Loss: 0.58954865 Test Loss: 0.60451025\n",
      "Epoch: 859 Training Loss: 0.5890588 Test Loss: 0.60398316\n",
      "Epoch: 860 Training Loss: 0.588571 Test Loss: 0.60345846\n",
      "Epoch: 861 Training Loss: 0.58808494 Test Loss: 0.602936\n",
      "Epoch: 862 Training Loss: 0.58760107 Test Loss: 0.6024157\n",
      "Epoch: 863 Training Loss: 0.5871195 Test Loss: 0.60189736\n",
      "Epoch: 864 Training Loss: 0.5866394 Test Loss: 0.60138094\n",
      "Epoch: 865 Training Loss: 0.586161 Test Loss: 0.6008664\n",
      "Epoch: 866 Training Loss: 0.5856852 Test Loss: 0.600354\n",
      "Epoch: 867 Training Loss: 0.5852113 Test Loss: 0.5998442\n",
      "Epoch: 868 Training Loss: 0.5847389 Test Loss: 0.5993357\n",
      "Epoch: 869 Training Loss: 0.5842692 Test Loss: 0.5988301\n",
      "Epoch: 870 Training Loss: 0.58380115 Test Loss: 0.5983261\n",
      "Epoch: 871 Training Loss: 0.583335 Test Loss: 0.5978241\n",
      "Epoch: 872 Training Loss: 0.5828706 Test Loss: 0.5973241\n",
      "Epoch: 873 Training Loss: 0.58240825 Test Loss: 0.59682596\n",
      "Epoch: 874 Training Loss: 0.5819476 Test Loss: 0.59632945\n",
      "Epoch: 875 Training Loss: 0.58148956 Test Loss: 0.59583557\n",
      "Epoch: 876 Training Loss: 0.58103293 Test Loss: 0.5953434\n",
      "Epoch: 877 Training Loss: 0.5805785 Test Loss: 0.5948533\n",
      "Epoch: 878 Training Loss: 0.58012587 Test Loss: 0.5943651\n",
      "Epoch: 879 Training Loss: 0.5796751 Test Loss: 0.5938784\n",
      "Epoch: 880 Training Loss: 0.5792255 Test Loss: 0.59339404\n",
      "Epoch: 881 Training Loss: 0.57877827 Test Loss: 0.59291124\n",
      "Epoch: 882 Training Loss: 0.5783327 Test Loss: 0.59243065\n",
      "Epoch: 883 Training Loss: 0.5778889 Test Loss: 0.5919517\n",
      "Epoch: 884 Training Loss: 0.5774469 Test Loss: 0.5914747\n",
      "Epoch: 885 Training Loss: 0.5770065 Test Loss: 0.59099936\n",
      "Epoch: 886 Training Loss: 0.576568 Test Loss: 0.590526\n",
      "Epoch: 887 Training Loss: 0.57613105 Test Loss: 0.59005386\n",
      "Epoch: 888 Training Loss: 0.57569593 Test Loss: 0.5895845\n",
      "Epoch: 889 Training Loss: 0.5752622 Test Loss: 0.58911633\n",
      "Epoch: 890 Training Loss: 0.5748304 Test Loss: 0.5886499\n",
      "Epoch: 891 Training Loss: 0.5743999 Test Loss: 0.58818513\n",
      "Epoch: 892 Training Loss: 0.57397103 Test Loss: 0.5877223\n",
      "Epoch: 893 Training Loss: 0.5735441 Test Loss: 0.5872609\n",
      "Epoch: 894 Training Loss: 0.5731183 Test Loss: 0.58680177\n",
      "Epoch: 895 Training Loss: 0.5726948 Test Loss: 0.586344\n",
      "Epoch: 896 Training Loss: 0.5722729 Test Loss: 0.5858882\n",
      "Epoch: 897 Training Loss: 0.57185227 Test Loss: 0.5854338\n",
      "Epoch: 898 Training Loss: 0.5714334 Test Loss: 0.5849812\n",
      "Epoch: 899 Training Loss: 0.5710164 Test Loss: 0.5845304\n",
      "Epoch: 900 Training Loss: 0.57060045 Test Loss: 0.58408105\n",
      "Epoch: 901 Training Loss: 0.57018596 Test Loss: 0.5836334\n",
      "Epoch: 902 Training Loss: 0.56977344 Test Loss: 0.5831873\n",
      "Epoch: 903 Training Loss: 0.5693627 Test Loss: 0.5827432\n",
      "Epoch: 904 Training Loss: 0.56895363 Test Loss: 0.5823015\n",
      "Epoch: 905 Training Loss: 0.568546 Test Loss: 0.5818611\n",
      "Epoch: 906 Training Loss: 0.5681401 Test Loss: 0.58142275\n",
      "Epoch: 907 Training Loss: 0.5677361 Test Loss: 0.58098584\n",
      "Epoch: 908 Training Loss: 0.5673329 Test Loss: 0.58055025\n",
      "Epoch: 909 Training Loss: 0.56693166 Test Loss: 0.5801169\n",
      "Epoch: 910 Training Loss: 0.5665319 Test Loss: 0.57968473\n",
      "Epoch: 911 Training Loss: 0.56613386 Test Loss: 0.579255\n",
      "Epoch: 912 Training Loss: 0.5657372 Test Loss: 0.57882655\n",
      "Epoch: 913 Training Loss: 0.56534237 Test Loss: 0.5784\n",
      "Epoch: 914 Training Loss: 0.5649485 Test Loss: 0.57797486\n",
      "Epoch: 915 Training Loss: 0.56455636 Test Loss: 0.5775513\n",
      "Epoch: 916 Training Loss: 0.564166 Test Loss: 0.57712966\n",
      "Epoch: 917 Training Loss: 0.56377685 Test Loss: 0.576709\n",
      "Epoch: 918 Training Loss: 0.5633894 Test Loss: 0.57629025\n",
      "Epoch: 919 Training Loss: 0.56300306 Test Loss: 0.5758727\n",
      "Epoch: 920 Training Loss: 0.5626184 Test Loss: 0.57545716\n",
      "Epoch: 921 Training Loss: 0.5622352 Test Loss: 0.5750428\n",
      "Epoch: 922 Training Loss: 0.56185365 Test Loss: 0.57463044\n",
      "Epoch: 923 Training Loss: 0.5614733 Test Loss: 0.574219\n",
      "Epoch: 924 Training Loss: 0.5610947 Test Loss: 0.5738094\n",
      "Epoch: 925 Training Loss: 0.5607173 Test Loss: 0.5734013\n",
      "Epoch: 926 Training Loss: 0.5603417 Test Loss: 0.57299453\n",
      "Epoch: 927 Training Loss: 0.5599672 Test Loss: 0.5725894\n",
      "Epoch: 928 Training Loss: 0.55959433 Test Loss: 0.5721856\n",
      "Epoch: 929 Training Loss: 0.559223 Test Loss: 0.57178366\n",
      "Epoch: 930 Training Loss: 0.5588527 Test Loss: 0.5713828\n",
      "Epoch: 931 Training Loss: 0.55848414 Test Loss: 0.5709839\n",
      "Epoch: 932 Training Loss: 0.5581168 Test Loss: 0.5705863\n",
      "Epoch: 933 Training Loss: 0.5577504 Test Loss: 0.57018983\n",
      "Epoch: 934 Training Loss: 0.55738574 Test Loss: 0.5697951\n",
      "Epoch: 935 Training Loss: 0.55702245 Test Loss: 0.5694018\n",
      "Epoch: 936 Training Loss: 0.5566604 Test Loss: 0.56901\n",
      "Epoch: 937 Training Loss: 0.5563003 Test Loss: 0.5686196\n",
      "Epoch: 938 Training Loss: 0.55594176 Test Loss: 0.568231\n",
      "Epoch: 939 Training Loss: 0.55558443 Test Loss: 0.56784403\n",
      "Epoch: 940 Training Loss: 0.55522865 Test Loss: 0.5674583\n",
      "Epoch: 941 Training Loss: 0.5548743 Test Loss: 0.5670739\n",
      "Epoch: 942 Training Loss: 0.55452126 Test Loss: 0.5666913\n",
      "Epoch: 943 Training Loss: 0.5541694 Test Loss: 0.5663101\n",
      "Epoch: 944 Training Loss: 0.5538188 Test Loss: 0.56593007\n",
      "Epoch: 945 Training Loss: 0.55346936 Test Loss: 0.5655516\n",
      "Epoch: 946 Training Loss: 0.5531216 Test Loss: 0.56517464\n",
      "Epoch: 947 Training Loss: 0.5527754 Test Loss: 0.5647993\n",
      "Epoch: 948 Training Loss: 0.5524303 Test Loss: 0.5644255\n",
      "Epoch: 949 Training Loss: 0.5520867 Test Loss: 0.5640527\n",
      "Epoch: 950 Training Loss: 0.55174464 Test Loss: 0.56368166\n",
      "Epoch: 951 Training Loss: 0.55140364 Test Loss: 0.56331176\n",
      "Epoch: 952 Training Loss: 0.5510644 Test Loss: 0.562944\n",
      "Epoch: 953 Training Loss: 0.5507267 Test Loss: 0.5625773\n",
      "Epoch: 954 Training Loss: 0.5503899 Test Loss: 0.5622118\n",
      "Epoch: 955 Training Loss: 0.55005485 Test Loss: 0.56184787\n",
      "Epoch: 956 Training Loss: 0.54972047 Test Loss: 0.5614854\n",
      "Epoch: 957 Training Loss: 0.5493874 Test Loss: 0.5611239\n",
      "Epoch: 958 Training Loss: 0.5490556 Test Loss: 0.5607639\n",
      "Epoch: 959 Training Loss: 0.5487249 Test Loss: 0.560405\n",
      "Epoch: 960 Training Loss: 0.54839575 Test Loss: 0.5600476\n",
      "Epoch: 961 Training Loss: 0.5480679 Test Loss: 0.5596919\n",
      "Epoch: 962 Training Loss: 0.54774123 Test Loss: 0.55933744\n",
      "Epoch: 963 Training Loss: 0.54741555 Test Loss: 0.55898386\n",
      "Epoch: 964 Training Loss: 0.5470913 Test Loss: 0.5586319\n",
      "Epoch: 965 Training Loss: 0.5467683 Test Loss: 0.5582815\n",
      "Epoch: 966 Training Loss: 0.5464468 Test Loss: 0.55793226\n",
      "Epoch: 967 Training Loss: 0.54612654 Test Loss: 0.55758446\n",
      "Epoch: 968 Training Loss: 0.5458072 Test Loss: 0.5572376\n",
      "Epoch: 969 Training Loss: 0.5454895 Test Loss: 0.5568926\n",
      "Epoch: 970 Training Loss: 0.54517263 Test Loss: 0.5565487\n",
      "Epoch: 971 Training Loss: 0.54485744 Test Loss: 0.5562064\n",
      "Epoch: 972 Training Loss: 0.54454297 Test Loss: 0.555865\n",
      "Epoch: 973 Training Loss: 0.5442301 Test Loss: 0.5555244\n",
      "Epoch: 974 Training Loss: 0.5439181 Test Loss: 0.55518556\n",
      "Epoch: 975 Training Loss: 0.5436075 Test Loss: 0.5548478\n",
      "Epoch: 976 Training Loss: 0.5432982 Test Loss: 0.5545113\n",
      "Epoch: 977 Training Loss: 0.5429899 Test Loss: 0.5541762\n",
      "Epoch: 978 Training Loss: 0.54268324 Test Loss: 0.5538423\n",
      "Epoch: 979 Training Loss: 0.5423776 Test Loss: 0.5535095\n",
      "Epoch: 980 Training Loss: 0.5420728 Test Loss: 0.55317783\n",
      "Epoch: 981 Training Loss: 0.5417695 Test Loss: 0.5528474\n",
      "Epoch: 982 Training Loss: 0.54146713 Test Loss: 0.55251837\n",
      "Epoch: 983 Training Loss: 0.5411662 Test Loss: 0.5521907\n",
      "Epoch: 984 Training Loss: 0.54086655 Test Loss: 0.55186474\n",
      "Epoch: 985 Training Loss: 0.5405681 Test Loss: 0.55153966\n",
      "Epoch: 986 Training Loss: 0.5402706 Test Loss: 0.55121595\n",
      "Epoch: 987 Training Loss: 0.5399745 Test Loss: 0.5508935\n",
      "Epoch: 988 Training Loss: 0.5396797 Test Loss: 0.55057234\n",
      "Epoch: 989 Training Loss: 0.5393861 Test Loss: 0.55025244\n",
      "Epoch: 990 Training Loss: 0.5390934 Test Loss: 0.54993325\n",
      "Epoch: 991 Training Loss: 0.53880197 Test Loss: 0.5496158\n",
      "Epoch: 992 Training Loss: 0.53851134 Test Loss: 0.5492992\n",
      "Epoch: 993 Training Loss: 0.5382221 Test Loss: 0.5489837\n",
      "Epoch: 994 Training Loss: 0.5379336 Test Loss: 0.54866946\n",
      "Epoch: 995 Training Loss: 0.5376465 Test Loss: 0.54835624\n",
      "Epoch: 996 Training Loss: 0.53736013 Test Loss: 0.5480441\n",
      "Epoch: 997 Training Loss: 0.5370749 Test Loss: 0.5477332\n",
      "Epoch: 998 Training Loss: 0.5367911 Test Loss: 0.5474238\n",
      "Epoch: 999 Training Loss: 0.5365082 Test Loss: 0.54711545\n",
      "Epoch: 1000 Training Loss: 0.5362263 Test Loss: 0.54680824\n",
      "Epoch: 1001 Training Loss: 0.5359458 Test Loss: 0.5465027\n"
     ]
    },
    {
     "name": "stdout",
     "output_type": "stream",
     "text": [
      "Epoch: 1002 Training Loss: 0.5356661 Test Loss: 0.5461978\n",
      "Epoch: 1003 Training Loss: 0.53538764 Test Loss: 0.5458937\n",
      "Epoch: 1004 Training Loss: 0.53511006 Test Loss: 0.5455912\n",
      "Epoch: 1005 Training Loss: 0.5348336 Test Loss: 0.5452896\n",
      "Epoch: 1006 Training Loss: 0.53455824 Test Loss: 0.544989\n",
      "Epoch: 1007 Training Loss: 0.5342838 Test Loss: 0.5446894\n",
      "Epoch: 1008 Training Loss: 0.53401047 Test Loss: 0.544391\n",
      "Epoch: 1009 Training Loss: 0.5337384 Test Loss: 0.5440937\n",
      "Epoch: 1010 Training Loss: 0.53346694 Test Loss: 0.5437974\n",
      "Epoch: 1011 Training Loss: 0.5331972 Test Loss: 0.5435027\n",
      "Epoch: 1012 Training Loss: 0.5329283 Test Loss: 0.5432086\n",
      "Epoch: 1013 Training Loss: 0.53266025 Test Loss: 0.54291594\n",
      "Epoch: 1014 Training Loss: 0.5323928 Test Loss: 0.542624\n",
      "Epoch: 1015 Training Loss: 0.5321269 Test Loss: 0.54233336\n",
      "Epoch: 1016 Training Loss: 0.5318615 Test Loss: 0.54204404\n",
      "Epoch: 1017 Training Loss: 0.5315975 Test Loss: 0.54175574\n",
      "Epoch: 1018 Training Loss: 0.53133434 Test Loss: 0.5414684\n",
      "Epoch: 1019 Training Loss: 0.53107226 Test Loss: 0.54118216\n",
      "Epoch: 1020 Training Loss: 0.5308109 Test Loss: 0.5408971\n",
      "Epoch: 1021 Training Loss: 0.53055084 Test Loss: 0.5406131\n",
      "Epoch: 1022 Training Loss: 0.5302917 Test Loss: 0.5403299\n",
      "Epoch: 1023 Training Loss: 0.53003347 Test Loss: 0.5400478\n",
      "Epoch: 1024 Training Loss: 0.5297764 Test Loss: 0.53976697\n",
      "Epoch: 1025 Training Loss: 0.5295202 Test Loss: 0.53948706\n",
      "Epoch: 1026 Training Loss: 0.529265 Test Loss: 0.5392082\n",
      "Epoch: 1027 Training Loss: 0.5290109 Test Loss: 0.53893024\n",
      "Epoch: 1028 Training Loss: 0.52875763 Test Loss: 0.5386533\n",
      "Epoch: 1029 Training Loss: 0.52850527 Test Loss: 0.5383777\n",
      "Epoch: 1030 Training Loss: 0.5282539 Test Loss: 0.53810275\n",
      "Epoch: 1031 Training Loss: 0.5280036 Test Loss: 0.53782886\n",
      "Epoch: 1032 Training Loss: 0.5277539 Test Loss: 0.53755575\n",
      "Epoch: 1033 Training Loss: 0.527505 Test Loss: 0.5372837\n",
      "Epoch: 1034 Training Loss: 0.52725744 Test Loss: 0.5370126\n",
      "Epoch: 1035 Training Loss: 0.52701086 Test Loss: 0.53674245\n",
      "Epoch: 1036 Training Loss: 0.52676535 Test Loss: 0.53647375\n",
      "Epoch: 1037 Training Loss: 0.5265207 Test Loss: 0.5362058\n",
      "Epoch: 1038 Training Loss: 0.5262768 Test Loss: 0.53593874\n",
      "Epoch: 1039 Training Loss: 0.52603394 Test Loss: 0.5356728\n",
      "Epoch: 1040 Training Loss: 0.5257921 Test Loss: 0.53540784\n",
      "Epoch: 1041 Training Loss: 0.52555126 Test Loss: 0.5351439\n",
      "Epoch: 1042 Training Loss: 0.52531105 Test Loss: 0.53488064\n",
      "Epoch: 1043 Training Loss: 0.52507204 Test Loss: 0.5346185\n",
      "Epoch: 1044 Training Loss: 0.52483374 Test Loss: 0.5343573\n",
      "Epoch: 1045 Training Loss: 0.52459633 Test Loss: 0.5340971\n",
      "Epoch: 1046 Training Loss: 0.52436006 Test Loss: 0.5338379\n",
      "Epoch: 1047 Training Loss: 0.5241245 Test Loss: 0.53357947\n",
      "Epoch: 1048 Training Loss: 0.52388996 Test Loss: 0.533322\n",
      "Epoch: 1049 Training Loss: 0.5236565 Test Loss: 0.53306586\n",
      "Epoch: 1050 Training Loss: 0.52342373 Test Loss: 0.53281015\n",
      "Epoch: 1051 Training Loss: 0.5231918 Test Loss: 0.53255564\n",
      "Epoch: 1052 Training Loss: 0.52296096 Test Loss: 0.5323019\n",
      "Epoch: 1053 Training Loss: 0.52273107 Test Loss: 0.5320493\n",
      "Epoch: 1054 Training Loss: 0.5225023 Test Loss: 0.5317978\n",
      "Epoch: 1055 Training Loss: 0.5222743 Test Loss: 0.5315475\n",
      "Epoch: 1056 Training Loss: 0.5220471 Test Loss: 0.53129745\n",
      "Epoch: 1057 Training Loss: 0.52182055 Test Loss: 0.5310485\n",
      "Epoch: 1058 Training Loss: 0.52159494 Test Loss: 0.5308004\n",
      "Epoch: 1059 Training Loss: 0.5213701 Test Loss: 0.5305532\n",
      "Epoch: 1060 Training Loss: 0.5211461 Test Loss: 0.5303069\n",
      "Epoch: 1061 Training Loss: 0.5209231 Test Loss: 0.53006124\n",
      "Epoch: 1062 Training Loss: 0.5207006 Test Loss: 0.5298167\n",
      "Epoch: 1063 Training Loss: 0.520479 Test Loss: 0.5295731\n",
      "Epoch: 1064 Training Loss: 0.5202579 Test Loss: 0.52932996\n",
      "Epoch: 1065 Training Loss: 0.52003807 Test Loss: 0.52908784\n",
      "Epoch: 1066 Training Loss: 0.51981896 Test Loss: 0.5288468\n",
      "Epoch: 1067 Training Loss: 0.5196004 Test Loss: 0.5286063\n",
      "Epoch: 1068 Training Loss: 0.5193828 Test Loss: 0.52836674\n",
      "Epoch: 1069 Training Loss: 0.51916564 Test Loss: 0.528128\n",
      "Epoch: 1070 Training Loss: 0.51894957 Test Loss: 0.52789015\n",
      "Epoch: 1071 Training Loss: 0.51873416 Test Loss: 0.5276532\n",
      "Epoch: 1072 Training Loss: 0.5185195 Test Loss: 0.5274169\n",
      "Epoch: 1073 Training Loss: 0.5183059 Test Loss: 0.52718157\n",
      "Epoch: 1074 Training Loss: 0.5180929 Test Loss: 0.52694696\n",
      "Epoch: 1075 Training Loss: 0.5178805 Test Loss: 0.52671325\n",
      "Epoch: 1076 Training Loss: 0.5176691 Test Loss: 0.5264802\n",
      "Epoch: 1077 Training Loss: 0.51745844 Test Loss: 0.52624816\n",
      "Epoch: 1078 Training Loss: 0.5172484 Test Loss: 0.52601695\n",
      "Epoch: 1079 Training Loss: 0.5170392 Test Loss: 0.5257865\n",
      "Epoch: 1080 Training Loss: 0.51683056 Test Loss: 0.52555686\n",
      "Epoch: 1081 Training Loss: 0.5166229 Test Loss: 0.52532774\n",
      "Epoch: 1082 Training Loss: 0.5164158 Test Loss: 0.5250995\n",
      "Epoch: 1083 Training Loss: 0.5162092 Test Loss: 0.5248724\n",
      "Epoch: 1084 Training Loss: 0.51600343 Test Loss: 0.52464545\n",
      "Epoch: 1085 Training Loss: 0.51579845 Test Loss: 0.5244198\n",
      "Epoch: 1086 Training Loss: 0.5155941 Test Loss: 0.52419466\n",
      "Epoch: 1087 Training Loss: 0.5153905 Test Loss: 0.52396995\n",
      "Epoch: 1088 Training Loss: 0.51518756 Test Loss: 0.5237469\n",
      "Epoch: 1089 Training Loss: 0.51498526 Test Loss: 0.5235237\n",
      "Epoch: 1090 Training Loss: 0.51478386 Test Loss: 0.5233017\n",
      "Epoch: 1091 Training Loss: 0.5145831 Test Loss: 0.5230802\n",
      "Epoch: 1092 Training Loss: 0.51438284 Test Loss: 0.52285963\n",
      "Epoch: 1093 Training Loss: 0.51418316 Test Loss: 0.52263975\n",
      "Epoch: 1094 Training Loss: 0.5139844 Test Loss: 0.5224206\n",
      "Epoch: 1095 Training Loss: 0.51378626 Test Loss: 0.52220184\n",
      "Epoch: 1096 Training Loss: 0.5135888 Test Loss: 0.52198434\n",
      "Epoch: 1097 Training Loss: 0.513392 Test Loss: 0.52176744\n",
      "Epoch: 1098 Training Loss: 0.51319563 Test Loss: 0.5215511\n",
      "Epoch: 1099 Training Loss: 0.5130002 Test Loss: 0.52133554\n",
      "Epoch: 1100 Training Loss: 0.5128052 Test Loss: 0.52112067\n",
      "Epoch: 1101 Training Loss: 0.5126109 Test Loss: 0.52090657\n",
      "Epoch: 1102 Training Loss: 0.51241744 Test Loss: 0.5206932\n",
      "Epoch: 1103 Training Loss: 0.5122246 Test Loss: 0.52048063\n",
      "Epoch: 1104 Training Loss: 0.5120321 Test Loss: 0.52026916\n",
      "Epoch: 1105 Training Loss: 0.51184076 Test Loss: 0.52005833\n",
      "Epoch: 1106 Training Loss: 0.5116498 Test Loss: 0.5198484\n",
      "Epoch: 1107 Training Loss: 0.51145965 Test Loss: 0.5196388\n",
      "Epoch: 1108 Training Loss: 0.51127017 Test Loss: 0.51943004\n",
      "Epoch: 1109 Training Loss: 0.51108116 Test Loss: 0.5192218\n",
      "Epoch: 1110 Training Loss: 0.5108929 Test Loss: 0.5190146\n",
      "Epoch: 1111 Training Loss: 0.51070535 Test Loss: 0.5188082\n",
      "Epoch: 1112 Training Loss: 0.51051843 Test Loss: 0.51860213\n",
      "Epoch: 1113 Training Loss: 0.5103321 Test Loss: 0.518397\n",
      "Epoch: 1114 Training Loss: 0.5101463 Test Loss: 0.5181925\n",
      "Epoch: 1115 Training Loss: 0.5099613 Test Loss: 0.51798874\n",
      "Epoch: 1116 Training Loss: 0.50977683 Test Loss: 0.5177856\n",
      "Epoch: 1117 Training Loss: 0.509593 Test Loss: 0.51758343\n",
      "Epoch: 1118 Training Loss: 0.5094102 Test Loss: 0.5173819\n",
      "Epoch: 1119 Training Loss: 0.5092277 Test Loss: 0.51718116\n",
      "Epoch: 1120 Training Loss: 0.50904584 Test Loss: 0.51698107\n",
      "Epoch: 1121 Training Loss: 0.5088647 Test Loss: 0.5167816\n",
      "Epoch: 1122 Training Loss: 0.50868416 Test Loss: 0.5165829\n",
      "Epoch: 1123 Training Loss: 0.50850433 Test Loss: 0.5163848\n",
      "Epoch: 1124 Training Loss: 0.50832474 Test Loss: 0.5161872\n",
      "Epoch: 1125 Training Loss: 0.5081461 Test Loss: 0.5159906\n",
      "Epoch: 1126 Training Loss: 0.5079681 Test Loss: 0.5157947\n",
      "Epoch: 1127 Training Loss: 0.5077904 Test Loss: 0.51559937\n",
      "Epoch: 1128 Training Loss: 0.50761354 Test Loss: 0.5154047\n",
      "Epoch: 1129 Training Loss: 0.5074372 Test Loss: 0.5152108\n",
      "Epoch: 1130 Training Loss: 0.5072616 Test Loss: 0.5150174\n",
      "Epoch: 1131 Training Loss: 0.5070868 Test Loss: 0.5148246\n",
      "Epoch: 1132 Training Loss: 0.50691235 Test Loss: 0.5146326\n",
      "Epoch: 1133 Training Loss: 0.50673854 Test Loss: 0.51444113\n",
      "Epoch: 1134 Training Loss: 0.5065652 Test Loss: 0.5142504\n",
      "Epoch: 1135 Training Loss: 0.5063928 Test Loss: 0.5140602\n",
      "Epoch: 1136 Training Loss: 0.5062203 Test Loss: 0.51387054\n",
      "Epoch: 1137 Training Loss: 0.50604904 Test Loss: 0.51368177\n",
      "Epoch: 1138 Training Loss: 0.50587773 Test Loss: 0.5134932\n",
      "Epoch: 1139 Training Loss: 0.5057074 Test Loss: 0.51330554\n",
      "Epoch: 1140 Training Loss: 0.5055375 Test Loss: 0.51311815\n",
      "Epoch: 1141 Training Loss: 0.5053683 Test Loss: 0.51293164\n",
      "Epoch: 1142 Training Loss: 0.50519925 Test Loss: 0.5127459\n",
      "Epoch: 1143 Training Loss: 0.5050313 Test Loss: 0.5125608\n",
      "Epoch: 1144 Training Loss: 0.5048638 Test Loss: 0.51237595\n",
      "Epoch: 1145 Training Loss: 0.5046969 Test Loss: 0.51219237\n",
      "Epoch: 1146 Training Loss: 0.5045305 Test Loss: 0.5120092\n",
      "Epoch: 1147 Training Loss: 0.50436497 Test Loss: 0.5118267\n",
      "Epoch: 1148 Training Loss: 0.5041998 Test Loss: 0.5116445\n",
      "Epoch: 1149 Training Loss: 0.5040355 Test Loss: 0.5114631\n",
      "Epoch: 1150 Training Loss: 0.5038715 Test Loss: 0.5112822\n",
      "Epoch: 1151 Training Loss: 0.50370806 Test Loss: 0.5111021\n",
      "Epoch: 1152 Training Loss: 0.5035452 Test Loss: 0.5109224\n",
      "Epoch: 1153 Training Loss: 0.50338286 Test Loss: 0.5107433\n",
      "Epoch: 1154 Training Loss: 0.50322104 Test Loss: 0.5105647\n",
      "Epoch: 1155 Training Loss: 0.50305957 Test Loss: 0.5103866\n",
      "Epoch: 1156 Training Loss: 0.502899 Test Loss: 0.5102092\n",
      "Epoch: 1157 Training Loss: 0.50273865 Test Loss: 0.5100324\n",
      "Epoch: 1158 Training Loss: 0.502579 Test Loss: 0.50985616\n",
      "Epoch: 1159 Training Loss: 0.50242 Test Loss: 0.50968057\n",
      "Epoch: 1160 Training Loss: 0.5022616 Test Loss: 0.5095056\n",
      "Epoch: 1161 Training Loss: 0.5021035 Test Loss: 0.50933117\n",
      "Epoch: 1162 Training Loss: 0.50194615 Test Loss: 0.50915736\n",
      "Epoch: 1163 Training Loss: 0.5017892 Test Loss: 0.5089842\n",
      "Epoch: 1164 Training Loss: 0.50163275 Test Loss: 0.5088115\n",
      "Epoch: 1165 Training Loss: 0.5014767 Test Loss: 0.5086394\n",
      "Epoch: 1166 Training Loss: 0.50132143 Test Loss: 0.50846785\n",
      "Epoch: 1167 Training Loss: 0.5011664 Test Loss: 0.5082969\n",
      "Epoch: 1168 Training Loss: 0.5010122 Test Loss: 0.5081265\n",
      "Epoch: 1169 Training Loss: 0.500858 Test Loss: 0.5079569\n",
      "Epoch: 1170 Training Loss: 0.50070465 Test Loss: 0.5077876\n"
     ]
    },
    {
     "name": "stdout",
     "output_type": "stream",
     "text": [
      "Epoch: 1171 Training Loss: 0.50055176 Test Loss: 0.507619\n",
      "Epoch: 1172 Training Loss: 0.50039935 Test Loss: 0.5074509\n",
      "Epoch: 1173 Training Loss: 0.5002474 Test Loss: 0.50728357\n",
      "Epoch: 1174 Training Loss: 0.5000961 Test Loss: 0.50711656\n",
      "Epoch: 1175 Training Loss: 0.4999454 Test Loss: 0.50695026\n",
      "Epoch: 1176 Training Loss: 0.4997948 Test Loss: 0.5067844\n",
      "Epoch: 1177 Training Loss: 0.49964526 Test Loss: 0.5066193\n",
      "Epoch: 1178 Training Loss: 0.49949592 Test Loss: 0.50645435\n",
      "Epoch: 1179 Training Loss: 0.49934727 Test Loss: 0.50629044\n",
      "Epoch: 1180 Training Loss: 0.49919903 Test Loss: 0.5061268\n",
      "Epoch: 1181 Training Loss: 0.499051 Test Loss: 0.50596374\n",
      "Epoch: 1182 Training Loss: 0.4989035 Test Loss: 0.505801\n",
      "Epoch: 1183 Training Loss: 0.49875686 Test Loss: 0.50563896\n",
      "Epoch: 1184 Training Loss: 0.4986102 Test Loss: 0.50547725\n",
      "Epoch: 1185 Training Loss: 0.4984644 Test Loss: 0.5053163\n",
      "Epoch: 1186 Training Loss: 0.49831885 Test Loss: 0.505156\n",
      "Epoch: 1187 Training Loss: 0.49817407 Test Loss: 0.50499636\n",
      "Epoch: 1188 Training Loss: 0.49802983 Test Loss: 0.5048372\n",
      "Epoch: 1189 Training Loss: 0.497886 Test Loss: 0.5046788\n",
      "Epoch: 1190 Training Loss: 0.49774283 Test Loss: 0.50452113\n",
      "Epoch: 1191 Training Loss: 0.4975998 Test Loss: 0.50436366\n",
      "Epoch: 1192 Training Loss: 0.49745765 Test Loss: 0.50420684\n",
      "Epoch: 1193 Training Loss: 0.49731576 Test Loss: 0.50405115\n",
      "Epoch: 1194 Training Loss: 0.49717438 Test Loss: 0.5038959\n",
      "Epoch: 1195 Training Loss: 0.49703336 Test Loss: 0.5037409\n",
      "Epoch: 1196 Training Loss: 0.49689287 Test Loss: 0.5035873\n",
      "Epoch: 1197 Training Loss: 0.49675316 Test Loss: 0.50343394\n",
      "Epoch: 1198 Training Loss: 0.49661356 Test Loss: 0.5032811\n",
      "Epoch: 1199 Training Loss: 0.49647436 Test Loss: 0.5031288\n",
      "Epoch: 1200 Training Loss: 0.49633557 Test Loss: 0.50297683\n",
      "Epoch: 1201 Training Loss: 0.4961972 Test Loss: 0.50282574\n",
      "Epoch: 1202 Training Loss: 0.49605936 Test Loss: 0.5026748\n",
      "Epoch: 1203 Training Loss: 0.495922 Test Loss: 0.5025247\n",
      "Epoch: 1204 Training Loss: 0.49578482 Test Loss: 0.50237465\n",
      "Epoch: 1205 Training Loss: 0.49564853 Test Loss: 0.5022254\n",
      "Epoch: 1206 Training Loss: 0.49551252 Test Loss: 0.5020766\n",
      "Epoch: 1207 Training Loss: 0.49537718 Test Loss: 0.5019282\n",
      "Epoch: 1208 Training Loss: 0.495242 Test Loss: 0.50178045\n",
      "Epoch: 1209 Training Loss: 0.4951074 Test Loss: 0.5016329\n",
      "Epoch: 1210 Training Loss: 0.49497327 Test Loss: 0.50148594\n",
      "Epoch: 1211 Training Loss: 0.49483973 Test Loss: 0.5013397\n",
      "Epoch: 1212 Training Loss: 0.49470678 Test Loss: 0.5011938\n",
      "Epoch: 1213 Training Loss: 0.49457422 Test Loss: 0.5010486\n",
      "Epoch: 1214 Training Loss: 0.49444196 Test Loss: 0.5009035\n",
      "Epoch: 1215 Training Loss: 0.4943103 Test Loss: 0.500759\n",
      "Epoch: 1216 Training Loss: 0.49417913 Test Loss: 0.50061506\n",
      "Epoch: 1217 Training Loss: 0.4940482 Test Loss: 0.50047123\n",
      "Epoch: 1218 Training Loss: 0.49391767 Test Loss: 0.50032836\n",
      "Epoch: 1219 Training Loss: 0.4937874 Test Loss: 0.50018543\n",
      "Epoch: 1220 Training Loss: 0.4936578 Test Loss: 0.5000431\n",
      "Epoch: 1221 Training Loss: 0.49352852 Test Loss: 0.4999013\n",
      "Epoch: 1222 Training Loss: 0.4933996 Test Loss: 0.49976\n",
      "Epoch: 1223 Training Loss: 0.49327117 Test Loss: 0.499619\n",
      "Epoch: 1224 Training Loss: 0.4931432 Test Loss: 0.49947852\n",
      "Epoch: 1225 Training Loss: 0.49301574 Test Loss: 0.4993384\n",
      "Epoch: 1226 Training Loss: 0.49288848 Test Loss: 0.49919885\n",
      "Epoch: 1227 Training Loss: 0.49276197 Test Loss: 0.4990598\n",
      "Epoch: 1228 Training Loss: 0.49263585 Test Loss: 0.49892122\n",
      "Epoch: 1229 Training Loss: 0.4925099 Test Loss: 0.4987828\n",
      "Epoch: 1230 Training Loss: 0.4923844 Test Loss: 0.49864522\n",
      "Epoch: 1231 Training Loss: 0.49225932 Test Loss: 0.49850774\n",
      "Epoch: 1232 Training Loss: 0.4921347 Test Loss: 0.49837053\n",
      "Epoch: 1233 Training Loss: 0.49201053 Test Loss: 0.49823418\n",
      "Epoch: 1234 Training Loss: 0.4918866 Test Loss: 0.4980979\n",
      "Epoch: 1235 Training Loss: 0.49176306 Test Loss: 0.49796227\n",
      "Epoch: 1236 Training Loss: 0.49164006 Test Loss: 0.497827\n",
      "Epoch: 1237 Training Loss: 0.49151716 Test Loss: 0.49769184\n",
      "Epoch: 1238 Training Loss: 0.49139503 Test Loss: 0.49755737\n",
      "Epoch: 1239 Training Loss: 0.49127313 Test Loss: 0.49742314\n",
      "Epoch: 1240 Training Loss: 0.49115154 Test Loss: 0.4972897\n",
      "Epoch: 1241 Training Loss: 0.4910304 Test Loss: 0.49715644\n",
      "Epoch: 1242 Training Loss: 0.4909096 Test Loss: 0.49702355\n",
      "Epoch: 1243 Training Loss: 0.4907893 Test Loss: 0.49689117\n",
      "Epoch: 1244 Training Loss: 0.4906696 Test Loss: 0.49675938\n",
      "Epoch: 1245 Training Loss: 0.49054986 Test Loss: 0.4966276\n",
      "Epoch: 1246 Training Loss: 0.49043065 Test Loss: 0.4964967\n",
      "Epoch: 1247 Training Loss: 0.49031177 Test Loss: 0.49636585\n",
      "Epoch: 1248 Training Loss: 0.49019322 Test Loss: 0.49623546\n",
      "Epoch: 1249 Training Loss: 0.49007517 Test Loss: 0.49610555\n",
      "Epoch: 1250 Training Loss: 0.48995733 Test Loss: 0.495976\n",
      "Epoch: 1251 Training Loss: 0.4898398 Test Loss: 0.49584693\n",
      "Epoch: 1252 Training Loss: 0.48972264 Test Loss: 0.49571833\n",
      "Epoch: 1253 Training Loss: 0.48960567 Test Loss: 0.49559012\n",
      "Epoch: 1254 Training Loss: 0.4894892 Test Loss: 0.49546254\n",
      "Epoch: 1255 Training Loss: 0.48937303 Test Loss: 0.4953349\n",
      "Epoch: 1256 Training Loss: 0.4892574 Test Loss: 0.49520794\n",
      "Epoch: 1257 Training Loss: 0.4891421 Test Loss: 0.49508154\n",
      "Epoch: 1258 Training Loss: 0.48902705 Test Loss: 0.4949552\n",
      "Epoch: 1259 Training Loss: 0.4889125 Test Loss: 0.49482942\n",
      "Epoch: 1260 Training Loss: 0.48879835 Test Loss: 0.4947041\n",
      "Epoch: 1261 Training Loss: 0.48868454 Test Loss: 0.49457908\n",
      "Epoch: 1262 Training Loss: 0.4885711 Test Loss: 0.49445453\n",
      "Epoch: 1263 Training Loss: 0.48845777 Test Loss: 0.4943302\n",
      "Epoch: 1264 Training Loss: 0.4883451 Test Loss: 0.4942063\n",
      "Epoch: 1265 Training Loss: 0.48823267 Test Loss: 0.49408275\n",
      "Epoch: 1266 Training Loss: 0.4881205 Test Loss: 0.4939595\n",
      "Epoch: 1267 Training Loss: 0.48800886 Test Loss: 0.4938368\n",
      "Epoch: 1268 Training Loss: 0.4878979 Test Loss: 0.49371457\n",
      "Epoch: 1269 Training Loss: 0.487787 Test Loss: 0.49359247\n",
      "Epoch: 1270 Training Loss: 0.48767638 Test Loss: 0.4934708\n",
      "Epoch: 1271 Training Loss: 0.4875662 Test Loss: 0.4933496\n",
      "Epoch: 1272 Training Loss: 0.48745635 Test Loss: 0.4932285\n",
      "Epoch: 1273 Training Loss: 0.48734668 Test Loss: 0.49310777\n",
      "Epoch: 1274 Training Loss: 0.48723754 Test Loss: 0.49298772\n",
      "Epoch: 1275 Training Loss: 0.48712865 Test Loss: 0.49286747\n",
      "Epoch: 1276 Training Loss: 0.48701984 Test Loss: 0.492748\n",
      "Epoch: 1277 Training Loss: 0.48691168 Test Loss: 0.49262857\n",
      "Epoch: 1278 Training Loss: 0.48680353 Test Loss: 0.49250948\n",
      "Epoch: 1279 Training Loss: 0.48669586 Test Loss: 0.49239087\n",
      "Epoch: 1280 Training Loss: 0.48658833 Test Loss: 0.49227247\n",
      "Epoch: 1281 Training Loss: 0.4864814 Test Loss: 0.49215448\n",
      "Epoch: 1282 Training Loss: 0.48637432 Test Loss: 0.49203703\n",
      "Epoch: 1283 Training Loss: 0.48626807 Test Loss: 0.49191967\n",
      "Epoch: 1284 Training Loss: 0.48616198 Test Loss: 0.49180278\n",
      "Epoch: 1285 Training Loss: 0.48605603 Test Loss: 0.49168602\n",
      "Epoch: 1286 Training Loss: 0.48595047 Test Loss: 0.49156973\n",
      "Epoch: 1287 Training Loss: 0.4858451 Test Loss: 0.49145392\n",
      "Epoch: 1288 Training Loss: 0.48574013 Test Loss: 0.491338\n",
      "Epoch: 1289 Training Loss: 0.4856353 Test Loss: 0.4912227\n",
      "Epoch: 1290 Training Loss: 0.48553088 Test Loss: 0.49110767\n",
      "Epoch: 1291 Training Loss: 0.48542666 Test Loss: 0.49099302\n",
      "Epoch: 1292 Training Loss: 0.485323 Test Loss: 0.4908787\n",
      "Epoch: 1293 Training Loss: 0.48521942 Test Loss: 0.4907643\n",
      "Epoch: 1294 Training Loss: 0.4851162 Test Loss: 0.49065068\n",
      "Epoch: 1295 Training Loss: 0.48501322 Test Loss: 0.49053746\n",
      "Epoch: 1296 Training Loss: 0.48491052 Test Loss: 0.49042463\n",
      "Epoch: 1297 Training Loss: 0.48480836 Test Loss: 0.49031183\n",
      "Epoch: 1298 Training Loss: 0.48470604 Test Loss: 0.49019966\n",
      "Epoch: 1299 Training Loss: 0.48460424 Test Loss: 0.49008763\n"
     ]
    }
   ],
   "source": [
    "Training_loss = [ ]\n",
    "Test_loss = [ ]\n",
    "epochs = 1300\n",
    "for epoch in range (epochs):\n",
    "    sess.run(opt, feed_dict = {x: x_train, y: y_train})\n",
    "    \n",
    "    Training_loss.append(sess.run(cost_function, feed_dict = {x: x_train, y: y_train}))\n",
    "    Test_loss.append(sess.run(cost_function, feed_dict = {x: x_test, y: y_test}))\n",
    "    \n",
    "    print('Epoch:', epoch, 'Training Loss:', Training_loss[epoch], 'Test Loss:', Test_loss[epoch])"
   ]
  },
  {
   "cell_type": "code",
   "execution_count": 54,
   "metadata": {},
   "outputs": [],
   "source": [
    "y_pred = sess.run(out, feed_dict = {x: x_test})"
   ]
  },
  {
   "cell_type": "code",
   "execution_count": 55,
   "metadata": {},
   "outputs": [
    {
     "data": {
      "text/plain": [
       "array([[ 0.3154085 ],\n",
       "       [-0.3620269 ],\n",
       "       [ 0.33404416],\n",
       "       ...,\n",
       "       [ 0.05480286],\n",
       "       [ 1.3814437 ],\n",
       "       [ 0.03914966]], dtype=float32)"
      ]
     },
     "execution_count": 55,
     "metadata": {},
     "output_type": "execute_result"
    }
   ],
   "source": [
    "y_pred"
   ]
  },
  {
   "cell_type": "code",
   "execution_count": 56,
   "metadata": {},
   "outputs": [],
   "source": [
    "y_pred = (y_pred > 0.5)"
   ]
  },
  {
   "cell_type": "code",
   "execution_count": 57,
   "metadata": {},
   "outputs": [
    {
     "data": {
      "text/plain": [
       "array([[False],\n",
       "       [False],\n",
       "       [False],\n",
       "       ...,\n",
       "       [False],\n",
       "       [ True],\n",
       "       [False]])"
      ]
     },
     "execution_count": 57,
     "metadata": {},
     "output_type": "execute_result"
    }
   ],
   "source": [
    "y_pred"
   ]
  },
  {
   "cell_type": "code",
   "execution_count": 58,
   "metadata": {},
   "outputs": [
    {
     "data": {
      "text/plain": [
       "array([[1047,  548],\n",
       "       [ 208,  197]])"
      ]
     },
     "execution_count": 58,
     "metadata": {},
     "output_type": "execute_result"
    }
   ],
   "source": [
    "cm = confusion_matrix(y_test, y_pred)\n",
    "cm"
   ]
  },
  {
   "cell_type": "code",
   "execution_count": 59,
   "metadata": {},
   "outputs": [
    {
     "name": "stdout",
     "output_type": "stream",
     "text": [
      "              precision    recall  f1-score   support\n",
      "\n",
      "           0       0.83      0.66      0.73      1595\n",
      "           1       0.26      0.49      0.34       405\n",
      "\n",
      "    accuracy                           0.62      2000\n",
      "   macro avg       0.55      0.57      0.54      2000\n",
      "weighted avg       0.72      0.62      0.66      2000\n",
      "\n"
     ]
    }
   ],
   "source": [
    "print(classification_report(y_test, y_pred))"
   ]
  },
  {
   "cell_type": "code",
   "execution_count": 60,
   "metadata": {},
   "outputs": [
    {
     "name": "stdout",
     "output_type": "stream",
     "text": [
      "0.622\n"
     ]
    }
   ],
   "source": [
    "print(accuracy_score(y_test, y_pred))"
   ]
  },
  {
   "cell_type": "code",
   "execution_count": 61,
   "metadata": {},
   "outputs": [
    {
     "data": {
      "image/png": "[encoded data removed]",
      "text/plain": [
       "<Figure size 432x288 with 1 Axes>"
      ]
     },
     "metadata": {
      "needs_background": "light"
     },
     "output_type": "display_data"
    }
   ],
   "source": [
    "plt.plot(Training_loss)\n",
    "plt.title('Training Loss', fontsize = 20)\n",
    "plt.show()"
   ]
  },
  {
   "cell_type": "code",
   "execution_count": 62,
   "metadata": {},
   "outputs": [
    {
     "data": {
      "image/png": "[encoded data removed]",
      "text/plain": [
       "<Figure size 432x288 with 1 Axes>"
      ]
     },
     "metadata": {
      "needs_background": "light"
     },
     "output_type": "display_data"
    }
   ],
   "source": [
    "plt.plot(Test_loss)\n",
    "plt.title('Test Loss', fontsize = 20)\n",
    "plt.show()"
   ]
  },
  {
   "cell_type": "markdown",
   "metadata": {},
   "source": [
    "# Saving the Model"
   ]
  },
  {
   "cell_type": "code",
   "execution_count": 64,
   "metadata": {},
   "outputs": [
    {
     "data": {
      "text/plain": [
       "'classification_models/Bank.ckpt'"
      ]
     },
     "execution_count": 64,
     "metadata": {},
     "output_type": "execute_result"
    }
   ],
   "source": [
    "saver = tf.compat.v1.train.Saver()\n",
    "saver.save(sess,'classification_models/Bank.ckpt')"
   ]
  },
  {
   "cell_type": "markdown",
   "metadata": {},
   "source": [
    "# Loading the model"
   ]
  },
  {
   "cell_type": "code",
   "execution_count": 95,
   "metadata": {
    "scrolled": false
   },
   "outputs": [
    {
     "name": "stdout",
     "output_type": "stream",
     "text": [
      "INFO:tensorflow:Restoring parameters from /home/admin1/Tensorflow/classification_models/Bank.ckpt\n",
      "[[ 0.3154085 ]\n",
      " [-0.3620269 ]\n",
      " [ 0.33404416]\n",
      " ...\n",
      " [ 0.05480286]\n",
      " [ 1.3814437 ]\n",
      " [ 0.03914966]]\n"
     ]
    }
   ],
   "source": [
    "with tf.compat.v1.Session() as ses:\n",
    "    saver = tf.compat.v1.train.import_meta_graph('/home/admin1/Tensorflow/classification_models/Bank.ckpt.meta')\n",
    "    model = saver.restore(ses, tf.train.latest_checkpoint('/home/admin1/Tensorflow/classification_models/'))\n",
    "    \n",
    "    graph = tf.compat.v1.get_default_graph()\n",
    "    input_x = graph.get_tensor_by_name(\"x:0\")\n",
    "    input_y = graph.get_tensor_by_name(\"y:0\")\n",
    "    \n",
    "    output = graph.get_tensor_by_name(\"output:0\")\n",
    "    \n",
    "    \n",
    "    feed_dict = {input_x: x_test}\n",
    "    predictions = output.eval(feed_dict = feed_dict)\n",
    "    print(predictions)"
   ]
  },
  {
   "cell_type": "code",
   "execution_count": 96,
   "metadata": {},
   "outputs": [
    {
     "data": {
      "text/plain": [
       "numpy.ndarray"
      ]
     },
     "execution_count": 96,
     "metadata": {},
     "output_type": "execute_result"
    }
   ],
   "source": [
    "type(predictions)"
   ]
  },
  {
   "cell_type": "code",
   "execution_count": 97,
   "metadata": {},
   "outputs": [
    {
     "data": {
      "text/plain": [
       "2000"
      ]
     },
     "execution_count": 97,
     "metadata": {},
     "output_type": "execute_result"
    }
   ],
   "source": [
    "len(predictions)"
   ]
  },
  {
   "cell_type": "markdown",
   "metadata": {},
   "source": [
    "# Predicting for one input value"
   ]
  },
  {
   "cell_type": "code",
   "execution_count": 98,
   "metadata": {},
   "outputs": [],
   "source": [
    "a = X[500]"
   ]
  },
  {
   "cell_type": "code",
   "execution_count": 99,
   "metadata": {},
   "outputs": [
    {
     "data": {
      "text/plain": [
       "array([ 0.        ,  1.        , -0.98841507,  1.        , -0.66001848,\n",
       "        4.        , -1.22584767,  2.        ,  1.        ,  1.        ,\n",
       "       -0.79440693])"
      ]
     },
     "execution_count": 99,
     "metadata": {},
     "output_type": "execute_result"
    }
   ],
   "source": [
    "a"
   ]
  },
  {
   "cell_type": "code",
   "execution_count": 100,
   "metadata": {},
   "outputs": [
    {
     "data": {
      "text/plain": [
       "(11,)"
      ]
     },
     "execution_count": 100,
     "metadata": {},
     "output_type": "execute_result"
    }
   ],
   "source": [
    "a.shape"
   ]
  },
  {
   "cell_type": "code",
   "execution_count": 102,
   "metadata": {},
   "outputs": [],
   "source": [
    "a = np.reshape(a, (1, 11))"
   ]
  },
  {
   "cell_type": "code",
   "execution_count": 103,
   "metadata": {},
   "outputs": [
    {
     "data": {
      "text/plain": [
       "(1, 11)"
      ]
     },
     "execution_count": 103,
     "metadata": {},
     "output_type": "execute_result"
    }
   ],
   "source": [
    "a.shape"
   ]
  },
  {
   "cell_type": "code",
   "execution_count": 104,
   "metadata": {},
   "outputs": [
    {
     "name": "stdout",
     "output_type": "stream",
     "text": [
      "INFO:tensorflow:Restoring parameters from /home/admin1/Tensorflow/classification_models/Bank.ckpt\n",
      "[[-0.2529777]]\n"
     ]
    }
   ],
   "source": [
    "with tf.compat.v1.Session() as ses:\n",
    "    saver = tf.compat.v1.train.import_meta_graph('/home/admin1/Tensorflow/classification_models/Bank.ckpt.meta')\n",
    "    model = saver.restore(ses, tf.train.latest_checkpoint('/home/admin1/Tensorflow/classification_models/'))\n",
    "    \n",
    "    graph = tf.compat.v1.get_default_graph()\n",
    "    input_x = graph.get_tensor_by_name(\"x:0\")\n",
    "    input_y = graph.get_tensor_by_name(\"y:0\")\n",
    "    \n",
    "    output = graph.get_tensor_by_name(\"output:0\")\n",
    "    \n",
    "    \n",
    "    feed_dict = {input_x: a}\n",
    "    prediction = output.eval(feed_dict = feed_dict)\n",
    "    print(prediction)"
   ]
  },
  {
   "cell_type": "code",
   "execution_count": null,
   "metadata": {},
   "outputs": [],
   "source": []
  }
 ],
 "metadata": {
  "kernelspec": {
   "display_name": "Python 3",
   "language": "python",
   "name": "python3"
  },
  "language_info": {
   "codemirror_mode": {
    "name": "ipython",
    "version": 3
   },
   "file_extension": ".py",
   "mimetype": "text/x-python",
   "name": "python",
   "nbconvert_exporter": "python",
   "pygments_lexer": "ipython3",
   "version": "3.7.5"
  }
 },
 "nbformat": 4,
 "nbformat_minor": 2
}
