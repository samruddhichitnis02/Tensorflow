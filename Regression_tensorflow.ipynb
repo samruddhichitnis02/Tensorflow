{
 "cells": [
  {
   "cell_type": "code",
   "execution_count": 1,
   "metadata": {},
   "outputs": [],
   "source": [
    "import tensorflow as tf\n",
    "from sklearn.model_selection import train_test_split\n",
    "\n",
    "\n",
    "import seaborn as sb\n",
    "import matplotlib.pyplot as plt\n",
    "import pandas as pd\n",
    "import numpy as np\n",
    "\n",
    "import warnings\n",
    "warnings.filterwarnings('ignore')"
   ]
  },
  {
   "cell_type": "code",
   "execution_count": 2,
   "metadata": {},
   "outputs": [
    {
     "data": {
      "text/plain": [
       "'2.0.0'"
      ]
     },
     "execution_count": 2,
     "metadata": {},
     "output_type": "execute_result"
    }
   ],
   "source": [
    "tf.__version__"
   ]
  },
  {
   "cell_type": "code",
   "execution_count": 3,
   "metadata": {},
   "outputs": [],
   "source": [
    "data = pd.read_csv('DJI.csv')"
   ]
  },
  {
   "cell_type": "code",
   "execution_count": 4,
   "metadata": {},
   "outputs": [
    {
     "data": {
      "text/plain": [
       "(251, 7)"
      ]
     },
     "execution_count": 4,
     "metadata": {},
     "output_type": "execute_result"
    }
   ],
   "source": [
    "data.shape"
   ]
  },
  {
   "cell_type": "code",
   "execution_count": 5,
   "metadata": {},
   "outputs": [
    {
     "data": {
      "text/html": [
       "<div>\n",
       "<style scoped>\n",
       "    .dataframe tbody tr th:only-of-type {\n",
       "        vertical-align: middle;\n",
       "    }\n",
       "\n",
       "    .dataframe tbody tr th {\n",
       "        vertical-align: top;\n",
       "    }\n",
       "\n",
       "    .dataframe thead th {\n",
       "        text-align: right;\n",
       "    }\n",
       "</style>\n",
       "<table border=\"1\" class=\"dataframe\">\n",
       "  <thead>\n",
       "    <tr style=\"text-align: right;\">\n",
       "      <th></th>\n",
       "      <th>Date</th>\n",
       "      <th>Open</th>\n",
       "      <th>High</th>\n",
       "      <th>Low</th>\n",
       "      <th>Close</th>\n",
       "      <th>Adj Close</th>\n",
       "      <th>Volume</th>\n",
       "    </tr>\n",
       "  </thead>\n",
       "  <tbody>\n",
       "    <tr>\n",
       "      <th>0</th>\n",
       "      <td>2018-11-30</td>\n",
       "      <td>25307.140625</td>\n",
       "      <td>25549.710938</td>\n",
       "      <td>25250.970703</td>\n",
       "      <td>25538.460938</td>\n",
       "      <td>25538.460938</td>\n",
       "      <td>482250000</td>\n",
       "    </tr>\n",
       "    <tr>\n",
       "      <th>1</th>\n",
       "      <td>2018-12-03</td>\n",
       "      <td>25779.570313</td>\n",
       "      <td>25980.210938</td>\n",
       "      <td>25670.509766</td>\n",
       "      <td>25826.429688</td>\n",
       "      <td>25826.429688</td>\n",
       "      <td>388480000</td>\n",
       "    </tr>\n",
       "    <tr>\n",
       "      <th>2</th>\n",
       "      <td>2018-12-04</td>\n",
       "      <td>25752.560547</td>\n",
       "      <td>25773.119141</td>\n",
       "      <td>25008.109375</td>\n",
       "      <td>25027.070313</td>\n",
       "      <td>25027.070313</td>\n",
       "      <td>418900000</td>\n",
       "    </tr>\n",
       "    <tr>\n",
       "      <th>3</th>\n",
       "      <td>2018-12-06</td>\n",
       "      <td>24737.419922</td>\n",
       "      <td>24951.009766</td>\n",
       "      <td>24242.220703</td>\n",
       "      <td>24947.669922</td>\n",
       "      <td>24947.669922</td>\n",
       "      <td>471690000</td>\n",
       "    </tr>\n",
       "    <tr>\n",
       "      <th>4</th>\n",
       "      <td>2018-12-07</td>\n",
       "      <td>24918.820313</td>\n",
       "      <td>25095.619141</td>\n",
       "      <td>24284.779297</td>\n",
       "      <td>24388.949219</td>\n",
       "      <td>24388.949219</td>\n",
       "      <td>398230000</td>\n",
       "    </tr>\n",
       "  </tbody>\n",
       "</table>\n",
       "</div>"
      ],
      "text/plain": [
       "         Date          Open          High           Low         Close  \\\n",
       "0  2018-11-30  25307.140625  25549.710938  25250.970703  25538.460938   \n",
       "1  2018-12-03  25779.570313  25980.210938  25670.509766  25826.429688   \n",
       "2  2018-12-04  25752.560547  25773.119141  25008.109375  25027.070313   \n",
       "3  2018-12-06  24737.419922  24951.009766  24242.220703  24947.669922   \n",
       "4  2018-12-07  24918.820313  25095.619141  24284.779297  24388.949219   \n",
       "\n",
       "      Adj Close     Volume  \n",
       "0  25538.460938  482250000  \n",
       "1  25826.429688  388480000  \n",
       "2  25027.070313  418900000  \n",
       "3  24947.669922  471690000  \n",
       "4  24388.949219  398230000  "
      ]
     },
     "execution_count": 5,
     "metadata": {},
     "output_type": "execute_result"
    }
   ],
   "source": [
    "data.head()"
   ]
  },
  {
   "cell_type": "code",
   "execution_count": 6,
   "metadata": {},
   "outputs": [
    {
     "name": "stdout",
     "output_type": "stream",
     "text": [
      "<class 'pandas.core.frame.DataFrame'>\n",
      "RangeIndex: 251 entries, 0 to 250\n",
      "Data columns (total 7 columns):\n",
      "Date         251 non-null object\n",
      "Open         251 non-null float64\n",
      "High         251 non-null float64\n",
      "Low          251 non-null float64\n",
      "Close        251 non-null float64\n",
      "Adj Close    251 non-null float64\n",
      "Volume       251 non-null int64\n",
      "dtypes: float64(5), int64(1), object(1)\n",
      "memory usage: 13.9+ KB\n"
     ]
    }
   ],
   "source": [
    "data.info()"
   ]
  },
  {
   "cell_type": "code",
   "execution_count": 7,
   "metadata": {},
   "outputs": [
    {
     "data": {
      "text/html": [
       "<div>\n",
       "<style scoped>\n",
       "    .dataframe tbody tr th:only-of-type {\n",
       "        vertical-align: middle;\n",
       "    }\n",
       "\n",
       "    .dataframe tbody tr th {\n",
       "        vertical-align: top;\n",
       "    }\n",
       "\n",
       "    .dataframe thead th {\n",
       "        text-align: right;\n",
       "    }\n",
       "</style>\n",
       "<table border=\"1\" class=\"dataframe\">\n",
       "  <thead>\n",
       "    <tr style=\"text-align: right;\">\n",
       "      <th></th>\n",
       "      <th>Open</th>\n",
       "      <th>High</th>\n",
       "      <th>Low</th>\n",
       "      <th>Close</th>\n",
       "      <th>Adj Close</th>\n",
       "      <th>Volume</th>\n",
       "    </tr>\n",
       "  </thead>\n",
       "  <tbody>\n",
       "    <tr>\n",
       "      <th>count</th>\n",
       "      <td>251.000000</td>\n",
       "      <td>251.000000</td>\n",
       "      <td>251.000000</td>\n",
       "      <td>251.000000</td>\n",
       "      <td>251.000000</td>\n",
       "      <td>2.510000e+02</td>\n",
       "    </tr>\n",
       "    <tr>\n",
       "      <th>mean</th>\n",
       "      <td>26025.928170</td>\n",
       "      <td>26150.335004</td>\n",
       "      <td>25889.582856</td>\n",
       "      <td>26031.799746</td>\n",
       "      <td>26031.799746</td>\n",
       "      <td>2.972486e+08</td>\n",
       "    </tr>\n",
       "    <tr>\n",
       "      <th>std</th>\n",
       "      <td>1160.468904</td>\n",
       "      <td>1114.808052</td>\n",
       "      <td>1211.755909</td>\n",
       "      <td>1162.030564</td>\n",
       "      <td>1162.030564</td>\n",
       "      <td>1.450528e+08</td>\n",
       "    </tr>\n",
       "    <tr>\n",
       "      <th>min</th>\n",
       "      <td>21857.730469</td>\n",
       "      <td>22339.869141</td>\n",
       "      <td>21712.529297</td>\n",
       "      <td>21792.199219</td>\n",
       "      <td>21792.199219</td>\n",
       "      <td>1.206300e+08</td>\n",
       "    </tr>\n",
       "    <tr>\n",
       "      <th>25%</th>\n",
       "      <td>25566.040039</td>\n",
       "      <td>25673.125000</td>\n",
       "      <td>25372.919922</td>\n",
       "      <td>25539.015626</td>\n",
       "      <td>25539.015626</td>\n",
       "      <td>2.409900e+08</td>\n",
       "    </tr>\n",
       "    <tr>\n",
       "      <th>50%</th>\n",
       "      <td>26169.910156</td>\n",
       "      <td>26248.669922</td>\n",
       "      <td>26038.099609</td>\n",
       "      <td>26143.050781</td>\n",
       "      <td>26143.050781</td>\n",
       "      <td>2.775600e+08</td>\n",
       "    </tr>\n",
       "    <tr>\n",
       "      <th>75%</th>\n",
       "      <td>26850.939453</td>\n",
       "      <td>26958.405274</td>\n",
       "      <td>26739.099610</td>\n",
       "      <td>26818.419922</td>\n",
       "      <td>26818.419922</td>\n",
       "      <td>3.205650e+08</td>\n",
       "    </tr>\n",
       "    <tr>\n",
       "      <th>max</th>\n",
       "      <td>28156.470703</td>\n",
       "      <td>28174.970703</td>\n",
       "      <td>28075.230469</td>\n",
       "      <td>28164.000000</td>\n",
       "      <td>28164.000000</td>\n",
       "      <td>2.190810e+09</td>\n",
       "    </tr>\n",
       "  </tbody>\n",
       "</table>\n",
       "</div>"
      ],
      "text/plain": [
       "               Open          High           Low         Close     Adj Close  \\\n",
       "count    251.000000    251.000000    251.000000    251.000000    251.000000   \n",
       "mean   26025.928170  26150.335004  25889.582856  26031.799746  26031.799746   \n",
       "std     1160.468904   1114.808052   1211.755909   1162.030564   1162.030564   \n",
       "min    21857.730469  22339.869141  21712.529297  21792.199219  21792.199219   \n",
       "25%    25566.040039  25673.125000  25372.919922  25539.015626  25539.015626   \n",
       "50%    26169.910156  26248.669922  26038.099609  26143.050781  26143.050781   \n",
       "75%    26850.939453  26958.405274  26739.099610  26818.419922  26818.419922   \n",
       "max    28156.470703  28174.970703  28075.230469  28164.000000  28164.000000   \n",
       "\n",
       "             Volume  \n",
       "count  2.510000e+02  \n",
       "mean   2.972486e+08  \n",
       "std    1.450528e+08  \n",
       "min    1.206300e+08  \n",
       "25%    2.409900e+08  \n",
       "50%    2.775600e+08  \n",
       "75%    3.205650e+08  \n",
       "max    2.190810e+09  "
      ]
     },
     "execution_count": 7,
     "metadata": {},
     "output_type": "execute_result"
    }
   ],
   "source": [
    "data.describe()"
   ]
  },
  {
   "cell_type": "code",
   "execution_count": 8,
   "metadata": {},
   "outputs": [
    {
     "data": {
      "text/plain": [
       "<matplotlib.axes._subplots.AxesSubplot at 0x7f22fc974310>"
      ]
     },
     "execution_count": 8,
     "metadata": {},
     "output_type": "execute_result"
    },
    {
     "data": {
      "image/png": "[encoded data removed]",
      "text/plain": [
       "<Figure size 432x288 with 1 Axes>"
      ]
     },
     "metadata": {
      "needs_background": "light"
     },
     "output_type": "display_data"
    }
   ],
   "source": [
    "sb.heatmap(data.isna(),\n",
    "          cbar = False,\n",
    "          yticklabels = False,\n",
    "          cmap = 'viridis')"
   ]
  },
  {
   "cell_type": "code",
   "execution_count": 9,
   "metadata": {},
   "outputs": [],
   "source": [
    "data.drop(['Date', 'Adj Close', 'Volume'], axis = 1, inplace = True)"
   ]
  },
  {
   "cell_type": "code",
   "execution_count": 10,
   "metadata": {},
   "outputs": [
    {
     "data": {
      "text/html": [
       "<div>\n",
       "<style scoped>\n",
       "    .dataframe tbody tr th:only-of-type {\n",
       "        vertical-align: middle;\n",
       "    }\n",
       "\n",
       "    .dataframe tbody tr th {\n",
       "        vertical-align: top;\n",
       "    }\n",
       "\n",
       "    .dataframe thead th {\n",
       "        text-align: right;\n",
       "    }\n",
       "</style>\n",
       "<table border=\"1\" class=\"dataframe\">\n",
       "  <thead>\n",
       "    <tr style=\"text-align: right;\">\n",
       "      <th></th>\n",
       "      <th>Open</th>\n",
       "      <th>High</th>\n",
       "      <th>Low</th>\n",
       "      <th>Close</th>\n",
       "    </tr>\n",
       "  </thead>\n",
       "  <tbody>\n",
       "    <tr>\n",
       "      <th>0</th>\n",
       "      <td>25307.140625</td>\n",
       "      <td>25549.710938</td>\n",
       "      <td>25250.970703</td>\n",
       "      <td>25538.460938</td>\n",
       "    </tr>\n",
       "    <tr>\n",
       "      <th>1</th>\n",
       "      <td>25779.570313</td>\n",
       "      <td>25980.210938</td>\n",
       "      <td>25670.509766</td>\n",
       "      <td>25826.429688</td>\n",
       "    </tr>\n",
       "    <tr>\n",
       "      <th>2</th>\n",
       "      <td>25752.560547</td>\n",
       "      <td>25773.119141</td>\n",
       "      <td>25008.109375</td>\n",
       "      <td>25027.070313</td>\n",
       "    </tr>\n",
       "    <tr>\n",
       "      <th>3</th>\n",
       "      <td>24737.419922</td>\n",
       "      <td>24951.009766</td>\n",
       "      <td>24242.220703</td>\n",
       "      <td>24947.669922</td>\n",
       "    </tr>\n",
       "    <tr>\n",
       "      <th>4</th>\n",
       "      <td>24918.820313</td>\n",
       "      <td>25095.619141</td>\n",
       "      <td>24284.779297</td>\n",
       "      <td>24388.949219</td>\n",
       "    </tr>\n",
       "  </tbody>\n",
       "</table>\n",
       "</div>"
      ],
      "text/plain": [
       "           Open          High           Low         Close\n",
       "0  25307.140625  25549.710938  25250.970703  25538.460938\n",
       "1  25779.570313  25980.210938  25670.509766  25826.429688\n",
       "2  25752.560547  25773.119141  25008.109375  25027.070313\n",
       "3  24737.419922  24951.009766  24242.220703  24947.669922\n",
       "4  24918.820313  25095.619141  24284.779297  24388.949219"
      ]
     },
     "execution_count": 10,
     "metadata": {},
     "output_type": "execute_result"
    }
   ],
   "source": [
    "data.head()"
   ]
  },
  {
   "cell_type": "markdown",
   "metadata": {},
   "source": [
    "# We want to predict Close value of stock "
   ]
  },
  {
   "cell_type": "markdown",
   "metadata": {},
   "source": [
    "## Using compatibility module v2(Eager Execution)"
   ]
  },
  {
   "cell_type": "code",
   "execution_count": 11,
   "metadata": {},
   "outputs": [],
   "source": [
    "X = data.iloc[:, :-1].values\n",
    "Y = data.iloc[:, -1:].values"
   ]
  },
  {
   "cell_type": "code",
   "execution_count": 12,
   "metadata": {},
   "outputs": [
    {
     "data": {
      "text/plain": [
       "((251, 3), (251, 1))"
      ]
     },
     "execution_count": 12,
     "metadata": {},
     "output_type": "execute_result"
    }
   ],
   "source": [
    "X.shape, Y.shape"
   ]
  },
  {
   "cell_type": "code",
   "execution_count": 13,
   "metadata": {},
   "outputs": [],
   "source": [
    "x_train, x_test, y_train, y_test = train_test_split(X, Y, test_size = 0.2, random_state = 0)"
   ]
  },
  {
   "cell_type": "code",
   "execution_count": 14,
   "metadata": {},
   "outputs": [
    {
     "data": {
      "text/plain": [
       "((200, 3), (200, 1), (51, 3), (51, 1))"
      ]
     },
     "execution_count": 14,
     "metadata": {},
     "output_type": "execute_result"
    }
   ],
   "source": [
    "x_train.shape, y_train.shape, x_test.shape, y_test.shape"
   ]
  },
  {
   "cell_type": "markdown",
   "metadata": {},
   "source": [
    "# Initializing the weights and bias"
   ]
  },
  {
   "cell_type": "markdown",
   "metadata": {},
   "source": [
    "### Defining the weights and bias for layer 1"
   ]
  },
  {
   "cell_type": "code",
   "execution_count": 15,
   "metadata": {},
   "outputs": [
    {
     "data": {
      "text/plain": [
       "3"
      ]
     },
     "execution_count": 15,
     "metadata": {},
     "output_type": "execute_result"
    }
   ],
   "source": [
    "x_train.shape[1]"
   ]
  },
  {
   "cell_type": "code",
   "execution_count": 16,
   "metadata": {},
   "outputs": [],
   "source": [
    "layer1_w = tf.compat.v2.Variable(tf.compat.v1.random_uniform([x_train.shape[1], 10]))\n",
    "layer1_b = tf.compat.v2.Variable(tf.zeros([10]))"
   ]
  },
  {
   "cell_type": "code",
   "execution_count": 17,
   "metadata": {
    "scrolled": true
   },
   "outputs": [
    {
     "data": {
      "text/plain": [
       "(<tf.Variable 'Variable:0' shape=(3, 10) dtype=float32, numpy=\n",
       " array([[0.170771  , 0.7265971 , 0.18978512, 0.5214914 , 0.85748196,\n",
       "         0.3524716 , 0.67810607, 0.6308117 , 0.3883536 , 0.52581203],\n",
       "        [0.92048025, 0.5095571 , 0.1609149 , 0.6754812 , 0.7987231 ,\n",
       "         0.8305353 , 0.8573221 , 0.82935154, 0.5874057 , 0.6850772 ],\n",
       "        [0.39135253, 0.48254132, 0.8161907 , 0.76992285, 0.8754847 ,\n",
       "         0.20342112, 0.9389143 , 0.9149853 , 0.49538052, 0.40434086]],\n",
       "       dtype=float32)>,\n",
       " <tf.Variable 'Variable:0' shape=(10,) dtype=float32, numpy=array([0., 0., 0., 0., 0., 0., 0., 0., 0., 0.], dtype=float32)>)"
      ]
     },
     "execution_count": 17,
     "metadata": {},
     "output_type": "execute_result"
    }
   ],
   "source": [
    "layer1_w, layer1_b"
   ]
  },
  {
   "cell_type": "markdown",
   "metadata": {},
   "source": [
    "### Defining the weights and bias for layer 2"
   ]
  },
  {
   "cell_type": "code",
   "execution_count": 18,
   "metadata": {},
   "outputs": [],
   "source": [
    "layer2_w = tf.Variable(tf.compat.v1.random_uniform([10, 6]))\n",
    "layer2_b = tf.Variable(tf.zeros([6]))"
   ]
  },
  {
   "cell_type": "code",
   "execution_count": 19,
   "metadata": {
    "scrolled": true
   },
   "outputs": [
    {
     "data": {
      "text/plain": [
       "(<tf.Variable 'Variable:0' shape=(10, 6) dtype=float32, numpy=\n",
       " array([[0.86375356, 0.09977233, 0.08265376, 0.9344541 , 0.19792986,\n",
       "         0.77373743],\n",
       "        [0.5920721 , 0.43556523, 0.16133344, 0.15279412, 0.01155365,\n",
       "         0.7215611 ],\n",
       "        [0.8489839 , 0.18605411, 0.33213365, 0.24126422, 0.29055548,\n",
       "         0.11177945],\n",
       "        [0.9528576 , 0.02321959, 0.9369873 , 0.15540957, 0.82645774,\n",
       "         0.86383486],\n",
       "        [0.70084786, 0.56059456, 0.46378815, 0.14637923, 0.9589987 ,\n",
       "         0.83416283],\n",
       "        [0.3842249 , 0.21020722, 0.03494847, 0.75588655, 0.09461999,\n",
       "         0.99709   ],\n",
       "        [0.6667812 , 0.61132896, 0.7971722 , 0.23207057, 0.06381452,\n",
       "         0.4825709 ],\n",
       "        [0.18717039, 0.22983491, 0.10574567, 0.6098598 , 0.82402515,\n",
       "         0.24498272],\n",
       "        [0.31006873, 0.70996463, 0.8742291 , 0.26075804, 0.9940798 ,\n",
       "         0.50952566],\n",
       "        [0.9158449 , 0.01325655, 0.3288331 , 0.29299712, 0.5890436 ,\n",
       "         0.9242445 ]], dtype=float32)>,\n",
       " <tf.Variable 'Variable:0' shape=(6,) dtype=float32, numpy=array([0., 0., 0., 0., 0., 0.], dtype=float32)>)"
      ]
     },
     "execution_count": 19,
     "metadata": {},
     "output_type": "execute_result"
    }
   ],
   "source": [
    "layer2_w, layer2_b"
   ]
  },
  {
   "cell_type": "markdown",
   "metadata": {},
   "source": [
    "###  Defining the weights and bias for layer 3"
   ]
  },
  {
   "cell_type": "code",
   "execution_count": 20,
   "metadata": {},
   "outputs": [],
   "source": [
    "layer3_w = tf.Variable(tf.compat.v1.random_uniform([6,8]))\n",
    "layer3_b = tf.Variable(tf.zeros([8]))"
   ]
  },
  {
   "cell_type": "code",
   "execution_count": 21,
   "metadata": {
    "scrolled": true
   },
   "outputs": [
    {
     "data": {
      "text/plain": [
       "(<tf.Variable 'Variable:0' shape=(6, 8) dtype=float32, numpy=\n",
       " array([[5.5327046e-01, 7.2956383e-01, 6.5633547e-01, 4.7517455e-01,\n",
       "         9.2450929e-01, 5.6705987e-01, 1.8145764e-01, 9.4041359e-01],\n",
       "        [7.2164381e-01, 7.3573494e-01, 6.3024032e-01, 7.2530758e-01,\n",
       "         1.2836397e-01, 5.1878536e-01, 2.7223313e-01, 6.2363744e-02],\n",
       "        [7.8364277e-01, 6.3687134e-01, 4.9009216e-01, 5.3248584e-01,\n",
       "         6.5645218e-02, 5.2127063e-01, 2.1427310e-01, 5.9592724e-04],\n",
       "        [6.4090669e-01, 9.1402698e-01, 1.2288833e-01, 4.9617219e-01,\n",
       "         4.7476685e-01, 7.0935106e-01, 1.9562352e-01, 2.8012574e-01],\n",
       "        [7.8520429e-01, 7.8661168e-01, 5.3650868e-01, 7.5059700e-01,\n",
       "         3.1928325e-01, 1.6718912e-01, 8.2923222e-01, 1.5197682e-01],\n",
       "        [5.2897346e-01, 2.0501244e-01, 7.3945272e-01, 9.7249973e-01,\n",
       "         6.0981393e-02, 3.1813622e-02, 9.5847142e-01, 9.2517376e-02]],\n",
       "       dtype=float32)>,\n",
       " <tf.Variable 'Variable:0' shape=(8,) dtype=float32, numpy=array([0., 0., 0., 0., 0., 0., 0., 0.], dtype=float32)>)"
      ]
     },
     "execution_count": 21,
     "metadata": {},
     "output_type": "execute_result"
    }
   ],
   "source": [
    "layer3_w, layer3_b"
   ]
  },
  {
   "cell_type": "markdown",
   "metadata": {},
   "source": [
    "### Defining the weights and bias for output layer "
   ]
  },
  {
   "cell_type": "code",
   "execution_count": 22,
   "metadata": {},
   "outputs": [],
   "source": [
    "layero_w = tf.Variable(tf.compat.v1.random_uniform([8, 1]))\n",
    "layero_b = tf.Variable(tf.zeros([1]))"
   ]
  },
  {
   "cell_type": "code",
   "execution_count": 23,
   "metadata": {
    "scrolled": true
   },
   "outputs": [
    {
     "data": {
      "text/plain": [
       "(<tf.Variable 'Variable:0' shape=(8, 1) dtype=float32, numpy=\n",
       " array([[0.5046662 ],\n",
       "        [0.4559859 ],\n",
       "        [0.8423059 ],\n",
       "        [0.2983284 ],\n",
       "        [0.90286314],\n",
       "        [0.09095836],\n",
       "        [0.43250537],\n",
       "        [0.19154882]], dtype=float32)>,\n",
       " <tf.Variable 'Variable:0' shape=(1,) dtype=float32, numpy=array([0.], dtype=float32)>)"
      ]
     },
     "execution_count": 23,
     "metadata": {},
     "output_type": "execute_result"
    }
   ],
   "source": [
    "layero_w, layero_b"
   ]
  },
  {
   "cell_type": "code",
   "execution_count": 24,
   "metadata": {},
   "outputs": [],
   "source": [
    "x = tf.constant(x_train, dtype = 'float32')"
   ]
  },
  {
   "cell_type": "code",
   "execution_count": 25,
   "metadata": {
    "scrolled": true
   },
   "outputs": [
    {
     "data": {
      "text/plain": [
       "tensorflow.python.framework.ops.EagerTensor"
      ]
     },
     "execution_count": 25,
     "metadata": {},
     "output_type": "execute_result"
    }
   ],
   "source": [
    "type(x)"
   ]
  },
  {
   "cell_type": "markdown",
   "metadata": {},
   "source": [
    "# Forward propagation "
   ]
  },
  {
   "cell_type": "code",
   "execution_count": 26,
   "metadata": {},
   "outputs": [],
   "source": [
    "#Layer1 propagation\n",
    "hidden_layer1 = tf.add(tf.matmul(x, layer1_w), layer1_b)\n",
    "hidden_layer1 = tf.nn.relu(hidden_layer1)\n",
    "\n",
    "\n",
    "#Layer2 propagation\n",
    "hidden_layer2 = tf.add(tf.matmul(hidden_layer1, layer2_w), layer2_b)\n",
    "hidden_layer2 = tf.nn.relu(hidden_layer2)\n",
    "\n",
    "\n",
    "#Layer3 propagation\n",
    "hidden_layer3 = tf.add(tf.matmul(hidden_layer2, layer3_w), layer3_b)\n",
    "hidden_layer3 = tf.nn.relu(hidden_layer3)\n",
    "\n",
    "\n",
    "#Output Layer propagation\n",
    "out = tf.add(tf.matmul(hidden_layer3, layero_w), layero_b)"
   ]
  },
  {
   "cell_type": "markdown",
   "metadata": {},
   "source": [
    "# Back Propagation"
   ]
  },
  {
   "cell_type": "code",
   "execution_count": 27,
   "metadata": {},
   "outputs": [],
   "source": [
    "cost_function = tf.reduce_mean(tf.square(out - y_train))"
   ]
  },
  {
   "cell_type": "code",
   "execution_count": 28,
   "metadata": {},
   "outputs": [
    {
     "data": {
      "text/plain": [
       "<tf.Tensor: id=121, shape=(), dtype=float32, numpy=6805097300000.0>"
      ]
     },
     "execution_count": 28,
     "metadata": {},
     "output_type": "execute_result"
    }
   ],
   "source": [
    "cost_function"
   ]
  },
  {
   "cell_type": "markdown",
   "metadata": {},
   "source": [
    "## Using Compatibility module v1"
   ]
  },
  {
   "cell_type": "code",
   "execution_count": 29,
   "metadata": {},
   "outputs": [],
   "source": [
    "tf.compat.v1.disable_eager_execution()"
   ]
  },
  {
   "cell_type": "markdown",
   "metadata": {},
   "source": [
    "# Place Holders"
   ]
  },
  {
   "cell_type": "code",
   "execution_count": 30,
   "metadata": {},
   "outputs": [],
   "source": [
    "x = tf.compat.v1.placeholder(dtype = tf.float32, shape = [None, x_train.shape[1]])\n",
    "y = tf.compat.v1.placeholder(dtype = tf.float32, shape = [None, 1])"
   ]
  },
  {
   "cell_type": "markdown",
   "metadata": {},
   "source": [
    "# Initializing the weights and bias"
   ]
  },
  {
   "cell_type": "code",
   "execution_count": 38,
   "metadata": {},
   "outputs": [],
   "source": [
    "w1 = tf.compat.v1.Variable(tf.compat.v1.random_uniform([x_train.shape[1], 10]))\n",
    "b1 = tf.compat.v1.Variable(tf.zeros([10]))\n",
    "\n",
    "\n",
    "w2 = tf.Variable(tf.compat.v1.random_uniform([10, 10]))\n",
    "b2 = tf.Variable(tf.zeros([10]))\n",
    "\n",
    "\n",
    "\n",
    "# w3 = tf.Variable(tf.compat.v1.random_uniform([6, 8]))\n",
    "# b3 = tf.Variable(tf.zeros([8]))\n",
    "\n",
    "\n",
    "wo = tf.Variable(tf.compat.v1.random_uniform([10, 1]))\n",
    "bo = tf.Variable(tf.zeros([1]))\n",
    "\n",
    "\n",
    "\n",
    "init = tf.compat.v1.global_variables_initializer()"
   ]
  },
  {
   "cell_type": "code",
   "execution_count": 39,
   "metadata": {},
   "outputs": [
    {
     "data": {
      "text/plain": [
       "(<tf.Variable 'Variable_6:0' shape=(3, 10) dtype=float32>,\n",
       " <tf.Variable 'Variable_7:0' shape=(10,) dtype=float32>)"
      ]
     },
     "execution_count": 39,
     "metadata": {},
     "output_type": "execute_result"
    }
   ],
   "source": [
    " w1, b1"
   ]
  },
  {
   "cell_type": "code",
   "execution_count": 40,
   "metadata": {},
   "outputs": [
    {
     "data": {
      "text/plain": [
       "(<tf.Variable 'Variable_8:0' shape=(10, 10) dtype=float32>,\n",
       " <tf.Variable 'Variable_9:0' shape=(10,) dtype=float32>)"
      ]
     },
     "execution_count": 40,
     "metadata": {},
     "output_type": "execute_result"
    }
   ],
   "source": [
    "w2, b2"
   ]
  },
  {
   "cell_type": "code",
   "execution_count": 41,
   "metadata": {},
   "outputs": [],
   "source": [
    "#w3, b3"
   ]
  },
  {
   "cell_type": "code",
   "execution_count": 42,
   "metadata": {
    "scrolled": true
   },
   "outputs": [
    {
     "data": {
      "text/plain": [
       "(<tf.Variable 'Variable_10:0' shape=(10, 1) dtype=float32>,\n",
       " <tf.Variable 'Variable_11:0' shape=(1,) dtype=float32>)"
      ]
     },
     "execution_count": 42,
     "metadata": {},
     "output_type": "execute_result"
    }
   ],
   "source": [
    "wo, bo"
   ]
  },
  {
   "cell_type": "markdown",
   "metadata": {},
   "source": [
    "# Forward propagation"
   ]
  },
  {
   "cell_type": "code",
   "execution_count": 43,
   "metadata": {},
   "outputs": [],
   "source": [
    "#Layer1 propagation\n",
    "hidden1 = tf.add(tf.matmul(x, w1), b1)\n",
    "hidden1 = tf.nn.relu(hidden1)\n",
    "\n",
    "\n",
    "#Layer2 propagation\n",
    "hidden2 = tf.add(tf.matmul(hidden1, w2), b2)\n",
    "hidden2 = tf.nn.relu(hidden2)\n",
    "\n",
    "\n",
    "#Layer3 propagation\n",
    "# hidden3 = tf.add(tf.matmul(hidden2, w3), b3)\n",
    "# hidden3 = tf.nn.relu(hidden3)\n",
    "\n",
    "\n",
    "#Output Layer propagation\n",
    "out = tf.add(tf.matmul(hidden2, wo), bo)"
   ]
  },
  {
   "cell_type": "code",
   "execution_count": 45,
   "metadata": {},
   "outputs": [
    {
     "data": {
      "text/plain": [
       "(<tf.Tensor 'Relu_4:0' shape=(None, 10) dtype=float32>,\n",
       " <tf.Tensor 'Relu_5:0' shape=(None, 10) dtype=float32>,\n",
       " <tf.Tensor 'Add_6:0' shape=(None, 1) dtype=float32>)"
      ]
     },
     "execution_count": 45,
     "metadata": {},
     "output_type": "execute_result"
    }
   ],
   "source": [
    "hidden1, hidden2, out"
   ]
  },
  {
   "cell_type": "markdown",
   "metadata": {},
   "source": [
    "# Back Propagation"
   ]
  },
  {
   "cell_type": "code",
   "execution_count": 46,
   "metadata": {},
   "outputs": [],
   "source": [
    "cost_function = tf.reduce_mean(tf.square(out - y))"
   ]
  },
  {
   "cell_type": "code",
   "execution_count": 47,
   "metadata": {},
   "outputs": [
    {
     "data": {
      "text/plain": [
       "<tf.Tensor 'Mean:0' shape=() dtype=float32>"
      ]
     },
     "execution_count": 47,
     "metadata": {},
     "output_type": "execute_result"
    }
   ],
   "source": [
    "cost_function"
   ]
  },
  {
   "cell_type": "markdown",
   "metadata": {},
   "source": [
    "# Optimizer"
   ]
  },
  {
   "cell_type": "code",
   "execution_count": 48,
   "metadata": {},
   "outputs": [],
   "source": [
    "learning_rate = 0.001\n",
    "opt = tf.compat.v1.train.GradientDescentOptimizer(learning_rate).minimize(cost_function)"
   ]
  },
  {
   "cell_type": "code",
   "execution_count": 49,
   "metadata": {},
   "outputs": [
    {
     "data": {
      "text/plain": [
       "<tf.Operation 'GradientDescent' type=NoOp>"
      ]
     },
     "execution_count": 49,
     "metadata": {},
     "output_type": "execute_result"
    }
   ],
   "source": [
    "opt"
   ]
  },
  {
   "cell_type": "markdown",
   "metadata": {},
   "source": [
    "# launching the graph in Session"
   ]
  },
  {
   "cell_type": "code",
   "execution_count": 50,
   "metadata": {},
   "outputs": [],
   "source": [
    "sess = tf.compat.v1.Session()\n",
    "sess.run(init)"
   ]
  },
  {
   "cell_type": "code",
   "execution_count": 51,
   "metadata": {},
   "outputs": [],
   "source": [
    "epoch = 100\n",
    "for i in range(epoch):\n",
    "    sess.run(opt, feed_dict = {x:x_train, y:y_train})"
   ]
  },
  {
   "cell_type": "code",
   "execution_count": 52,
   "metadata": {},
   "outputs": [
    {
     "data": {
      "text/plain": [
       "<tensorflow.python.client.session.Session at 0x7f22f0d7df90>"
      ]
     },
     "execution_count": 52,
     "metadata": {},
     "output_type": "execute_result"
    }
   ],
   "source": [
    "sess"
   ]
  },
  {
   "cell_type": "code",
   "execution_count": 53,
   "metadata": {},
   "outputs": [],
   "source": [
    "y_pred = sess.run(out, feed_dict = {x:x_test})"
   ]
  },
  {
   "cell_type": "code",
   "execution_count": 54,
   "metadata": {},
   "outputs": [
    {
     "data": {
      "text/plain": [
       "numpy.ndarray"
      ]
     },
     "execution_count": 54,
     "metadata": {},
     "output_type": "execute_result"
    }
   ],
   "source": [
    "type(y_pred)"
   ]
  },
  {
   "cell_type": "code",
   "execution_count": 59,
   "metadata": {},
   "outputs": [
    {
     "data": {
      "text/plain": [
       "array([[3529.2915],\n",
       "       [3529.2915],\n",
       "       [3529.2915],\n",
       "       [3529.2915],\n",
       "       [3529.2915]], dtype=float32)"
      ]
     },
     "execution_count": 59,
     "metadata": {},
     "output_type": "execute_result"
    }
   ],
   "source": [
    "y_pred[0:5]"
   ]
  },
  {
   "cell_type": "code",
   "execution_count": 60,
   "metadata": {},
   "outputs": [
    {
     "data": {
      "text/plain": [
       "array([[27359.160156],\n",
       "       [25169.880859],\n",
       "       [26452.660156],\n",
       "       [27171.900391],\n",
       "       [26783.490234]])"
      ]
     },
     "execution_count": 60,
     "metadata": {},
     "output_type": "execute_result"
    }
   ],
   "source": [
    "y_test[0:5]"
   ]
  },
  {
   "cell_type": "code",
   "execution_count": 56,
   "metadata": {},
   "outputs": [],
   "source": [
    "from sklearn import metrics"
   ]
  },
  {
   "cell_type": "code",
   "execution_count": 61,
   "metadata": {},
   "outputs": [],
   "source": [
    "mse = metrics.mean_squared_error(y_test, y_pred)\n",
    "rmse = np.sqrt(mse)"
   ]
  },
  {
   "cell_type": "code",
   "execution_count": 62,
   "metadata": {},
   "outputs": [
    {
     "data": {
      "text/plain": [
       "22688.593739033393"
      ]
     },
     "execution_count": 62,
     "metadata": {},
     "output_type": "execute_result"
    }
   ],
   "source": [
    "rmse"
   ]
  },
  {
   "cell_type": "code",
   "execution_count": null,
   "metadata": {},
   "outputs": [],
   "source": []
  },
  {
   "cell_type": "code",
   "execution_count": null,
   "metadata": {},
   "outputs": [],
   "source": []
  },
  {
   "cell_type": "code",
   "execution_count": null,
   "metadata": {},
   "outputs": [],
   "source": []
  },
  {
   "cell_type": "code",
   "execution_count": null,
   "metadata": {},
   "outputs": [],
   "source": []
  },
  {
   "cell_type": "code",
   "execution_count": null,
   "metadata": {},
   "outputs": [],
   "source": []
  },
  {
   "cell_type": "code",
   "execution_count": null,
   "metadata": {},
   "outputs": [],
   "source": []
  },
  {
   "cell_type": "code",
   "execution_count": null,
   "metadata": {},
   "outputs": [],
   "source": []
  },
  {
   "cell_type": "code",
   "execution_count": null,
   "metadata": {},
   "outputs": [],
   "source": []
  },
  {
   "cell_type": "code",
   "execution_count": null,
   "metadata": {},
   "outputs": [],
   "source": []
  },
  {
   "cell_type": "code",
   "execution_count": null,
   "metadata": {},
   "outputs": [],
   "source": []
  },
  {
   "cell_type": "code",
   "execution_count": null,
   "metadata": {},
   "outputs": [],
   "source": []
  },
  {
   "cell_type": "code",
   "execution_count": null,
   "metadata": {},
   "outputs": [],
   "source": []
  },
  {
   "cell_type": "code",
   "execution_count": null,
   "metadata": {},
   "outputs": [],
   "source": []
  },
  {
   "cell_type": "code",
   "execution_count": null,
   "metadata": {},
   "outputs": [],
   "source": []
  },
  {
   "cell_type": "code",
   "execution_count": 1,
   "metadata": {},
   "outputs": [],
   "source": [
    "# tf.compat.v1.disable_eager_execution()\n",
    "# x = tf.compat.v1.placeholder(dtype = tf.float64, shape = [None, x_train.shape[1]])\n",
    "# y = tf.compat.v1.placeholder(dtype = tf.float64, shape = [None, 1])"
   ]
  },
  {
   "cell_type": "code",
   "execution_count": null,
   "metadata": {},
   "outputs": [],
   "source": []
  }
 ],
 "metadata": {
  "kernelspec": {
   "display_name": "Python 3",
   "language": "python",
   "name": "python3"
  },
  "language_info": {
   "codemirror_mode": {
    "name": "ipython",
    "version": 3
   },
   "file_extension": ".py",
   "mimetype": "text/x-python",
   "name": "python",
   "nbconvert_exporter": "python",
   "pygments_lexer": "ipython3",
   "version": "3.7.5"
  }
 },
 "nbformat": 4,
 "nbformat_minor": 2
}
